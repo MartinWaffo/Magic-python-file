{
 "cells": [
  {
   "cell_type": "markdown",
   "id": "f860f155",
   "metadata": {},
   "source": [
    "# Q1"
   ]
  },
  {
   "cell_type": "code",
   "execution_count": 5,
   "id": "ec291412",
   "metadata": {},
   "outputs": [],
   "source": [
    "import numpy as np\n",
    "from numpy.linalg import solve\n",
    "from scipy.optimize import fsolve\n",
    "from scipy.integrate import odeint,quad\n",
    "import matplotlib.pyplot as plt"
   ]
  },
  {
   "cell_type": "markdown",
   "id": "7a45e940",
   "metadata": {},
   "source": [
    "**Exercise 1**\n",
    "\n",
    "1- Write a program that asks the user to enter a word and determines whether the word is a\n",
    "palindrome or not. A palindrome is a word that reads the same backwards as forwards."
   ]
  },
  {
   "cell_type": "code",
   "execution_count": null,
   "id": "fb9f753a",
   "metadata": {},
   "outputs": [],
   "source": [
    "word= input(\"Enter a word: \")\n",
    "if word.upper() == word.upper()[::-1]:\n",
    "    print(f\"{word} is a palindrome.\")\n",
    "else:\n",
    "    print(f\"{word} is not a palindrome.\")"
   ]
  },
  {
   "cell_type": "markdown",
   "id": "73734a75",
   "metadata": {},
   "source": [
    "2- A simple way to estimate the number of words in a string is to count the number of spaces\n",
    "in the string. Write a program that asks the user for a string and returns an estimate of how\n",
    "many words are in the string."
   ]
  },
  {
   "cell_type": "code",
   "execution_count": null,
   "id": "61959267",
   "metadata": {},
   "outputs": [],
   "source": [
    "def Words():\n",
    "    s= input(\"Enter a string: \")\n",
    "    return len(s.split(\" \"))-s.split(\" \").count(\"\")"
   ]
  },
  {
   "cell_type": "markdown",
   "id": "c5d7c367",
   "metadata": {},
   "source": [
    "3-Write a program that asks the user for a large integer and inserts commas into it according\n",
    "to the standard American convention for commas in large numbers. For instance, if the user\n",
    "enters 1000000, the output should be 1,000,000."
   ]
  },
  {
   "cell_type": "code",
   "execution_count": null,
   "id": "1ae5e29a",
   "metadata": {},
   "outputs": [],
   "source": [
    "e= input(\"Enter a large integer: \")\n",
    "if len(e)<4:\n",
    "    print(e)\n",
    "else:\n",
    "    b= [ e[len(e)-3*i-3:len(e)-3*i] for i in range(len(e)//3) ]\n",
    "    if len(e)%3 != 0:\n",
    "        a= [e[:len(e)%3]]\n",
    "        b.append(a[0])\n",
    "    b= b[::-1]\n",
    "    print(\",\".join(b))"
   ]
  },
  {
   "cell_type": "markdown",
   "id": "7c0baa04",
   "metadata": {},
   "source": [
    "**Exercise 2**\n",
    "\n",
    "The goal of this exercise is to see if you can mimic the behavior of the **in** operator and the\n",
    "**count** and **index** methods using only variables, for loops, and if statements.\n",
    "\n",
    "1- Without using the **in** operator, write a program that asks the user for a string and a letter\n",
    "and prints out whether or not the letter appears in the string.\n"
   ]
  },
  {
   "cell_type": "code",
   "execution_count": null,
   "id": "78fe166d",
   "metadata": {},
   "outputs": [],
   "source": [
    "word= input(\"Enter a string: \")\n",
    "l= input(\"Enter a letter: \")\n",
    "d= \"not present\"\n",
    "for i in word:\n",
    "    if i == l:\n",
    "        d= \"present\"\n",
    "        break\n",
    "print(f\"{l} is {d} in {word}.\")"
   ]
  },
  {
   "cell_type": "markdown",
   "id": "fbe91e2f",
   "metadata": {},
   "source": [
    "2- Without using the **count** method, write a program that asks the user for a string and a\n",
    "letter and counts how many occurrences there are of the letter in the string.\n"
   ]
  },
  {
   "cell_type": "code",
   "execution_count": null,
   "id": "1f691b68",
   "metadata": {},
   "outputs": [],
   "source": [
    "word= input(\"Enter a string: \")\n",
    "l= input(\"Enter a letter: \")\n",
    "d=0\n",
    "for i in word:\n",
    "    if i == l:\n",
    "        d+=1\n",
    "print(f\"{l} appears {d} times in {word}.\")"
   ]
  },
  {
   "cell_type": "markdown",
   "id": "ae9d3a3b",
   "metadata": {},
   "source": [
    "3- Without using the **index** method, write a program that asks the user for a string and\n",
    "a letter and prints out the index of the first occurrence of the letter in the string. If the\n",
    "letter is not in the string, the program should say so."
   ]
  },
  {
   "cell_type": "code",
   "execution_count": null,
   "id": "7ae90182",
   "metadata": {},
   "outputs": [],
   "source": [
    "word= input(\"Enter a string: \")\n",
    "l= input(\"Enter a letter: \")\n",
    "d= -1\n",
    "for i in range(len(word)):\n",
    "    if word[i] == l:\n",
    "        d= i\n",
    "if d==-1:\n",
    "    print(f\"{l} is not in {word}\")\n",
    "else:\n",
    "    print(f\"The first index of {l} in {word} is at index {d}\")"
   ]
  },
  {
   "cell_type": "markdown",
   "id": "cb9782a9",
   "metadata": {},
   "source": [
    "**Exercise 3**\n",
    "\n",
    "Write a function that takes any two lists L and M of the same size and adds their elements together to form a new list N whose elements are sums of the corresponding elements in L and M. For instance, if L=[3,1,4] and M=[1,5,9], then N should equal [4,6,13]."
   ]
  },
  {
   "cell_type": "code",
   "execution_count": null,
   "id": "9a8ef2b1",
   "metadata": {},
   "outputs": [],
   "source": [
    "def Add(L,M):\n",
    "    return [L[i]+M[i] for i in range(len(L))]"
   ]
  },
  {
   "cell_type": "markdown",
   "id": "0d2b36d1",
   "metadata": {},
   "source": [
    "**Exercise 4**\n",
    "\n",
    "Write a program that removes any repeated items from a list so that each item appears at most\n",
    "once. For instance, the list [1,1,2,3,4,3,0,0] would become [1,2,3,4,0]."
   ]
  },
  {
   "cell_type": "code",
   "execution_count": null,
   "id": "e819a8b7",
   "metadata": {},
   "outputs": [],
   "source": [
    "def Rem(L):\n",
    "    return [i for i in set(L)]"
   ]
  },
  {
   "cell_type": "markdown",
   "id": "8bc2dbec",
   "metadata": {},
   "source": [
    "**Exercise 5**\n",
    "\n",
    "Let L=[2,3,5,7,11,13,17,19,23,29,31,37,41,43,47]. Use a list comprehension to\n",
    "produce a list of the gaps between consecutive entries in L. Then find the maximum gap size\n",
    "and the percentage of gaps that have size 2."
   ]
  },
  {
   "cell_type": "code",
   "execution_count": null,
   "id": "0945efd7",
   "metadata": {},
   "outputs": [],
   "source": [
    "L= [2,3,5,7,11,13,17,19,23,29,31,37,41,43,47]\n",
    "g= [abs(L[i+1]-L[i]) for i in range(len(L)-1)]\n",
    "mg= max(g)\n",
    "p2= 100*g.count(2)/len(g)\n",
    "print(f\"The list of gaps is {g}.\\nThe maximum gap is {mg}.\\nThe percentage of gaps of size 2 is {p2} % \")"
   ]
  },
  {
   "cell_type": "markdown",
   "id": "bb82fb9c",
   "metadata": {},
   "source": [
    "**Exercise 6**\n",
    "\n",
    "1- Using the list comprehensions, write a function, **ListComp** that takes a list $L$ of strings as input and returns \n",
    "- a list that consists of the strings of $L$ with their first characters removed\n",
    "- a list of the lengths of the strings of $L$\n",
    "- a list that consists of only those strings of $L$ that are at least 5 characters long"
   ]
  },
  {
   "cell_type": "code",
   "execution_count": null,
   "id": "03ad38d8",
   "metadata": {},
   "outputs": [],
   "source": [
    "def ListComp(L):\n",
    "    le=[len(i) for i in L]\n",
    "    l3=[]\n",
    "    ll=[i.removeprefix(i[0]) for i in L]\n",
    "    for i in range(len(L)):\n",
    "        if len(L[i])<6:\n",
    "            l3.append(L[i])\n",
    "    return ll, le, l3"
   ]
  },
  {
   "cell_type": "markdown",
   "id": "62f5847f",
   "metadata": {},
   "source": [
    "2- Test your function **ListComp** by using the surname of your group members"
   ]
  },
  {
   "cell_type": "code",
   "execution_count": null,
   "id": "4edaa716",
   "metadata": {},
   "outputs": [],
   "source": [
    "ListComp([\"Njabo\", \"Ndonfack\", \"Nibishaka\", \"Kimani\",\"Niyokwizera\"])"
   ]
  },
  {
   "cell_type": "markdown",
   "id": "993d6762",
   "metadata": {},
   "source": [
    "**Exercise 7**\n",
    "\n",
    "1- Write a program that repeatedly asks the user to enter product names and prices. Store all\n",
    "of these in a dictionary whose keys are the product names and whose values are the prices.\n",
    "When the user is done entering products and prices, allow them to repeatedly enter a product\n",
    "name and print the corresponding price or a message if the product is not in the dictionary."
   ]
  },
  {
   "cell_type": "code",
   "execution_count": null,
   "id": "6d0fa791",
   "metadata": {},
   "outputs": [],
   "source": [
    "products={}\n",
    "p=eval(input(\"Enter the number of products: \"))\n",
    "for i in range(p):\n",
    "    name= input(\"Enter a product name: \")\n",
    "    price= eval(input(\"Enter the price of the product: \"))\n",
    "    products.update({name:price})\n",
    "a=eval(input(\"Enter the number of products you want to access: \"))\n",
    "for i in range(a):\n",
    "    n= input(\"Enter a product name: \")\n",
    "    if n in products:\n",
    "        print(f\"The price of {n} is {products[n]}.\")\n",
    "    else:\n",
    "        print(f\"{n} is not available.\")"
   ]
  },
  {
   "cell_type": "markdown",
   "id": "abaf1f97",
   "metadata": {},
   "source": [
    "2- Using the dictionary created above, allow the user to enter a dollar amount and print out all the products whose price is less than that amount."
   ]
  },
  {
   "cell_type": "code",
   "execution_count": null,
   "id": "e7d92c75",
   "metadata": {},
   "outputs": [],
   "source": [
    "dol = eval(input(\"Enter a dollar amount: \"))\n",
    "less={}\n",
    "for i in products:\n",
    "    if products[i]<dol:\n",
    "        less.update({i:products[i]})\n",
    "less"
   ]
  },
  {
   "cell_type": "markdown",
   "id": "afb6622c",
   "metadata": {},
   "source": [
    "**Exercise 8**\n",
    "\n",
    "1 - Repeatedly ask the user to enter a team name and the how many games the team won and\n",
    "how many they lost. Store this information in a dictionary where the keys are the team names\n",
    "and the values are lists of the form [wins, losses]."
   ]
  },
  {
   "cell_type": "code",
   "execution_count": null,
   "id": "c579d2f0",
   "metadata": {},
   "outputs": [],
   "source": [
    "n = int(input(\"Enter number of teams: \"))\n",
    "records = {}\n",
    "for i in range(n):\n",
    "    name = input(\"Enter the name of the team: \")\n",
    "    wins = int(input(\"Enter the number of wins: \"))\n",
    "    losses = int(input(\"Enter the number of losses: \"))\n",
    "    records.update({name:[wins, losses]})"
   ]
  },
  {
   "cell_type": "markdown",
   "id": "f80df42c",
   "metadata": {},
   "source": [
    "2- Using the dictionary created above, allow the user to enter a team name and print out the team’s winning percentage."
   ]
  },
  {
   "cell_type": "code",
   "execution_count": null,
   "id": "83be6b64",
   "metadata": {},
   "outputs": [],
   "source": [
    "t = input(\"Enter team name :\")\n",
    "print(f\"The winning percentage of {t} is {100*records[t][0]/sum(records[t])} %\")"
   ]
  },
  {
   "cell_type": "markdown",
   "id": "20a4f474",
   "metadata": {},
   "source": [
    "3- Using the dictionary, create a list whose entries are the number of wins of each team."
   ]
  },
  {
   "cell_type": "code",
   "execution_count": null,
   "id": "8d6f8fb5",
   "metadata": {},
   "outputs": [],
   "source": [
    "w_team = [i[0] for i in records.values()]\n",
    "print(w_team)"
   ]
  },
  {
   "cell_type": "markdown",
   "id": "bbb95451",
   "metadata": {},
   "source": [
    "4- Using the dictionary, create a list of all those teams that have winning records."
   ]
  },
  {
   "cell_type": "code",
   "execution_count": null,
   "id": "9346049c",
   "metadata": {},
   "outputs": [],
   "source": [
    "w_rec = []\n",
    "for i in records:\n",
    "    if records[i][0] > records[i][1] :\n",
    "        w_rec.append(i)\n",
    "print(w_rec)"
   ]
  },
  {
   "cell_type": "markdown",
   "id": "0edc54b3",
   "metadata": {},
   "source": [
    "**Exercise 9**\n",
    "\n",
    "Write a function called matches that takes two strings as arguments and returns how many\n",
    "matches there are between the strings. A match is where the two strings have the same character at the same index. For instance, 'python' and 'path' match in the first, third, and\n",
    "fourth characters, so the function should return 3."
   ]
  },
  {
   "cell_type": "code",
   "execution_count": null,
   "id": "e187d3f2",
   "metadata": {},
   "outputs": [],
   "source": [
    "def matches(n,m):\n",
    "    r=0\n",
    "    for i in range(min(len(n),len(m))):\n",
    "        if n[i] == m[i]:\n",
    "            r+=1\n",
    "    return r"
   ]
  },
  {
   "cell_type": "markdown",
   "id": "8fa287ab",
   "metadata": {},
   "source": [
    "**Exercise 10**\n",
    "\n",
    "Recall that if s is a string, then s.find('a') will find the location of the first a in s. The\n",
    "problem is that it does not find the location of every a. Write a function called findall that\n",
    "given a string and a single character, returns a list containing all of the locations of that character in the string. It should return an empty list if there are no occurrences of the character\n",
    "in the string."
   ]
  },
  {
   "cell_type": "code",
   "execution_count": null,
   "id": "90b098c4",
   "metadata": {},
   "outputs": [],
   "source": [
    "def findall(word, char):\n",
    "    pos=[]\n",
    "    for i in range(len(word)):\n",
    "        if word[i] == char:\n",
    "            pos.append(i)\n",
    "    return pos"
   ]
  },
  {
   "cell_type": "markdown",
   "id": "5a0c111b",
   "metadata": {},
   "source": [
    "**Exercise 11**\n",
    "\n",
    "Write a function that takes two already sorted lists (ascending order) of possibly different lengths,\n",
    "and merges them into a single sorted list.\n",
    "\n",
    "1- Do this using the sort method. Function name is **merge1**"
   ]
  },
  {
   "cell_type": "code",
   "execution_count": null,
   "id": "4aab97db",
   "metadata": {},
   "outputs": [],
   "source": [
    "def merge1(l1, l2):\n",
    "    r=l1+l2\n",
    "    r.sort()\n",
    "    return r"
   ]
  },
  {
   "cell_type": "markdown",
   "id": "64a4c059",
   "metadata": {},
   "source": [
    "2- Do this without using the sort method. Function name is **merge2**"
   ]
  },
  {
   "cell_type": "code",
   "execution_count": null,
   "id": "438eade8",
   "metadata": {},
   "outputs": [],
   "source": [
    "def merge2(l1, l2):\n",
    "    r=l1+l2\n",
    "    d=[]\n",
    "    for i in range(len(r)):\n",
    "        d.append(min(r))\n",
    "        r.remove(d[i])\n",
    "    return d"
   ]
  },
  {
   "cell_type": "markdown",
   "id": "e1eaf26f",
   "metadata": {},
   "source": [
    "3- Test the two function using the list\n",
    "\n",
    "L1 = [15, 20, 40, 58, 62, 64];\n",
    "L2 = [58, 60, 62, 64, 70]"
   ]
  },
  {
   "cell_type": "code",
   "execution_count": null,
   "id": "7fe82c5a",
   "metadata": {},
   "outputs": [],
   "source": [
    "print(merge1([15, 20, 40, 58, 62, 64], [58, 60, 62, 64, 70]))\n",
    "print(merge2([15, 20, 40, 58, 62, 64], [58, 60, 62, 64, 70]))"
   ]
  },
  {
   "cell_type": "markdown",
   "id": "d94e318a",
   "metadata": {},
   "source": [
    "**Exercise 12**\n",
    "\n",
    "1- Let us consider a continuous function “f” which is defined on the closed interval [a, b], is given with f(a) and f(b) of different signs. Then by intermediate theorem, there exists a point x belong to (a, b) for which f(x) = 0. The bisection method is an approximation method to find the roots of the given equation by repeatedly dividing the interval. This method will divide the interval until the resulting interval is found, which is extremely small.\n",
    "\n",
    "Let $x_0 \\in [a,b]$ be the solution of the equation $f(x) = 0$. Write a function named **Bissection** that\n",
    "- returns $\\bar{x}$ and $f(\\bar{x})$  such that $ \\mid \\bar{x} - x_0 \\mid \\leq \\epsilon, $ if $f(a)\\times f(b)\\leq 0$\n",
    "- prints \"Bissection method failed\", otherwise.\n",
    "\n",
    "for the given inputs $f,a,b$ and $\\epsilon$ with a default value $10^{-2}$."
   ]
  },
  {
   "cell_type": "code",
   "execution_count": null,
   "id": "5be1ed94",
   "metadata": {},
   "outputs": [],
   "source": [
    "def Bissection(f,a,b,epsilon=0.01):\n",
    "    if f(a)*f(b) > 0:\n",
    "        print(\"Bissection failed\")\n",
    "        return \"\"\n",
    "    else:\n",
    "        xbar=(b+a)/2\n",
    "        if f(xbar) == 0 or b-a <= 2*epsilon:\n",
    "            return xbar, f(xbar)\n",
    "        elif f(xbar) * f(a) <0:\n",
    "            return Bissection(f,a,xbar,epsilon)\n",
    "        else:\n",
    "            return Bissection(f,xbar,b,epsilon)"
   ]
  },
  {
   "cell_type": "markdown",
   "id": "e696f697",
   "metadata": {},
   "source": [
    "2- Test your function **Bissection** for $ f(x) = x^3 -3x - 5$, $a=-10$ and $b=10$"
   ]
  },
  {
   "cell_type": "code",
   "execution_count": null,
   "id": "a4aae779",
   "metadata": {},
   "outputs": [],
   "source": [
    "f= lambda x : x**3-3*x-5\n",
    "print(Bissection(f,-10,10))"
   ]
  },
  {
   "cell_type": "markdown",
   "id": "835d2c49",
   "metadata": {},
   "source": [
    "**Exercise 13**\n",
    "\n",
    "1- Write a function called <b>number_of_factors</b> that takes a positive integer and returns how many factors the number has; and a list of its factors."
   ]
  },
  {
   "cell_type": "code",
   "execution_count": null,
   "id": "dd4efceb",
   "metadata": {},
   "outputs": [],
   "source": [
    "def number_of_factors(n):\n",
    "    x=[1]\n",
    "    if n==1:\n",
    "        return len(x),x\n",
    "    else:\n",
    "        for i in range(2,n//2+1):\n",
    "            if n%i==0:\n",
    "                x.append(i)\n",
    "        x.append(n)\n",
    "        return len(x),x"
   ]
  },
  {
   "cell_type": "markdown",
   "id": "b0c87e9c",
   "metadata": {},
   "source": [
    "2- Write a Python function called <b>IsPrime</b> that takes a positive integer, $n$, as input and returns the boolean True if $n$ is a prime number and False, otherwise. \n",
    "\n",
    "Note : A prime number (or a prime) is a natural number greater than 1 and that has no positive divisors other than 1 and itself.\n",
    "\n"
   ]
  },
  {
   "cell_type": "code",
   "execution_count": null,
   "id": "68e0238c",
   "metadata": {},
   "outputs": [],
   "source": [
    "def IsPrime(n):\n",
    "    return number_of_factors(n)[0] == 2"
   ]
  },
  {
   "cell_type": "markdown",
   "id": "ef0d96ab",
   "metadata": {},
   "source": [
    "3- Write a function called **primes** that is given a positive integer $n$ and returns a list of the first $n$\n",
    "primes. Let the default value of n be 100.\n"
   ]
  },
  {
   "cell_type": "code",
   "execution_count": null,
   "id": "b54acf6a",
   "metadata": {},
   "outputs": [],
   "source": [
    "def Firstprimes(n=2):\n",
    "    if n==2:\n",
    "        return 2\n",
    "    elif n%2==0:\n",
    "        p=n+1\n",
    "    else:\n",
    "        p=n\n",
    "    while not IsPrime(p):\n",
    "        p+=2\n",
    "    return p\n",
    "\n",
    "def primes(n=100):\n",
    "    x=[2]\n",
    "    i=3\n",
    "    while len(x)<n:\n",
    "        if IsPrime(i):\n",
    "            x.append(i)\n",
    "        i=Firstprimes(i+1)\n",
    "    return x"
   ]
  },
  {
   "cell_type": "markdown",
   "id": "53dfb63b",
   "metadata": {},
   "source": [
    "4- Modify the function above so that there is an optional argument called start that allows\n",
    "the list def Firstprimes(n=2):to start at a value other than 2. The function should return the first n primes that\n",
    "are greater than or equal to start. The default value of start should be 2."
   ]
  },
  {
   "cell_type": "code",
   "execution_count": null,
   "id": "1c88084c",
   "metadata": {},
   "outputs": [],
   "source": [
    "def primes2(start=2, n=100):\n",
    "    x=[Firstprimes(start)]\n",
    "    i=Firstprimes(x[0]+1)\n",
    "    while len(x)<n:\n",
    "        if IsPrime(i):\n",
    "            x.append(i)\n",
    "        i=Firstprimes(i+1)\n",
    "    return x"
   ]
  },
  {
   "cell_type": "markdown",
   "id": "3238f95f",
   "metadata": {},
   "source": [
    "5- Write a function **V** that takes a positive integer $n$ and a prime number $p$ and returns the greaters integer $r$ such that $p^r$ divides $n$.\n",
    "\n"
   ]
  },
  {
   "cell_type": "code",
   "execution_count": null,
   "id": "954b314e",
   "metadata": {},
   "outputs": [],
   "source": [
    "def V(n,p):\n",
    "    i=0\n",
    "    while(p**i)%n==0:\n",
    "        i+=1\n",
    "    return i-1"
   ]
  },
  {
   "cell_type": "markdown",
   "id": "c5815a8d",
   "metadata": {},
   "source": [
    "6- Write the funtion **D** that takes two positive integer $n,m$ and return the sum $S_1$ given by \n",
    " $$ S_1 = \\sum_{p\\; prime} \\Bigl| V(n,p) - V(m,p)\\Bigr| $$\n",
    "\n",
    "Note that $D(14,24)=4$.\n",
    "\n"
   ]
  },
  {
   "cell_type": "code",
   "execution_count": null,
   "id": "9ea85cda",
   "metadata": {},
   "outputs": [],
   "source": [
    "def D(n,m):\n",
    "    s=0\n",
    "    for i in range(2,max(n,m)+1):\n",
    "        if IsPrime(i)==True:\n",
    "            s+= abs(V(n,i)-V(m,i))\n",
    "    return s"
   ]
  },
  {
   "cell_type": "markdown",
   "id": "18ee6201",
   "metadata": {},
   "source": [
    "7- Write the funtion $P$ that takes a positive integer $N$ and return the sum $S_2$ given by \n",
    "\n",
    "$$S_2  = \\sum_{n=1}^{N}\\sum_{m=1}^{N}D(n,m).$$\n",
    "\n",
    "Note that $S(10)=210$ and $S(10^2)$ = 37018.\n"
   ]
  },
  {
   "cell_type": "code",
   "execution_count": null,
   "id": "f2a9dd31",
   "metadata": {},
   "outputs": [],
   "source": [
    "def P(N):\n",
    "    s=0\n",
    "    for n in range(1,N+1):\n",
    "        for m in range(1,N+1):\n",
    "            s+=D(n,m)\n",
    "    return s\n",
    "P(100)"
   ]
  },
  {
   "cell_type": "markdown",
   "id": "4422e818",
   "metadata": {},
   "source": [
    "**Exercise 14**\n",
    "\n",
    "Create a Module **AllFunction.py** that contains all the functions on this notebook. Then, import the module to test the functions."
   ]
  },
  {
   "cell_type": "code",
   "execution_count": null,
   "id": "563f50b1",
   "metadata": {},
   "outputs": [],
   "source": [
    "import Group2 as gp\n",
    "print(f\"There are {gp.Words()} words.\")\n",
    "print(f\"[1,2,3,4] and [5,6,7,8] become {gp.Add([1,2,3,4],[5,6,7,8])}\")\n",
    "print(f\"[1,1,2,3,4,3,5] become {gp.Rem([1,1,2,3,4,3,5])}\")\n",
    "print(f\"python and path match {gp.matches('python','path')} times.\")\n",
    "print(gp.ListComp([\"Njabo\", \"Ndonfack\", \"Nibishaka\", \"Kimani\",\"Niyokwizera\"]))\n",
    "print(f\"p appears {gp.findall('popopo', 'p')} times in popopo.\")\n",
    "print(gp.merge1([1,223,32], [12,122]))\n",
    "print(gp.merge2([1,223,32], [12,122]))\n",
    "f= lambda x : x**3-3*x-5\n",
    "print(gp.Bissection(f,-10,10))\n",
    "print(f\"number_of_factors(12) = {gp.number_of_factors(12)}\")\n",
    "print(f\"Is 37 prime? {IsPrime(37)}\")\n",
    "print(f\"The 100 first primes are {gp.primes()}\")\n",
    "print(f\"The 100 first primes greater than 3 are {gp.primes2(3,100)}\")\n",
    "print(f\"V(48,2) = {gp.V(48,2)}\")\n",
    "print(f\"D(14,24) = {gp.D(14,24)}\")\n",
    "print(f\"P(10) = {gp.P(10)}\")"
   ]
  },
  {
   "cell_type": "markdown",
   "id": "9d9e1202",
   "metadata": {},
   "source": [
    "# Q2"
   ]
  },
  {
   "cell_type": "markdown",
   "id": "3dccf32a",
   "metadata": {},
   "source": [
    "**Exercise 1**(<font color = red> 6pts  </font>)\n",
    "\n",
    "1- A store charges RWF 12 per item if you buy less than 10 items. If you buy between 10 and 99 items, the cost is RWF 10 per item. If you buy 100 or more items, the cost is RWF 7 per item. Write the ADL of the function, named <b>Cost</b>, that takes how many items ,$n$, they are buying and returns the total cost. (<font color = red> 3pts  </font>)\n",
    "\n",
    "2- Translate the ADL into a python code.(<font color = red> 2pts  </font>)"
   ]
  },
  {
   "cell_type": "code",
   "execution_count": null,
   "id": "6307b832",
   "metadata": {},
   "outputs": [],
   "source": [
    "def Cost(n):\n",
    "    if n<10:\n",
    "        price=12*n\n",
    "    elif n<100:\n",
    "        price=10*n\n",
    "    else:\n",
    "        price=7*n\n",
    "    return price"
   ]
  },
  {
   "cell_type": "markdown",
   "id": "9f1f8edd",
   "metadata": {},
   "source": [
    "3- Test the function <b>Cost</b> for $n = 50 \\text{ and } 255$. (<font color = red> 1pt  </font>)"
   ]
  },
  {
   "cell_type": "code",
   "execution_count": null,
   "id": "de596fdd",
   "metadata": {},
   "outputs": [],
   "source": [
    "print(\"50 items cost RWF\",Cost(50))\n",
    "print(\"255 items cost RWF\",Cost(255))"
   ]
  },
  {
   "cell_type": "markdown",
   "id": "8e9f5af0",
   "metadata": {},
   "source": [
    "**Exercise 2**(<font color = red> 10pts  </font>)\n",
    "\n",
    "1- Write the ADL of the function, named <b>QuadEqu</b>, that takes as inputs three numbers\n",
    "$a$, $b$, $c$ ∈ $\\mathbb{R}$ and return the solution in R of the equation\n",
    "$ax^2 + bx + c = 0$. (<font color = red> 3pts  </font>)\n",
    "\n",
    "2- Translate the ADL into a python code such that $a=1$ by default. (<font color = red> 4pts  </font>)"
   ]
  },
  {
   "cell_type": "code",
   "execution_count": null,
   "id": "bbec99ff",
   "metadata": {},
   "outputs": [],
   "source": [
    "def QuadEqu(c,b,a = 1,):\n",
    "    if a==0:\n",
    "        if b==0:\n",
    "            if c==0:\n",
    "                sol=\"R\"\n",
    "            else:\n",
    "                sol=\"{}\"RalstonOdeSys\n",
    "        else:\n",
    "            sol=\"{\"+str(-c/b)+\"}\"\n",
    "    else:\n",
    "        delta=b**2-4*a*c\n",
    "        if delta<0:\n",
    "            sol=\"{}\"\n",
    "        elif delta == 0:\n",
    "            sol=\"{\"+str(-b/(2*a))+\"}\"\n",
    "        else:\n",
    "            sol=\"{\"+str((-b+delta**(1/2))/(2*a))+\";\"+str((-b-delta**(1/2))/(2*a))+\"}\"\n",
    "    return sol"
   ]
  },
  {
   "cell_type": "markdown",
   "id": "e3ce1b33",
   "metadata": {},
   "source": [
    "3- Test the function  <b>QuadEqu</b> for \n",
    "- $a=1, b=2, c=1$,\n",
    "- $a=2, b=2, c=40$,\n",
    "- $a=2, b=3, c=-5$. \n",
    "\n",
    "(<font color = red> 3pts  </font>)"
   ]
  },
  {
   "cell_type": "code",
   "execution_count": null,
   "id": "2751e711",
   "metadata": {},
   "outputs": [],
   "source": [
    "print(QuadEqu(1,2))\n",
    "print(QuadEqu(40,2,2))\n",
    "print(QuadEqu(-5,3,2))"
   ]
  },
  {
   "cell_type": "markdown",
   "id": "3402636d",
   "metadata": {},
   "source": [
    "**Exercise 3** (<font color = red> 9pts  </font>)\n",
    "\n",
    "1- A year is a leap year if it is divisible by 4, except that years divisible\n",
    "by 100 are not leap years unless they are also divisible by 400.\n",
    "Write the ADL of the function, named <b>LeapYear</b>, that takes a year, $y$, and return the boolean <b>True</b>\n",
    "if $y$ is a leap year; <b>False</b> otherwise.(<font color = red> 3pts  </font>)\n",
    "\n",
    "2- Translate the ADL into a python code. (<font color = red> 2pts  </font>)"
   ]
  },
  {
   "cell_type": "code",
   "execution_count": null,
   "id": "18e7274f",
   "metadata": {},
   "outputs": [],
   "source": [
    "def LeapYear(y):\n",
    "    d= (y%4==0 and y%100!=0)or(y%400==0)\n",
    "    return d"
   ]
  },
  {
   "cell_type": "markdown",
   "id": "64e7764f",
   "metadata": {},
   "source": [
    "3- Test the python code for the years 1700, 1900, 1996 and 2000. (<font color = red> 1pts  </font>)"
   ]
  },
  {
   "cell_type": "code",
   "execution_count": null,
   "id": "978820ae",
   "metadata": {},
   "outputs": [],
   "source": [
    "print(LeapYear(1700))\n",
    "print(LeapYear(1900))\n",
    "print(LeapYear(1996))\n",
    "print(LeapYear(2000))"
   ]
  },
  {
   "cell_type": "markdown",
   "id": "957119cb",
   "metadata": {},
   "source": [
    "4- Write the python code that asks the user to enter a year,$z$ , and displays how many leap years are between 1996 and that year. Test your code for $z=2023$ (<font color = red> 3pts  </font>)"
   ]
  },
  {
   "cell_type": "code",
   "execution_count": null,
   "id": "7858ff60",
   "metadata": {},
   "outputs": [],
   "source": [
    "z= eval(input(\"Enter a year: \"))\n",
    "if z>1996:\n",
    "    print((z-1996)//4-(z-1996)//100+(z-1996)//400+1)\n",
    "else:\n",
    "    print((1996-z)//4-(1996-z)//100+(1996-z)//400+1)"
   ]
  },
  {
   "cell_type": "markdown",
   "id": "e55d66ae",
   "metadata": {},
   "source": [
    "**Exercise 4** (<font color = red> 4pts  </font>)\n",
    "\n",
    "The digital root of a positive number n is obtained as follows: Add up the digits n to get a new number.\n",
    "Add up the digits of that to get another new number. Keep doing this until you get a number\n",
    "that has only one digit. That number is the digital root.\n",
    "\n",
    "For example, if $n = 45893$, we add up the digits to get $$4 + 5 + 8 + 9 + 3 = 29.$$ We then add up\n",
    "the digits of $29$ to get $$2 + 9 = 11.$$ We then add up the digits of $11$ to get $$1 + 1 = 2.$$ Since 2 has\n",
    "only one digit, 2 is our digital root.\n",
    "\n",
    "1- Write the Python code of the function **DigRoot** that returns the digital root of an integer $n$ given as input (you can use the python function **len**).(<font color = red> 3pts  </font>)\n",
    "\n"
   ]
  },
  {
   "cell_type": "code",
   "execution_count": null,
   "id": "90783e77",
   "metadata": {},
   "outputs": [],
   "source": [
    "def DigRoot(n):\n",
    "    s=0\n",
    "    while n>0:\n",
    "        s=s+n%10\n",
    "        n=n//10\n",
    "    if s<10:\n",
    "        return s\n",
    "    else:\n",
    "        return DigRoot(s)"
   ]
  },
  {
   "cell_type": "markdown",
   "id": "9de95909",
   "metadata": {},
   "source": [
    "2-  Test the function **DigRoot** for $n = 74568$.(<font color = red> 1pts  </font>)"
   ]
  },
  {
   "cell_type": "code",
   "execution_count": null,
   "id": "e500fe9f",
   "metadata": {},
   "outputs": [],
   "source": [
    "print(\"The digital root of 74568 is\",DigRoot(74568))"
   ]
  },
  {
   "cell_type": "markdown",
   "id": "c3ff070f",
   "metadata": {},
   "source": [
    "**Exercise 5**(<font color = red> 6pts  </font>)\n",
    "\n",
    "1- Write a Python code that asks the user to enter a string and displays the number of upper case letters and lower case letters. Check for: **The quick Brow Fox and 'I am proud of Mr McDonald**. (<font color = red> 3pts  </font>)"
   ]
  },
  {
   "cell_type": "code",
   "execution_count": null,
   "id": "78ed8256",
   "metadata": {},
   "outputs": [],
   "source": [
    "s= input(\"Enter a string: \")\n",
    "up=0\n",
    "lo=0\n",
    "for i in range(len(s)):\n",
    "    if (s[i].isupper()):\n",
    "        up=up+1\n",
    "    elif (s[i].islower()):\n",
    "        lo=lo+1\n",
    "print(\"There are\",up,\"upper case letters and\",lo,\"lower case letters.\")"
   ]
  },
  {
   "cell_type": "markdown",
   "id": "c753dd6a",
   "metadata": {},
   "source": [
    "2- Write a Python code that asks the user to input two strings and returns the first location in which the strings differ. If the strings are identical, it should return -1. (<font color = red> 3pts  </font>)"
   ]
  },
  {
   "cell_type": "code",
   "execution_count": null,
   "id": "2e55208b",
   "metadata": {},
   "outputs": [],
   "source": [
    "def Loc():\n",
    "    s1=input(\"Enter a string: \")\n",
    "    s2=input(\"Enter a second string: \")\n",
    "    if s1 == s2:\n",
    "        return -1\n",
    "    else:\n",
    "        i=0\n",
    "        while i<len(s1) and i<len(s2):\n",
    "            if s1[i] != s2[i]:\n",
    "                return i+1\n",
    "            i=i+1\n",
    "        return i+1\n",
    "Loc()"
   ]
  },
  {
   "cell_type": "markdown",
   "id": "0bc2f223",
   "metadata": {},
   "source": [
    "**Exercise 6**(<font color = red> 6pts  </font>)\n",
    "\n",
    "1- Write a Python code of function, named **AllDivisor** , that takes a positive integer $n$ as input and returns the list of all the divisors of $n$. (<font color = red> 3pts  </font>)"
   ]
  },
  {
   "cell_type": "code",
   "execution_count": null,
   "id": "ea4dcd02",
   "metadata": {},
   "outputs": [],
   "source": [
    "def AllDivisor(n):\n",
    "    if n==1:\n",
    "        return [1]\n",
    "    else:\n",
    "        d= [1,n]\n",
    "        i=2\n",
    "        while i<=n/2:\n",
    "            if n%i ==0:\n",
    "                d.append(i)\n",
    "            i=i+1\n",
    "        return d\n",
    "AllDivisor(12)"
   ]
  },
  {
   "cell_type": "markdown",
   "id": "3ce1d819",
   "metadata": {},
   "source": [
    "2- Write a Python code, based on the function **AllDivisor**, that asks the user to enter a positive integer $n$\n",
    "and tells if n is a prime number or not. Test the code for $n=97$. (<font color = red> 3pts  </font>)"
   ]
  },
  {
   "cell_type": "code",
   "execution_count": null,
   "id": "27741ae4",
   "metadata": {},
   "outputs": [],
   "source": [
    "n = eval(input(\"Enter a positive integer: \"))\n",
    "if len(AllDivisor(n))==2:\n",
    "    print(n,\"is prime.\")\n",
    "else:\n",
    "    print(n,\"is not prime.\")"
   ]
  },
  {
   "cell_type": "markdown",
   "id": "8f959239",
   "metadata": {},
   "source": [
    "**Exercise 7**(<font color = red> 9pts  </font>)\n",
    "\n",
    "1- Use the python lambda syntax to define the function $ f(x) = x^3 -3x - 5$ then compute and display $f(-10)$, $f(10)$. (<font color = red> 3pts  </font>)"
   ]
  },
  {
   "cell_type": "code",
   "execution_count": null,
   "id": "b7669ad0",
   "metadata": {},
   "outputs": [],
   "source": [
    "f= lambda x : x**3-3*x-5\n",
    "print(\"f(-10)=\",f(-10))\n",
    "print(\"f(10)=\",f(10))"
   ]
  },
  {
   "cell_type": "markdown",
   "id": "f8959561",
   "metadata": {},
   "source": [
    "2- Let us consider a continuous function “f” which is defined on the closed interval [a, b], is given with f(a) and f(b) of different signs. Then by intermediate theorem, there exists a point x belong to (a, b) for which f(x) = 0. The bisection method is an approximation method to find the roots of the given equation by repeatedly dividing the interval. This method will divide the interval until the resulting interval is found, which is extremely small.\n",
    "\n",
    "Given the following function $ f(x) = x^3 -3x - 5;$ let $x_0 \\in [a,b]$ be the solution of the equation $f(x) = 0$. Write a function named **Bissection** that returns an approximation $\\bar{x}$ of $x_0$ such that $$ \\mid \\bar{x} - x_0 \\mid \\leq \\epsilon, $$\n",
    "for the given inputs $a,b$ and $\\epsilon$ with a default value $10^{-2}$.(<font color = red> 5pts  </font>)"
   ]
  },
  {
   "cell_type": "code",
   "execution_count": null,
   "id": "59b77970",
   "metadata": {},
   "outputs": [],
   "source": [
    "def Bissection(a,b,epsilon=0.01):\n",
    "    xbar=(b+a)/2\n",
    "    if f(xbar) == 0 or b-a <= 2*epsilon:\n",
    "        return xbar\n",
    "    elif f(xbar)<0:\n",
    "        if f(a)<0:\n",
    "            return Bissection(xbar,b)\n",
    "        else:\n",
    "            return Bissection(a,xbar)\n",
    "    else:\n",
    "        if f(a)>0:\n",
    "            return Bissection(xbar,b)\n",
    "        else:\n",
    "            return Bissection(a,xbar)"
   ]
  },
  {
   "cell_type": "markdown",
   "id": "d5804b38",
   "metadata": {},
   "source": [
    "3- Test the function **Bissection** for $a=-10, b=10$. (<font color = red> 1pts  </font>)"
   ]
  },
  {
   "cell_type": "code",
   "execution_count": null,
   "id": "2deaaaf5",
   "metadata": {},
   "outputs": [],
   "source": [
    "print(Bissection(-10,10))"
   ]
  },
  {
   "cell_type": "markdown",
   "id": "d7188652",
   "metadata": {},
   "source": [
    "# Q3"
   ]
  },
  {
   "cell_type": "markdown",
   "id": "e8aa7e37",
   "metadata": {},
   "source": [
    "**Exercise 1**\n",
    "\n",
    "1- Each new term in the Fibonacci sequence is generated by adding the previous two terms. By starting with 1 and 2, the first 10 terms will be:\n",
    "\n",
    "1, 2, 3, 5, 8, 13, 21, 34, 55, 89, ...\n",
    "\n",
    "By considering the terms in the Fibonacci sequence whose values do not exceed four million, find the sum of the even-valued terms.\n",
    "\n",
    "\n"
   ]
  },
  {
   "cell_type": "code",
   "execution_count": null,
   "id": "2554e0d9",
   "metadata": {},
   "outputs": [],
   "source": [
    "def Fibonacci(n):\n",
    "    if n in [1,2]:\n",
    "        return n\n",
    "    else:\n",
    "        return Fibonacci(n-1)+Fibonacci(n-2)\n",
    "\n",
    "def SumEven():\n",
    "    s=2\n",
    "    n=5\n",
    "    while Fibonacci(n) <= 4000000:\n",
    "        s+=Fibonacci(n)\n",
    "        n+=3\n",
    "    return s\n",
    "print(f\"The sum is {SumEven()}\")"
   ]
  },
  {
   "cell_type": "markdown",
   "id": "4cc2ee27",
   "metadata": {},
   "source": [
    "2- An irrational decimal fraction is created by concatenating the positive integers: 0.12345678910<font color='red'>1</font>112131415161718192021...\n",
    "\n",
    "It can be seen that the 12th digit of the fractional part is <font color='red'>1</font>. If $d_n$ represents the nth digit of the fractional part, find the value of the following expression.\n",
    "\n",
    "$$d_1 × d_{10} × d_{100} × d_{1000} × d_{10000} × d_{100000} × d_{1000000}$$"
   ]
  },
  {
   "cell_type": "code",
   "execution_count": null,
   "id": "708a2a92",
   "metadata": {},
   "outputs": [],
   "source": [
    "d= (\"\").join([str(i) for i in range(185186)])\n",
    "v= int(d[1])*int(d[10])*int(d[100])*int(d[1000])*int(d[10000])*int(d[100000])*int(d[1000000])\n",
    "print(f\"The value is {v}.\")"
   ]
  },
  {
   "cell_type": "markdown",
   "id": "72895d48",
   "metadata": {},
   "source": [
    "3- You are given the following information, but you may prefer to do some research for yourself.\n",
    "\n",
    "- 1 Jan 1900 was a Monday.\n",
    "- Thirty days has September, April, June and November.\n",
    "- All the rest have thirty-one, Saving February alone, Which has twenty-eight, rain or shine. And on leap years, twenty-nine.\n",
    "- A leap year occurs on any year evenly divisible by 4, but not on a century unless it is divisible by 400.\n",
    "\n",
    "How many Sundays fell on the first of the month during the twentieth century (1 Jan 1901 to 31 Dec 2000)?"
   ]
  },
  {
   "cell_type": "code",
   "execution_count": null,
   "id": "4f3757c9",
   "metadata": {},
   "outputs": [],
   "source": [
    "def Leap_Year(y):\n",
    "    # Returns if a year is a leap year or not\n",
    "    return (y % 4 == 0 and y % 100 != 0 ) or (y % 400 == 0)\n",
    "\n",
    "def Jan1(y):\n",
    "    # Returns the day of January 1st for the year y as an integer in {0,1...6}\n",
    "    if y == 1900:\n",
    "        return 1\n",
    "    elif Leap_Year(y-1):\n",
    "        return (Jan1(y-1)+2) % 7\n",
    "    else:\n",
    "        return (Jan1(y-1)+1) % 7\n",
    "    \n",
    "def Month1(m,y):\n",
    "    # Returns the first day of month m in {1,2...12} for the year y \n",
    "    if m == 1:\n",
    "        return Jan1(y)\n",
    "    elif m in [2,4,6,8,9,11]:\n",
    "        return (Month1(m-1,y) +3) % 7\n",
    "    elif m!=3:\n",
    "        return (Month1(m-1,y) +2) % 7\n",
    "    elif Leap_Year(y):\n",
    "        return (Month1(2,y)+1) % 7\n",
    "    else:\n",
    "        return (Month1(2,y))\n",
    "    \n",
    "def Sunday1():\n",
    "    # Returns the answer to the question\n",
    "    s=0\n",
    "    for i in range(1901, 2001):\n",
    "        s+= len([m for m in range(1,13) if Month1(m,i)==0])\n",
    "    return s\n",
    "\n",
    "print(f\"There were {Sunday1()} months that started on a sunday during the twentieth century.\")"
   ]
  },
  {
   "cell_type": "markdown",
   "id": "94bb8788",
   "metadata": {},
   "source": [
    "\n",
    "**Exercise 2**\n",
    "\n",
    "1- Write a function that takes one argument: A string ``s`` and returns another string ``t``. The string ``t`` should be constructed from ``s`` such that:\n",
    "* All **upper** case letters from ``s`` are changed into **lower** case.\n",
    "* All **lower** case letters from ``s`` are changed into **upper** case.\n",
    "* All characters from ``s`` that are not letters are **deleted**."
   ]
  },
  {
   "cell_type": "code",
   "execution_count": null,
   "id": "c6b3c70a",
   "metadata": {},
   "outputs": [],
   "source": [
    "def Swap(s):\n",
    "    return \"\".join([i.swapcase() for i in s if i.isalpha()])"
   ]
  },
  {
   "cell_type": "markdown",
   "id": "d6042b10",
   "metadata": {},
   "source": [
    "2- Write a function, named **UpLow**, that takes one argument: string ``s`` and **returns** a list with two elements. The first element should be the number of **lowercase letters** in ``s``. The second element should be the number of **uppercase letters** in ``s``."
   ]
  },
  {
   "cell_type": "code",
   "execution_count": null,
   "id": "e1198779",
   "metadata": {},
   "outputs": [],
   "source": [
    "def UpLow(s):\n",
    "    l= [0, 0]\n",
    "    for i in s:\n",
    "        if i.isupper():\n",
    "            l[1]+= 1\n",
    "        elif i.islower():\n",
    "            l[0]+= 1\n",
    "    return l"
   ]
  },
  {
   "cell_type": "markdown",
   "id": "8ac9af8f",
   "metadata": {},
   "source": [
    "3- Write a function that takes one argument: string ``s`` and returns either ``True`` or ``False``. It should return ``True`` if and only if **the string is a name**. We assume that a string is a name if:\n",
    "* It starts with an uppercase letter.\n",
    "* All the other characters are lowercase letters."
   ]
  },
  {
   "cell_type": "code",
   "execution_count": null,
   "id": "dea4ff6c",
   "metadata": {},
   "outputs": [],
   "source": [
    "def IsName(s):\n",
    "    return s[0].isupper() ==1 and UpLow(s)[0] == len(s)-1"
   ]
  },
  {
   "cell_type": "markdown",
   "id": "88f4b27b",
   "metadata": {},
   "source": [
    "4- Write a function that takes one argument: list of strings ``L``. The function should return an integer: **The first index where the list element contains a name**. If there are no names on the list please return ``-1``"
   ]
  },
  {
   "cell_type": "code",
   "execution_count": null,
   "id": "ada52487",
   "metadata": {},
   "outputs": [],
   "source": [
    "def ListName(L):\n",
    "    for i in range(len(L)):\n",
    "        s= L[i].split(\" \")\n",
    "        for j in s:\n",
    "            if IsName(j):\n",
    "                return i\n",
    "    return -1"
   ]
  },
  {
   "cell_type": "markdown",
   "id": "ad04825a",
   "metadata": {},
   "source": [
    "**Exercise 3**\n",
    "\n",
    "1- Write a function that takes one argument: List of integers ``L`` and returns the **maximum element in ``L`` which is strictly negative**. If such an element does not exist, **return ``0``**."
   ]
  },
  {
   "cell_type": "code",
   "execution_count": null,
   "id": "80750252",
   "metadata": {},
   "outputs": [],
   "source": [
    "import numpy as np\n",
    "def MaxNeg(L):\n",
    "    neg= [i for i in L if i<0]\n",
    "    if len(neg) == 0:\n",
    "        return 0\n",
    "    else:\n",
    "        return max(neg)"
   ]
  },
  {
   "cell_type": "markdown",
   "id": "925da042",
   "metadata": {},
   "source": [
    "2- Write a function that takes one argument: A 2D array ``M`` and:\n",
    "* For each **row** computes the maximum negative element.\n",
    "* Returns the **sum of those elements**.\n",
    "\n",
    "Please use the function from Problem 3 in your solution."
   ]
  },
  {
   "cell_type": "code",
   "execution_count": null,
   "id": "a23ff755",
   "metadata": {},
   "outputs": [],
   "source": [
    "def RowMaxNeg(M):\n",
    "    s=0\n",
    "    for i in M:\n",
    "        s+= MaxNeg(i)\n",
    "    return s"
   ]
  },
  {
   "cell_type": "markdown",
   "id": "5a48e045",
   "metadata": {},
   "source": [
    "3- Write a function that takes one argument: A matrix of integers ``M`` and:\n",
    "* For each **column** computes the maximum negative element.\n",
    "* Returns the **sum of those elements**.\n"
   ]
  },
  {
   "cell_type": "code",
   "execution_count": null,
   "id": "8f250d2f",
   "metadata": {},
   "outputs": [],
   "source": [
    "def ColMaxNeg(M):\n",
    "    return RowMaxNeg(M.T)"
   ]
  },
  {
   "cell_type": "markdown",
   "id": "ba97eba6",
   "metadata": {},
   "source": [
    "**Exercise 4**\n",
    "\n",
    "1- Write a Python code to compute and display the integrals bellow using the Python function $quad$\n",
    "$$A = \\int_{0}^{2} \\dfrac{x^3+5x-20}{x^2+3}dx$$\n",
    "\n",
    "$$B = \\int_{3}^{5} \\bigg(x-\\frac{1}{3}\\bigg)\\sqrt{x^4-3}dx$$"
   ]
  },
  {
   "cell_type": "code",
   "execution_count": null,
   "id": "4b8a35a8",
   "metadata": {},
   "outputs": [],
   "source": [
    "from scipy.integrate import quad\n",
    "f= lambda x: (x**3+5*x-20)/(x**2+3)\n",
    "g= lambda x: (x-1/3)*np.sqrt(x**4-3)\n",
    "A= quad(f, 0, 2)[0]\n",
    "B= quad(g, 3, 5)[0]\n",
    "print(f\"A= {A}. \\nB={B}\")"
   ]
  },
  {
   "cell_type": "markdown",
   "id": "48c57c9b",
   "metadata": {},
   "source": [
    "2- Let $\\{ x_k\\}$ be a partition of $[a,b]$ such that $a=x_0<x_1<\\cdots<x_{N-1}<x_N=b$ and $H$ be the length of the $k$-th subinterval ($H = x_k - x_{k-1}$),\n",
    "then we have \n",
    "$$\\int_a^bf(x)dx \\approx \\sum_{k=1}^N \\frac{f(x_{k-1})+f(x_k)}{2}H = Z$$\n",
    "\n",
    "\n",
    "Write a function named <b>Trap</b> that takes $a,b,H, f$ as inputs and return Z. Here, ``H = 0.001`` is the default value."
   ]
  },
  {
   "cell_type": "code",
   "execution_count": null,
   "id": "d8a4066a",
   "metadata": {},
   "outputs": [],
   "source": [
    "def Trap(f,a,b,H=0.001):\n",
    "    Z= 0\n",
    "    N= int(1+(b-a)/H)\n",
    "    d= np.linspace(a,b,N)\n",
    "    for i in range(1,N):\n",
    "        Z+= H*(f(d[i-1])+f(d[i]))/2\n",
    "    return Z"
   ]
  },
  {
   "cell_type": "markdown",
   "id": "62986ff9",
   "metadata": {},
   "source": [
    "3- Compute the integrales A and B using your function **Trap**"
   ]
  },
  {
   "cell_type": "code",
   "execution_count": null,
   "id": "cf3d78d5",
   "metadata": {},
   "outputs": [],
   "source": [
    "f= lambda x: (x**3+5*x-20)/(x**2+3)\n",
    "g= lambda x: (x-1/3)*np.sqrt(x**4-3)\n",
    "A= Trap(f, 0, 2)\n",
    "B= Trap(g, 3, 5)\n",
    "print(f\"A= {A}. \\nB={B}\")"
   ]
  },
  {
   "cell_type": "markdown",
   "id": "9885ffd5",
   "metadata": {},
   "source": [
    "**Exercise 5**\n",
    "Write a python code to solve the following system of equations\n",
    "1. \\begin{equation}\n",
    "\\begin{cases}\n",
    "    x^2 + y + x = 4\\\\\n",
    "    2e^x + 3y = 14\n",
    "\\end{cases}\n",
    "\\end{equation}"
   ]
  },
  {
   "cell_type": "code",
   "execution_count": null,
   "id": "9b4071ba",
   "metadata": {},
   "outputs": [],
   "source": [
    "from scipy.optimize import fsolve\n",
    "def System(z):\n",
    "    x, y= z\n",
    "    F= np.empty((2))\n",
    "    F[0]= x**2+ y+ x- 4\n",
    "    F[1]= 2* np.exp(x)+ 3* y\n",
    "    return F\n",
    "\n",
    "zGuess= np.empty((2))\n",
    "z= fsolve(System,zGuess)\n",
    "print(f\"x={z[0]}, y={z[1]}\")"
   ]
  },
  {
   "cell_type": "markdown",
   "id": "2aa53b62",
   "metadata": {},
   "source": [
    "2. \n",
    "\n",
    "\\begin{equation}\n",
    "  \\begin{cases}\n",
    "    x - 2y -z +6t= 4\\\\\n",
    "    2x + 2y -z - 7t = -4\\\\\n",
    "    -x - y +2z + 5t = 5\\\\\n",
    "    -3x +4y +2z + 5t = 8\\\\\n",
    "  \\end{cases}.\n",
    "\\end{equation}"
   ]
  },
  {
   "cell_type": "code",
   "execution_count": null,
   "id": "f9b4b935",
   "metadata": {},
   "outputs": [],
   "source": [
    "A= np.array([[1, -2, -1, 6], [2, 2, -1, -7], [-1, -1, 2, 5], [-3, 4, 2, 5]])\n",
    "b= np.array([[4], [-4], [5], [8]])\n",
    "z = np.linalg.solve(A,b)\n",
    "print(z)"
   ]
  },
  {
   "cell_type": "markdown",
   "id": "a7d3cf8e",
   "metadata": {},
   "source": [
    "**Exercise 6**\n",
    "\n",
    "Let $\\{ x_k\\}$ be a partition of $[a,b]$ such that $a=x_0<x_1<\\cdots<x_{N-1}<x_{N}=b$ and $H$ be the constant length of the $k$-th subinterval ($H = x_k - x_{k-1}$). Let us consider initial value problem\n",
    "\n",
    "\\begin{equation}\\label{eul2}\n",
    "  \\begin{cases}\n",
    "    y' = f(x,y),      & \\quad \\text{on } [a, b]\\\\&\\qquad\\qquad\\qquad (1)\\\\\n",
    "    y(a) = c,\n",
    "  \\end{cases}\n",
    "\\end{equation}\n",
    "Let $\\{ y_k\\}$ be the approximate solution i.e.  $y_k\\approx g(x_k)=g_k$ where $g$ is the exact solution.\n",
    "1. Write a python function <b> EulerMethod </b> that takes $a,b,c,N,$ and $f$ and return array of all $x_k$ and $y_k$ of (1) using Euler method i.e.\n",
    "$$ y_{k+1} = y_k + Hf(x_k,y_k) $$\n"
   ]
  },
  {
   "cell_type": "code",
   "execution_count": null,
   "id": "e49c131e",
   "metadata": {},
   "outputs": [],
   "source": [
    "def EulerMethod(f, a, b, c, N):\n",
    "    H= (b-a)/(N)\n",
    "    x= np.linspace(a, b, N+1)\n",
    "    y= np.empty((N+1))\n",
    "    y[0]=c\n",
    "    for i in range(1,N+1):\n",
    "        y[i]= y[i-1]+H*f(x[i-1],y[i-1])\n",
    "    return np.array([x,y])"
   ]
  },
  {
   "cell_type": "markdown",
   "id": "3c9d4978",
   "metadata": {},
   "source": [
    "2. Write a python function <b> RK2Method </b> that takes $a,b,c,N,$ and $f$ and return array of all $x_k$ and $y_k$ of (1) using second order Runge-Kutta  method i.e.\n",
    "\\begin{equation}\n",
    "\\begin{cases}\n",
    "\\alpha = f(x_k,y_k)\\\\\\\\\n",
    "y_{k+1} = y_k + Hf(x_k+\\dfrac{H}{2}, y_k + \\dfrac{H}{2}\\alpha)\n",
    "\\end{cases}\n",
    "\\end{equation}"
   ]
  },
  {
   "cell_type": "code",
   "execution_count": null,
   "id": "7b3e3125",
   "metadata": {},
   "outputs": [],
   "source": [
    "def RK2Method(f, a, b, c, N):\n",
    "    H= (b-a)/(N)\n",
    "    x= np.linspace(a, b, N+1)\n",
    "    y= np.empty((N+1))\n",
    "    y[0]=c\n",
    "    for i in range(1,N+1):\n",
    "        y[i]= y[i-1] + H * f(x[i-1]+H/2, y[i-1]+f(x[i-1],y[i-1])*H/2)\n",
    "    return np.array([x,y])"
   ]
  },
  {
   "cell_type": "markdown",
   "id": "385409aa",
   "metadata": {},
   "source": [
    "3. Let us consider the initial value problem \n",
    "\n",
    "\\begin{equation}\n",
    "  \\begin{cases}\n",
    "    y' = 2y + e^{2x},      & \\quad \\text{on } [0, 1]\\\\\\\\\n",
    "    y(0) = 3,\n",
    "  \\end{cases}\n",
    "\\end{equation}\n",
    "with exact solution $g(x) = (x+3)e^{2x}$. \n",
    "\n",
    "For $N=200$, use subplot to plot side by side\n",
    "- the exact solution and the approximate solutions obtained with **odeint**, <b> EulerMethod </b> and <b> RK2Method </b>\n",
    "- the absolute error between the exact solution and the approximate solutions obtained with **odeint**, <b> EulerMethod </b> and <b> RK2Method </b>"
   ]
  },
  {
   "cell_type": "code",
   "execution_count": null,
   "id": "e2b31de3",
   "metadata": {},
   "outputs": [],
   "source": [
    "from scipy.integrate import odeint\n",
    "import matplotlib.pyplot as plt\n",
    "\n",
    "def Realsol(a, b, c, N):\n",
    "    x= np.linspace(a, b, N+1)\n",
    "    y= np.empty((N+1))\n",
    "    y[0]=c\n",
    "    for i in range(1,N+1):\n",
    "        y[i]= 3*np.exp(2*x[i])+2*x[i]*np.exp(2*x[i])\n",
    "    return np.array([x,y])\n",
    "\n",
    "def model(y,x):\n",
    "    dydx = 2*y + np.exp(2*x)\n",
    "    return dydx\n",
    "\n",
    "f= lambda x,y: model(y,x)\n",
    "\n",
    "c = 3\n",
    "a = 0\n",
    "b = 1\n",
    "N = 200\n",
    "x = np.linspace(a, b, N+1)\n",
    "\n",
    "O= odeint(model, c, x).flatten()\n",
    "E= EulerMethod(f, a, b, c, N)\n",
    "R= RK2Method(f, a, b, c, N)\n",
    "S= Realsol(a, b, c, N)\n",
    "\n",
    "\n",
    "plt.plot(S[0],S[1])\n",
    "plt.xlabel('x')\n",
    "plt.ylabel('y(x)')\n",
    "plt.show()\n",
    "plt.plot(x,O)\n",
    "plt.xlabel('x')\n",
    "plt.ylabel('y(x)')\n",
    "plt.show()\n",
    "plt.plot(E[0],E[1])\n",
    "plt.xlabel('x')\n",
    "plt.ylabel('y(x)')\n",
    "plt.show()\n",
    "plt.plot(R[0],R[1])\n",
    "plt.xlabel('x')\n",
    "plt.ylabel('y(x)')\n",
    "plt.show()\n",
    "\n",
    "plt.plot(x,abs(O-S[1]))\n",
    "plt.xlabel('x')\n",
    "plt.ylabel('y(x)')\n",
    "plt.show()\n",
    "plt.plot(E[0],abs(E[1]-S[1]))\n",
    "plt.xlabel('x')\n",
    "plt.ylabel('y(x)')\n",
    "plt.show()\n",
    "plt.plot(R[0],abs(R[1]-S[1]))\n",
    "plt.xlabel('x')\n",
    "plt.ylabel('y(x)')\n",
    "plt.show()"
   ]
  },
  {
   "cell_type": "markdown",
   "id": "1fa6d983",
   "metadata": {},
   "source": [
    "4. Which of the numerical methods used is more efficient? Why?"
   ]
  },
  {
   "cell_type": "code",
   "execution_count": null,
   "id": "6cc277c1",
   "metadata": {},
   "outputs": [],
   "source": []
  },
  {
   "cell_type": "markdown",
   "id": "2cac9b5e",
   "metadata": {},
   "source": [
    "**Exercise 7**\n",
    "\n",
    "Consider heat conduction in a rod with constant heat conduction properties, $\\lambda^2$. The steady-state\n",
    "heat-conduction problem is then\n",
    "\n",
    "\\begin{equation}\n",
    "  \\begin{cases}\n",
    "    -\\lambda^2\\dfrac{d^2U}{dx^2} = g(x),      & \\quad x\\in (a, b)\\\\\\\\\n",
    "    U(a) = \\alpha,\\;\\; U(b) = \\beta.\n",
    "  \\end{cases}\n",
    "\\end{equation}\n",
    "\n",
    "Given a finite family of points $\\{x_i\\}$ for $i = 0,\\cdots, N$ defined by $x_i = a+ih$ with $h =\\dfrac{b−a}{N}$. Let us denote $U_i$ the approximate value of $U(x_i)$ for all $i= 0,\\cdots, N$.\n",
    "\n",
    "The backward Euler scheme applied to the steady-state\n",
    "heat-conduction problem gives\n",
    "\n",
    "\\begin{equation}\\label{secode}\n",
    "  \\begin{cases}\n",
    "    \\dfrac{\\lambda^2}{H^2}(-U_{i-1} +2U_i - U_{i+1}) = g(x_i),      & \\quad \\forall i= 1,2,\\cdots, N-1\\\\\\\\\n",
    "    U_0 = \\alpha,\\;\\; U_N = \\beta.\n",
    "  \\end{cases}\n",
    "\\end{equation}\n",
    "Note that the system takes the form \n",
    "$$ AU = b $$.\n",
    "1. Write a Python function <b> MatGenerator </b> that takes $a,b,K, \\lambda, \\beta,N, g$ and return the matrix $A$ and vector $b$."
   ]
  },
  {
   "cell_type": "code",
   "execution_count": null,
   "id": "411f258b",
   "metadata": {},
   "outputs": [],
   "source": [
    "def MatGenerator(a,b,alp,lam,beta,N,g):\n",
    "    H=(b-a)/N\n",
    "    global x\n",
    "    x=np.linspace(a,b,N+1)\n",
    "    B=np.zeros(N+1)\n",
    "    B[0]=alp\n",
    "    B[N]=beta\n",
    "    B[1:N]=(H**2/lam**2)*g(x[1:N])\n",
    "    A=np.eye(N+1,N+1)\n",
    "    A[1,0]=-1\n",
    "    A[N-1,N]=-1\n",
    "    A[1:N,1:N]=-np.eye(N-1,N-1,k=-1)+2*np.eye(N-1,N-1,k=0)-np.eye(N-1,N-1,k=1)\n",
    "    return A,B"
   ]
  },
  {
   "cell_type": "markdown",
   "id": "670ba69b",
   "metadata": {},
   "source": [
    "2. Solve the steady-state heat-conduction problem for \n",
    "\n",
    "$$a=0, b= 1, \\lambda=1,\\alpha = -4, \\beta = 0, N= 100 \\text{ and } g(x) = -4(1+x)e^x, $$\n",
    "\n",
    "and plot the numerical solution"
   ]
  },
  {
   "cell_type": "code",
   "execution_count": null,
   "id": "ee82b678",
   "metadata": {},
   "outputs": [],
   "source": [
    "g=lambda x: -4*(1+x)*np.exp(x)\n",
    "a=0\n",
    "b=1\n",
    "alp=-4\n",
    "lam=1\n",
    "beta=0\n",
    "N=100\n",
    "A,B=MatGenerator(a,b,alp,lam,beta,N,g)\n",
    "U=np.linalg.solve(A,B)\n",
    "print(U)\n",
    "plt.plot(x,U)\n",
    "plt.grid()\n",
    "plt.xlabel(\"$x$\")\n",
    "plt.ylabel(\"$U_{app}(x)$\")\n",
    "plt.title(\"Apprioximation\")\n",
    "plt.show()"
   ]
  },
  {
   "cell_type": "markdown",
   "id": "54e5099c",
   "metadata": {},
   "source": [
    "**Exercise 14**\n",
    "\n",
    "Create a Module that contains all the functions on this notebook. Then, import the module to test its functions (one function per cell) \n",
    "\n",
    "Note: if your group number is **5** then your module should be named **AllFunctionGroup5.py**"
   ]
  },
  {
   "cell_type": "code",
   "execution_count": null,
   "id": "b75edbb9",
   "metadata": {},
   "outputs": [],
   "source": [
    "import Group10 as gp\n",
    "print(f\"The 5th fibonacci number is {gp.Fibonacci(5)}\")"
   ]
  },
  {
   "cell_type": "code",
   "execution_count": null,
   "id": "528d4a11",
   "metadata": {},
   "outputs": [],
   "source": [
    "print(f\"The sum of even fibonacci numbers before 4 millions is {gp.SumEven()}\")"
   ]
  },
  {
   "cell_type": "code",
   "execution_count": null,
   "id": "eec69655",
   "metadata": {},
   "outputs": [],
   "source": [
    "print(f\"Is 2022 a leap year? {gp.Leap_Year(2022)}\")"
   ]
  },
  {
   "cell_type": "code",
   "execution_count": null,
   "id": "ec2bf600",
   "metadata": {},
   "outputs": [],
   "source": [
    "print(f\"January 1st 2022 was the {gp.Jan1(2022)}th day of the week\")"
   ]
  },
  {
   "cell_type": "code",
   "execution_count": null,
   "id": "0f9b0eae",
   "metadata": {},
   "outputs": [],
   "source": [
    "print(f\"October 1st 2022 was the {gp.Month1(10,2022)}th day of the week\")"
   ]
  },
  {
   "cell_type": "code",
   "execution_count": null,
   "id": "3b7e3020",
   "metadata": {},
   "outputs": [],
   "source": [
    "print(f\"There were {gp.Sunday1()} months that started on a sunday during the twentieth century.\")"
   ]
  },
  {
   "cell_type": "code",
   "execution_count": null,
   "id": "90feb013",
   "metadata": {},
   "outputs": [],
   "source": [
    "print(f\"After swapping and removing non letters, 'The_Kid.64' becomes '{gp.Swap('The_Kid.64')}'.\")"
   ]
  },
  {
   "cell_type": "code",
   "execution_count": null,
   "id": "5106828e",
   "metadata": {},
   "outputs": [],
   "source": [
    "print(f\"The string 'The Kid is sick.' has {gp.UpLow('The Kid is sick.')[0]} lower case letters and {gp.UpLow('The Kid is sick.')[1]} upper case letters.\")"
   ]
  },
  {
   "cell_type": "code",
   "execution_count": null,
   "id": "08753d1d",
   "metadata": {},
   "outputs": [],
   "source": [
    "print(f\"Is 'Thekid' a name? {gp.IsName('Thekid')}\")"
   ]
  },
  {
   "cell_type": "code",
   "execution_count": null,
   "id": "178be71b",
   "metadata": {},
   "outputs": [],
   "source": [
    "print(f\"The first name in ['ThekiD','thekid','is Thekid good'] is at index {gp.ListName(['ThekiD','thekid','is Thekid good'])}\")"
   ]
  },
  {
   "cell_type": "code",
   "execution_count": null,
   "id": "2de437ec",
   "metadata": {},
   "outputs": [],
   "source": [
    "print(f\"The maximum negative number in [-1,2,-4] is {gp.MaxNeg([-1,2,-4])}\")"
   ]
  },
  {
   "cell_type": "code",
   "execution_count": null,
   "id": "50278723",
   "metadata": {},
   "outputs": [],
   "source": [
    "M= np.array([[-1,2],[1,2],[-2,-4]])\n",
    "print(f\"The sum of maximums per rows is {gp.RowMaxNeg(M)}\")"
   ]
  },
  {
   "cell_type": "code",
   "execution_count": null,
   "id": "27425ce9",
   "metadata": {},
   "outputs": [],
   "source": [
    "M= np.array([[-1,2],[1,2],[-2,-4]])\n",
    "print(f\"The sum of maximums per columns is {gp.ColMaxNeg(M)}\")"
   ]
  },
  {
   "cell_type": "code",
   "execution_count": null,
   "id": "7ab200d7",
   "metadata": {},
   "outputs": [],
   "source": [
    "f= lambda x: (x**3+5*x-20)/(x**2+3)\n",
    "A= gp.Trap(f, 0, 2)\n",
    "print(f\"A= {A}.\")"
   ]
  },
  {
   "cell_type": "code",
   "execution_count": null,
   "id": "1f0a0014",
   "metadata": {},
   "outputs": [],
   "source": [
    "zGuess= np.empty((2))\n",
    "z= fsolve(gp.System,zGuess)\n",
    "print(f\"x={z[0]}, y={z[1]}\")"
   ]
  },
  {
   "cell_type": "code",
   "execution_count": null,
   "id": "58651234",
   "metadata": {},
   "outputs": [],
   "source": [
    "f= lambda x,y: gp.model(y,x)\n",
    "\n",
    "E= gp.EulerMethod(f, 0, 1, 3,200)\n",
    "E"
   ]
  },
  {
   "cell_type": "code",
   "execution_count": null,
   "id": "17815098",
   "metadata": {},
   "outputs": [],
   "source": [
    "R= gp.RK2Method(f, 0, 1, 3, 200)\n",
    "R"
   ]
  },
  {
   "cell_type": "code",
   "execution_count": null,
   "id": "c8ff411d",
   "metadata": {},
   "outputs": [],
   "source": [
    "S= gp.Realsol(0, 1, 3, 200)\n",
    "S"
   ]
  },
  {
   "cell_type": "markdown",
   "id": "b55fc2a4",
   "metadata": {},
   "source": [
    "**Exercise 1**(<font color = red> 6pts  </font>)\n",
    "\n",
    "1- A store charges RWF 12 per item if you buy less than 10 items. If you buy between 10 and 99 items, the cost is RWF 10 per item. If you buy 100 or more items, the cost is RWF 7 per item. Write the ADL of the function, named <b>Cost</b>, that takes how many items ,$n$, they are buying and returns the total cost. (<font color = red> 3pts  </font>)\n",
    "\n",
    "2- Translate the ADL into a python code.(<font color = red> 2pts  </font>)"
   ]
  },
  {
   "cell_type": "code",
   "execution_count": null,
   "id": "d9ef6264",
   "metadata": {},
   "outputs": [],
   "source": [
    "def Cost(n):\n",
    "    if n<10:\n",
    "        price=12*n\n",
    "    elif n<100:\n",
    "        price=10*n\n",
    "    else:\n",
    "        price=7*n\n",
    "    return price"
   ]
  },
  {
   "cell_type": "markdown",
   "id": "d14f0e94",
   "metadata": {},
   "source": [
    "3- Test the function <b>Cost</b> for $n = 50 \\text{ and } 255$. (<font color = red> 1pt  </font>)"
   ]
  },
  {
   "cell_type": "code",
   "execution_count": null,
   "id": "8470de65",
   "metadata": {},
   "outputs": [],
   "source": [
    "print(Cost(50))\n",
    "print(Cost(255))"
   ]
  },
  {
   "cell_type": "markdown",
   "id": "d23d1375",
   "metadata": {},
   "source": [
    "**Exercise 2**(<font color = red> 10pts  </font>)\n",
    "\n",
    "1- Write the ADL of the function, named <b>QuadEqu</b>, that takes as inputs three numbers\n",
    "$a$, $b$, $c$ ∈ $\\mathbb{R}$ and return the solution in R of the equation\n",
    "$ax^2 + bx + c = 0$. (<font color = red> 3pts  </font>)\n",
    "\n",
    "2- Translate the ADL into a python code such that $a=1$ by default. (<font color = red> 4pts  </font>)"
   ]
  },
  {
   "cell_type": "code",
   "execution_count": null,
   "id": "89d7e3e2",
   "metadata": {},
   "outputs": [],
   "source": [
    "def QuadEqu(c,b,a=1):\n",
    "    if a==0:\n",
    "        if b==0:\n",
    "            if c==0:\n",
    "                sol=\"R\"\n",
    "            else:\n",
    "                sol=\"{}\"\n",
    "        else:\n",
    "            sol=\"{\"+str(-c/b)+\"}\"\n",
    "    else:\n",
    "        delta=b**2-4*a*c\n",
    "        if delta<0:\n",
    "            sol=\"{}\"\n",
    "        elif delta == 0:\n",
    "            sol=\"{\"+str(-b/(2*a))+\"}\"\n",
    "        else:\n",
    "            sol=\"{\"+str((-b+delta**(1/2))/(2*a))+\";\"+str((-b-delta**(1/2))/(2*a))+\"}\"\n",
    "    return sol"
   ]
  },
  {
   "cell_type": "markdown",
   "id": "8df795c6",
   "metadata": {},
   "source": [
    "3- Test the function  <b>QuadEqu</b> for \n",
    "- $a=1, b=2, c=1$,\n",
    "- $a=2, b=2, c=40$,\n",
    "- $a=2, b=3, c=-5$. \n",
    "\n",
    "(<font color = red> 3pts  </font>)"
   ]
  },
  {
   "cell_type": "code",
   "execution_count": null,
   "id": "a0ec9a9e",
   "metadata": {},
   "outputs": [],
   "source": [
    "print(QuadEqu(1,2))\n",
    "print(QuadEqu(40,2,2))\n",
    "print(QuadEqu(-5,3,2))"
   ]
  },
  {
   "cell_type": "markdown",
   "id": "4deb61df",
   "metadata": {},
   "source": [
    "**Exercise 3** (<font color = red> 9pts  </font>)\n",
    "\n",
    "1- A year is a leap year if it is divisible by 4, except that years divisible\n",
    "by 100 are not leap years unless they are also divisible by 400.\n",
    "Write the ADL of the function, named <b>LeapYear</b>, that takes a year, $y$, and return the boolean <b>True</b>\n",
    "if $y$ is a leap year; <b>False</b> otherwise.(<font color = red> 3pts  </font>)\n",
    "\n",
    "2- Translate the ADL into a python code. (<font color = red> 2pts  </font>)"
   ]
  },
  {
   "cell_type": "code",
   "execution_count": null,
   "id": "3017355a",
   "metadata": {},
   "outputs": [],
   "source": [
    "def LeapYear(y):\n",
    "    d= (y%4==0 and y%100!=0)or(y%400==0)\n",
    "    return d"
   ]
  },
  {
   "cell_type": "markdown",
   "id": "c3714467",
   "metadata": {},
   "source": [
    "3- Test the python code for the years 1700, 1900, 1996 and 2000. (<font color = red> 1pts  </font>)"
   ]
  },
  {
   "cell_type": "code",
   "execution_count": null,
   "id": "98a6b605",
   "metadata": {},
   "outputs": [],
   "source": [
    "print(LeapYear(1700))\n",
    "print(LeapYear(1900))\n",
    "print(LeapYear(1996))\n",
    "print(LeapYear(2000))"
   ]
  },
  {
   "cell_type": "markdown",
   "id": "0f60a53d",
   "metadata": {},
   "source": [
    "4- Write the python code that asks the user to enter a year,$z$ , and displays how many leap years are between 1996 and that year. Test your code for $z=2023$ (<font color = red> 3pts  </font>)"
   ]
  },
  {
   "cell_type": "code",
   "execution_count": null,
   "id": "9c908fb1",
   "metadata": {},
   "outputs": [],
   "source": [
    "z= eval(input(\"Enter a year: \"))\n",
    "if z>1996:\n",
    "    print((z-1996)//4-(z-1996)//100+(z-1996)//400+1)\n",
    "else:\n",
    "    print((1996-z)//4-(1996-z)//100+(1996-z)//400+1)"
   ]
  },
  {
   "cell_type": "markdown",
   "id": "803f3f2f",
   "metadata": {},
   "source": [
    "**Exercise 4** (<font color = red> 4pts  </font>)\n",
    "\n",
    "The digital root of a positive number n is obtained as follows: Add up the digits n to get a new number.\n",
    "Add up the digits of that to get another new number. Keep doing this until you get a number\n",
    "that has only one digit. That number is the digital root.\n",
    "\n",
    "For example, if $n = 45893$, we add up the digits to get $$4 + 5 + 8 + 9 + 3 = 29.$$ We then add up\n",
    "the digits of $29$ to get $$2 + 9 = 11.$$ We then add up the digits of $11$ to get $$1 + 1 = 2.$$ Since 2 has\n",
    "only one digit, 2 is our digital root.\n",
    "\n",
    "1- Write the Python code of the function **DigRoot** that returns the digital root of an integer $n$ given as input (you can use the python function **len**).(<font color = red> 3pts  </font>)\n",
    "\n"
   ]
  },
  {
   "cell_type": "code",
   "execution_count": null,
   "id": "ac9e2672",
   "metadata": {},
   "outputs": [],
   "source": [
    "def DigRoot(n):\n",
    "    s=0\n",
    "    while n>0:\n",
    "        s=s+n%10\n",
    "        n=n//10\n",
    "    if s<10:\n",
    "        return s\n",
    "    else:\n",
    "        return DigRoot(s)"
   ]
  },
  {
   "cell_type": "markdown",
   "id": "97ba78f0",
   "metadata": {},
   "source": [
    "2-  Test the function **DigRoot** for $n = 74568$.(<font color = red> 1pts  </font>)"
   ]
  },
  {
   "cell_type": "code",
   "execution_count": null,
   "id": "9b2da203",
   "metadata": {},
   "outputs": [],
   "source": [
    "print(DigRoot(74568))"
   ]
  },
  {
   "cell_type": "markdown",
   "id": "b6a85895",
   "metadata": {},
   "source": [
    "**Exercise 5**(<font color = red> 6pts  </font>)\n",
    "\n",
    "1- Write a Python code that asks the user to enter a string and displays the number of upper case letters and lower case letters. Check for: **The quick Brow Fox and 'I am proud of Mr McDonald**. (<font color = red> 3pts  </font>)"
   ]
  },
  {
   "cell_type": "code",
   "execution_count": null,
   "id": "c77b32f3",
   "metadata": {},
   "outputs": [],
   "source": [
    "s= input(\"Enter a string: \")\n",
    "up=0\n",
    "lo=0\n",
    "for i in range(len(s)):\n",
    "    if (s[i].isupper()):\n",
    "        up=up+1\n",
    "    elif (s[i].islower()):\n",
    "        lo=lo+1\n",
    "print(up,\"upper case and\",lo,\"lower case\")"
   ]
  },
  {
   "cell_type": "markdown",
   "id": "50304971",
   "metadata": {},
   "source": [
    "2- Write a Python code that asks the user to input two strings and returns the first location in which the strings differ. If the strings are identical, it should return -1. (<font color = red> 3pts  </font>)"
   ]
  },
  {
   "cell_type": "code",
   "execution_count": null,
   "id": "32495bb0",
   "metadata": {},
   "outputs": [],
   "source": [
    "def Loc(s1,s2):\n",
    "    i=0\n",
    "    "
   ]
  },
  {
   "cell_type": "markdown",
   "id": "a6bd3393",
   "metadata": {},
   "source": [
    "**Exercise 6**(<font color = red> 6pts  </font>)\n",
    "\n",
    "1- Write a Python code of function, named **AllDivisor** , that takes a positive integer $n$ as input and returns the list of all the divisors of $n$. (<font color = red> 3pts  </font>)"
   ]
  },
  {
   "cell_type": "code",
   "execution_count": null,
   "id": "ddd0bc98",
   "metadata": {},
   "outputs": [],
   "source": [
    "def AllDivisor(n):\n",
    "    if n==1:\n",
    "        return [1]\n",
    "    else:\n",
    "        d= [1,n]\n",
    "        i=2\n",
    "        while i<=n/2:\n",
    "            if n%i ==0:\n",
    "                d.append(i)\n",
    "            i=i+1\n",
    "        return d\n",
    "AllDivisor(12)"
   ]
  },
  {
   "cell_type": "markdown",
   "id": "7491a08d",
   "metadata": {},
   "source": [
    "2- Write a Python code, based on the function **AllDivisor**, that asks the user to enter a positive integer $n$\n",
    "and tells if n is a prime number or not. Test the code for $n=97$. (<font color = red> 3pts  </font>)"
   ]
  },
  {
   "cell_type": "code",
   "execution_count": null,
   "id": "68160e5c",
   "metadata": {},
   "outputs": [],
   "source": [
    "n = eval(input(\"Enter a positive integer: \"))\n",
    "if len(AllDivisor(n))==2:\n",
    "    print(n,\"is prime.\")\n",
    "else:\n",
    "    print(n,\"is not prime.\")"
   ]
  },
  {
   "cell_type": "markdown",
   "id": "f8a7c551",
   "metadata": {},
   "source": [
    "**Exercise 7**(<font color = red> 9pts  </font>)\n",
    "\n",
    "1- Use the python lambda syntax to define the function $ f(x) = x^3 -3x - 5$ then compute and display $f(-10)$, $f(10)$. (<font color = red> 3pts  </font>)"
   ]
  },
  {
   "cell_type": "code",
   "execution_count": null,
   "id": "3e3e737d",
   "metadata": {},
   "outputs": [],
   "source": [
    "f= lambda x : x**3+3*x-5\n",
    "print(f(-10))\n",
    "print(f(10))"
   ]
  },
  {
   "cell_type": "markdown",
   "id": "d5b639c3",
   "metadata": {},
   "source": [
    "2- Let us consider a continuous function “f” which is defined on the closed interval [a, b], is given with f(a) and f(b) of different signs. Then by intermediate theorem, there exists a point x belong to (a, b) for which f(x) = 0. The bisection method is an approximation method to find the roots of the given equation by repeatedly dividing the interval. This method will divide the interval until the resulting interval is found, which is extremely small.\n",
    "\n",
    "Given the following function $ f(x) = x^3 -3x - 5;$ let $x_0 \\in [a,b]$ be the solution of the equation $f(x) = 0$. Write a function named **Bissection** that returns an approximation $\\bar{x}$ of $x_0$ such that $$ \\mid \\bar{x} - x_0 \\mid \\leq \\epsilon, $$\n",
    "for the given inputs $a,b$ and $\\epsilon$ with a default value $10^{-2}$.(<font color = red> 5pts  </font>)"
   ]
  },
  {
   "cell_type": "code",
   "execution_count": null,
   "id": "7752da34",
   "metadata": {},
   "outputs": [],
   "source": [
    "def Bissection(a,b,epsilon=0.01):\n",
    "    xbar=(b-a)/2\n",
    "    if f(xbar)=0:\n",
    "        return xbar\n",
    "    elif f(xbar)<0:\n",
    "        if f(a)<0:\n",
    "            return Bissection(xbar,b,epsilon)\n",
    "        else:\n",
    "            return Bissection(a,xbar,epsilon)\n",
    "    else:\n",
    "        if f(a)<0:\n",
    "            return Bissection(a,xbar,epsilon)\n",
    "        else:\n",
    "            return Bissection(xbar,b,epsilon)"
   ]
  },
  {
   "cell_type": "markdown",
   "id": "c49e794c",
   "metadata": {},
   "source": [
    "3- Test the function **Bissection** for $a=-10, b=10$. (<font color = red> 1pts  </font>)"
   ]
  },
  {
   "cell_type": "code",
   "execution_count": null,
   "id": "d10f135e",
   "metadata": {},
   "outputs": [],
   "source": [
    "print(Bissection(-10,10))"
   ]
  },
  {
   "cell_type": "code",
   "execution_count": null,
   "id": "6e724aed",
   "metadata": {},
   "outputs": [],
   "source": [
    "pwd"
   ]
  },
  {
   "cell_type": "code",
   "execution_count": null,
   "id": "619e0ece",
   "metadata": {},
   "outputs": [],
   "source": [
    "pwd"
   ]
  },
  {
   "cell_type": "markdown",
   "id": "f7afdfde",
   "metadata": {},
   "source": [
    "**Exercise 1**\n",
    "\n",
    "1 - write a function, called **sum_prod**, that takes $n$ and $m$ as input and return return A and B given by $$A = \\sum_{i=m}^{n} i, \\quad B = \\prod_{i=m}^{n} i $$ The default value of m should be 1. Check your function for $n=10$."
   ]
  },
  {
   "cell_type": "code",
   "execution_count": null,
   "id": "ec1b6da1",
   "metadata": {},
   "outputs": [],
   "source": [
    "def sum_prod(n, m=1):\n",
    "    A=0\n",
    "    B=1\n",
    "    for i in range(m,n+1):\n",
    "        A+=i\n",
    "        B*=i\n",
    "    return A,B\n",
    "print(f\"sum_prod(10) = {sum_prod(10)}\")"
   ]
  },
  {
   "cell_type": "markdown",
   "id": "db6e7a58",
   "metadata": {},
   "source": [
    "2- Write a Python function called **Facto** that calculates the factorial of a non-negative integer. The function accepts the number as an argument. Compute the factorial of 57."
   ]
  },
  {
   "cell_type": "code",
   "execution_count": null,
   "id": "dc14e234",
   "metadata": {},
   "outputs": [],
   "source": [
    "def Facto(n):\n",
    "    return sum_prod(n)[1]\n",
    "print(f\"Facto(57) = {Facto(57)}\")"
   ]
  },
  {
   "cell_type": "markdown",
   "id": "15523951",
   "metadata": {},
   "source": [
    "**Exercise 2**\n",
    "\n",
    "1- Using the list comprehensions, write a function, **ListComp** that takes a list $L$ of strings as input and returns \n",
    "- a list that consists of the strings of $L$ with their last characters removed\n",
    "- a list of the lengths of the strings of $L$\n",
    "- a list that consists of only those strings of $L$ that are at most 3 characters long"
   ]
  },
  {
   "cell_type": "code",
   "execution_count": null,
   "id": "4061b6f0",
   "metadata": {},
   "outputs": [],
   "source": [
    "def ListComp(L):\n",
    "    le=[len(i) for i in L]\n",
    "    l3=[]\n",
    "    ll=[i.removesuffix(i[len(i)-1]) for i in L]\n",
    "    for i in range(len(L)):\n",
    "        if len(L[i])<4:\n",
    "            l3.append(L[i])\n",
    "    return ll, le, l3"
   ]
  },
  {
   "cell_type": "markdown",
   "id": "a95f870f",
   "metadata": {},
   "source": [
    "2- Check your function using the names of your closest friends at AIMS."
   ]
  },
  {
   "cell_type": "code",
   "execution_count": null,
   "id": "4edb4b17",
   "metadata": {},
   "outputs": [],
   "source": [
    "print(ListComp([\"Aimee\", \"Noe\", \"Olivier\"]))"
   ]
  },
  {
   "cell_type": "markdown",
   "id": "f09ebf03",
   "metadata": {},
   "source": [
    "**Exercise 3**\n",
    "\n",
    "A palindrome is a word that reads the same backwards as forwards. Write a program that asks the user to enter a word and determines whether the word is a palindrome or not\n",
    "\n",
    "1- using a for loop"
   ]
  },
  {
   "cell_type": "code",
   "execution_count": null,
   "id": "26a211b3",
   "metadata": {},
   "outputs": [],
   "source": [
    "word= input(\"Enter a word: \")\n",
    "p=\"palindrome\"\n",
    "for i in range(len(word)//2+1):\n",
    "    if word[i].upper() != word[len(word)-1-i].upper():\n",
    "        p=\"not palindrome\"\n",
    "        break\n",
    "print(f\"{word} is {p}.\")"
   ]
  },
  {
   "cell_type": "markdown",
   "id": "64657c10",
   "metadata": {},
   "source": [
    "2- using the string slicing"
   ]
  },
  {
   "cell_type": "code",
   "execution_count": null,
   "id": "c62ae649",
   "metadata": {},
   "outputs": [],
   "source": []
  },
  {
   "cell_type": "markdown",
   "id": "34e7b26f",
   "metadata": {},
   "source": [
    "**Exercise 4**\n",
    "\n",
    "1- Write a Python function named **characterCase** that accepts a string $S$ as input and returns the number of upper case letters and lower case letters as dictionary $D$. \n",
    "\n",
    "For example, if S = 'My name is Hove' then D = {'up': 2, 'lc': 10}"
   ]
  },
  {
   "cell_type": "code",
   "execution_count": null,
   "id": "c5fa3f0b",
   "metadata": {},
   "outputs": [],
   "source": [
    "def characterCase(S):\n",
    "    D={\"up\":0,\"lc\":0}\n",
    "    for i in S:\n",
    "        if i.isupper():\n",
    "            D[\"up\"]+=1\n",
    "        elif i.islower():\n",
    "            D[\"lc\"]+=1\n",
    "    return D"
   ]
  },
  {
   "cell_type": "markdown",
   "id": "c4fd4df7",
   "metadata": {},
   "source": [
    "2- Check for 'The quick Brow Fox and I'm proud of Mr McDonald'."
   ]
  },
  {
   "cell_type": "code",
   "execution_count": null,
   "id": "29a640bb",
   "metadata": {},
   "outputs": [],
   "source": [
    "print(characterCase(\"The quick Brow Fox and I'm proud of Mr McDonald\"))"
   ]
  },
  {
   "cell_type": "markdown",
   "id": "6d63cd62",
   "metadata": {},
   "source": [
    "**Exercise 5**\n",
    "\n",
    "Write a function called **matches** that takes two strings as arguments and returns how many matches there are between the strings. A match is where the two strings have the same character at the same index. For instance, 'python' and 'path' match in the first, third, and fourth characters, so the function should return 3."
   ]
  },
  {
   "cell_type": "code",
   "execution_count": null,
   "id": "d8d41875",
   "metadata": {},
   "outputs": [],
   "source": [
    "def matches(n,m):\n",
    "    r=0\n",
    "    for i in range(min(len(n),len(m))):\n",
    "        if n[i] == m[i]:\n",
    "            r+=1\n",
    "    return r"
   ]
  },
  {
   "cell_type": "markdown",
   "id": "6e2c48b2",
   "metadata": {},
   "source": [
    "**Exercise 6**\n",
    "\n",
    "Write a function **V** that takes a positive integer $n$ and a prime number $p$ and returns the greatest integer $r$ such that $p^r$ divides $n$. Check the function n=40 and p = 2."
   ]
  },
  {
   "cell_type": "code",
   "execution_count": null,
   "id": "2fd47b91",
   "metadata": {},
   "outputs": [],
   "source": [
    "def V(n,p):\n",
    "    r=0\n",
    "    i=0\n",
    "    while(p**i <= n/2):\n",
    "        if n%(p**i) == 0:\n",
    "            r=i\n",
    "        i+=1\n",
    "    return r\n",
    "print(f\"V(40,2) = {V(40,2)}\")"
   ]
  },
  {
   "cell_type": "markdown",
   "id": "4c79d9cb",
   "metadata": {},
   "source": [
    "**Exercise 7**\n",
    "\n",
    "1 - Write a Python function called <b>IsPrime</b> that takes a positive integer, $n$, as input and returns the boolean True if $n$ is a prime number and False, otherwise. \n",
    "\n",
    "Note : A prime number (or a prime) is a natural number greater than 1 and that has no positive divisors other than 1 and itself."
   ]
  },
  {
   "cell_type": "code",
   "execution_count": null,
   "id": "4fc21f25",
   "metadata": {},
   "outputs": [],
   "source": [
    "def IsPrime(n):\n",
    "    if n==1:\n",
    "        return False\n",
    "    else:\n",
    "        i=2\n",
    "        while i<=n**(1/2):\n",
    "            if n%i==0:\n",
    "                return False\n",
    "            i+=1\n",
    "        return True"
   ]
  },
  {
   "cell_type": "markdown",
   "id": "7c8e5e5c",
   "metadata": {},
   "source": [
    "2- Test the function <b>IsPrime</b> for $n= 12, 47$ and $97$"
   ]
  },
  {
   "cell_type": "code",
   "execution_count": null,
   "id": "acf77922",
   "metadata": {},
   "outputs": [],
   "source": [
    "print(f\"Is 12 prime? {IsPrime(12)}\")\n",
    "print(f\"Is 47 prime? {IsPrime(47)}\")\n",
    "print(f\"Is 97 prime? {IsPrime(97)}\")"
   ]
  },
  {
   "cell_type": "markdown",
   "id": "c67c1df5",
   "metadata": {},
   "source": [
    "3 - Write a function called **Firstprimes** that is given a positive integer $n$ and returns the smallest prime $p$ such that $n\\leq p$. Let the default value of $n$ be 2."
   ]
  },
  {
   "cell_type": "code",
   "execution_count": null,
   "id": "57422b1a",
   "metadata": {},
   "outputs": [],
   "source": [
    "def Firstprimes(n=2):\n",
    "    if n%2==0:\n",
    "        p=n+1\n",
    "    else:\n",
    "        p=n\n",
    "    while not IsPrime(p):\n",
    "        p+=2\n",
    "    return p"
   ]
  },
  {
   "cell_type": "markdown",
   "id": "2ab507a7",
   "metadata": {},
   "source": [
    "4- Check the function **Firstprimes** for $n=80$"
   ]
  },
  {
   "cell_type": "code",
   "execution_count": null,
   "id": "d7f40fb8",
   "metadata": {},
   "outputs": [],
   "source": [
    "print(f\"Firstprimes(80) = {Firstprimes(80)}\")"
   ]
  },
  {
   "cell_type": "markdown",
   "id": "f3d8d8be",
   "metadata": {},
   "source": [
    "**Exercise 8**\n",
    "\n",
    "Create a Module **PPQ1_Function.py** that contains all the functions on this notebook. Then, import the module to test the functions."
   ]
  },
  {
   "cell_type": "code",
   "execution_count": null,
   "id": "eb9b7921",
   "metadata": {},
   "outputs": [],
   "source": [
    "import PPQ1_Function as mf\n",
    "print(f\"sum_prod(10) = {mf.sum_prod(10)}\")\n",
    "print(f\"Facto(57) = {mf.Facto(57)}\")\n",
    "print(f\"ListComp(['Aimee', 'Noe', 'Olivier']) = {mf.ListComp(['Aimee', 'Noe', 'Olivier'])}\")\n",
    "print(mf.characterCase(\"The quick Brow Fox and I'm proud of Mr McDonald\"))\n",
    "print(f\"matches('python','path') = {mf.matches('python','path')}\")\n",
    "print(f\"V(40,2) = {mf.V(40,2)}\")\n",
    "print(f\"Is 97 prime? {mf.IsPrime(97)}\")\n",
    "print(f\"Firstprimes(80) = {mf.Firstprimes(80)}\")"
   ]
  },
  {
   "cell_type": "code",
   "execution_count": null,
   "id": "0eee876f",
   "metadata": {},
   "outputs": [],
   "source": [
    "pwd"
   ]
  },
  {
   "cell_type": "code",
   "execution_count": null,
   "id": "91112c34",
   "metadata": {
    "scrolled": true
   },
   "outputs": [],
   "source": [
    "import numpy as np\n",
    "from numpy.linalg import solve\n",
    "from scipy.optimize import fsolve\n",
    "from scipy.integrate import odeint, quad\n",
    "import matplotlib.pyplot as plt"
   ]
  },
  {
   "cell_type": "markdown",
   "id": "853fb2ef",
   "metadata": {},
   "source": [
    "**Exercise 1** \n",
    "\n",
    "1- Write a function, **ReverCase**, that takes one argument: A string ``s`` and returns another string ``t``. The string ``t`` should be constructed from ``s`` such that:\n",
    "* All **upper** case letters from ``s`` are changed into **lower** case.\n",
    "* All **lower** case letters from ``s`` are changed into **upper** case.\n",
    "* All characters from ``s`` that are not letters are **deleted**.\n",
    "\n",
    "Test your function **ReverCase**."
   ]
  },
  {
   "cell_type": "code",
   "execution_count": null,
   "id": "267e382d",
   "metadata": {},
   "outputs": [],
   "source": [
    "#4pt\n",
    "def ReverCase(S):\n",
    "    return \"\".join([i.swapcase() for i in S if i.isalpha()])\n",
    "ReverCase(\"joel_tchapnda_PPQ2\")"
   ]
  },
  {
   "cell_type": "markdown",
   "id": "028e8d31",
   "metadata": {},
   "source": [
    "2- Write a function,**MaxNegMat** , that takes one argument: A 2D array ``M`` and:\n",
    "* For each **row** computes the maximum negative element.\n",
    "* Returns the **sum of those elements**.\n",
    "\n",
    "Test your function **MaxNegMat**"
   ]
  },
  {
   "cell_type": "code",
   "execution_count": null,
   "id": "e02cfe51",
   "metadata": {},
   "outputs": [],
   "source": [
    "#4pt\n",
    "#MaxNeg in a list L\n",
    "def MaxNeg(L):\n",
    "    k= [i for i in L if i<0]\n",
    "    if len(k) == 0:\n",
    "        return 0\n",
    "    else:\n",
    "        return max(k)\n",
    "        \n",
    "\n",
    "def MaxNegMat(M):\n",
    "    s=0\n",
    "    for i in M:\n",
    "        s+= MaxNeg(i)\n",
    "    return s\n",
    "\n",
    "A= np.array([[2,5],[-7,1],[-5,-6]])\n",
    "MaxNegMat(A)"
   ]
  },
  {
   "cell_type": "markdown",
   "id": "20b709ca",
   "metadata": {},
   "source": [
    "**Exercise 2**\n",
    "\n",
    "1-The cost of admission to a popular music concert was \n",
    "- 40 USD for 1 children and 1 male\n",
    "- 170 USD  for 4 children, 2 females and 3 males \n",
    "- 190 USD  for 5 children, 4 females and 2 males \n",
    "\n",
    "Transform the problem into a system of equation (as markdown in the cell below)"
   ]
  },
  {
   "cell_type": "markdown",
   "id": "96069db0",
   "metadata": {},
   "source": [
    "\n",
    "Let $x, y, t$ be respectively the price of admission for one child, one female and one male. Our problem becomes the system of equations\n",
    "\n",
    "\\begin{equation}\n",
    "\\begin{cases}\n",
    "    x + t = 40\\\\\n",
    "    4x + 2y + 3t = 170 \\\\\n",
    "    5x + 4y + 2t = 190\n",
    "\\end{cases}\n",
    "\\end{equation}"
   ]
  },
  {
   "cell_type": "markdown",
   "id": "1a63c957",
   "metadata": {},
   "source": [
    "2- Write a Python code to compute and display how much was the admission for each child, female and male?"
   ]
  },
  {
   "cell_type": "code",
   "execution_count": null,
   "id": "9a8f29d1",
   "metadata": {},
   "outputs": [],
   "source": [
    "#3pt\n",
    "A= np.array([[1,0,1],[4,2,3],[5,4,2]])\n",
    "b= np.array([[40],[170],[190]])\n",
    "z= solve(A,b)\n",
    "print(f\"The price for a child is {round(z[0,0],2)} USD. The price for a female is {round(z[1,0],2)} USD. The price for a male is {round(z[2,0],2)} USD.\")"
   ]
  },
  {
   "cell_type": "markdown",
   "id": "ad45149a",
   "metadata": {},
   "source": [
    "3- Using the Python in-built function fsolve with unitial guess $x=1, y=1$, write a Python code to solve the following system\n",
    "\n",
    "\\begin{equation}\n",
    "\\begin{cases}\n",
    "    x^2 + x = 2 - y\\\\\n",
    "    2e^x + 3y = 8\n",
    "\\end{cases}\n",
    "\\end{equation}\n",
    "\n"
   ]
  },
  {
   "cell_type": "code",
   "execution_count": null,
   "id": "a02b50f5",
   "metadata": {},
   "outputs": [],
   "source": [
    "#5pt\n",
    "\n",
    "def sys(z):\n",
    "    x,y = z\n",
    "    F= np.empty((2))\n",
    "    F[0]= x**2 + x + y - 2\n",
    "    F[1]= 2*np.exp(x) + 3*y -8\n",
    "    return F\n",
    "\n",
    "Guess= np.array([1,1])\n",
    "d= fsolve(sys,Guess)\n",
    "d"
   ]
  },
  {
   "cell_type": "markdown",
   "id": "103c0403",
   "metadata": {},
   "source": [
    "**Exercise 3**\n",
    "\n",
    "1- Write a Python code to compute and display the integrals bellow using the Python function $quad$\n",
    "$$A = \\int_{0}^{2} \\dfrac{x^3+5x-20}{x^2+3}dx$$\n",
    "\n",
    "$$B = \\int_{3}^{5} \\bigg(x-\\frac{1}{3}\\bigg)\\sqrt{x^4-3}dx$$"
   ]
  },
  {
   "cell_type": "code",
   "execution_count": null,
   "id": "a68b1f64",
   "metadata": {},
   "outputs": [],
   "source": [
    "#4pt\n",
    "f= lambda x: (x**3+5*x-20)/(x**2+3)\n",
    "g= lambda x: (x-1/3)*np.sqrt(x**4-3)\n",
    "\n",
    "A= quad(f,0,2)[0]\n",
    "B= quad(g,3,5)[0]\n",
    "print(f\"A= {A}.\\nB= {B}\")"
   ]
  },
  {
   "cell_type": "markdown",
   "id": "b71e2de0",
   "metadata": {},
   "source": [
    "2- Let $\\{ x_k\\}$ be a partition of $[a,b]$ such that $a=x_0<x_1<\\cdots<x_{N-1}<x_N=b$ and $H$ be the length of the $k$-th subinterval ($H = x_k - x_{k-1}$),\n",
    "then we have \n",
    "$$\\int_a^bf(x)dx \\approx \\sum_{k=1}^N \\frac{f(x_{k-1})+f(x_k)}{2}H = Z$$\n",
    "\n",
    "\n",
    "Write a function named <b>Trap</b> that takes $a,b,H, f$ as inputs and return Z. Here, ``H = 0.001`` is the default value."
   ]
  },
  {
   "cell_type": "code",
   "execution_count": null,
   "id": "8ca95d0e",
   "metadata": {},
   "outputs": [],
   "source": [
    "#3pt\n",
    "def Trap(f,a,b,H=0.001):\n",
    "    N= int(1+(b-a)/H)\n",
    "    Z= 0\n",
    "    x= np.linspace(a,b,N)\n",
    "    for i in range(1,N):\n",
    "        Z+= (f(x[i-1]) + f(x[i]))*H/2\n",
    "    return Z"
   ]
  },
  {
   "cell_type": "markdown",
   "id": "1faa66bc",
   "metadata": {},
   "source": [
    "3- Compute the integrales A and B using your function **Trap**"
   ]
  },
  {
   "cell_type": "code",
   "execution_count": null,
   "id": "21198863",
   "metadata": {},
   "outputs": [],
   "source": [
    "#2pt\n",
    "f= lambda x: (x**3+5*x-20)/(x**2+3)\n",
    "g= lambda x: (x-1/3)*np.sqrt(x**4-3)\n",
    "\n",
    "A= Trap(f,0,2)\n",
    "B= Trap(g,3,5)\n",
    "print(f\"A= {A}.\\nB= {B}\")"
   ]
  },
  {
   "cell_type": "markdown",
   "id": "4a5983cc",
   "metadata": {},
   "source": [
    "**Exercise 4**\n",
    "\n",
    "Let $\\{ x_k\\}$ be a partition of $[a,b]$ such that $a=x_0<x_1<\\cdots<x_{N-1}<x_{N}=b$ and $H$ be the constant length of the $k$-th subinterval ($H = x_k - x_{k-1}$). Let consider the second-order differential equation\n",
    "\n",
    "\\begin{equation}\n",
    "  \\begin{cases}\n",
    "   \\dfrac{d^2 y}{dx^2} + 2\\dfrac{d y}{dx}=30e^{3x} \\qquad\\forall x\\in [a,b]\\\\\\\\\n",
    "\\dfrac{d y}{dx}(a)=8 , y(a) = 2 \n",
    "  \\end{cases}\n",
    "\\end{equation}\n",
    "\n",
    "Let $\\{ y_k\\}$ be the approximate solution i.e.  $y_k\\approx g(x_k)=g_k$ where $g$ is the exact solution.\n",
    "\n",
    "1- Using the Python in-built function **odeint**, write a python function <b> SODE </b> that takes $a,b,H$ (with $H= 0.001$ as default value) and return array of all $x_k$ and $y_k$"
   ]
  },
  {
   "cell_type": "code",
   "execution_count": null,
   "id": "16563084",
   "metadata": {},
   "outputs": [],
   "source": [
    "#5pt\n",
    "def syst(z,x):\n",
    "    y,y1= z\n",
    "    dydx= y1\n",
    "    dy1dx= 30*np.exp(3*x)-2*y1\n",
    "    return np.array([dydx,dy1dx])\n",
    "def SODE(a,b,H=0.001):\n",
    "    N= int(1+(b-a)/H)\n",
    "    x= np.linspace(a,b,N)\n",
    "    z= [2,8]\n",
    "    return np.array([x,(odeint(syst,z,x)[:,0])])"
   ]
  },
  {
   "cell_type": "markdown",
   "id": "f0657fe2",
   "metadata": {},
   "source": [
    "2- Solve the second-order differential equation for $a = 0, b = 2$ and plot the solution."
   ]
  },
  {
   "cell_type": "code",
   "execution_count": null,
   "id": "c10d9b61",
   "metadata": {},
   "outputs": [],
   "source": [
    "#4pt\n",
    "c= SODE(0,2)\n",
    "print(f\"The solution is {c}\")\n",
    "plt.plot(c[0],c[1])\n",
    "plt.xlabel(\"x\")\n",
    "plt.ylabel(\"y(x)\")\n",
    "plt.show()"
   ]
  },
  {
   "cell_type": "markdown",
   "id": "eeffa518",
   "metadata": {},
   "source": [
    "3- The exact solution of the second-order differential equation is $g(x)= 2e^{3x}-e^{-2x}+1$. Plot the absolute value, $\\mid y_k - g_k\\mid$ against x_k."
   ]
  },
  {
   "cell_type": "code",
   "execution_count": null,
   "id": "451ba727",
   "metadata": {},
   "outputs": [],
   "source": [
    "#3pt\n",
    "g= lambda x: 2*np.exp(3*x)-np.exp(-2*x)+1\n",
    "s= abs(c[1]-g(c[0]))\n",
    "plt.plot(c[0],s)\n",
    "plt.xlabel(\"x\")\n",
    "plt.ylabel(\"|y(x)-g(x)|\")\n",
    "plt.show()"
   ]
  },
  {
   "cell_type": "markdown",
   "id": "2fabfad9",
   "metadata": {},
   "source": [
    "4- Write a Write a function called **L2_error** that takes $a,b,H$ and return the L2 error, $L2Er$ between the exact and the approximate solution given by\n",
    "\n",
    "$$L2Er = \\sum_{k=0}^N H(y_k - g_k)^2$$"
   ]
  },
  {
   "cell_type": "code",
   "execution_count": null,
   "id": "a328a8a6",
   "metadata": {},
   "outputs": [],
   "source": [
    "#3pt\n",
    "def L2_error(a,b,H):\n",
    "    L=0\n",
    "    N= int(1+(b-a)/H)\n",
    "    y= SODE(a,b,H)\n",
    "    e= (y[1]-g(y[0]))**2\n",
    "    for i in range(N):\n",
    "        L+= H*e[i]\n",
    "    return L"
   ]
  },
  {
   "cell_type": "markdown",
   "id": "8f58ed2d",
   "metadata": {},
   "source": [
    "4- Let us denote $L2Er_j$ the output of **L2_error** for a given argument $a,b,H_j$. Compute the array of $L2Er_j$ for $a = 0, b=2$ and $H_j$ in an array $L =[ 10^{-1}, 10^{-2}, 10^{-3}, 10^{-4}]$."
   ]
  },
  {
   "cell_type": "code",
   "execution_count": null,
   "id": "36161f5a",
   "metadata": {},
   "outputs": [],
   "source": [
    "#3pt\n",
    "L= np.array([10**(-i) for i in range(1,5)])\n",
    "L2Er= np.vectorize(L2_error)\n",
    "L2Er(0,2,L)"
   ]
  },
  {
   "cell_type": "markdown",
   "id": "4db0cbcf",
   "metadata": {},
   "source": [
    "5- Plot the array of $L2Er_j$ against the array of $H_j$."
   ]
  },
  {
   "cell_type": "code",
   "execution_count": null,
   "id": "b4a36280",
   "metadata": {
    "scrolled": true
   },
   "outputs": [],
   "source": [
    "#3pt\n",
    "plt.plot(L,L2Er(0,2,L))\n",
    "plt.xlabel(\"H\")\n",
    "plt.ylabel(\"L2Er(H)\")\n",
    "plt.show()"
   ]
  },
  {
   "cell_type": "code",
   "execution_count": null,
   "id": "3da4c639",
   "metadata": {},
   "outputs": [],
   "source": []
  },
  {
   "cell_type": "code",
   "execution_count": null,
   "id": "d2d613f4",
   "metadata": {},
   "outputs": [],
   "source": [
    "import numpy as np\n",
    "from scipy.optimize import fsolve\n",
    "from scipy.integrate import quad\n",
    "from scipy.integrate import odeint\n",
    "import matplotlib.pyplot as plt\n",
    "import pandas as pd"
   ]
  },
  {
   "cell_type": "markdown",
   "id": "c1110857",
   "metadata": {},
   "source": [
    "# Facile"
   ]
  },
  {
   "cell_type": "markdown",
   "id": "85470e4a",
   "metadata": {},
   "source": [
    "## Prix Imprimerie"
   ]
  },
  {
   "cell_type": "code",
   "execution_count": null,
   "id": "6b576d77",
   "metadata": {},
   "outputs": [],
   "source": [
    "def Prix(n):\n",
    "    if n<10:\n",
    "        price=12*n\n",
    "    elif n<100:\n",
    "        price=10*n\n",
    "    else:\n",
    "        price=7*n\n",
    "    return price"
   ]
  },
  {
   "cell_type": "markdown",
   "id": "991094da",
   "metadata": {},
   "source": [
    "## 2e"
   ]
  },
  {
   "cell_type": "code",
   "execution_count": null,
   "id": "d1377b0e",
   "metadata": {},
   "outputs": [],
   "source": [
    "def Eq(c,b,a = 1,):\n",
    "    if a==0:\n",
    "        if b==0:\n",
    "            if c==0:\n",
    "                sol=\"R\"\n",
    "            else:\n",
    "                sol=\"{}\"\n",
    "        else:\n",
    "            sol=\"{\"+str(-c/b)+\"}\"\n",
    "    else:\n",
    "        delta=b**2-4*a*c\n",
    "        if delta<0:\n",
    "            sol=\"{}\"\n",
    "        elif delta == 0:\n",
    "            sol=\"{\"+str(-b/(2*a))+\"}\"\n",
    "        else:\n",
    "            sol=\"{\"+str((-b+delta**(1/2))/(2*a))+\";\"+str((-b-delta**(1/2))/(2*a))+\"}\"\n",
    "    return sol"
   ]
  },
  {
   "cell_type": "markdown",
   "id": "4f77e8f7",
   "metadata": {},
   "source": [
    "## Anne bisectile"
   ]
  },
  {
   "cell_type": "code",
   "execution_count": null,
   "id": "e59012af",
   "metadata": {},
   "outputs": [],
   "source": [
    "def bis(y):\n",
    "    d= (y%4==0 and y%100!=0)or(y%400==0)\n",
    "    return d"
   ]
  },
  {
   "cell_type": "markdown",
   "id": "bbe41ba3",
   "metadata": {},
   "source": [
    "## Racine Chifffre "
   ]
  },
  {
   "cell_type": "code",
   "execution_count": null,
   "id": "20d3670b",
   "metadata": {},
   "outputs": [],
   "source": [
    "def rac(n):\n",
    "    s=0\n",
    "    while n>0:\n",
    "        s=s+n%10\n",
    "        n=n//10\n",
    "    if s<10:\n",
    "        return s\n",
    "    else:\n",
    "        return DigRoot(s)"
   ]
  },
  {
   "cell_type": "markdown",
   "id": "480cd5fa",
   "metadata": {},
   "source": [
    "## Position de difference"
   ]
  },
  {
   "cell_type": "code",
   "execution_count": null,
   "id": "7c09b2a8",
   "metadata": {},
   "outputs": [],
   "source": [
    "def pos(s1,s2):\n",
    "    if s1 == s2:\n",
    "        return -1\n",
    "    else:\n",
    "        i=0\n",
    "        while i<len(s1) and i<len(s2):\n",
    "            if s1[i] != s2[i]:\n",
    "                return i+1\n",
    "            i=i+1\n",
    "        return i+1"
   ]
  },
  {
   "cell_type": "markdown",
   "id": "67fafe57",
   "metadata": {},
   "source": [
    "## Diviseurs"
   ]
  },
  {
   "cell_type": "code",
   "execution_count": null,
   "id": "349c1a52",
   "metadata": {},
   "outputs": [],
   "source": [
    "def AllDivisor(n):\n",
    "    if n==1:\n",
    "        return [1]\n",
    "    else:\n",
    "        d= [1,n]\n",
    "        i=2\n",
    "        while i<=n/2:\n",
    "            if n%i ==0:\n",
    "                d.append(i)\n",
    "            i=i+1\n",
    "        return d"
   ]
  },
  {
   "cell_type": "markdown",
   "id": "e0fac50f",
   "metadata": {},
   "source": [
    "## Pld"
   ]
  },
  {
   "cell_type": "code",
   "execution_count": null,
   "id": "d9102b32",
   "metadata": {},
   "outputs": [],
   "source": [
    "def pl(mot):\n",
    "    return mot.upper() == mot.upper()[::-1]"
   ]
  },
  {
   "cell_type": "markdown",
   "id": "309d90c4",
   "metadata": {},
   "source": [
    "## Phrase"
   ]
  },
  {
   "cell_type": "code",
   "execution_count": null,
   "id": "aef5e75c",
   "metadata": {},
   "outputs": [],
   "source": [
    "def phrase(s):\n",
    "    return len(s.split())"
   ]
  },
  {
   "cell_type": "markdown",
   "id": "6ad81879",
   "metadata": {},
   "source": [
    "## Nombre avec virgule"
   ]
  },
  {
   "cell_type": "code",
   "execution_count": null,
   "id": "63f87b53",
   "metadata": {},
   "outputs": [],
   "source": [
    "def virg(e):\n",
    "    e= str(e)\n",
    "    if len(e)<4:\n",
    "        return(e)\n",
    "    else:\n",
    "        b= [ e[len(e)-3*i-3:len(e)-3*i] for i in range(len(e)//3) ]\n",
    "        if len(e)%3 != 0:\n",
    "            a= [e[:len(e)%3]]\n",
    "            b.append(a[0])\n",
    "        b= b[::-1]\n",
    "        return (\",\".join(b))"
   ]
  },
  {
   "cell_type": "markdown",
   "id": "2ad6bd1f",
   "metadata": {},
   "source": [
    "## list"
   ]
  },
  {
   "cell_type": "code",
   "execution_count": null,
   "id": "2143a586",
   "metadata": {},
   "outputs": [],
   "source": [
    "def ListComp(L):\n",
    "    le=[len(i) for i in L]\n",
    "    l3=[]\n",
    "    ll=[i.removeprefix(i[0]) for i in L]\n",
    "    for i in range(len(L)):\n",
    "        if len(L[i])>=5:\n",
    "            l3.append(L[i])\n",
    "    return ll, le, l3"
   ]
  },
  {
   "cell_type": "markdown",
   "id": "b14c9715",
   "metadata": {},
   "source": [
    "## Mots diferents"
   ]
  },
  {
   "cell_type": "code",
   "execution_count": null,
   "id": "2293374e",
   "metadata": {},
   "outputs": [],
   "source": [
    "def matches(n,m):\n",
    "    r=0\n",
    "    for i in range(min(len(n),len(m))):\n",
    "        if n[i] == m[i]:\n",
    "            r+=1\n",
    "    return r"
   ]
  },
  {
   "cell_type": "markdown",
   "id": "6bcbe45e",
   "metadata": {},
   "source": [
    "## Lettre dans mot"
   ]
  },
  {
   "cell_type": "code",
   "execution_count": null,
   "id": "3f2fb0df",
   "metadata": {},
   "outputs": [],
   "source": [
    "def findall(word, char):\n",
    "    pos=[]\n",
    "    for i in range(len(word)):\n",
    "        if word[i] == char:\n",
    "            pos.append(i)\n",
    "    return pos"
   ]
  },
  {
   "cell_type": "markdown",
   "id": "04cb7da3",
   "metadata": {},
   "source": [
    "## Biss"
   ]
  },
  {
   "cell_type": "code",
   "execution_count": null,
   "id": "4d7fcdc5",
   "metadata": {},
   "outputs": [],
   "source": [
    "def Bissection(f,a,b,epsilon=0.01):\n",
    "    if f(a)*f(b) > 0:\n",
    "        print(\"Bissection failed\")\n",
    "        return \"\"\n",
    "    else:\n",
    "        xbar=(b+a)/2\n",
    "        if f(xbar) == 0 or b-a <= 2*epsilon:\n",
    "            return xbar, f(xbar)\n",
    "        elif f(xbar) * f(a) <0:\n",
    "            return Bissection(f,a,xbar,epsilon)\n",
    "        else:\n",
    "            return Bissection(f,xbar,b,epsilon)"
   ]
  },
  {
   "cell_type": "markdown",
   "id": "e712ecf4",
   "metadata": {},
   "source": [
    "## Diviseurs "
   ]
  },
  {
   "cell_type": "code",
   "execution_count": null,
   "id": "6de8be98",
   "metadata": {},
   "outputs": [],
   "source": [
    "def number_of_factors(n):\n",
    "    x=[1]\n",
    "    if n==1:\n",
    "        return len(x),x\n",
    "    else:\n",
    "        for i in range(2,n//2+1):\n",
    "            if n%i==0:\n",
    "                x.append(i)\n",
    "        x.append(n)\n",
    "        return len(x),x"
   ]
  },
  {
   "cell_type": "markdown",
   "id": "6dca883b",
   "metadata": {},
   "source": [
    "## Nombres premiers"
   ]
  },
  {
   "cell_type": "code",
   "execution_count": null,
   "id": "86492f8d",
   "metadata": {},
   "outputs": [],
   "source": [
    "def IsPrime(n):\n",
    "    return number_of_factors(n)[0] == 2"
   ]
  },
  {
   "cell_type": "markdown",
   "id": "5e200d10",
   "metadata": {},
   "source": [
    "## Premier suivant"
   ]
  },
  {
   "cell_type": "code",
   "execution_count": null,
   "id": "13e58e13",
   "metadata": {},
   "outputs": [],
   "source": [
    "def Firstprimes(n=2):\n",
    "    if n==2:\n",
    "        return 2\n",
    "    elif n%2==0:\n",
    "        p=n+1\n",
    "    else:\n",
    "        p=n\n",
    "    while not IsPrime(p):\n",
    "        p+=2\n",
    "    return p"
   ]
  },
  {
   "cell_type": "markdown",
   "id": "962db5e8",
   "metadata": {},
   "source": [
    "## Liste des premiers"
   ]
  },
  {
   "cell_type": "code",
   "execution_count": null,
   "id": "934883d5",
   "metadata": {},
   "outputs": [],
   "source": [
    "def primes(n=100):\n",
    "    x=[2]\n",
    "    i=3\n",
    "    while len(x)<n:\n",
    "        if IsPrime(i):\n",
    "            x.append(i)\n",
    "        i=Firstprimes(i+1)\n",
    "    return x"
   ]
  },
  {
   "cell_type": "markdown",
   "id": "61f4a9be",
   "metadata": {},
   "source": [
    "## Bissection"
   ]
  },
  {
   "cell_type": "code",
   "execution_count": null,
   "id": "687cb34e",
   "metadata": {},
   "outputs": [],
   "source": [
    "def Bissection(a,b,epsilon=0.01):\n",
    "    xbar=(b+a)/2\n",
    "    if f(xbar) == 0 or b-a <= 2*epsilon:\n",
    "        return xbar\n",
    "    elif f(xbar)<0:\n",
    "        if f(a)<0:\n",
    "            return Bissection(xbar,b)\n",
    "        else:\n",
    "            return Bissection(a,xbar)\n",
    "    else:\n",
    "        if f(a)>0:\n",
    "            return Bissection(xbar,b)\n",
    "        else:\n",
    "            return Bissection(a,xbar)"
   ]
  },
  {
   "cell_type": "markdown",
   "id": "1b1f9494",
   "metadata": {},
   "source": [
    "## Fibonacci"
   ]
  },
  {
   "cell_type": "code",
   "execution_count": null,
   "id": "52aab859",
   "metadata": {},
   "outputs": [],
   "source": [
    "def Fibonacci(n):\n",
    "    if n in [1,2]:\n",
    "        return n\n",
    "    else:\n",
    "        return Fibonacci(n-1)+Fibonacci(n-2)\n",
    "\n",
    "def SumEven():\n",
    "    s=2\n",
    "    n=5\n",
    "    while Fibonacci(n) <= 4000000:\n",
    "        s+=Fibonacci(n)\n",
    "        n+=3\n",
    "    return s"
   ]
  },
  {
   "cell_type": "markdown",
   "id": "538cc647",
   "metadata": {},
   "source": [
    "## Dimanches"
   ]
  },
  {
   "cell_type": "code",
   "execution_count": null,
   "id": "9ca231a6",
   "metadata": {},
   "outputs": [],
   "source": [
    "def Leap_Year(y):\n",
    "    # Returns if a year is a leap year or not\n",
    "    return (y % 4 == 0 and y % 100 != 0 ) or (y % 400 == 0)\n",
    "\n",
    "def Jan1(y):\n",
    "    # Returns the day of January 1st for the year y as an integer in {0,1...6}\n",
    "    if y == 1900:\n",
    "        return 1\n",
    "    elif Leap_Year(y-1):\n",
    "        return (Jan1(y-1)+2) % 7\n",
    "    else:\n",
    "        return (Jan1(y-1)+1) % 7\n",
    "    \n",
    "def Month1(m,y):\n",
    "    # Returns the first day of month m in {1,2...12} for the year y \n",
    "    if m == 1:\n",
    "        return Jan1(y)\n",
    "    elif m in [2,4,6,8,9,11]:\n",
    "        return (Month1(m-1,y) +3) % 7\n",
    "    elif m!=3:\n",
    "        return (Month1(m-1,y) +2) % 7\n",
    "    elif Leap_Year(y):\n",
    "        return (Month1(2,y)+1) % 7\n",
    "    else:\n",
    "        return (Month1(2,y))\n",
    "    \n",
    "def Sunday1():\n",
    "    # Returns the answer to the question\n",
    "    s=0\n",
    "    for i in range(1901, 2001):\n",
    "        s+= len([m for m in range(1,13) if Month1(m,i)==0])\n",
    "    return s"
   ]
  },
  {
   "cell_type": "markdown",
   "id": "e6a5bde7",
   "metadata": {},
   "source": [
    "## Swap"
   ]
  },
  {
   "cell_type": "code",
   "execution_count": null,
   "id": "283ea8e7",
   "metadata": {},
   "outputs": [],
   "source": [
    "def Swap(s):\n",
    "    return \"\".join([i.swapcase() for i in s if i.isalpha()])"
   ]
  },
  {
   "cell_type": "markdown",
   "id": "14eaa164",
   "metadata": {},
   "source": [
    "## Majuscule, Miniscule"
   ]
  },
  {
   "cell_type": "code",
   "execution_count": null,
   "id": "2469a845",
   "metadata": {},
   "outputs": [],
   "source": [
    "def UpLow(s):\n",
    "    l= [0, 0]\n",
    "    for i in s:\n",
    "        if i.isupper():\n",
    "            l[1]+= 1\n",
    "        elif i.islower():\n",
    "            l[0]+= 1\n",
    "    return l"
   ]
  },
  {
   "cell_type": "markdown",
   "id": "2187531b",
   "metadata": {},
   "source": [
    "# Numpy, Scipy"
   ]
  },
  {
   "cell_type": "code",
   "execution_count": null,
   "id": "5ed5c603",
   "metadata": {},
   "outputs": [],
   "source": [
    "a = np.array([1, 2, 47, 5,7.3, 7, 0, 4, 15])\n",
    "a[a != 4] # vecteur des elements de a qui remplissent la condition\n",
    "a[(a > 2) & (a < 11)] # le et pour les vecteurs\n",
    "a[(a%2==0) | (a%5==0)] # le ou"
   ]
  },
  {
   "cell_type": "code",
   "execution_count": null,
   "id": "3a0c8357",
   "metadata": {},
   "outputs": [],
   "source": [
    "print('Dimensions of A:', A.ndim)\n",
    "print('Shape of A:', A.shape)\n",
    "print('Size of A:', A.size)\n",
    "print(\"================================\")\n",
    "print('Dimensions of B:', B.ndim)\n",
    "print('Shape of B:', B.shape)\n",
    "print('Size of B:', B.size)"
   ]
  },
  {
   "cell_type": "code",
   "execution_count": null,
   "id": "42f18bbe",
   "metadata": {},
   "outputs": [],
   "source": [
    "print(np.dot(m,a)) # matrix vector multiplication\n",
    "print(np.multiply(m,n)) # component-wise multiplication,equal\n",
    "np.diagonal(m) # return the elements on the diagonal\n",
    "print(np.trace(m)) # return trace or the sum of the diagonal elements\n",
    "print(m.T) #return the transpose of a function\n",
    "e_values, e_vectors = np.linalg.eig(a) # returns the eigenvalues and right\n",
    "# eigenvector of a square array"
   ]
  },
  {
   "cell_type": "markdown",
   "id": "6ec2fb6c",
   "metadata": {},
   "source": [
    "## Polynomes"
   ]
  },
  {
   "cell_type": "code",
   "execution_count": null,
   "id": "37694c7f",
   "metadata": {},
   "outputs": [],
   "source": [
    "P = np.poly1d([2,-1, 0, -5])\n",
    "print(np.poly1d(P))\n",
    "np.polyval(P,0) # evaluating a polynomial"
   ]
  },
  {
   "cell_type": "markdown",
   "id": "f278206b",
   "metadata": {},
   "source": [
    "## Systeme d'eq lineaires"
   ]
  },
  {
   "cell_type": "code",
   "execution_count": null,
   "id": "e54c4f6f",
   "metadata": {},
   "outputs": [],
   "source": [
    "A = np.array([ [3,-9], [2,4] ])\n",
    "b = np.array([-42,2])\n",
    "z = np.linalg.solve(A,b)\n",
    "print(z)\n",
    "M = np.array([ [1,-2,-1], [2,2,-1], [-1,-1,2] ])\n",
    "c = np.array([6,1,1])\n",
    "y = np.linalg.solve(M,c)\n",
    "print(y)"
   ]
  },
  {
   "cell_type": "markdown",
   "id": "821b31ad",
   "metadata": {},
   "source": [
    "## Systeme d'eq non lineaires"
   ]
  },
  {
   "cell_type": "code",
   "execution_count": null,
   "id": "d35f0d84",
   "metadata": {},
   "outputs": [],
   "source": [
    "def myFunction(z):\n",
    "x = z[0]\n",
    "y = z[1]\n",
    "w = z[2]\n",
    "F = np.empty((3))\n",
    "F[0] = x**2+y**2-20\n",
    "F[1] = y - x**2\n",
    "F[2] = w + 5 - x*y\n",
    "return F\n",
    "zGuess = np.array([0,1,1])\n",
    "z = fsolve(myFunction,zGuess)\n",
    "print(z)"
   ]
  },
  {
   "cell_type": "markdown",
   "id": "41c21733",
   "metadata": {},
   "source": [
    "## Solution parametrique"
   ]
  },
  {
   "cell_type": "code",
   "execution_count": null,
   "id": "29618b7e",
   "metadata": {},
   "outputs": [],
   "source": [
    "sym.init_printing()\n",
    "x,y,z = sym.symbols('x,y,z')\n",
    "c1 = sym.Symbol('c1')\n",
    "f = sym.Eq(2*x**2+y+z,1)\n",
    "g = sym.Eq(x+2*y+z,c1)\n",
    "h = sym.Eq(-2*x+y,-z)\n",
    "sym.solve([f,g,h],(x,y,z))"
   ]
  },
  {
   "cell_type": "markdown",
   "id": "bd87d57d",
   "metadata": {},
   "source": [
    "## Integrales"
   ]
  },
  {
   "cell_type": "code",
   "execution_count": null,
   "id": "6cdc10a3",
   "metadata": {},
   "outputs": [],
   "source": [
    "a = 1\n",
    "b = 2\n",
    "f = lambda x: 2*x\n",
    "A = quad(f, a, b)[0]\n",
    "print(A)"
   ]
  },
  {
   "cell_type": "markdown",
   "id": "9e76257b",
   "metadata": {},
   "source": [
    "## EDO"
   ]
  },
  {
   "cell_type": "code",
   "execution_count": null,
   "id": "7980d072",
   "metadata": {},
   "outputs": [],
   "source": [
    "# function that returns dy/dt\n",
    "def model(y,t):\n",
    "k = 0.3\n",
    "dydt = -k * y\n",
    "return dydt\n",
    "# initial condition\n",
    "ya = 5\n",
    "# time points\n",
    "a = 0\n",
    "b = 20\n",
    "N = 70\n",
    "t = np.linspace(a,b,N)\n",
    "# solve ODE\n",
    "y = odeint(model,ya,t)"
   ]
  },
  {
   "cell_type": "markdown",
   "id": "a48eb395",
   "metadata": {},
   "source": [
    "## Systeme d'EDO"
   ]
  },
  {
   "cell_type": "code",
   "execution_count": null,
   "id": "25e7ba64",
   "metadata": {},
   "outputs": [],
   "source": [
    "def model(z,t):\n",
    "x,y = z\n",
    "dxdt = 5*x-3*y\n",
    "dydt = -6*x +2*y\n",
    "return np.array([dxdt,dydt])\n",
    "# initial condition\n",
    "z0 = [1,2]\n",
    "# time points\n",
    "a = 0\n",
    "b = 1\n",
    "N = 100\n",
    "t = np.linspace(a,b,N+1)\n",
    "# solve ODE\n",
    "z = odeint(model,z0,t)\n",
    "x = z[:,0]\n",
    "y = z[:,1]"
   ]
  },
  {
   "cell_type": "markdown",
   "id": "c5329c2d",
   "metadata": {},
   "source": [
    "# Matplotlib"
   ]
  },
  {
   "cell_type": "code",
   "execution_count": null,
   "id": "783c3367",
   "metadata": {},
   "outputs": [],
   "source": [
    "plt.style.available?\n",
    "plt.style.use('fast')"
   ]
  },
  {
   "cell_type": "markdown",
   "id": "b4832f27",
   "metadata": {},
   "source": [
    "## Sauvegarde"
   ]
  },
  {
   "cell_type": "code",
   "execution_count": null,
   "id": "15ab6c39",
   "metadata": {},
   "outputs": [],
   "source": [
    "fig = plt.figure()\n",
    "plt.plot(x, np.sin(x), '-')\n",
    "plt.plot(x, np.cos(x), '--')\n",
    "fig.savefig('my_figure.png')   # calling savefig function to save the plot"
   ]
  },
  {
   "cell_type": "markdown",
   "id": "8acb5360",
   "metadata": {},
   "source": [
    "## Couleur et style"
   ]
  },
  {
   "cell_type": "code",
   "execution_count": null,
   "id": "f1c305f6",
   "metadata": {},
   "outputs": [],
   "source": [
    "plt.plot(x, x + 0, '-g')  # solid green\n",
    "plt.plot(x, x + 1, '--c') # dashed cyan\n",
    "plt.plot(x, x + 2, '-.k') # dashdot black\n",
    "plt.plot(x, x + 3, ':r'); # dotted red\n",
    "# Couleurs: g, c, k, r, b, w, y, m\n",
    "# Styles: -, --, -., :"
   ]
  },
  {
   "cell_type": "markdown",
   "id": "f3ea0316",
   "metadata": {},
   "source": [
    "| character | color |\n",
    "| ----------- | ----------- |\n",
    "| ``'b'`` | blue |\n",
    "| ``'g'`` | green |\n",
    "| ``'r'`` | red |\n",
    "| ``'c'`` | cyan |\n",
    "| ``'m'`` | magenta |\n",
    "| ``'y'`` | yellow |\n",
    "| ``'k'`` | black |\n",
    "| ``'w'`` | white |\n"
   ]
  },
  {
   "cell_type": "markdown",
   "id": "d26c1274",
   "metadata": {},
   "source": [
    "|character|description|\n",
    "| ----------- | ----------- |\n",
    "|```-``` | solid |\n",
    "|```--``` | dashed |\n",
    "|```-.``` | dash-dot |\n",
    "|```:``` | dotted |"
   ]
  },
  {
   "cell_type": "markdown",
   "id": "ff3f0cb0",
   "metadata": {},
   "source": [
    "## Marqueurs"
   ]
  },
  {
   "cell_type": "code",
   "execution_count": null,
   "id": "c7a52bdd",
   "metadata": {},
   "outputs": [],
   "source": [
    "y = np.linspace(0, 10, 30)\n",
    "plt.plot(y, np.sin(y), '>--', linewidth=2, markersize=5);"
   ]
  },
  {
   "cell_type": "markdown",
   "id": "f1d13cd3",
   "metadata": {},
   "source": [
    "**Markers**\n",
    "\n",
    "|character|description|\n",
    "| ----------- | ----------- |\n",
    "|```.``` | point marker|\n",
    "|```,``` | pixel marker|\n",
    "|```o``` | circle marker|\n",
    "|```v``` | triangle_down marker|\n",
    "|```^``` | triangle_up marker|\n",
    "|```<``` | triangle_left marker|\n",
    "|```>``` | triangle_right marker|\n",
    "|```1``` | tri_down marker|\n",
    "|```2``` | tri_up marker|\n",
    "|```3``` | tri_left marker|\n",
    "|```4``` | tri_right marker|\n",
    "|```s``` | square marker|\n",
    "|```p``` | pentagon marker|\n",
    "|```*``` | star marker|\n",
    "|```h``` | hexagon1 marker|\n",
    "|```H``` | hexagon2 marker|\n",
    "|```+``` | plus marker|\n",
    "|```x``` | x marker|\n",
    "|```D``` | diamond marker|\n",
    "|```d``` | thin_diamond marker|\n",
    "|```_``` | hline marker|"
   ]
  },
  {
   "cell_type": "markdown",
   "id": "85e82b46",
   "metadata": {},
   "source": [
    "## Limites d'axes"
   ]
  },
  {
   "cell_type": "code",
   "execution_count": null,
   "id": "6df1c7f4",
   "metadata": {},
   "outputs": [],
   "source": [
    "plt.plot(x, np.sin(x))\n",
    "plt.xlim(-1, 11)         # changing the limits of the x-axis\n",
    "plt.ylim(-1.5, 1.5);     # changing the limits of the y-axis\n",
    "\n",
    "plt.plot(x, np.sin(x))\n",
    "plt.axis([-1, 11, -1.5, 1.5]);  # alternative approach to changing the limit of the axes\n",
    "\n",
    "\n",
    "plt.plot(x, np.sin(x))\n",
    "plt.axis('equal');  # equal option creates a 1:1 aspect ratio"
   ]
  },
  {
   "cell_type": "markdown",
   "id": "eee848ea",
   "metadata": {},
   "source": [
    "## Label de graphes"
   ]
  },
  {
   "cell_type": "code",
   "execution_count": null,
   "id": "5ebba81a",
   "metadata": {},
   "outputs": [],
   "source": [
    "plt.plot(x, np.sin(x))\n",
    "plt.title(\"A Sine Curve\")  # adding title of the plot\n",
    "plt.xlabel('x')            # adding label for the x-axis of the plot \n",
    "plt.ylabel('sin(x)');      # adding label for the y-axis of the plot\n",
    "\n",
    "plt.plot(x, np.sin(x), '-g', label='sin(x)')   # adding the label argument for plot 1\n",
    "plt.plot(x, np.cos(x), ':b', label='cos(x)')   # adding the label argument for plot 2\n",
    "plt.legend(); # calling for the legend\n",
    "\n",
    "\n",
    "plt.plot(x, np.sin(x), '-g')   # adding the label argument for plot 1\n",
    "plt.plot(x, np.cos(x), ':b')   # adding the label argument for plot 2\n",
    "plt.legend(['sin(x)','cos(x)']); # calling for the legend"
   ]
  },
  {
   "cell_type": "markdown",
   "id": "8bd8d387",
   "metadata": {},
   "source": [
    "## Scater plot"
   ]
  },
  {
   "cell_type": "code",
   "execution_count": null,
   "id": "6c4d1a0b",
   "metadata": {},
   "outputs": [],
   "source": [
    "# showing a scatter plot with `plot` function\n",
    "plt.plot(x, np.sin(x), 'ok');\n",
    "\n",
    "# plotting scatter plot\n",
    "plt.scatter(x, np.sin(x), marker='o', color='k');"
   ]
  },
  {
   "cell_type": "markdown",
   "id": "5eb55715",
   "metadata": {},
   "source": [
    "## Note sur l'efficacite"
   ]
  },
  {
   "cell_type": "markdown",
   "id": "e9e1cafd",
   "metadata": {},
   "source": [
    "Aside from the different features available in `plot` and `scatter`, why might you choose to use one over the other? While it doesn't matter as much for small amounts of data, as datasets get larger than a few thousand points, `plot` can be noticeably more efficient than `scatter`. The reason is that `scatter` has the capability to render a different size and/or color for each point, so the renderer must do the extra work of constructing each point individually. In `plot`, on the other hand, the points are always essentially clones of each other, so the work of determining the appearance of the points is done only once for the entire set of data. For large datasets, the difference between these two can lead to vastly different performance, and for this reason, `plot` should be preferred over `scatter` for large datasets."
   ]
  },
  {
   "cell_type": "markdown",
   "id": "4bdbcca6",
   "metadata": {},
   "source": [
    "## Histogram"
   ]
  },
  {
   "cell_type": "code",
   "execution_count": null,
   "id": "e574dd30",
   "metadata": {},
   "outputs": [],
   "source": [
    "data = np.random.randn(1000) # generating random normal numbers\n",
    "plt.hist(data); # plotting histogram\n",
    "\n",
    "# tuning histogram plot\n",
    "plt.hist(data, bins=30, alpha=0.5, histtype='stepfilled', edgecolor=None);\n",
    "\n",
    "\n",
    "x1 = np.random.normal(0, 0.8, 1000)\n",
    "x2 = np.random.normal(-2, 1, 1000)\n",
    "x3 = np.random.normal(3, 2, 1000)\n",
    "\n",
    "plt.hist(x1, histtype='stepfilled', alpha=0.3, bins=40)\n",
    "plt.hist(x2, histtype='stepfilled', alpha=0.3, bins=40)\n",
    "plt.hist(x3, histtype='stepfilled', alpha=0.3, bins=40);\n",
    "\n",
    "x1 = np.random.normal(0, 0.8, 1000)\n",
    "x2 = np.random.normal(-2, 1, 1000)\n",
    "x3 = np.random.normal(3, 2, 1000)\n",
    "\n",
    "kwargs = dict(histtype='stepfilled', alpha=0.3, bins=40)\n",
    "\n",
    "plt.hist(x1, **kwargs)\n",
    "plt.hist(x2, **kwargs)\n",
    "plt.hist(x3, **kwargs);"
   ]
  },
  {
   "cell_type": "markdown",
   "id": "1b3e29b5",
   "metadata": {},
   "source": [
    "## Subplot"
   ]
  },
  {
   "cell_type": "markdown",
   "id": "e6b7643e",
   "metadata": {},
   "source": [
    "### Loupes"
   ]
  },
  {
   "cell_type": "code",
   "execution_count": null,
   "id": "5674e4c8",
   "metadata": {},
   "outputs": [],
   "source": [
    "plt.axes()  # standard axes\n",
    "plt.plot(x, np.sin(x))\n",
    "plt.axes([0.65, 0.65, 0.2, 0.2]); # new coordinated figure\n",
    "plt.plot(x, np.cos(x))"
   ]
  },
  {
   "cell_type": "markdown",
   "id": "500e90a4",
   "metadata": {},
   "source": [
    "### Divisions"
   ]
  },
  {
   "cell_type": "code",
   "execution_count": null,
   "id": "324d3ed2",
   "metadata": {},
   "outputs": [],
   "source": [
    "plt.figure().subplots_adjust(hspace=0.4, wspace=0.4)\n",
    "for i in range(1, 7):\n",
    "    plt.subplot(2, 3, i)\n",
    "    plt.text(0.5, 0.5, str((2, 3, i)),\n",
    "             fontsize=18, ha='center')"
   ]
  },
  {
   "cell_type": "markdown",
   "id": "ca27fbcc",
   "metadata": {},
   "source": [
    "### Subplots"
   ]
  },
  {
   "cell_type": "code",
   "execution_count": null,
   "id": "45c1e1a9",
   "metadata": {},
   "outputs": [],
   "source": [
    "plt.figure(figsize=(15,6))\n",
    "plt.subplot(2, 3, 1)\n",
    "plt.plot(x, np.sin(x) + 0, 'g')\n",
    "plt.subplot(2, 3, 2)\n",
    "plt.plot(x, np.sin(x) + 3, '--b')\n",
    "plt.subplot(2, 3, 3)\n",
    "plt.plot(x, np.sin(x) + 0, ':r')\n",
    "plt.subplot(2, 3, 4)\n",
    "plt.plot(x, np.sin(x) + 0, ':.k')\n",
    "plt.subplot(2, 3, 5)\n",
    "plt.plot(x, np.sin(x) + 0, '.c')\n",
    "plt.subplot(2, 3, 6)\n",
    "plt.plot(x, np.sin(x) + 0, '>y');"
   ]
  },
  {
   "cell_type": "markdown",
   "id": "86f5cfb5",
   "metadata": {},
   "source": [
    "## Textes sur graphe"
   ]
  },
  {
   "cell_type": "code",
   "execution_count": null,
   "id": "b5e7b1dd",
   "metadata": {},
   "outputs": [],
   "source": [
    "x = np.linspace(0, 20, 1000)\n",
    "plt.plot(x, np.cos(x))\n",
    "plt.axis('equal')\n",
    "plt.annotate('local maximum', \n",
    "             xy=(6.28, 1), \n",
    "             xytext=(10, 4), \n",
    "             arrowprops=dict(facecolor='black', shrink=0.05))\n",
    "plt.annotate('local minimum', \n",
    "             xy=(5 * np.pi, -1), \n",
    "             xytext=(2, -6),\n",
    "             arrowprops=dict(arrowstyle=\"->\", connectionstyle=\"angle3,angleA=0,angleB=-90\"));"
   ]
  },
  {
   "cell_type": "markdown",
   "id": "5cfa1556",
   "metadata": {},
   "source": [
    "# Data Visualization"
   ]
  },
  {
   "cell_type": "markdown",
   "id": "18e1448e",
   "metadata": {},
   "source": [
    "\n",
    "The focus of this module is to provide skills for visualization of different type datasets and to ensure that participants are comfortable with python packages for data visualization. In this module, we will learn about $\\href{https://matplotlib.org/}{\\text{matplotlib}}$ and $\\href{https://seaborn.pydata.org/}{\\text{seaborn}}$ which are python packages mostly used for visualising static statistical plots. Other python packages such as $\\href{https://plotly.com/}{\\text{plotly}}$, $\\href{https://bokeh.org/}{\\text{Bokeh}}$ and $\\href{https://streamlit.io/}{\\text{streamlit}}$ are used to visualize dynamic data.\n",
    "\n",
    "Static data refers to a fixed data or, data that remains the same after it's collected. Dynamic data, on the other hand, continually changes after it's recorded in order to maintain its integrity.\n",
    "\n",
    "We will first dive into `matplotlib`. `matplotlib` is a visualization library that is built on top of $\\href{https://numpy.org/}{\\text{NumPy}}$ and is designed to work along with $\\href{https://www.scipy.org/}{\\text{SciPy}}$. It is mostly used as a standalone package but in recent times, it is also used as wrappers on other packages including `pandas`.\n",
    "\n",
    "For the first part of the session, we will use simple generated data. This data may act as a `Hello World!` for `matplotlib`. Afterwards, we will dive deeper by using `matplotlib` on DataFrames\n",
    "\n",
    "## Installing `matplotlib`\n",
    "One can install `matplotlib` using their python package. There are two python package manager and they are `pip` and `conda`. To install `matplotlib`, open your terminal or command prompt and type the code below. \n",
    "\n",
    "For those using `pip` as their python package manager, type; <br>\n",
    "`pip install matplotlib` \n",
    "\n",
    "For those using `conda` as their python package manager, type; <br>\n",
    "`conda install matplotlib`"
   ]
  },
  {
   "cell_type": "code",
   "execution_count": null,
   "id": "24ac7e61",
   "metadata": {},
   "outputs": [],
   "source": [
    "import numpy as np\n",
    "import matplotlib.pyplot as plt\n",
    "# from matplotlib import pyplot as plt"
   ]
  },
  {
   "cell_type": "markdown",
   "id": "bdf5c42d",
   "metadata": {},
   "source": [
    " "
   ]
  },
  {
   "cell_type": "markdown",
   "id": "e134311e",
   "metadata": {},
   "source": [
    "Let us start by creating a simple example."
   ]
  },
  {
   "cell_type": "code",
   "execution_count": null,
   "id": "3182fbce",
   "metadata": {},
   "outputs": [],
   "source": [
    "# Plotting a line using matplotlib\n",
    "x = np.linspace(0, 10, 1001)   # generating 100 evenly space numbers between 0 and 10 \n",
    "y = np.sin(x)\n",
    "plt.plot(x, y) # calling for the plot function on x and sin(x)"
   ]
  },
  {
   "cell_type": "markdown",
   "id": "12c28985",
   "metadata": {},
   "source": [
    " "
   ]
  },
  {
   "cell_type": "markdown",
   "id": "a25fc7ab",
   "metadata": {},
   "source": [
    " ## `show()` or No `show()` (How to display your plots)\n",
    "A visualization you can't see won't be of much use, but just how you view your Matplotlib plots depends on the context. "
   ]
  },
  {
   "cell_type": "code",
   "execution_count": null,
   "id": "d39ea2a6",
   "metadata": {},
   "outputs": [],
   "source": [
    "# Plotting a line using matplotlib\n",
    "x = np.linspace(0, 10, 100)   # generating 100 evenly space numbers between 0 and 10 \n",
    "plt.plot(x, np.sin(x))     # calling for the plot function on x and sin(x)\n",
    "plt.show()  # calling for the show function"
   ]
  },
  {
   "cell_type": "markdown",
   "id": "2b6a9325",
   "metadata": {},
   "source": [
    " "
   ]
  },
  {
   "cell_type": "markdown",
   "id": "33f09f32",
   "metadata": {},
   "source": [
    "Alternatively, you can use `;` to suppress such unwanted information. In python, `;` is used to suppress output."
   ]
  },
  {
   "cell_type": "code",
   "execution_count": null,
   "id": "b308c8a2",
   "metadata": {},
   "outputs": [],
   "source": [
    "# Plotting a line using matplotlib\n",
    "x = np.linspace(0, 10, 100)   # generating 100 evenly space numbers between 0 and 10 \n",
    "\n",
    "plt.plot(x, np.sin(x));     # calling for the plot function on x and sin(x)"
   ]
  },
  {
   "cell_type": "markdown",
   "id": "dd663765",
   "metadata": {},
   "source": [
    "## Setting Styles\n",
    "There are many styles in `matplotlib` that one can use. "
   ]
  },
  {
   "cell_type": "code",
   "execution_count": null,
   "id": "b438faec",
   "metadata": {},
   "outputs": [],
   "source": [
    "plt.style.available?"
   ]
  },
  {
   "cell_type": "code",
   "execution_count": null,
   "id": "95cb31f6",
   "metadata": {},
   "outputs": [],
   "source": [
    "plt.style.use('seaborn')"
   ]
  },
  {
   "cell_type": "code",
   "execution_count": null,
   "id": "b3b06163",
   "metadata": {},
   "outputs": [],
   "source": [
    "# Plotting a line using matplotlib\n",
    "x = np.linspace(0, 10, 100)   # generating 100 evenly space numbers between 0 and 10 \n",
    "plt.plot(x, np.sin(x));     # calling for the plot function on x and sin(x)"
   ]
  },
  {
   "cell_type": "markdown",
   "id": "050a14f9",
   "metadata": {},
   "source": [
    " "
   ]
  },
  {
   "cell_type": "markdown",
   "id": "a4c2b9ff",
   "metadata": {},
   "source": [
    "One can create a single figure with multiple lines by calling the `plot` function multiple times"
   ]
  },
  {
   "cell_type": "code",
   "execution_count": null,
   "id": "c980a054",
   "metadata": {},
   "outputs": [],
   "source": [
    "# Plotting multiple lines using matplotlib\n",
    "plt.plot(x, np.sin(x))   # plotting the first line\n",
    "plt.plot(x, np.cos(x))  # plotting the second line\n",
    "plt.show()"
   ]
  },
  {
   "cell_type": "markdown",
   "id": "41127fa9",
   "metadata": {},
   "source": [
    " "
   ]
  },
  {
   "cell_type": "markdown",
   "id": "8fc0313e",
   "metadata": {},
   "source": [
    " "
   ]
  },
  {
   "cell_type": "markdown",
   "id": "075064b2",
   "metadata": {},
   "source": [
    "## Saving Figures to File\n",
    "\n",
    "One nice feature of Matplotlib is the ability to save figures in a wide variety of formats. Saving a figure can be done using the savefig() command. For example, to save the previous figure as a PNG file, you can run this:"
   ]
  },
  {
   "cell_type": "code",
   "execution_count": null,
   "id": "149e9213",
   "metadata": {},
   "outputs": [],
   "source": [
    "#plt.style.use('classic')\n",
    "fig = plt.figure()\n",
    "plt.plot(x, np.sin(x), '-')\n",
    "plt.plot(x, np.cos(x), '--')\n",
    "fig.savefig('my_figure2.png')   # calling savefig function to save the plot"
   ]
  },
  {
   "cell_type": "markdown",
   "id": "d7d57142",
   "metadata": {},
   "source": [
    " "
   ]
  },
  {
   "cell_type": "markdown",
   "id": "b2beff71",
   "metadata": {},
   "source": [
    "## Plotting lines in `matplotlib`\n",
    "\n",
    "As you can see in the previous plots, `matplotlib` chose the colors and the type of lines automatically. However, one can also set their own colors and line types. Let us look at some examples in the cells below."
   ]
  },
  {
   "cell_type": "code",
   "execution_count": null,
   "id": "aa3c1566",
   "metadata": {},
   "outputs": [],
   "source": [
    "# changing the linestyles\n",
    "plt.plot(x, x + 0, linestyle='solid')    \n",
    "plt.plot(x, x + 1, linestyle='dashed')\n",
    "plt.plot(x, x + 2, linestyle='dashdot')\n",
    "plt.plot(x, x + 3, linestyle='dotted');"
   ]
  },
  {
   "cell_type": "markdown",
   "id": "6096b8be",
   "metadata": {},
   "source": [
    "Alternatively, I can use short cuts to obtain the above plot exactly. \n",
    "\n",
    "|character|description|\n",
    "| ----------- | ----------- |\n",
    "|```-``` | solid |\n",
    "|```--``` | dashed |\n",
    "|```-.``` | dash-dot |\n",
    "|```:``` | dotted |"
   ]
  },
  {
   "cell_type": "code",
   "execution_count": null,
   "id": "5686bff6",
   "metadata": {},
   "outputs": [],
   "source": [
    "# For short, you can use the following codes:\n",
    "plt.plot(x, x + 0, linestyle='-')  # solid\n",
    "plt.plot(x, x + 1, linestyle='--') # dashed\n",
    "plt.plot(x, x + 2, linestyle='-.') # dashdot\n",
    "plt.plot(x, x + 3, linestyle=':');  # dotted"
   ]
  },
  {
   "cell_type": "code",
   "execution_count": null,
   "id": "cec4a1ae",
   "metadata": {},
   "outputs": [],
   "source": [
    "# changing colours of lines\n",
    "plt.plot(x, x + 0, color='black')  \n",
    "plt.plot(x, x + 1, color='green') \n",
    "plt.plot(x, x + 2, color='red') \n",
    "plt.plot(x, x + 3, color='blue')\n",
    "plt.show()"
   ]
  },
  {
   "cell_type": "code",
   "execution_count": null,
   "id": "11deb314",
   "metadata": {},
   "outputs": [],
   "source": [
    "plt.plot(x, x + 0, color='k')  # black line\n",
    "plt.plot(x, x + 1, color='g')  # green line\n",
    "plt.plot(x, x + 2, color='r')  # red line \n",
    "plt.plot(x, x + 3, color='b'); # blue line"
   ]
  },
  {
   "cell_type": "markdown",
   "id": "1d4b3bec",
   "metadata": {},
   "source": [
    "This is the abbreviations for the colours available in `matplotlib`.\n",
    "\n",
    "| character | color |\n",
    "| ----------- | ----------- |\n",
    "| ``'b'`` | blue |\n",
    "| ``'g'`` | green |\n",
    "| ``'r'`` | red |\n",
    "| ``'c'`` | cyan |\n",
    "| ``'m'`` | magenta |\n",
    "| ``'y'`` | yellow |\n",
    "| ``'k'`` | black |\n",
    "| ``'w'`` | white |\n",
    "\n",
    "An advantage of using `matplotlib`, is the ability to combine color choice and linestyle. Let us see the example in the cell below."
   ]
  },
  {
   "cell_type": "markdown",
   "id": "9f079207",
   "metadata": {},
   "source": [
    "Next, let us look at some combinations."
   ]
  },
  {
   "cell_type": "code",
   "execution_count": null,
   "id": "be227364",
   "metadata": {},
   "outputs": [],
   "source": [
    "plt.plot(x, x + 0, '-g')  # solid green\n",
    "plt.plot(x, x + 1, '--c') # dashed cyan\n",
    "plt.plot(x, x + 2, '-.k') # dashdot black\n",
    "plt.plot(x-1, x + 3, ':r'); # dotted red"
   ]
  },
  {
   "cell_type": "code",
   "execution_count": null,
   "id": "48aa07d2",
   "metadata": {},
   "outputs": [],
   "source": [
    "plt.plot(x, x+0, '-g', x, x+1, '--c', x, x+2, '-.k', x, x+3, ':r');"
   ]
  },
  {
   "cell_type": "markdown",
   "id": "34fcadf9",
   "metadata": {},
   "source": [
    " "
   ]
  },
  {
   "cell_type": "markdown",
   "id": "c0d307a4",
   "metadata": {},
   "source": [
    "Also, one can choose the type of marker they want. For example, in the cell below, we have `go--`. This will generate a green circle marker with dashed lines running in it."
   ]
  },
  {
   "cell_type": "code",
   "execution_count": null,
   "id": "acbf6915",
   "metadata": {},
   "outputs": [],
   "source": [
    "y = np.linspace(0, 10, 30)\n",
    "plt.plot(y, np.sin(y), '>--', linewidth=5, markersize=10);"
   ]
  },
  {
   "cell_type": "markdown",
   "id": "c7577a76",
   "metadata": {},
   "source": [
    "**Markers**\n",
    "\n",
    "|character|description|\n",
    "| ----------- | ----------- |\n",
    "|```.``` | point marker|\n",
    "|```,``` | pixel marker|\n",
    "|```o``` | circle marker|\n",
    "|```v``` | triangle_down marker|\n",
    "|```^``` | triangle_up marker|\n",
    "|```<``` | triangle_left marker|\n",
    "|```>``` | triangle_right marker|\n",
    "|```1``` | tri_down marker|\n",
    "|```2``` | tri_up marker|\n",
    "|```3``` | tri_left marker|\n",
    "|```4``` | tri_right marker|\n",
    "|```s``` | square marker|\n",
    "|```p``` | pentagon marker|\n",
    "|```*``` | star marker|\n",
    "|```h``` | hexagon1 marker|\n",
    "|```H``` | hexagon2 marker|\n",
    "|```+``` | plus marker|\n",
    "|```x``` | x marker|\n",
    "|```D``` | diamond marker|\n",
    "|```d``` | thin_diamond marker|\n",
    "|```_``` | hline marker|"
   ]
  },
  {
   "cell_type": "markdown",
   "id": "a68a28fc",
   "metadata": {},
   "source": [
    " "
   ]
  },
  {
   "cell_type": "markdown",
   "id": "0a1c69c7",
   "metadata": {},
   "source": [
    " "
   ]
  },
  {
   "cell_type": "markdown",
   "id": "891e9d8e",
   "metadata": {},
   "source": [
    "The general approach to the `plot` function is very simple;\n",
    "\n",
    "```plot(x, y, [fmt], **kwargs)``` <br>\n",
    "```plot(x, y, [fmt], x2, y2, [fmt], ..., **kwargs)```"
   ]
  },
  {
   "cell_type": "markdown",
   "id": "16648bb6",
   "metadata": {},
   "source": [
    "## Adjusting the axes limits\n",
    "The axes are adjusted by using `xlim` and `ylim` functions."
   ]
  },
  {
   "cell_type": "code",
   "execution_count": null,
   "id": "a6e071f8",
   "metadata": {},
   "outputs": [],
   "source": [
    "plt.plot(x, np.sin(x))\n",
    "plt.xlim(-1, 11)         # changing the limits of the x-axis\n",
    "plt.ylim(-1.5, 1.5);     # changing the limits of the y-axis"
   ]
  },
  {
   "cell_type": "markdown",
   "id": "7c8746aa",
   "metadata": {},
   "source": [
    " "
   ]
  },
  {
   "cell_type": "markdown",
   "id": "b0001cfd",
   "metadata": {},
   "source": [
    "Alternatively, one can use the `axis` function. `axis()` method allows you to set the `x` and `y` limits with a single call, by passing a list which specifies `[xmin, xmax, ymin, ymax]`:"
   ]
  },
  {
   "cell_type": "code",
   "execution_count": null,
   "id": "df41e4c5",
   "metadata": {},
   "outputs": [],
   "source": [
    "plt.plot(x, np.sin(x))\n",
    "plt.axis([-1, 11, -1.5, 1.5]);  # alternative approach to changing the limit of the axes"
   ]
  },
  {
   "cell_type": "code",
   "execution_count": null,
   "id": "bb45bc86",
   "metadata": {},
   "outputs": [],
   "source": [
    "plt.plot(x, np.sin(x))\n",
    "plt.axis('equal');  # equal option creates a 1:1 aspect ratio"
   ]
  },
  {
   "cell_type": "markdown",
   "id": "e0d3e7ec",
   "metadata": {},
   "source": [
    " "
   ]
  },
  {
   "cell_type": "markdown",
   "id": "0b842d3d",
   "metadata": {},
   "source": [
    "## Labeling plots"
   ]
  },
  {
   "cell_type": "code",
   "execution_count": null,
   "id": "dc6fbf78",
   "metadata": {},
   "outputs": [],
   "source": [
    "plt.plot(x, np.sin(x))\n",
    "plt.title(\"A Sine Curve\")  # adding title of the plot\n",
    "plt.xlabel('x')            # adding label for the x-axis of the plot \n",
    "plt.ylabel('sin(x)');      # adding label for the y-axis of the plot \n",
    "plt.title?"
   ]
  },
  {
   "cell_type": "markdown",
   "id": "d45391f9",
   "metadata": {},
   "source": [
    " "
   ]
  },
  {
   "cell_type": "markdown",
   "id": "acba710f",
   "metadata": {},
   "source": [
    "When multiple lines are being shown within a single axes, it can be useful to create a plot legend that labels each line type. Again, Matplotlib has a built-in way of quickly creating such a legend. It is done via the `legend()` method. Though there are several valid ways of using this, it easier to specify the label of each line using the `label` keyword of the plot function:"
   ]
  },
  {
   "cell_type": "code",
   "execution_count": null,
   "id": "24594916",
   "metadata": {},
   "outputs": [],
   "source": [
    "plt.plot(x, np.sin(x), '-g', label='sin(x)')   # adding the label argument for plot 1\n",
    "plt.plot(x, np.cos(x), ':b', label='cos(x)')   # adding the label argument for plot 2\n",
    "plt.legend(); # calling for the legend"
   ]
  },
  {
   "cell_type": "code",
   "execution_count": null,
   "id": "7b173bdd",
   "metadata": {},
   "outputs": [],
   "source": [
    "plt.plot(x, np.sin(x), '-g')   # adding the label argument for plot 1\n",
    "plt.plot(x, np.cos(x), ':b')   # adding the label argument for plot 2\n",
    "plt.legend(['sin(x)','cos(x)']); # calling for the legend"
   ]
  },
  {
   "cell_type": "markdown",
   "id": "51ce0f78",
   "metadata": {},
   "source": [
    " "
   ]
  },
  {
   "cell_type": "markdown",
   "id": "a1605c2c",
   "metadata": {},
   "source": [
    "## Scatter Plot\n",
    "\n",
    "Another commonly used plot type is the simple scatter plot, a close cousin of the line plot. Instead of points being joined by line segments, here the points are represented individually with a dot, circle, or other shape. "
   ]
  },
  {
   "cell_type": "code",
   "execution_count": null,
   "id": "584f4d28",
   "metadata": {},
   "outputs": [],
   "source": [
    "# showing a scatter plot with `plot` function\n",
    "plt.plot(x, np.sin(x), 'o');"
   ]
  },
  {
   "cell_type": "markdown",
   "id": "a990785c",
   "metadata": {},
   "source": [
    " "
   ]
  },
  {
   "cell_type": "markdown",
   "id": "7b034d46",
   "metadata": {},
   "source": [
    "Mainly, and a more powerful method of creating scatter plots is the `scatter` function, which can be used very similarly to the `plot` function:"
   ]
  },
  {
   "cell_type": "code",
   "execution_count": null,
   "id": "7309d6fb",
   "metadata": {},
   "outputs": [],
   "source": [
    "# plotting scatter plot\n",
    "plt.scatter(x, np.sin(x));\n",
    "plt.scatter?"
   ]
  },
  {
   "cell_type": "markdown",
   "id": "d7c78e74",
   "metadata": {},
   "source": [
    "### `plot` Versus `scatter`: A Note on Efficiency\n",
    "Aside from the different features available in `plot` and `scatter`, why might you choose to use one over the other? While it doesn't matter as much for small amounts of data, as datasets get larger than a few thousand points, `plot` can be noticeably more efficient than `scatter`. The reason is that `scatter` has the capability to render a different size and/or color for each point, so the renderer must do the extra work of constructing each point individually. In `plot`, on the other hand, the points are always essentially clones of each other, so the work of determining the appearance of the points is done only once for the entire set of data. For large datasets, the difference between these two can lead to vastly different performance, and for this reason, `plot` should be preferred over `scatter` for large datasets."
   ]
  },
  {
   "cell_type": "markdown",
   "id": "878f755f",
   "metadata": {},
   "source": [
    " "
   ]
  },
  {
   "cell_type": "markdown",
   "id": "0605766c",
   "metadata": {},
   "source": [
    "## Plotting Histogram"
   ]
  },
  {
   "cell_type": "code",
   "execution_count": null,
   "id": "bc5d0edd",
   "metadata": {},
   "outputs": [],
   "source": [
    "data = np.random.randn(1000) # generating random normal numbers\n",
    "plt.hist(data); # plotting histogram"
   ]
  },
  {
   "cell_type": "code",
   "execution_count": null,
   "id": "c32c7a38",
   "metadata": {},
   "outputs": [],
   "source": [
    "# tuning histogram plot\n",
    "plt.hist(data, bins=30, alpha=0.5, histtype='stepfilled', edgecolor=None);"
   ]
  },
  {
   "cell_type": "code",
   "execution_count": null,
   "id": "1add5016",
   "metadata": {},
   "outputs": [],
   "source": [
    "x1 = np.random.normal(0, 0.8, 1000)\n",
    "x2 = np.random.normal(-2, 1, 1000)\n",
    "x3 = np.random.normal(3, 2, 1000)\n",
    "\n",
    "plt.hist(x1, histtype='stepfilled', alpha=1, bins=40)\n",
    "plt.hist(x2, histtype='stepfilled', alpha=0.3, bins=40)\n",
    "plt.hist(x3, histtype='stepfilled', alpha=0.3, bins=40);"
   ]
  },
  {
   "cell_type": "markdown",
   "id": "03be3bff",
   "metadata": {},
   "source": [
    " "
   ]
  },
  {
   "cell_type": "markdown",
   "id": "e850dbfe",
   "metadata": {},
   "source": [
    "An alternative to the cell above"
   ]
  },
  {
   "cell_type": "code",
   "execution_count": null,
   "id": "85fc2277",
   "metadata": {},
   "outputs": [],
   "source": [
    "x1 = np.random.normal(0, 0.8, 1000)\n",
    "x2 = np.random.normal(-2, 1, 1000)\n",
    "x3 = np.random.normal(3, 2, 1000)\n",
    "\n",
    "kwargs = dict( bins=40)\n",
    "\n",
    "plt.hist(x1, **kwargs)\n",
    "plt.hist(x2, **kwargs)\n",
    "plt.hist(x3, **kwargs);\n",
    "np.random.randn?\n",
    "plt.hist?"
   ]
  },
  {
   "cell_type": "markdown",
   "id": "83a21989",
   "metadata": {},
   "source": [
    " "
   ]
  },
  {
   "cell_type": "markdown",
   "id": "63522ae5",
   "metadata": {},
   "source": [
    "## Customizing plot legends\n",
    "Plot legends give meaning to a visualization, assigning meaning to the various plot elements. We previously saw how to create a simple legend; here we'll take a look at customizing the placement and aesthetics of the legend in Matplotlib.\n",
    "\n",
    "The simplest legend can be created with the `legend()` command, which automatically creates a legend for any labeled plot elements:"
   ]
  },
  {
   "cell_type": "code",
   "execution_count": null,
   "id": "7b7b6d22",
   "metadata": {},
   "outputs": [],
   "source": [
    "plt.plot(x, np.sin(x), '-b', label='Sine')\n",
    "plt.plot(x, np.cos(x), '--r', label='Cosine')\n",
    "plt.legend();"
   ]
  },
  {
   "cell_type": "markdown",
   "id": "b08dce30",
   "metadata": {},
   "source": [
    " "
   ]
  },
  {
   "cell_type": "markdown",
   "id": "259dffb5",
   "metadata": {},
   "source": [
    "But there are many ways we might want to customize such a legend. For example, we can specify the location and turn off the frame:"
   ]
  },
  {
   "cell_type": "code",
   "execution_count": null,
   "id": "e273697a",
   "metadata": {},
   "outputs": [],
   "source": [
    "plt.plot(x, np.sin(x), '-b', label='Sine')\n",
    "plt.plot(x, np.cos(x), '--r', label='Cosine')\n",
    "plt.legend(loc='upper right'); # adding positional argument to legend"
   ]
  },
  {
   "cell_type": "markdown",
   "id": "d8ec65ca",
   "metadata": {},
   "source": [
    " "
   ]
  },
  {
   "cell_type": "markdown",
   "id": "a2aa66da",
   "metadata": {},
   "source": [
    "We can use the `ncol` command to specify the number of columns in the legend and `title` to specify the title of the legend:"
   ]
  },
  {
   "cell_type": "code",
   "execution_count": null,
   "id": "55e3521b",
   "metadata": {},
   "outputs": [],
   "source": [
    "plt.plot(x, np.sin(x), '-b', label='Sine')\n",
    "plt.plot(x, np.cos(x), '--r', label='Cosine')\n",
    "plt.legend(loc='lower center', ncol=2, title='keys');"
   ]
  },
  {
   "cell_type": "markdown",
   "id": "5c7d0cd5",
   "metadata": {},
   "source": [
    " "
   ]
  },
  {
   "cell_type": "markdown",
   "id": "88f0441e",
   "metadata": {},
   "source": [
    "## Creating Subplots\n",
    "Sometimes it is helpful to compare different views of data side by side. To this end, Matplotlib has the concept of subplots: groups of smaller axes that can exist together within a single figure. These subplots might be insets, grids of plots, or other more complicated layouts. \n",
    "\n",
    "The most basic method of creating an axes is to use the `axes` function. `axes` also takes an optional argument that is a list of four numbers in the figure coordinate system. These numbers represent `[left, bottom, width, height]` in the figure coordinate system, which ranges from 0 at the bottom left of the figure to 1 at the top right of the figure.\n",
    "\n",
    "For example, we might create an inset axes at the top-right corner of another axes by setting the x and y position to 0.65 (that is, starting at 65% of the width and 65% of the height of the figure) and the x and y extents to 0.2 (that is, the size of the axes is 20% of the width and 20% of the height of the figure):"
   ]
  },
  {
   "cell_type": "code",
   "execution_count": null,
   "id": "40111769",
   "metadata": {},
   "outputs": [],
   "source": [
    "plt.axes()  # standard axes\n",
    "plt.plot(x, np.sin(x))\n",
    "plt.axes([0.65, 0.65, 0.2, 0.2]); # new coordinated figure\n",
    "plt.plot(x, np.cos(x));"
   ]
  },
  {
   "cell_type": "markdown",
   "id": "2ffb7c40",
   "metadata": {},
   "source": [
    " "
   ]
  },
  {
   "cell_type": "markdown",
   "id": "7cb7c8e1",
   "metadata": {},
   "source": [
    " "
   ]
  },
  {
   "cell_type": "markdown",
   "id": "78557cbf",
   "metadata": {},
   "source": [
    "### Simple Grids of Subplots\n",
    "Aligned columns or rows of subplots are a common-enough need that Matplotlib has several convenience routines that make them easy to create. The lowest level of these is `subplot()`, which creates a single subplot within a grid. As you can see, this command takes three integer arguments—the number of rows, the number of columns, and the index of the plot to be created in this scheme, which runs from the upper left to the bottom right:"
   ]
  },
  {
   "cell_type": "code",
   "execution_count": null,
   "id": "83fe2e6a",
   "metadata": {},
   "outputs": [],
   "source": [
    "plt.figure().subplots_adjust(hspace=0.4, wspace=0.4)\n",
    "for i in range(1, 7):\n",
    "    plt.subplot(2, 3, i)\n",
    "    plt.text(0.5, 0.5, str((2, 3, i)),\n",
    "             fontsize=18, ha='center')"
   ]
  },
  {
   "cell_type": "markdown",
   "id": "fe5a7797",
   "metadata": {},
   "source": [
    " "
   ]
  },
  {
   "cell_type": "markdown",
   "id": "754743b9",
   "metadata": {},
   "source": [
    "An example of subplot"
   ]
  },
  {
   "cell_type": "code",
   "execution_count": null,
   "id": "003d210b",
   "metadata": {},
   "outputs": [],
   "source": [
    "plt.figure(figsize=(15,6))\n",
    "plt.subplot(2, 3, 1)\n",
    "plt.plot(x, np.sin(x) + 0, 'g')\n",
    "plt.subplot(2, 3, 2)\n",
    "plt.plot(x, np.sin(x) + 3, '--b')\n",
    "plt.subplot(2, 3, 3)\n",
    "plt.plot(x, np.sin(x) + 0, ':r')\n",
    "plt.subplot(2, 3, 4)\n",
    "plt.plot(x, np.sin(x) + 0, ':.k')\n",
    "plt.subplot(2, 3, 5)\n",
    "plt.plot(x, np.sin(x) + 0, '.c')\n",
    "plt.subplot(2, 3, 6)\n",
    "plt.plot(x, np.sin(x) + 0, '>y');"
   ]
  },
  {
   "cell_type": "code",
   "execution_count": null,
   "id": "acc6ac4e",
   "metadata": {},
   "outputs": [],
   "source": [
    "plt.figure(figsize=(15,6))\n",
    "plt.subplot(2, 3, (1,2))\n",
    "plt.plot(x, np.sin(x) + 0, 'g')\n",
    "plt.subplot(2, 3, (3,6))\n",
    "plt.plot(x, np.sin(x) + 0, ':r')\n",
    "plt.subplot(2, 3, 4)\n",
    "plt.plot(x, np.sin(x) + 0, ':.k')\n",
    "plt.subplot(2, 3, 5)\n",
    "plt.plot(x, np.sin(x) + 0, '.c')"
   ]
  },
  {
   "cell_type": "code",
   "execution_count": null,
   "id": "1caa33c4",
   "metadata": {
    "scrolled": true
   },
   "outputs": [],
   "source": [
    "plt.figure(figsize=(15,6))\n",
    "plt.subplot(2, 3, (1,3))\n",
    "plt.plot(x, np.sin(x) + 0, 'g')\n",
    "plt.subplot(2, 3, (4,5))\n",
    "plt.plot(x, np.sin(x) + 0, ':.k')\n",
    "plt.subplot(2, 3, 6)\n",
    "plt.plot(x, np.sin(x) + 0, '.c');"
   ]
  },
  {
   "cell_type": "code",
   "execution_count": null,
   "id": "1ca95532",
   "metadata": {},
   "outputs": [],
   "source": [
    "plt.figure(figsize=(15,6))\n",
    "plt.subplot(3, 3, (1,7))\n",
    "plt.plot(x, np.sin(x) + 0, 'g')\n",
    "plt.subplot(3, 3, (2,3))\n",
    "plt.plot(x, np.sin(x) + 0, ':.k')\n",
    "plt.subplot(3, 3, 5)\n",
    "plt.plot(x, np.sin(x) + 0, '.c')\n",
    "plt.subplot(3, 3, 6)\n",
    "plt.plot(x, np.sin(x) + 0, '.c')\n",
    "plt.subplot(3, 3, (8,9))\n",
    "plt.plot(x, np.sin(x) + 0, ':.k')\n",
    "plt.show()"
   ]
  },
  {
   "cell_type": "markdown",
   "id": "030ce211",
   "metadata": {},
   "source": [
    " "
   ]
  },
  {
   "cell_type": "markdown",
   "id": "3ed5d0b3",
   "metadata": {},
   "source": [
    "## Text and Annotation\n",
    "Creating a good visualization involves guiding the reader so that the figure tells a story. In some cases, this story can be told in an entirely visual manner, without the need for added text, but in others, small textual cues and labels are necessary. Perhaps the most basic types of annotations you will use are axes labels and titles, but the options go beyond this. Let's take a look at some data and how we might visualize and annotate it to help convey interesting information. We'll start by setting up the notebook for plotting and importing the functions we will use:"
   ]
  },
  {
   "cell_type": "code",
   "execution_count": null,
   "id": "392290ba",
   "metadata": {},
   "outputs": [],
   "source": [
    "plt.axis([0, 10, 0, 10])\n",
    "plt.text(1, 5, \"Data (1, 5)\")\n",
    "plt.text(0.5, 0.1, \"Point (0.5, 0.1)\")\n",
    "plt.text(6, 7.5, \"Gradient (0.2, 0.2)\")"
   ]
  },
  {
   "cell_type": "code",
   "execution_count": null,
   "id": "ce2f0c3b",
   "metadata": {},
   "outputs": [],
   "source": [
    "x = np.linspace(0, 20, 1000)\n",
    "plt.plot(x, np.cos(x))\n",
    "plt.axis('equal')\n",
    "plt.annotate('local maximum', \n",
    "             xy=(6.28, 1), \n",
    "             xytext=(10, 4), \n",
    "             arrowprops=dict(facecolor='black', shrink=0.05))\n",
    "plt.annotate('local minimum', \n",
    "             xy=(5 * np.pi, -1), \n",
    "             xytext=(2, -6),\n",
    "             arrowprops=dict(arrowstyle=\"->\", connectionstyle=\"angle3,angleA=0,angleB=-90\"));"
   ]
  },
  {
   "cell_type": "markdown",
   "id": "2b6d6da1",
   "metadata": {},
   "source": [
    " "
   ]
  },
  {
   "cell_type": "markdown",
   "id": "8c2e9215",
   "metadata": {},
   "source": [
    "# Pandas"
   ]
  },
  {
   "cell_type": "code",
   "execution_count": null,
   "id": "cb7bad1f",
   "metadata": {
    "executionInfo": {
     "elapsed": 19,
     "status": "ok",
     "timestamp": 1664959415969,
     "user": {
      "displayName": "Joel Yvan Njabo Tchapnda",
      "userId": "07615700891775272457"
     },
     "user_tz": -120
    },
    "id": "OB-m6jJBmkaT"
   },
   "outputs": [],
   "source": [
    "import numpy as np\n",
    "import pandas as pd"
   ]
  },
  {
   "cell_type": "markdown",
   "id": "995f31bf",
   "metadata": {
    "id": "VwR0qEv_mkaa"
   },
   "source": [
    "# 1. Data Structure\n",
    "## 1.1 <b> Pandas Series </b>\n",
    "- A 1-dimensional labeled array\n",
    "- Supports many data types\n",
    "- Axis labels $\\rightarrow$ index (get and set values by index label)\n",
    "- Valid argument to most NumPy\n",
    "methods"
   ]
  },
  {
   "cell_type": "code",
   "execution_count": null,
   "id": "12f97b24",
   "metadata": {
    "colab": {
     "base_uri": "https://localhost:8080/"
    },
    "executionInfo": {
     "elapsed": 12,
     "status": "ok",
     "timestamp": 1664959431859,
     "user": {
      "displayName": "Joel Yvan Njabo Tchapnda",
      "userId": "07615700891775272457"
     },
     "user_tz": -120
    },
    "id": "yXD_ryZ2mkad",
    "outputId": "a33d26f8-9053-4208-d96f-36df1ebe7e45"
   },
   "outputs": [],
   "source": [
    "data0 = pd.Series(data = [1,2,3.,4,5,6,7,8])\n",
    "data0"
   ]
  },
  {
   "cell_type": "code",
   "execution_count": null,
   "id": "41c5a74c",
   "metadata": {
    "colab": {
     "base_uri": "https://localhost:8080/"
    },
    "executionInfo": {
     "elapsed": 14,
     "status": "ok",
     "timestamp": 1664959486553,
     "user": {
      "displayName": "Joel Yvan Njabo Tchapnda",
      "userId": "07615700891775272457"
     },
     "user_tz": -120
    },
    "id": "pHrqZNmZmkaf",
    "outputId": "f1bbcc3f-1ae2-4719-a768-1f0735ae11ea"
   },
   "outputs": [],
   "source": [
    "#data1 = pd.Series(data = [1,2,3.,4,5,6,7,8], index = ['a', 'b', 'c', 'd', 'e', 'f', 'g', 'h'])\n",
    "data1 = pd.Series(data = [1,2,3.,4,5,6,7,8,9], index = ['a', 'b', 'c', 'd', 'e', 'f', 'g', 'h','a'])\n",
    "data1"
   ]
  },
  {
   "cell_type": "code",
   "execution_count": null,
   "id": "b7381ca9",
   "metadata": {
    "colab": {
     "base_uri": "https://localhost:8080/"
    },
    "executionInfo": {
     "elapsed": 368,
     "status": "ok",
     "timestamp": 1664959644179,
     "user": {
      "displayName": "Joel Yvan Njabo Tchapnda",
      "userId": "07615700891775272457"
     },
     "user_tz": -120
    },
    "id": "NieUaS2Kmkag",
    "outputId": "3b94e4f3-8305-4980-8a58-e74ff7577d6b"
   },
   "outputs": [],
   "source": [
    "data1.index\n",
    "data1[4]\n",
    "data1[[2,4,5]]\n",
    "data1['a']\n",
    "'a' in data1\n",
    "data1*3\n",
    "data1**3\n",
    "data1/2\n",
    "data1"
   ]
  },
  {
   "cell_type": "markdown",
   "id": "5f54d5d1",
   "metadata": {
    "id": "TtMl97Spmkah"
   },
   "source": [
    "##  1.2. <b>DataFrame </b>\n",
    "- A 2-dimensional labeled data\n",
    "structure\n",
    "- A dictionary of Series objects\n",
    "    - Columns can be of potentially\n",
    "different types\n",
    "- Optionally parameters for fine-tuning:\n",
    "    - index (row labels)\n",
    "    - columns (column labels)\n",
    "\n",
    "Pandas provides many constructors to create DataFrames!"
   ]
  },
  {
   "cell_type": "code",
   "execution_count": null,
   "id": "ba06fec5",
   "metadata": {
    "colab": {
     "base_uri": "https://localhost:8080/",
     "height": 332
    },
    "executionInfo": {
     "elapsed": 368,
     "status": "ok",
     "timestamp": 1664959722605,
     "user": {
      "displayName": "Joel Yvan Njabo Tchapnda",
      "userId": "07615700891775272457"
     },
     "user_tz": -120
    },
    "id": "zitIBc63mkai",
    "outputId": "db942c96-f85c-4c6a-b5b8-59222d3407eb"
   },
   "outputs": [],
   "source": [
    "data2 = {'GradeS1': pd.Series(data = [70,50,67,84,98], \n",
    "                              index = ['Maths', 'Art', 'Sport', 'Biology', 'Physics']),\n",
    "         'GradeS2': pd.Series(data = [90,70,88,78,76,77,87], \n",
    "                              index = ['Maths', 'Biology', 'Physics', 'chemistry', 'Economics', 'Finance', 'Geology'])}\n",
    "data2 = pd.DataFrame(data2)\n",
    "data2"
   ]
  },
  {
   "cell_type": "code",
   "execution_count": null,
   "id": "6380e4ac",
   "metadata": {
    "colab": {
     "base_uri": "https://localhost:8080/"
    },
    "executionInfo": {
     "elapsed": 1173,
     "status": "ok",
     "timestamp": 1664960490712,
     "user": {
      "displayName": "Joel Yvan Njabo Tchapnda",
      "userId": "07615700891775272457"
     },
     "user_tz": -120
    },
    "id": "Fh5kU4KVmkak",
    "outputId": "b6c0e480-6e14-4ba1-82a8-8aa712293144"
   },
   "outputs": [],
   "source": [
    "data2.index\n",
    "data2.columns"
   ]
  },
  {
   "cell_type": "code",
   "execution_count": null,
   "id": "7337083f",
   "metadata": {
    "colab": {
     "base_uri": "https://localhost:8080/",
     "height": 143
    },
    "executionInfo": {
     "elapsed": 405,
     "status": "ok",
     "timestamp": 1664960495416,
     "user": {
      "displayName": "Joel Yvan Njabo Tchapnda",
      "userId": "07615700891775272457"
     },
     "user_tz": -120
    },
    "id": "-C2QUKYCmkal",
    "outputId": "e4aa330f-7f4c-44ff-c356-41e7141c986e"
   },
   "outputs": [],
   "source": [
    "d= pd.DataFrame(data2,index=['Maths', 'Physics','Economics'])#Create another data frame with some index of data2\n",
    "d"
   ]
  },
  {
   "cell_type": "code",
   "execution_count": null,
   "id": "2f2fb72a",
   "metadata": {
    "id": "mpdhk-c8mkam",
    "outputId": "b212e309-7646-4d9c-9a9b-77bd8d21807c"
   },
   "outputs": [],
   "source": [
    "d= pd.DataFrame(data2,index=['Maths', 'Physics','Economics', 'elvira'], \n",
    "                columns= ('Grade12', 'GradeS2','GradeS1'))\n",
    "d"
   ]
  },
  {
   "cell_type": "markdown",
   "id": "72ab007d",
   "metadata": {
    "id": "C9ZawL8_mkam"
   },
   "source": [
    "# 2. Reading and Writing Data\n",
    "\n",
    "## 2.1 <b> pandas: Data Ingestion (Reading) </b>\n",
    "- Functions such as <font color = red> ‘read_excel’, ‘read_csv’, 'read_json', 'read_html', 'read_sql_query', 'read_sql_table' </b>, etc.\n",
    "\n",
    "<b> Syntax: pandas.function(file_directory) </b>"
   ]
  },
  {
   "cell_type": "code",
   "execution_count": null,
   "id": "887b1236",
   "metadata": {
    "id": "mbn_bRXcmkao",
    "outputId": "95c920b7-0405-43f4-99c6-53f6b44eef04"
   },
   "outputs": [],
   "source": [
    "ddat = pd.read_excel('Climate_Dynamics.xlsx')\n",
    "ddat\n",
    "ddat.head()\n",
    "ddat.head(3)\n",
    "ddat.tail()"
   ]
  },
  {
   "cell_type": "code",
   "execution_count": null,
   "id": "289a1178",
   "metadata": {
    "id": "DHiEe0fQmkap",
    "outputId": "3bba4d47-492d-4694-ac90-97a6f384ddf4"
   },
   "outputs": [],
   "source": [
    "ddatt = pd.ExcelFile('DefenseSchedule2020forTutors.xlsx')\n",
    "sheet1_df = pd.read_excel(ddatt, 'For Examiners ')\n",
    "sheet2_df = pd.read_excel(ddatt, 'For Tutors ')\n",
    "sheet1_df.head(2)\n",
    "# sheet2_df.head(3)"
   ]
  },
  {
   "cell_type": "code",
   "execution_count": null,
   "id": "c9891f03",
   "metadata": {
    "id": "ZMbFMqNdmkap",
    "outputId": "05724d8a-a944-4030-8867-b129a875580e"
   },
   "outputs": [],
   "source": [
    "df = pd.read_json(\"https://data.smcgov.org/resource/mb6a-xn89.json\")#JavaScript Object Notation\n",
    "df.head()"
   ]
  },
  {
   "cell_type": "code",
   "execution_count": null,
   "id": "0b2aeee1",
   "metadata": {
    "id": "lQbf-N9Gmkaq",
    "outputId": "b9c7a2c3-cc3f-4a39-b731-ca3be8658d6e"
   },
   "outputs": [],
   "source": [
    "data = pd.read_csv('https://archive.ics.uci.edu/ml/machine-learning-databases/breast-cancer-wisconsin/breast-cancer-wisconsin.data')\n",
    "data.head()"
   ]
  },
  {
   "cell_type": "code",
   "execution_count": null,
   "id": "b3cfa3ae",
   "metadata": {
    "id": "G2ChFZWESYQv",
    "outputId": "199560a4-13b5-4744-929c-0a53d296eb03"
   },
   "outputs": [],
   "source": [
    "data = pd.read_csv('https://archive.ics.uci.edu/ml/machine-learning-databases/auto-mpg/auto-mpg.data')\n",
    "data.head()"
   ]
  },
  {
   "cell_type": "markdown",
   "id": "e88bb3d9",
   "metadata": {
    "id": "Xz99AxdSmkar"
   },
   "source": [
    "## 2.2. Data writing\n",
    "\n",
    "Save the dataframe in the current directory"
   ]
  },
  {
   "cell_type": "code",
   "execution_count": null,
   "id": "569781b0",
   "metadata": {
    "id": "pTDynk6Qmkar",
    "outputId": "4b0ed87b-1c41-4648-8323-68cd6d0ec0ae"
   },
   "outputs": [],
   "source": [
    "#create a dataframe\n",
    "data2 = {'GradeS1': pd.Series(data = [70,50,67,84,98], \n",
    "                              index = ['Maths', 'Art', 'Sport', 'Biology', 'Physics']),\n",
    "         'GradeS2': pd.Series(data = [90,70,88,78,76,77,87], \n",
    "                              index = ['Maths', 'Biology', 'Physics', 'chemistry', 'Economics', 'Finance', 'Geology'])}\n",
    "data2 = pd.DataFrame(data2)\n",
    "#==========================================\n",
    "# index = False parameter will not write the index values, default is True\n",
    "#data2.to_csv('data_new.csv', index=True)\n",
    "#data2.to_csv('data_new.txt', sep='\\t', index=True)\n",
    "# data2.to_excel('data_new.xlsx',sheet_name='Sheet1', index = False)\n",
    "data2.head()"
   ]
  },
  {
   "cell_type": "markdown",
   "id": "7dcfd5b1",
   "metadata": {
    "id": "42fEUH03mkat"
   },
   "source": [
    "<b>Create a folder in the current directory and save the dataframe inside</b>"
   ]
  },
  {
   "cell_type": "code",
   "execution_count": null,
   "id": "88b0e78d",
   "metadata": {
    "id": "aj2eoWxCmkat"
   },
   "outputs": [],
   "source": [
    "#==============================================\n",
    "# create a folder if it not exists\n",
    "Name_of_folder = 'dbasc'\n",
    "import os\n",
    "if not os.path.exists(Name_of_folder):\n",
    "    os.makedirs(Name_of_folder)\n",
    "#==============================================\n",
    "# index = False parameter will not write the index values, default is True\n",
    "data2.to_csv(Name_of_folder+'/data_new.csv', index=False)\n",
    "# data2.to_csv(Name_of_folder+'/mtcars_new.txt', sep='\\t', index=False)\n",
    "# data2.to_excel(Name_of_folder+'/mtcars_new.xlsx',sheet_name='Sheet1', index = False)"
   ]
  },
  {
   "cell_type": "code",
   "execution_count": null,
   "id": "e6251b00",
   "metadata": {
    "id": "7MM7U97-mkau",
    "outputId": "3322a26f-b09f-4c30-c668-52e8533cfb07"
   },
   "outputs": [],
   "source": [
    "data1"
   ]
  },
  {
   "cell_type": "markdown",
   "id": "70c512f1",
   "metadata": {
    "id": "pttXZ7gxmkav"
   },
   "source": [
    "# 3. Basic Statistics Summary\n",
    "<b> pandas in Descriptive Statistics </b>\n",
    "Functions such as 'describe()', 'corr()', 'min()', 'max()', 'mode()', 'median()', 'std()', etc.\n",
    "\n",
    "<b> Syntax : data_frame.function() </b>"
   ]
  },
  {
   "cell_type": "code",
   "execution_count": null,
   "id": "741cc9ba",
   "metadata": {
    "id": "h7_ZedY8mkav",
    "outputId": "8e53c3d2-c8d6-4fba-fb8b-664366b70861"
   },
   "outputs": [],
   "source": [
    "#data1\n",
    "data1.describe()"
   ]
  },
  {
   "cell_type": "code",
   "execution_count": null,
   "id": "df7db8ff",
   "metadata": {
    "id": "y04j45wjmkaw",
    "outputId": "789bf698-8774-45ff-d948-18f575d699e7"
   },
   "outputs": [],
   "source": [
    "data2"
   ]
  },
  {
   "cell_type": "code",
   "execution_count": null,
   "id": "b4dd47e1",
   "metadata": {
    "id": "OixDyocimkax",
    "outputId": "3e003216-3e60-479e-908e-319d93070de7"
   },
   "outputs": [],
   "source": [
    "data2.describe()"
   ]
  },
  {
   "cell_type": "code",
   "execution_count": null,
   "id": "417c8873",
   "metadata": {
    "id": "oM6XLcf4mkay",
    "outputId": "92a46389-0c08-4532-82ce-79a7e23f57e3"
   },
   "outputs": [],
   "source": [
    "data2.loc['Maths',:].describe()"
   ]
  },
  {
   "cell_type": "code",
   "execution_count": null,
   "id": "ccb79556",
   "metadata": {
    "id": "wVSy9Z5umkay",
    "outputId": "199bc443-8120-4567-cab4-b8680bfeb26d"
   },
   "outputs": [],
   "source": [
    "data2.corr()"
   ]
  },
  {
   "cell_type": "code",
   "execution_count": null,
   "id": "1b038d94",
   "metadata": {
    "id": "EcLdlxX6mkaz",
    "outputId": "ab2996be-ba0a-4067-8fac-96c407ed65cf"
   },
   "outputs": [],
   "source": [
    "data2.max()"
   ]
  },
  {
   "cell_type": "code",
   "execution_count": null,
   "id": "25ec5c68",
   "metadata": {
    "id": "EGzudCwNmka0",
    "outputId": "79a591eb-fde7-47a2-f376-091bb4eb21fa"
   },
   "outputs": [],
   "source": [
    "data2.cov()"
   ]
  },
  {
   "cell_type": "code",
   "execution_count": null,
   "id": "6e144232",
   "metadata": {
    "id": "HXrIy_r-mka7",
    "outputId": "8798d111-db8c-4a69-8c03-d331a6f3df88"
   },
   "outputs": [],
   "source": [
    "data2.std()"
   ]
  },
  {
   "cell_type": "code",
   "execution_count": null,
   "id": "2569e5e5",
   "metadata": {
    "id": "N8r7hYdPmka7",
    "outputId": "5aa9b8d7-df23-4aa7-cc36-a7a9535c51e8"
   },
   "outputs": [],
   "source": [
    "data2.mean()"
   ]
  },
  {
   "cell_type": "code",
   "execution_count": null,
   "id": "742b9f6d",
   "metadata": {
    "id": "3vPnQIIUmka8",
    "outputId": "a796715f-bf8b-43f9-98a4-818ba5c9c036"
   },
   "outputs": [],
   "source": [
    "df.head()"
   ]
  },
  {
   "cell_type": "markdown",
   "id": "e6b9b929",
   "metadata": {
    "id": "ZCmtB1RWmka8"
   },
   "source": [
    "# 4. Viewing Data"
   ]
  },
  {
   "cell_type": "code",
   "execution_count": null,
   "id": "7e85e2b8",
   "metadata": {
    "id": "zLnJO6pemka9",
    "outputId": "cf2f08e0-395f-47ac-af02-b31a72e3df04"
   },
   "outputs": [],
   "source": [
    "dic = {'Col1':[1, -2, 3, 1, 5, 6, 1, -3, 1, 1],\n",
    "      'Col2': [4, -3 , 7, 8, 9, 5, 6, 4, -2, 2],\n",
    "      'Col3': ['Euler', 'A', 'A', 'Euler', 'A', 'A', 'RK4', 'A', 'Euler', 'RK4']}\n",
    "\n",
    "df = pd.DataFrame(dic, index = ['a', 'b', 'c', 'd', 'e', 'f', 'g', 'h', 'i', 'j'])\n",
    "df"
   ]
  },
  {
   "cell_type": "markdown",
   "id": "16caddb2",
   "metadata": {
    "id": "wRX3Kwgmmka9"
   },
   "source": [
    "## 4.1 The characteristics of a dataframe"
   ]
  },
  {
   "cell_type": "code",
   "execution_count": null,
   "id": "e420f21d",
   "metadata": {
    "id": "9wpgMhF1mka-",
    "outputId": "32c6430a-7e38-4255-ce5e-d8c3dc97b134"
   },
   "outputs": [],
   "source": [
    "df.columns       #Get column names \n",
    "df.index         # Get dataframe index \n",
    "df.values        # Get values\n",
    "df.dtypes        # Get column datatypes\n",
    "df.shape\n",
    "\n"
   ]
  },
  {
   "cell_type": "markdown",
   "id": "578b043f",
   "metadata": {
    "id": "A8sMzlarmka-"
   },
   "source": [
    "## 4.2 Access, slice and update the values of a dataframe\n",
    "To access, slice or update the value of a dataframe one can use the methods <b>loc or iloc</b>.\n",
    "\n",
    "<b>loc</b> gets rows (or columns) with particular labels from the index. <b>iloc</b> gets rows (or columns) at particular positions in the index (so it only takes integers). \n",
    "### 4.2.1 Selecting pandas data using “iloc”\n",
    "\n",
    "The <b>iloc</b> indexer for Pandas Dataframe is used for <b>integer-location based indexing / selection by position</b>.\n",
    "\n",
    "The iloc indexer syntax is \n",
    "$$\\text{data.iloc[<row selection>, <column selection>]},$$ \n",
    "\n",
    "which is sure to be a source of confusion for R users. <b>iloc</b> in pandas is used to select rows and columns by number, in the order that they appear in the data frame. You can imagine that each row has a row number from 0 to the total rows (<b>data.shape[0]</b>)  and <b>iloc[...]</b> allows selections based on these numbers. The same applies for columns (ranging from 0 to <b>data.shape[1]</b>)\n",
    "\n",
    "There are two “arguments” to iloc – a row selector, and a column selector.  For example:"
   ]
  },
  {
   "cell_type": "code",
   "execution_count": null,
   "id": "a5ea189c",
   "metadata": {
    "id": "UsK_qKKDmka_",
    "outputId": "d75b3129-c6fa-4a68-aeeb-00ddfeee44ae"
   },
   "outputs": [],
   "source": [
    "data = pd.read_csv('https://s3-eu-west-1.amazonaws.com/shanebucket/downloads/uk-500.csv')\n",
    "# set a numeric id for use as an index for examples.\n",
    "np.random.seed(21)\n",
    "data['id'] = [np.random.randint(0,1000) for x in range(data.shape[0])]\n",
    " \n",
    "data.head(5)"
   ]
  },
  {
   "cell_type": "code",
   "execution_count": null,
   "id": "b9334096",
   "metadata": {
    "id": "DJP9_fRimka_",
    "outputId": "903f95c0-ad7c-4c3b-fe91-6a605d368578"
   },
   "outputs": [],
   "source": [
    "# # Single selections using iloc and DataFrame\n",
    "# # Rows:\n",
    "data.iloc[0] # first row of data frame (Aleshia Tomkiewicz) - Note a Series data type output.\n",
    "data.iloc[1] # second row of data frame (Evan Zigomalas)\n",
    "data.iloc[-1] # last row of data frame (Mi Richan)\n",
    "# # Columns:\n",
    "data.iloc[:,0] # first column of data frame (first_name)\n",
    "data.iloc[:,1] # second column of data frame (last_name)\n",
    "data.iloc[:,-1] # last column of data frame (id)"
   ]
  },
  {
   "cell_type": "markdown",
   "id": "c19fa845",
   "metadata": {
    "id": "1BQkKU7amkbA"
   },
   "source": [
    "<b>Note that .iloc returns a Pandas Series when one row is selected, and a Pandas DataFrame when multiple rows are selected, or if any column in full is selected. To counter this, pass a single-valued list if you require DataFrame output.</b>\n"
   ]
  },
  {
   "cell_type": "code",
   "execution_count": null,
   "id": "daf48081",
   "metadata": {
    "id": "nAYnYyaGmkbA",
    "outputId": "909f8c78-781a-4eaa-bd32-d3d7fe137b3e"
   },
   "outputs": [],
   "source": [
    "data.iloc[:,[-1]] # last column of data frame (id)"
   ]
  },
  {
   "cell_type": "markdown",
   "id": "c92c4263",
   "metadata": {
    "id": "k2Pt_NEqmkbB"
   },
   "source": [
    "Multiple columns and rows can be selected together using the <b>.iloc</b> indexer."
   ]
  },
  {
   "cell_type": "code",
   "execution_count": null,
   "id": "3799623f",
   "metadata": {
    "id": "Fv_-a-41mkbB",
    "outputId": "753ade01-439f-44ba-c3de-a98418d7d7ea"
   },
   "outputs": [],
   "source": [
    "# # Multiple row and column selections using iloc and DataFrame\n",
    "data.iloc[0:5] # first five rows of dataframe\n",
    "data.iloc[:, 0:2] # first two columns of data frame with all rows\n",
    "data.iloc[[0,3,6,24], [0,5,6]] # 1st, 4th, 7th, 25th row + 1st 6th 7th columns.\n",
    "data.iloc[0:5, 5:8] # first 5 rows and 5th, 6th, 7th columns of data frame (county -> phone1).\n"
   ]
  },
  {
   "cell_type": "markdown",
   "id": "d87b384e",
   "metadata": {
    "id": "s17T5FSVmkbC"
   },
   "source": [
    "### 4.2.2. Selecting pandas data using “loc”\n",
    "\n",
    "The Pandas loc indexer can be used with DataFrames for two different use cases:\n",
    "\n",
    "    - Selecting rows by label/index\n",
    "    - Selecting rows with a boolean / conditional lookup\n",
    "The loc indexer is used with the same syntax as iloc: \n",
    "$$\\text{data.loc[<row selection>, <column selection>]}$$\n",
    "\n",
    "#### a. Label-based / Index-based indexing using .loc\n",
    "\n",
    "Selections using the loc method are based on the index of the data frame (if any). Where the index is set on a DataFrame, using <b>df.set_index()</b>, the .loc method directly selects based on index values of any rows. For example, setting the index of our test data frame to the persons “last_name”:"
   ]
  },
  {
   "cell_type": "code",
   "execution_count": null,
   "id": "32dd0013",
   "metadata": {
    "colab": {
     "base_uri": "https://localhost:8080/",
     "height": 249
    },
    "executionInfo": {
     "elapsed": 122,
     "status": "error",
     "timestamp": 1632903185049,
     "user": {
      "displayName": "Hove Kouevi Assionvi",
      "photoUrl": "https://lh3.googleusercontent.com/a/default-user=s64",
      "userId": "02008510573291488408"
     },
     "user_tz": -120
    },
    "id": "I2LaP9r5mkbD",
    "outputId": "ad63d58e-7213-46c8-8e8a-97c89258ee5c"
   },
   "outputs": [],
   "source": [
    "data = pd.read_csv('https://s3-eu-west-1.amazonaws.com/shanebucket/downloads/uk-500.csv')\n",
    "# set a numeric id for use as an index for examples.\n",
    "np.random.seed(21)\n",
    "data['id'] = [np.random.randint(0,1000) for x in range(data.shape[0])]\n",
    " \n",
    "data.set_index(\"last_name\", inplace=True)\n",
    "data.head()"
   ]
  },
  {
   "cell_type": "markdown",
   "id": "26ff710b",
   "metadata": {
    "id": "zKZQUpbRmkbD"
   },
   "source": [
    "Now with the index set, we can directly select rows for different “last_name” values using <b>.loc[<label>]</b>  – either singly, or in multiples. For example:"
   ]
  },
  {
   "cell_type": "code",
   "execution_count": null,
   "id": "827124bd",
   "metadata": {
    "executionInfo": {
     "elapsed": 14,
     "status": "aborted",
     "timestamp": 1632903185038,
     "user": {
      "displayName": "Hove Kouevi Assionvi",
      "photoUrl": "https://lh3.googleusercontent.com/a/default-user=s64",
      "userId": "02008510573291488408"
     },
     "user_tz": -120
    },
    "id": "Er1qBN_7mkbE",
    "outputId": "ebd9c366-ec80-45c6-b2b5-26de82aa77d2"
   },
   "outputs": [],
   "source": [
    "data.loc['Veness']\n",
    "data.loc[['Andrade','Veness']]"
   ]
  },
  {
   "cell_type": "markdown",
   "id": "ace68441",
   "metadata": {
    "id": "jl_fElQSmkbF"
   },
   "source": [
    "<b> Selecting single or multiple rows using .loc index selections with pandas. Note that the first example returns a series, and the second returns a DataFrame. You can achieve a single-column DataFrame by passing a single-element list to the .loc operation.</b>"
   ]
  },
  {
   "cell_type": "code",
   "execution_count": null,
   "id": "96e90b19",
   "metadata": {
    "executionInfo": {
     "elapsed": 15,
     "status": "aborted",
     "timestamp": 1632903185040,
     "user": {
      "displayName": "Hove Kouevi Assionvi",
      "photoUrl": "https://lh3.googleusercontent.com/a/default-user=s64",
      "userId": "02008510573291488408"
     },
     "user_tz": -120
    },
    "id": "Me9kAqvkmkbF",
    "outputId": "dfac9fe5-0c64-4956-a2a3-c14eae3f8fa4"
   },
   "outputs": [],
   "source": [
    "data.loc[['Veness']]"
   ]
  },
  {
   "cell_type": "markdown",
   "id": "322c3be7",
   "metadata": {
    "id": "88fW1c80mkbG"
   },
   "source": [
    "Select columns with <b>.loc</b> using the names of the columns."
   ]
  },
  {
   "cell_type": "code",
   "execution_count": null,
   "id": "02074046",
   "metadata": {
    "executionInfo": {
     "elapsed": 17,
     "status": "aborted",
     "timestamp": 1632903185042,
     "user": {
      "displayName": "Hove Kouevi Assionvi",
      "photoUrl": "https://lh3.googleusercontent.com/a/default-user=s64",
      "userId": "02008510573291488408"
     },
     "user_tz": -120
    },
    "id": "foPFccTnmkbG",
    "outputId": "eac7f332-177b-447e-994a-813248cb19cd"
   },
   "outputs": [],
   "source": [
    "data.loc[['Andrade','Veness'], ['first_name','address','city']]"
   ]
  },
  {
   "cell_type": "markdown",
   "id": "95263440",
   "metadata": {
    "id": "1B7WqdhGmkbH"
   },
   "source": [
    "When using the .loc indexer, columns are referred to by names using lists of strings, or “:” slices.\n",
    "\n",
    "You can select ranges of index labels – the selection <b>data.loc['Bruch':'Julio']</b> will return all rows in the data frame between the index entries for <b>'Bruch'</b> and <b>'Julio'</b>. The following examples should now make sense:"
   ]
  },
  {
   "cell_type": "code",
   "execution_count": null,
   "id": "2ed1eb62",
   "metadata": {
    "executionInfo": {
     "elapsed": 17,
     "status": "aborted",
     "timestamp": 1632903185043,
     "user": {
      "displayName": "Hove Kouevi Assionvi",
      "photoUrl": "https://lh3.googleusercontent.com/a/default-user=s64",
      "userId": "02008510573291488408"
     },
     "user_tz": -120
    },
    "id": "wLFF-xEDmkbH",
    "outputId": "79958f10-800a-46a0-9206-5560d33ffb95"
   },
   "outputs": [],
   "source": [
    "# Select rows with index values 'Andrade' and 'Veness', with all columns between 'city' and 'email'\n",
    "data.loc[['Andrade', 'Veness'], 'city':'email']\n",
    "# # Select all rows between 'Andrade' and 'Veness', with just 'first_name', 'address' and 'city' columns\n",
    "data.loc['Andrade':'Veness', ['first_name', 'address', 'city']]\n",
    "# # Select all rows between 'Andrade' and 'Veness', with all columns between 'city' and 'email' \n",
    "data.loc['Andrade':'Veness', 'city':'email']"
   ]
  },
  {
   "cell_type": "markdown",
   "id": "97847743",
   "metadata": {
    "id": "hOKe7x9PmkbH"
   },
   "source": [
    "Note that in the last example, <b>data.loc[207]</b> (the row with index value 207) is not equal to <b>data.iloc[207]</b> (the 207th row in the data)"
   ]
  },
  {
   "cell_type": "code",
   "execution_count": null,
   "id": "1af39144",
   "metadata": {
    "executionInfo": {
     "elapsed": 18,
     "status": "aborted",
     "timestamp": 1632903185045,
     "user": {
      "displayName": "Hove Kouevi Assionvi",
      "photoUrl": "https://lh3.googleusercontent.com/a/default-user=s64",
      "userId": "02008510573291488408"
     },
     "user_tz": -120
    },
    "id": "9J_lJrtRmkbI",
    "outputId": "810887ae-754e-4912-8279-10ceb6755949"
   },
   "outputs": [],
   "source": [
    "data = pd.read_csv('https://s3-eu-west-1.amazonaws.com/shanebucket/downloads/uk-500.csv')\n",
    "# set a numeric id for use as an index for examples.\n",
    "np.random.seed(21)\n",
    "data['id'] = [np.random.randint(0,1000) for x in range(data.shape[0])]\n",
    " \n",
    "# Change the index to be based on the 'id' column\n",
    "data.set_index('id', inplace=True)\n",
    "data.head()"
   ]
  },
  {
   "cell_type": "code",
   "execution_count": null,
   "id": "940a0c63",
   "metadata": {
    "executionInfo": {
     "elapsed": 20,
     "status": "aborted",
     "timestamp": 1632903185047,
     "user": {
      "displayName": "Hove Kouevi Assionvi",
      "photoUrl": "https://lh3.googleusercontent.com/a/default-user=s64",
      "userId": "02008510573291488408"
     },
     "user_tz": -120
    },
    "id": "uK8FZRvzmkbI",
    "outputId": "89127770-8f67-436f-958c-665c3a512364"
   },
   "outputs": [],
   "source": [
    "i = data.index[1]\n",
    "print('i = ',i)\n",
    "#select the row with 'id' = i\n",
    "data.loc[[i]]"
   ]
  },
  {
   "cell_type": "code",
   "execution_count": null,
   "id": "527ecf3f",
   "metadata": {
    "executionInfo": {
     "elapsed": 20,
     "status": "aborted",
     "timestamp": 1632903185048,
     "user": {
      "displayName": "Hove Kouevi Assionvi",
      "photoUrl": "https://lh3.googleusercontent.com/a/default-user=s64",
      "userId": "02008510573291488408"
     },
     "user_tz": -120
    },
    "id": "mYoHZxT2mkbJ",
    "outputId": "3de37e91-04c7-436c-b378-296dcb38b1a3"
   },
   "outputs": [],
   "source": [
    "data.iloc[[i]]"
   ]
  },
  {
   "cell_type": "markdown",
   "id": "3c3e6072",
   "metadata": {
    "id": "KAUlW2fgmkbJ"
   },
   "source": [
    "### b. Boolean / Logical indexing using .loc\n",
    "\n",
    "Conditional selections with boolean arrays using $\\text{data.loc[<selection>]}$ is the most common method that I use with Pandas DataFrames. With boolean indexing or logical selection, you pass an array or Series of True/False values to the <b>.loc</b> indexer to select the rows where your Series has True values.\n",
    "\n",
    "In most use cases, you will make selections based on the values of different columns in your data set.\n",
    "\n",
    "For example, the statement $$\\text{data[‘first_name’] == ‘Antonio’]}$$ produces a Pandas Series with a True/False value for every row in the ‘data’ DataFrame, where there are “True” values for the rows where the first_name is “Antonio”. These type of boolean arrays can be passed directly to the <b>.loc</b> indexer as so:"
   ]
  },
  {
   "cell_type": "code",
   "execution_count": null,
   "id": "619999a8",
   "metadata": {
    "id": "TLaMhRhSmkbK",
    "outputId": "aee5e9c0-df29-4cac-951a-126334c00fe4"
   },
   "outputs": [],
   "source": [
    "data = pd.read_csv('https://s3-eu-west-1.amazonaws.com/shanebucket/downloads/uk-500.csv')\n",
    "# set a numeric id for use as an index for examples.\n",
    "np.random.seed(21)\n",
    "data['id'] = [np.random.randint(0,1000) for x in range(data.shape[0])]\n",
    " \n",
    "data.set_index(\"last_name\", inplace=True)\n",
    "\n",
    "data.loc[data['first_name'] == 'Antonio']\n"
   ]
  },
  {
   "cell_type": "markdown",
   "id": "e5df4fde",
   "metadata": {
    "id": "joaSA6UhmkbK"
   },
   "source": [
    "As before, a second argument can be passed to .loc to select particular columns out of the data frame. Again, columns are referred to by name for the loc indexer and can be a single string, a list of columns, or a slice “:” operation."
   ]
  },
  {
   "cell_type": "code",
   "execution_count": null,
   "id": "2d45597b",
   "metadata": {
    "id": "DnCTxyv3mkbL",
    "outputId": "5d4dc036-174f-4008-cfc6-b06a93d5c9a2"
   },
   "outputs": [],
   "source": [
    "data.loc[data['first_name'] == 'Antonio', ['email', 'address','city']]"
   ]
  },
  {
   "cell_type": "markdown",
   "id": "7965ced5",
   "metadata": {
    "id": "fg0vESjLmkbL"
   },
   "source": [
    "Note that when selecting columns, if one column only is selected, the .loc operator returns a Series. For a single column DataFrame, use a one-element list to keep the DataFrame format, for example:"
   ]
  },
  {
   "cell_type": "code",
   "execution_count": null,
   "id": "5dfffd4a",
   "metadata": {
    "id": "QUW--BivmkbL",
    "outputId": "75523343-ff90-401d-aa20-d5b65a13c180"
   },
   "outputs": [],
   "source": [
    "data.loc[data['first_name'] == 'Antonio', 'email']\n",
    "data.loc[data['first_name'] == 'Antonio', ['email']]"
   ]
  },
  {
   "cell_type": "markdown",
   "id": "439db3cb",
   "metadata": {
    "id": "Mjq4H4NgmkbM"
   },
   "source": [
    "# 5. Basic Operations"
   ]
  },
  {
   "cell_type": "markdown",
   "id": "a1ce29a1",
   "metadata": {
    "id": "5b5gPiqKmkbM"
   },
   "source": [
    "## 5.1 Sorting values in the DataFrame"
   ]
  },
  {
   "cell_type": "code",
   "execution_count": null,
   "id": "df266851",
   "metadata": {
    "id": "12r_3pPCmkbN",
    "outputId": "19866514-6252-4d39-ee08-7cb063f5a9da",
    "scrolled": true
   },
   "outputs": [],
   "source": [
    "dic = {'Col1':[1, -2, 3, 1, 5, 6, 1, -3, 1, 1],\n",
    "      'Col2': [4, -3 , 7, 8, 9, 5, 6, 4, -2, 2],\n",
    "      'Col3': ['Euler', 'A', 'A', 'Euler', 'A', 'A', 'RK4', 'A', 'Euler', 'RK4']}\n",
    "\n",
    "df = pd.DataFrame(dic, index = ['a', 'b', 'c', 'd', 'e', 'f', 'g', 'h', 'i', 'j'])\n",
    "\n",
    "# #=============================================================\n",
    "# #Create a new columns called 'X' and 'Y' in the dataframe df\n",
    "df['X'] = ['A', 'A', 'A', 'A', 'A', 'B', 'B', 'B', 'B', 'B']\n",
    "df['Y'] = ['A', 'B', 'A', 'B', 'A', 'B', 'A', 'B', 'A', 'B']\n",
    "# #============================================================\n",
    "# df\n",
    "df.loc['z'] = [1,2,3,4,5]\n",
    "# #df\n",
    "\n",
    "df\n"
   ]
  },
  {
   "cell_type": "code",
   "execution_count": null,
   "id": "eeb2a627",
   "metadata": {
    "id": "z6n9b9gnmkbN",
    "outputId": "d1b1facc-3f0b-4c4f-d733-c2d3630563c1"
   },
   "outputs": [],
   "source": [
    "df.sort_values(by =['Col1'],ascending=[True], inplace=True)# Sort DataFrame \n",
    "df.sort_values(by =['Col1', 'Col2'],ascending=[False,False], inplace=True)# Sort DataFrame\n",
    "df"
   ]
  },
  {
   "cell_type": "markdown",
   "id": "3c790d16",
   "metadata": {
    "id": "IkpyQ79pmkbO"
   },
   "source": [
    "## 5.2. Replace NaN Values in Pandas DataFrame\n",
    "\n",
    "Depending on the scenario, you may use either of the 4 methods below in order to replace NaN values with zeros in Pandas DataFrame:\n",
    "\n",
    "let us consider the following dataframe"
   ]
  },
  {
   "cell_type": "code",
   "execution_count": null,
   "id": "b3dcd803",
   "metadata": {
    "id": "30sFH2dvmkbO",
    "outputId": "3f25df5a-3d1a-47a0-b2cb-eb07b97e1caa"
   },
   "outputs": [],
   "source": [
    "data2 = {'GradeS1': pd.Series(data = [70,50,67,84,98], \n",
    "                              index = ['Maths', 'Art', 'Sport', 'Biology', 'Physics']),\n",
    "         'GradeS2': pd.Series(data = [90,70,88,78,76,77,87], \n",
    "                              index = ['Maths', 'Biology', 'Physics', 'chemistry', 'Economics', 'Finance', 'Geology']),\n",
    "        'GradeS3': pd.Series(data = [69,75,73,87], \n",
    "                              index = ['Maths', 'chemistry', 'Economics', 'Geology']),\n",
    "        'GradeS4': pd.Series(data = [90,70,88,78,76,77,87,98,90], \n",
    "                              index = ['Maths', 'Biology', 'Physics', 'chemistry', 'Economics', 'Finance', 'Geology','Art', 'Sport'])}\n",
    "data2 = pd.DataFrame(data2)\n",
    "data2"
   ]
  },
  {
   "cell_type": "markdown",
   "id": "ac3e8935",
   "metadata": {
    "id": "pGRNimpSmkbP"
   },
   "source": [
    "1. For a single column or entire datafame using NumPy: "
   ]
  },
  {
   "cell_type": "code",
   "execution_count": null,
   "id": "3b738ade",
   "metadata": {
    "id": "EJJkUspVmkbP",
    "outputId": "cd6e7fd5-1db5-4b39-a298-5a94de465d3f"
   },
   "outputs": [],
   "source": [
    "#Make a deep copy of the data2\n",
    "data3 = data2.copy()\n",
    "#Replace NaN by 3 in the column 'GradeS2' of the dataframe using numpy\n",
    "data3['GradeS2'].replace(np.nan,30, inplace=True)\n",
    "data3"
   ]
  },
  {
   "cell_type": "code",
   "execution_count": null,
   "id": "9a60804e",
   "metadata": {
    "id": "yvpOzQ_vmkbQ",
    "outputId": "c7a1559f-6580-4284-b550-c5a2745be58a"
   },
   "outputs": [],
   "source": [
    "#Make a deep copy of the data2\n",
    "data3 = data2.copy()\n",
    "#Replace NaN by 3 in the entire dataframe using numpy\n",
    "data3.replace(np.nan,30, inplace=True)\n",
    "data3"
   ]
  },
  {
   "cell_type": "markdown",
   "id": "152d93ae",
   "metadata": {
    "id": "FE9vOLSImkbR"
   },
   "source": [
    "2. For a single column or entire datafame using Pandas: "
   ]
  },
  {
   "cell_type": "code",
   "execution_count": null,
   "id": "0fdda56e",
   "metadata": {
    "id": "R33qyZdxmkbS",
    "outputId": "e6235291-036f-4edd-dd67-90d18140d1d5"
   },
   "outputs": [],
   "source": [
    "#Make a deep copy of the data2\n",
    "data3 = data2.copy()\n",
    "#Replace NaN by 3 in the column 'GradeS2' using Pandas\n",
    "data3['GradeS2'].fillna(30, inplace=True)\n",
    "data3"
   ]
  },
  {
   "cell_type": "code",
   "execution_count": null,
   "id": "46e9fc47",
   "metadata": {
    "id": "B34N8cZcmkbT",
    "outputId": "ffd380f6-bf26-4668-ebfb-f449d9bb08ba"
   },
   "outputs": [],
   "source": [
    "#Make a deep copy of the data2\n",
    "data3 = data2.copy()\n",
    "#Replace NaN by 3 in the entire dataframe using Pandas\n",
    "data3.fillna(3, inplace=True)\n",
    "data3"
   ]
  },
  {
   "cell_type": "markdown",
   "id": "6e5d4704",
   "metadata": {
    "id": "16agXqO2mkbT"
   },
   "source": [
    "Replace missing values with last valid observation (useful in time series\n",
    "data). For example, temperature does not change drastically compared to previous observation. So better approach is to fill NA is to forward or backward fill. There are mainly two methods available"
   ]
  },
  {
   "cell_type": "code",
   "execution_count": null,
   "id": "2db14262",
   "metadata": {
    "id": "nHNb-2x9mkbU",
    "outputId": "42dc1b9e-5a65-4a17-a7c2-8c8a88f85b84"
   },
   "outputs": [],
   "source": [
    "#Make a deep copy of the data2\n",
    "data3 = data2.copy()\n",
    "#Replace NaN by next value in the column 'GradeS1' of the dataframe using Pandas\n",
    "data3['GradeS1'].fillna(method= 'bfill', inplace=True)\n",
    "##Note that the last NaN was not replaced because there is no next value for him\n",
    "\n",
    "\n",
    "##Replace NaN by next value in the column 'GradeS1' of the dataframe using Pandas\n",
    "data3.fillna(method= 'bfill', inplace=True)\n",
    "data3"
   ]
  },
  {
   "cell_type": "code",
   "execution_count": null,
   "id": "1e5cc2e4",
   "metadata": {
    "id": "9H_dJcfCmkbV",
    "outputId": "3c760582-359f-4d2f-bb1c-10fec96ca549"
   },
   "outputs": [],
   "source": [
    "#Make a deep copy of the data2\n",
    "data3 = data2.copy()\n",
    "#Replace NaN by previous value in the column 'GradeS2' of the dataframe using Pandas\n",
    "data3['GradeS2'].fillna(method= 'ffill', inplace=True)\n",
    "##Note that the first NaN was not replaced because there is no next value for him\n",
    "\n",
    "\n",
    "##Replace NaN by previous value in the entire dataframe using Pandas\n",
    "data3.fillna(method= 'ffill', inplace=True)\n",
    "data3"
   ]
  },
  {
   "cell_type": "markdown",
   "id": "443b13f1",
   "metadata": {
    "id": "TgSsEsB_mkbW"
   },
   "source": [
    "## 5.3. Delete NaN Values with Zeros in Pandas DataFrame"
   ]
  },
  {
   "cell_type": "code",
   "execution_count": null,
   "id": "133b4b22",
   "metadata": {
    "id": "557RWgwTmkbW",
    "outputId": "d00a157e-cf45-4cbf-aeb1-8b32a02a1f62",
    "scrolled": true
   },
   "outputs": [],
   "source": [
    "#Make a deep copy of the data2\n",
    "data3 = data2.copy()\n",
    "#Delete all rows that contain NaN\n",
    "data3.dropna(axis=0, inplace=True)\n",
    "data3"
   ]
  },
  {
   "cell_type": "code",
   "execution_count": null,
   "id": "31d6081d",
   "metadata": {
    "id": "jPHd5J7KmkbX",
    "outputId": "e917ad09-114d-471f-fed4-250fc066487f"
   },
   "outputs": [],
   "source": [
    "#Make a deep copy of the data2\n",
    "data3 = data2.copy()\n",
    "#Delete all columns that contain NaN\n",
    "data3.dropna(axis=1, inplace=True)\n",
    "data3"
   ]
  },
  {
   "cell_type": "markdown",
   "id": "bf0eb1e0",
   "metadata": {
    "id": "_I_ElenamkbY"
   },
   "source": [
    "## 5.4. Grouping\n",
    "Grouping involves one or more of the following steps:\n",
    "- Splitting the data into groups based on some criteria,\n",
    "- Applying a function to each group independently,\n",
    "- Combining the results into a data structure\n",
    "\n",
    "Let us consider the following data"
   ]
  },
  {
   "cell_type": "code",
   "execution_count": null,
   "id": "66a21345",
   "metadata": {
    "id": "EkrQ-xE0mkbZ",
    "outputId": "a02cf3db-0efc-4dac-d8f0-66db8ab2d434"
   },
   "outputs": [],
   "source": [
    "df = pd.DataFrame({'Name' : ['jack', 'jane', 'jack', 'jane', 'jack', 'jane','jack', 'jane'],\n",
    "                   'State' : ['SFO', 'SFO', 'NYK', 'CA', 'NYK', 'NYK','SFO', 'CA'],\n",
    "                   'Grade':['A','A','B','A','C','B','C','A'],\n",
    "                   'Age' : np.random.randint(24, 50, size=8)})\n",
    "df"
   ]
  },
  {
   "cell_type": "markdown",
   "id": "0e7108b6",
   "metadata": {
    "id": "rA6mZ75NmkbZ"
   },
   "source": [
    "Find max age by Name / State"
   ]
  },
  {
   "cell_type": "code",
   "execution_count": null,
   "id": "ee002f68",
   "metadata": {
    "id": "ey3gT7zymkba",
    "outputId": "d20bbe25-8fee-402e-832f-cf5b1248e184"
   },
   "outputs": [],
   "source": [
    "df.groupby(['Name','State']).max()"
   ]
  },
  {
   "cell_type": "markdown",
   "id": "4d5a2fea",
   "metadata": {
    "id": "1xppcHfrmkba"
   },
   "source": [
    "# 6. Plot of a dataframe"
   ]
  },
  {
   "cell_type": "code",
   "execution_count": null,
   "id": "626d1071",
   "metadata": {
    "id": "zxcRQBPVmkbb",
    "outputId": "46ccc291-5912-4a72-e5ba-a1a15dc936ce"
   },
   "outputs": [],
   "source": [
    "data2"
   ]
  },
  {
   "cell_type": "code",
   "execution_count": null,
   "id": "49703141",
   "metadata": {
    "id": "J5iTv09Imkbb"
   },
   "outputs": [],
   "source": []
  },
  {
   "cell_type": "code",
   "execution_count": null,
   "id": "70f348ad",
   "metadata": {
    "id": "7ExT8Muvmkbc",
    "outputId": "33b32e70-300c-4df1-ddca-e9377638a35d"
   },
   "outputs": [],
   "source": [
    "import matplotlib.pyplot as plt\n",
    "#data2.plot?\n",
    "data2.plot(figsize=(10,10), kind= 'bar' )\n",
    "plt.show()"
   ]
  },
  {
   "cell_type": "code",
   "execution_count": null,
   "id": "c0d8c668",
   "metadata": {
    "id": "fkCIDkQUmkbc"
   },
   "outputs": [],
   "source": [
    "data2.plot?"
   ]
  },
  {
   "cell_type": "markdown",
   "id": "c62ba5f4",
   "metadata": {},
   "source": [
    "In this session, we will demonstrate various techniques for visualising data using both `matplotlib` and `pandas`. This will also include the correct interpretation and understanding of the different plotting techniques. The data to be used are `flight_data.csv` and `weather.csv`. They can both be found in the folder."
   ]
  },
  {
   "cell_type": "code",
   "execution_count": null,
   "id": "e7a216aa",
   "metadata": {},
   "outputs": [],
   "source": [
    "import numpy as np\n",
    "import pandas as pd\n",
    "import matplotlib.pyplot as plt"
   ]
  },
  {
   "cell_type": "code",
   "execution_count": null,
   "id": "a14984dd",
   "metadata": {},
   "outputs": [],
   "source": [
    "df = pd.read_csv('flight_data.csv')"
   ]
  },
  {
   "cell_type": "code",
   "execution_count": null,
   "id": "3623635e",
   "metadata": {},
   "outputs": [],
   "source": [
    "df.head()"
   ]
  },
  {
   "cell_type": "code",
   "execution_count": null,
   "id": "054e3a4e",
   "metadata": {},
   "outputs": [],
   "source": [
    "df.shape"
   ]
  },
  {
   "cell_type": "markdown",
   "id": "28c9269d",
   "metadata": {},
   "source": [
    "To reduce the amount of data we will be working with and make things a little easier, lets only look at _Alaska Airlines_ flights leaving from New York City in 2013. This can be done by subsetting the data in such a way that we only observe flights from Alaska Airlines (carrier code AS), as follows;"
   ]
  },
  {
   "cell_type": "code",
   "execution_count": null,
   "id": "2f4b9ffa",
   "metadata": {},
   "outputs": [],
   "source": [
    "Alaska = df[df['carrier'] == 'AS']"
   ]
  },
  {
   "cell_type": "markdown",
   "id": "c581626a",
   "metadata": {},
   "source": [
    "This essentially picks out all of the rows within the flights data set for which the carrier code is AS and discards the rest, thus creating a new data set entitled Alaska. To observe the Alaska data we can use the following commands:"
   ]
  },
  {
   "cell_type": "code",
   "execution_count": null,
   "id": "bd284b59",
   "metadata": {},
   "outputs": [],
   "source": [
    "Alaska.head()"
   ]
  },
  {
   "cell_type": "code",
   "execution_count": null,
   "id": "09687787",
   "metadata": {},
   "outputs": [],
   "source": [
    "Alaska.shape"
   ]
  },
  {
   "cell_type": "markdown",
   "id": "a2b2e2cc",
   "metadata": {},
   "source": [
    "# Visualising the data "
   ]
  },
  {
   "cell_type": "markdown",
   "id": "4bef2d08",
   "metadata": {},
   "source": [
    "\n",
    "## Scatterplots\n",
    "This allows us to examine if there is any relationship between two variables, such as positive or negative correlation, and whether the relationship appears linear or not. Lets say we wanted to observe the relationship between departure and arrival delays. We can do that as follows:"
   ]
  },
  {
   "cell_type": "code",
   "execution_count": null,
   "id": "00e86387",
   "metadata": {},
   "outputs": [],
   "source": [
    "plt.style.use('Solarize_Light2')\n",
    "plt.scatter('dep_delay', 'arr_delay', data=Alaska); "
   ]
  },
  {
   "cell_type": "markdown",
   "id": "bc90ebb6",
   "metadata": {},
   "source": [
    "## Adding labels to the axes"
   ]
  },
  {
   "cell_type": "code",
   "execution_count": null,
   "id": "8cc3fa96",
   "metadata": {},
   "outputs": [],
   "source": [
    "plt.scatter('dep_delay', 'arr_delay', data=Alaska)\n",
    "plt.xlabel('Departure delay (minutes)')\n",
    "plt.ylabel('Arrival delay (minutes)')\n",
    "plt.title('Alaska Airlines flights leaving NYC in 2013');"
   ]
  },
  {
   "cell_type": "code",
   "execution_count": null,
   "id": "52ec86f7",
   "metadata": {},
   "outputs": [],
   "source": [
    "plt.figure(figsize=(10,6))\n",
    "plt.scatter('dep_delay', 'arr_delay', data=Alaska, color='k', alpha=0.2)\n",
    "plt.xlabel('Departure delay (minutes)')\n",
    "plt.ylabel('Arrival delay (minutes)')\n",
    "plt.title('Alaska Airlines flights leaving NYC in 2013');"
   ]
  },
  {
   "cell_type": "markdown",
   "id": "e11cb0bb",
   "metadata": {},
   "source": [
    "### Something to think about.\n",
    "1. Why do departure and arrival delays appear to have a positive relationship?\n",
    "2. Why is there a cluster of points at (0,0)? What does this indicate?"
   ]
  },
  {
   "cell_type": "markdown",
   "id": "725fe42b",
   "metadata": {},
   "source": [
    "## Histograms\n",
    "Histograms allow us to look at the statistical distribution of a variable. They show us how many values of a variable fall within specified bins. These bins give ranges of values for which the variable lies. The bins can be altered, that is, by changing their width, or by increasing the number of bins, such that we see the distribution at a higher resolution. Here, lets take a look at the weather data set. This data set contains hourly weather data from three airports (LGA, JFK and EWR) in New York City in 2013. "
   ]
  },
  {
   "cell_type": "code",
   "execution_count": null,
   "id": "0b40dbf5",
   "metadata": {},
   "outputs": [],
   "source": [
    "weather = pd.read_csv('weather.csv')\n",
    "weather.head()"
   ]
  },
  {
   "cell_type": "markdown",
   "id": "6642e379",
   "metadata": {},
   "source": [
    "Now, let us see  the distribution of the hourly temperature:"
   ]
  },
  {
   "cell_type": "code",
   "execution_count": null,
   "id": "7820214a",
   "metadata": {},
   "outputs": [],
   "source": [
    "plt.hist(weather['temp']);"
   ]
  },
  {
   "cell_type": "markdown",
   "id": "59ffefb6",
   "metadata": {},
   "source": [
    "As mentioned earlier, we can view histogram as a higher resolution by increasing the number of bins."
   ]
  },
  {
   "cell_type": "code",
   "execution_count": null,
   "id": "238b5e14",
   "metadata": {},
   "outputs": [],
   "source": [
    "plt.figure(figsize=(20,6))\n",
    "\n",
    "plt.subplot(1,3,1)\n",
    "plt.title('Bins = 30')\n",
    "weather['temp'].hist(bins=30)\n",
    "\n",
    "plt.subplot(1,3,2)\n",
    "plt.title('Bins = 10')\n",
    "weather['temp'].hist(bins=10)\n",
    "\n",
    "plt.subplot(1,3,3)\n",
    "plt.title('Bins = Auto')\n",
    "weather['temp'].hist(bins='auto')\n",
    "\n",
    "plt.show()"
   ]
  },
  {
   "cell_type": "markdown",
   "id": "67feff9e",
   "metadata": {},
   "source": [
    " "
   ]
  },
  {
   "cell_type": "markdown",
   "id": "898a28fd",
   "metadata": {},
   "source": [
    "Finally, let us plot a histogram with more information."
   ]
  },
  {
   "cell_type": "code",
   "execution_count": null,
   "id": "ad05f09e",
   "metadata": {},
   "outputs": [],
   "source": [
    "plt.style.use('Solarize_Light2')\n",
    "plt.hist(weather['temp'], bins='auto', color='#0504aa', alpha=0.7)\n",
    "plt.xlabel('Temperature (Hourly)')\n",
    "plt.title('Hourly temperature from NYC in 2013')\n",
    "plt.show()"
   ]
  },
  {
   "cell_type": "markdown",
   "id": "2c47e2a9",
   "metadata": {},
   "source": [
    "### Something to think about\n",
    "3. What does the histogram tell us about the hourly temperature levels from NYC in 2013?"
   ]
  },
  {
   "cell_type": "markdown",
   "id": "25f1884d",
   "metadata": {},
   "source": [
    "## Boxplot\n",
    "Another way to look at the distribution of a variable is using a boxplot. A boxplot makes use of the standard five-number summary, that is\n",
    "\n",
    "* the minimum value;\n",
    "* the first quartile or 25th percentile;\n",
    "* the median (or 2nd quartile / 50th percentile);\n",
    "* the third quartile or 75th percentile;\n",
    "* and the maximum value.\n",
    "\n",
    "Keeping with the hourly temperature data, the five-number summary can be obtained by using the following command:"
   ]
  },
  {
   "cell_type": "code",
   "execution_count": null,
   "id": "97987e77",
   "metadata": {},
   "outputs": [],
   "source": [
    "weather.boxplot('temp')\n",
    "plt.ylabel('Hourly Temperature')\n",
    "plt.title('Hourly temperatures from NYC in 2013')\n",
    "plt.show()"
   ]
  },
  {
   "cell_type": "markdown",
   "id": "6e40b52c",
   "metadata": {},
   "source": [
    "We could look at how the hourly temperature changes by month:"
   ]
  },
  {
   "cell_type": "code",
   "execution_count": null,
   "id": "a5ccf41f",
   "metadata": {},
   "outputs": [],
   "source": [
    "weather.boxplot('temp', by='month');"
   ]
  },
  {
   "cell_type": "code",
   "execution_count": null,
   "id": "44aca1f7",
   "metadata": {},
   "outputs": [],
   "source": [
    "weather.boxplot('temp', by='month')\n",
    "plt.suptitle('')\n",
    "plt.xlabel('Month')\n",
    "plt.ylabel('Hourly Temperature')\n",
    "plt.title('Hourly temperatures from NYC in 2013')\n",
    "months = ['Jan', 'Feb', 'Mar', 'Apr', 'May', 'Jun', 'Jul', 'Aug', 'Sep', 'Oct', 'Nov', 'Dec']\n",
    "plt.xticks(list(range(1, 13)), months);"
   ]
  },
  {
   "cell_type": "markdown",
   "id": "5c1da9ae",
   "metadata": {},
   "source": [
    "### Something to think about\n",
    "4. Which months have the highest variability in temperature?"
   ]
  },
  {
   "cell_type": "markdown",
   "id": "955b0145",
   "metadata": {},
   "source": [
    "## Barplots\n",
    "Barplots, or barcharts, are used to visualise the distributions of categorical variables. This essentially provides us with the frequencies of categories within a categorical variable. Lets take a look at the distribution of airline carriers within the flights data that flew out of New York City in 2013. We can do this by creating a table containing the number of flights from each airline carrier as follows:"
   ]
  },
  {
   "cell_type": "code",
   "execution_count": null,
   "id": "4560f257",
   "metadata": {},
   "outputs": [],
   "source": [
    "df.groupby('carrier').size().plot(kind='bar', rot=0)\n",
    "plt.xlabel('Carrier')\n",
    "plt.ylabel('Count');"
   ]
  },
  {
   "cell_type": "markdown",
   "id": "fa776ea7",
   "metadata": {},
   "source": [
    " "
   ]
  },
  {
   "cell_type": "markdown",
   "id": "91115084",
   "metadata": {},
   "source": [
    "Barplots can also be used to compare two categorical variables. For instance, lets say we wanted to look atthe number of flights that flew out of New York York in 2013 from each carrier and from each airport (LGA, JFK and EWR). "
   ]
  },
  {
   "cell_type": "code",
   "execution_count": null,
   "id": "aa65028c",
   "metadata": {},
   "outputs": [],
   "source": [
    "df.groupby(['carrier', 'origin']).size().unstack().plot(kind='bar', stacked=True, rot=0)\n",
    "plt.xlabel('Carrier')\n",
    "plt.ylabel('Count');"
   ]
  },
  {
   "cell_type": "markdown",
   "id": "efd484c5",
   "metadata": {},
   "source": [
    "This provides us with a visually nice barplot to present our carrier information by airport of origin. However,there are also alternative barplots to the stacked barplot.  One alternative to a stacked barplot is theside-by-side(ordodged)barplot, which, as suggested by its name, places the bars next to each anotherinstead of on top of one another. This can be produced as follows"
   ]
  },
  {
   "cell_type": "markdown",
   "id": "7165f3c0",
   "metadata": {},
   "source": [
    "#### Faceted barplot"
   ]
  },
  {
   "cell_type": "code",
   "execution_count": null,
   "id": "ca84b497",
   "metadata": {},
   "outputs": [],
   "source": [
    "df.groupby(['carrier', 'origin']).size().unstack().plot(kind='bar', subplots=True, rot=0)\n",
    "plt.xlabel('Carrier')\n",
    "plt.ylabel('Count');"
   ]
  },
  {
   "cell_type": "markdown",
   "id": "3c865755",
   "metadata": {},
   "source": [
    "#### side-by-side barplot"
   ]
  },
  {
   "cell_type": "code",
   "execution_count": null,
   "id": "cb66cc23",
   "metadata": {},
   "outputs": [],
   "source": [
    "df.groupby(['carrier', 'origin']).size().unstack().plot(kind='bar', rot=0)\n",
    "plt.xlabel('Carrier')\n",
    "plt.ylabel('Count')"
   ]
  },
  {
   "cell_type": "markdown",
   "id": "51e7bbf6",
   "metadata": {},
   "source": [
    "Linegraphs are typically used when looking at _time series_ data, that is, when we have information on how a variable changes over time. Hence, there is a natural ordering to the data when observing how something changes over time, and therefore, linegraphs should be avoided if there is no sequential ordering of a variable. Lets again look at the hourly temperature data, but this time only for Newark International Airport in January. This can be done by first subsetting the data as follows:"
   ]
  },
  {
   "cell_type": "code",
   "execution_count": null,
   "id": "9a2880ae",
   "metadata": {},
   "outputs": [],
   "source": [
    "Newark_Jan = weather[(weather['origin'] == 'EWR') & (weather['month'] == 1)]\n",
    "Newark_Jan"
   ]
  },
  {
   "cell_type": "code",
   "execution_count": null,
   "id": "b41add01",
   "metadata": {},
   "outputs": [],
   "source": [
    "plt.plot(Newark_Jan['temp']);"
   ]
  },
  {
   "cell_type": "markdown",
   "id": "35764cf4",
   "metadata": {},
   "source": [
    "# Seaborn Tutorial"
   ]
  },
  {
   "cell_type": "markdown",
   "id": "8aae350a",
   "metadata": {},
   "source": [
    "Seaborn is a data visualization library built on top of Matplotlib. It is often used because it makes attractive visualizations and works easily with Pandas. While in Matplotlib you often have to write multiple lines of code to create a plot Seaborn makes assumptions on what you want which often translates into getting the same plot with 1 line of code.\n",
    "\n",
    "### Installing with pip <br>\n",
    "`pip install seaborn`\n",
    "\n",
    "### Installing with conda <br>\n",
    "`conda install seaborn`"
   ]
  },
  {
   "cell_type": "markdown",
   "id": "3382b33a",
   "metadata": {},
   "source": [
    "### import"
   ]
  },
  {
   "cell_type": "code",
   "execution_count": null,
   "id": "a1709acf",
   "metadata": {},
   "outputs": [],
   "source": [
    "pwd"
   ]
  },
  {
   "cell_type": "code",
   "execution_count": null,
   "id": "a92f8409",
   "metadata": {},
   "outputs": [],
   "source": [
    "import numpy as np\n",
    "import pandas as pd\n",
    "import matplotlib.pyplot as plt\n",
    "import seaborn as sns\n",
    "\n",
    "import warnings\n",
    "warnings.filterwarnings(\"ignore\")"
   ]
  },
  {
   "cell_type": "markdown",
   "id": "299ed07d",
   "metadata": {},
   "source": [
    "### Import Data"
   ]
  },
  {
   "cell_type": "code",
   "execution_count": null,
   "id": "3c2a0892",
   "metadata": {},
   "outputs": [],
   "source": [
    "# You can import custom data\n",
    "cs_df = pd.read_csv('ComputerSales.csv')\n",
    "\n",
    "# Seaborn provides built in datasets\n",
    "print(sns.get_dataset_names())\n",
    "\n",
    "# Load a built in dataset based on US State car crash percentages\n",
    "crash_df = sns.load_dataset('car_crashes')"
   ]
  },
  {
   "cell_type": "code",
   "execution_count": null,
   "id": "1cbf1af9",
   "metadata": {},
   "outputs": [],
   "source": [
    "cs_df"
   ]
  },
  {
   "cell_type": "code",
   "execution_count": null,
   "id": "a094e501",
   "metadata": {},
   "outputs": [],
   "source": [
    "crash_df.head()"
   ]
  },
  {
   "cell_type": "markdown",
   "id": "295aa742",
   "metadata": {},
   "source": [
    "### Distribution Plots"
   ]
  },
  {
   "cell_type": "markdown",
   "id": "34822860",
   "metadata": {},
   "source": [
    "### Distribution Plot"
   ]
  },
  {
   "cell_type": "code",
   "execution_count": null,
   "id": "48d70dcc",
   "metadata": {},
   "outputs": [],
   "source": [
    "# Provides a way to look at a univariate distribution. A \n",
    "# univariate distribution provides a distribution for one variable\n",
    "# Kernal Density Estimation with a Histogram is provided\n",
    "# kde=False removes the KDE\n",
    "# Bins define how many buckets to divide the data up into between intervals\n",
    "# For example put all profits between $10 and $20 in this bucket\n",
    "sns.distplot(crash_df['not_distracted'], kde=True, bins=25)"
   ]
  },
  {
   "cell_type": "markdown",
   "id": "13afd23b",
   "metadata": {},
   "source": [
    "### Joint Plot"
   ]
  },
  {
   "cell_type": "code",
   "execution_count": null,
   "id": "171548bf",
   "metadata": {},
   "outputs": [],
   "source": [
    "# Jointplot compares 2 distributions and plots a scatter plot by default\n",
    "# As we can see as people tend to speed they also tend to drink & drive\n",
    "# With kind you can create a regression line with kind='reg'\n",
    "# You can create a 2D KDE with kind='kde'\n",
    "# Kernal Density Estimation estimates the distribution of data\n",
    "# You can create a hexagon distribution with kind='hex'\n",
    "sns.jointplot(x='speeding', y='alcohol', data=crash_df, kind='reg')"
   ]
  },
  {
   "cell_type": "markdown",
   "id": "b125e4e7",
   "metadata": {},
   "source": [
    "### KDE Plot"
   ]
  },
  {
   "cell_type": "code",
   "execution_count": null,
   "id": "07e5176e",
   "metadata": {},
   "outputs": [],
   "source": [
    "# Get just the KDE plot\n",
    "sns.kdeplot(crash_df['alcohol'])"
   ]
  },
  {
   "cell_type": "markdown",
   "id": "7c495c97",
   "metadata": {},
   "source": [
    "### Pair Plots"
   ]
  },
  {
   "cell_type": "code",
   "execution_count": null,
   "id": "354e5f26",
   "metadata": {},
   "outputs": [],
   "source": [
    "# Pair Plot plots relationships across the entire data frames numerical values\n",
    "sns.pairplot(crash_df)\n",
    "\n",
    "# Load data on tips\n",
    "tips_df = sns.load_dataset('tips')\n",
    "\n",
    "# With hue you can pass in a categorical column and the charts will be colorized\n",
    "# You can use color maps from Matplotlib to define what colors to use\n",
    "# sns.pairplot(tips_df, hue='sex', palette='Blues')"
   ]
  },
  {
   "cell_type": "markdown",
   "id": "78e397da",
   "metadata": {},
   "source": [
    "### Styling"
   ]
  },
  {
   "cell_type": "code",
   "execution_count": null,
   "id": "845a8e8a",
   "metadata": {},
   "outputs": [],
   "source": [
    "# You can set styling for your axes and grids\n",
    "# white, darkgrid, whitegrid, dark, ticks\n",
    "sns.set_style('white')\n",
    "\n",
    "# You can use figure sizing from Matplotlib\n",
    "plt.figure(figsize=(8,4))\n",
    "\n",
    "# Change size of lables, lines and other elements to best fit\n",
    "# how you will present your data (paper, talk, poster)\n",
    "sns.set_context('paper', font_scale=1.4)\n",
    "\n",
    "sns.jointplot(x='speeding', y='alcohol', data=crash_df, kind='reg')\n",
    "\n",
    "# Get rid of spines\n",
    "# You can turn of specific spines with right=True, left=True\n",
    "# bottom=True, top=True\n",
    "sns.despine(left=False, bottom=False)"
   ]
  },
  {
   "cell_type": "markdown",
   "id": "a0c40cf5",
   "metadata": {},
   "source": [
    "### Categorical Plots"
   ]
  },
  {
   "cell_type": "markdown",
   "id": "1b225999",
   "metadata": {},
   "source": [
    "### Bar Plots"
   ]
  },
  {
   "cell_type": "code",
   "execution_count": null,
   "id": "d6747d21",
   "metadata": {},
   "outputs": [],
   "source": [
    "# Focus on distributions using categorical data in reference to one of the numerical\n",
    "# columns\n",
    "\n",
    "# Aggregate categorical data based on a function (mean is the default)\n",
    "# Estimate total bill amount based on sex\n",
    "# With estimator you can define functions to use other than the mean like those\n",
    "# provided by NumPy : median, std, var, cov or make your own functions\n",
    "sns.barplot(x='sex', y='total_bill', data=tips_df, estimator=np.median)"
   ]
  },
  {
   "cell_type": "markdown",
   "id": "cbf13051",
   "metadata": {},
   "source": [
    "### Count Plot"
   ]
  },
  {
   "cell_type": "code",
   "execution_count": null,
   "id": "a6adf080",
   "metadata": {},
   "outputs": [],
   "source": [
    "# A count plot is like a bar plot, but the estimator is counting \n",
    "# the number of occurances\n",
    "sns.countplot(x='sex', data=tips_df)"
   ]
  },
  {
   "cell_type": "markdown",
   "id": "a8bfe6f4",
   "metadata": {},
   "source": [
    "### Box Plot"
   ]
  },
  {
   "cell_type": "code",
   "execution_count": null,
   "id": "dac610db",
   "metadata": {},
   "outputs": [],
   "source": [
    "plt.figure(figsize=(14,9))\n",
    "sns.set_style('darkgrid')\n",
    "\n",
    "# A box plot allows you to compare different variables\n",
    "# The box shows the quartiles of the data. The bar in the middle is the median and\n",
    "# the box extends 1 standard deviation from the median\n",
    "# The whiskers extend to all the other data aside from the points that are considered\n",
    "# to be outliers\n",
    "# Hue can add another category being sex\n",
    "# We see men spend way more on Friday versus less than women on Saturday\n",
    "sns.boxplot(x='day',y='total_bill',data=tips_df, hue='sex')\n",
    "\n",
    "# Moves legend to the best position\n",
    "plt.legend(loc=0)"
   ]
  },
  {
   "cell_type": "markdown",
   "id": "a442709f",
   "metadata": {},
   "source": [
    "### Violin Plot"
   ]
  },
  {
   "cell_type": "code",
   "execution_count": null,
   "id": "7b751812",
   "metadata": {},
   "outputs": [],
   "source": [
    "# Violin Plot is a combination of the boxplot and KDE\n",
    "# While a box plot corresponds to data points, the violin plot uses the KDE estimation\n",
    "# of the data points\n",
    "# Split allows you to compare how the categories compare to each other\n",
    "sns.violinplot(x='day',y='total_bill',data=tips_df, hue='sex',split=True)"
   ]
  },
  {
   "cell_type": "markdown",
   "id": "ef6d81c4",
   "metadata": {},
   "source": [
    "### Strip Plot"
   ]
  },
  {
   "cell_type": "code",
   "execution_count": null,
   "id": "d31a4598",
   "metadata": {},
   "outputs": [],
   "source": [
    "plt.figure(figsize=(8,5))\n",
    "\n",
    "# The strip plot draws a scatter plot representing all data points where one\n",
    "# variable is categorical. It is often used to show all observations with \n",
    "# a box plot that represents the average distribution\n",
    "# Jitter spreads data points out so that they aren't stacked on top of each other\n",
    "# Hue breaks data into men and women\n",
    "# Dodge separates the men and women data\n",
    "sns.stripplot(x='day',y='total_bill',data=tips_df, jitter=True, \n",
    "              hue='sex', dodge=True)"
   ]
  },
  {
   "cell_type": "markdown",
   "id": "efbf71a6",
   "metadata": {},
   "source": [
    "### Swarm Plot"
   ]
  },
  {
   "cell_type": "code",
   "execution_count": null,
   "id": "30855cfa",
   "metadata": {},
   "outputs": [],
   "source": [
    "# A swarm plot is like a strip plot, but points are adjusted so they don't overlap\n",
    "# It looks like a combination of the violin and strip plots\n",
    "# sns.swarmplot(x='day',y='total_bill',data=tips_df)\n",
    "\n",
    "# You can stack a violin plot with a swarm\n",
    "sns.violinplot(x='day',y='total_bill',data=tips_df)\n",
    "sns.swarmplot(x='day',y='total_bill',data=tips_df, color='white')\n"
   ]
  },
  {
   "cell_type": "markdown",
   "id": "24057893",
   "metadata": {},
   "source": [
    "### Palettes"
   ]
  },
  {
   "cell_type": "code",
   "execution_count": null,
   "id": "865fac1c",
   "metadata": {},
   "outputs": [],
   "source": [
    "plt.figure(figsize=(8,6))\n",
    "\n",
    "sns.set_style('dark')\n",
    "\n",
    "sns.set_context('talk')\n",
    "\n",
    "# You can use Matplotlibs color maps for color styling\n",
    "# https://matplotlib.org/3.3.1/tutorials/colors/colormaps.html\n",
    "sns.stripplot(x='day',y='total_bill',data=tips_df, hue='sex', \n",
    "             palette='seismic')\n",
    "\n",
    "# Add the optional legend with a location number (best: 0, \n",
    "# upper right: 1, upper left: 2, lower left: 3, lower right: 4,\n",
    "# https://matplotlib.org/3.3.1/api/_as_gen/matplotlib.pyplot.legend.html)\n",
    "# or supply a tuple of x & y from lower left\n",
    "plt.legend(loc=0)"
   ]
  },
  {
   "cell_type": "markdown",
   "id": "0e86fc7f",
   "metadata": {},
   "source": [
    "### Matrix Plots"
   ]
  },
  {
   "cell_type": "markdown",
   "id": "5d0c48ef",
   "metadata": {},
   "source": [
    "### Heatmaps"
   ]
  },
  {
   "cell_type": "code",
   "execution_count": null,
   "id": "42968d50",
   "metadata": {},
   "outputs": [],
   "source": [
    "plt.figure(figsize=(8,6))\n",
    "sns.set_context('paper', font_scale=1.4)\n",
    "# To create a heatmap with data you must have data set up as a matrix where variables\n",
    "# are on the columns and rows\n",
    "\n",
    "# Correlation tells you how influential a variable is on the result\n",
    "# So we see that n previous accident is heavily correlated with accidents, while the\n",
    "# insurance premium is not\n",
    "crash_mx = crash_df.corr()\n",
    "\n",
    "# Create the heatmap, add annotations and a color map\n",
    "sns.heatmap(crash_mx, annot=True, cmap='Blues');"
   ]
  },
  {
   "cell_type": "code",
   "execution_count": null,
   "id": "e0aacd50",
   "metadata": {},
   "outputs": [],
   "source": [
    "plt.figure(figsize=(8,6))\n",
    "sns.set_context('paper', font_scale=1.4)\n",
    "\n",
    "# We can create a matrix with an index of month, columns representing years\n",
    "# and the number of passengers for each\n",
    "# We see that flights have increased over time and that most people travel in\n",
    "# July and August\n",
    "flights = sns.load_dataset(\"flights\")\n",
    "flights = flights.pivot_table(index='month', columns='year', values='passengers')\n",
    "# You can separate data with lines\n",
    "sns.heatmap(flights, cmap='Blues', linecolor='white', linewidth=1);"
   ]
  },
  {
   "cell_type": "markdown",
   "id": "278badc9",
   "metadata": {},
   "source": [
    "### Cluster Map"
   ]
  },
  {
   "cell_type": "code",
   "execution_count": null,
   "id": "b3bd4b9e",
   "metadata": {},
   "outputs": [],
   "source": [
    "plt.figure(figsize=(8,6))\n",
    "sns.set_context('paper', font_scale=1.4)\n",
    "\n",
    "# A Cluster map is a hierarchically clustered heatmap\n",
    "# The distance between points is calculated, the closest are joined, and this\n",
    "# continues for the next closest (It compares columns / rows of the heatmap)\n",
    "# This is data on iris flowers with data on petal lengths\n",
    "iris = sns.load_dataset(\"iris\")\n",
    "# Return values for species\n",
    "# species = iris.pop(\"species\")\n",
    "# sns.clustermap(iris)\n",
    "\n",
    "# With our flights data we can see that years have been reoriented to place\n",
    "# like data closer together\n",
    "# You can see clusters of data for July & August for the years 59 & 60\n",
    "# standard_scale normalizes the data to focus on the clustering\n",
    "sns.clustermap(flights,cmap=\"Blues\", standard_scale=1)\n"
   ]
  },
  {
   "cell_type": "markdown",
   "id": "151e3792",
   "metadata": {},
   "source": [
    "### PairGrid"
   ]
  },
  {
   "cell_type": "code",
   "execution_count": null,
   "id": "247f9856",
   "metadata": {},
   "outputs": [],
   "source": [
    "plt.figure(figsize=(8,6))\n",
    "sns.set_context('paper', font_scale=1.4)\n",
    "\n",
    "# You can create a grid of different plots with complete control over what is displayed\n",
    "# Create the empty grid system using the provided data\n",
    "# Colorize based on species\n",
    "# iris_g = sns.PairGrid(iris, hue=\"species\")\n",
    "\n",
    "# Put a scatter plot across the upper, lower and diagonal\n",
    "# iris_g.map(plt.scatter)\n",
    "\n",
    "# Put a histogram on the diagonal \n",
    "# iris_g.map_diag(plt.hist)\n",
    "# And a scatter plot every place else \n",
    "# iris_g.map_offdiag(plt.scatter)\n",
    "\n",
    "# Have different plots in upper, lower and diagonal\n",
    "# iris_g.map_upper(plt.scatter)\n",
    "# iris_g.map_lower(sns.kdeplot)\n",
    "\n",
    "# You can define define variables for x & y for a custom grid\n",
    "iris_g = sns.PairGrid(iris, hue=\"species\",\n",
    "                      x_vars=[\"sepal_length\", \"sepal_width\"],\n",
    "                      y_vars=[\"petal_length\", \"petal_width\"])\n",
    "\n",
    "iris_g.map(plt.scatter)\n",
    "\n",
    "# Add a legend last\n",
    "iris_g.add_legend();"
   ]
  },
  {
   "cell_type": "markdown",
   "id": "40c96703",
   "metadata": {},
   "source": [
    "### Facet Grid"
   ]
  },
  {
   "cell_type": "code",
   "execution_count": null,
   "id": "63b5954c",
   "metadata": {},
   "outputs": [],
   "source": [
    "# Can also print multiple plots in a grid in which you define columns & rows\n",
    "# Get histogram for smokers and non with total bill for lunch & dinner\n",
    "# tips_fg = sns.FacetGrid(tips_df, col='time', row='smoker')\n",
    "\n",
    "# You can pass in attributes for the histogram\n",
    "# tips_fg.map(plt.hist, \"total_bill\", bins=8)\n",
    "\n",
    "# Create a scatter plot with data on total bill & tip (You need to parameters)\n",
    "# tips_fg.map(plt.scatter, \"total_bill\", \"tip\")\n",
    "\n",
    "# We can assign variables to different colors and increase size of grid\n",
    "# Aspect is 1.3 x the size of height\n",
    "# You can change the order of the columns\n",
    "# Define the palette used\n",
    "# tips_fg = sns.FacetGrid(tips_df, col='time', hue='smoker', height=4, aspect=1.3,\n",
    "#                       col_order=['Dinner', 'Lunch'], palette='Set1')\n",
    "# tips_fg.map(plt.scatter, \"total_bill\", \"tip\", edgecolor='w')\n",
    "\n",
    "# # Define size, linewidth and assign a color of white to markers\n",
    "# kws = dict(s=50, linewidth=.5, edgecolor=\"w\")\n",
    "# # Define that we want to assign different markers to smokers and non\n",
    "# tips_fg = sns.FacetGrid(tips_df, col='sex', hue='smoker', height=4, aspect=1.3,\n",
    "#                         hue_order=['Yes','No'], \n",
    "#                         hue_kws=dict(marker=['^', 'v']))\n",
    "# tips_fg.map(plt.scatter, \"total_bill\", \"tip\", **kws)\n",
    "# tips_fg.add_legend()\n",
    "\n",
    "# This dataframe provides scores for different students based on the level\n",
    "# of attention they could provide during testing\n",
    "att_df = sns.load_dataset(\"attention\")\n",
    "# Put each person in their own plot with 5 per line and plot their scores\n",
    "att_fg = sns.FacetGrid(att_df, col='subject', col_wrap=5, height=1.5)\n",
    "att_fg.map(plt.plot, 'solutions', 'score', marker='.');"
   ]
  },
  {
   "cell_type": "markdown",
   "id": "4eae4b78",
   "metadata": {},
   "source": [
    "### Regression Plots"
   ]
  },
  {
   "cell_type": "code",
   "execution_count": null,
   "id": "ce2bfc6d",
   "metadata": {},
   "outputs": [],
   "source": [
    "# lmplot combines regression plots with facet grid\n",
    "tips_df = sns.load_dataset('tips')\n",
    "tips_df.head()"
   ]
  },
  {
   "cell_type": "code",
   "execution_count": null,
   "id": "27300ecf",
   "metadata": {},
   "outputs": [],
   "source": [
    "plt.figure(figsize=(8,6));\n",
    "sns.set_context('paper', font_scale=1.4);\n",
    "\n",
    "plt.figure(figsize=(8,6));\n",
    "\n",
    "# We can plot a regression plot studying whether total bill effects the tip\n",
    "# hue is used to show separation based off of categorical data\n",
    "# We see that males tend to tip slightly more\n",
    "# Define different markers for men and women\n",
    "# You can effect the scatter plot by passing in a dictionary for styling of markers\n",
    "sns.lmplot(x='total_bill', y='tip', hue='sex', data=tips_df, markers=['o', '^'], \n",
    "          scatter_kws={'s': 100, 'linewidth': 0.5, 'edgecolor': 'w'});"
   ]
  },
  {
   "cell_type": "code",
   "execution_count": null,
   "id": "6f9840a5",
   "metadata": {},
   "outputs": [],
   "source": [
    "# You can separate the data into separate columns for day data\n",
    "# sns.lmplot(x='total_bill', y='tip', col='sex', row='time', data=tips_df)\n",
    "tips_df.head()\n",
    "\n",
    "# Makes the fonts more readable\n",
    "sns.set_context('poster', font_scale=1.4)\n",
    "\n",
    "sns.lmplot(x='total_bill', y='tip', data=tips_df, col='day', hue='sex',\n",
    "          height=8, aspect=0.6);"
   ]
  },
  {
   "cell_type": "code",
   "execution_count": null,
   "id": "b53bdc7d",
   "metadata": {},
   "outputs": [],
   "source": []
  },
  {
   "cell_type": "code",
   "execution_count": null,
   "id": "cc022f06",
   "metadata": {},
   "outputs": [],
   "source": [
    "# Handle all my imports\n",
    "import numpy as np\n",
    "import pandas as pd\n",
    "from sklearn.preprocessing import LabelBinarizer\n",
    "from sklearn.model_selection import train_test_split\n",
    "from sklearn.linear_model import LinearRegression\n",
    "import matplotlib.pyplot as plt\n",
    "import statsmodels.api as sm\n",
    "from sklearn.metrics import r2_score , mean_absolute_error, mean_squared_error"
   ]
  },
  {
   "cell_type": "markdown",
   "id": "c4e957cf",
   "metadata": {},
   "source": [
    "# Regression"
   ]
  },
  {
   "cell_type": "markdown",
   "id": "0b754f87",
   "metadata": {},
   "source": [
    "\n",
    "Supervised learning use cases examples\n",
    "\n",
    "- How much will be the daily, monthly, and yearly sales for agiven store for the next three years?\n",
    "- How many car parking spaces should be allocated for a retail store?\n",
    "- How much will be my monthly electricity cost for the next three years?\n",
    "- What will be the temperature for the next five days?\n",
    "\n",
    "The presence of the words ‘how much’ and ‘how\n",
    "many’ implies that the answer for these questions will be a quantitative or continuous\n",
    "number. The regression is one of the fundamental techniques that will help us to find answers to these types of questions by studying the relationship between the different\n",
    "variables that are relevant to the questions that we are trying to answer.\n",
    "\n",
    "<b>Example: </b>\n",
    "Let’s consider a use case where we have collected students’ average test grade scores\n",
    "and their respective average number of study hours for the test for group of similar IQ\n",
    "students."
   ]
  },
  {
   "cell_type": "code",
   "execution_count": null,
   "id": "2a8ca952",
   "metadata": {},
   "outputs": [],
   "source": [
    "data = {'Hours_Studied': [2,3,4,5,6,7,8,9,10],\n",
    "       'Test_Grade':[57,66,73,76,79,81,90,96,100]}\n",
    "df = pd.DataFrame(data)\n",
    "df.head()"
   ]
  },
  {
   "cell_type": "code",
   "execution_count": null,
   "id": "941f5c95",
   "metadata": {},
   "outputs": [],
   "source": [
    "df.corr()"
   ]
  },
  {
   "cell_type": "code",
   "execution_count": null,
   "id": "5894bfb5",
   "metadata": {},
   "outputs": [],
   "source": [
    "# Simple scatter plot\n",
    "df.plot(kind='scatter', x='Hours_Studied', y='Test_Grade', title='Grade vs Hours Studied')\n",
    "plt.show()"
   ]
  },
  {
   "cell_type": "markdown",
   "id": "9ab2ac66",
   "metadata": {},
   "source": [
    "A simple scatter plot with hours studied on the x-axis and the test grades on the\n",
    "y-axis shows that <b>the grade gradually increases with the increase in hours of study</b>. \n",
    "\n",
    "This implies that there is a linear relationship between the two variables. Further performing\n",
    "the correlation analysis shows that there is 98% positive relationship between the two\n",
    "variables, which means there is 98% chance that any change in study hours will lead to a\n",
    "change in grade."
   ]
  },
  {
   "cell_type": "markdown",
   "id": "45c4775d",
   "metadata": {},
   "source": [
    "## 2. Linear Regression Model\n",
    "\n",
    "For a given positive interger $n$, Linear Regression assumes the following model: \n",
    " \n",
    " $$Y = X\\alpha+ \\beta  + \\epsilon,$$\n",
    "where\n",
    "- $X = [X_1, \\cdots, X_n], X_i \\in R^m$ is the list of independant variables (explanatory),\n",
    "- $Y\\in R^m$ is the dependant variable (Target) \n",
    "- $\\alpha^T = [\\alpha_1, \\cdots, \\alpha_n]$ is list of coefficients called slope, \n",
    "- $\\beta\\in R^m$ in called the intercept, \n",
    "- $\\epsilon \\in R^m$ is the error that cannot be explained by model.\n",
    "\n",
    " \n",
    "Let's use the linear regression function from the <b>scikit-learn</b> library to find the values of $\\alpha$ and $\\beta$.\n",
    "\n",
    "Let us denote $\\hat{Y}$ the mean value of  $Y$ i.e.$$\\hat{Y} = \\dfrac{1}{n}\\sum_{1}^n y_i $$\n",
    "\n",
    "## 2.1. How good is your model?\n",
    "There are three metrics widely used for evaluating linear model performance.\n",
    "### 2.1.1. R-Squared for goodness of fit\n",
    "\n",
    "The R-squared metric is the most popular practice of evaluating how well your model fits\n",
    "the data. \n",
    "$$ \\text{R-squared} = 1 - \\dfrac{\\sum_{1}^n(e_i)^2}{\\sum_{1}^n(Y_i -\\bar{Y})^2} $$\n",
    "It is a value between 0 and 1; the value\n",
    "toward 1 indicates a better model fit. It can be computed with <b>r2_score</b> python function.\n",
    "\n",
    "### 2.1.2. Mean Absolute Error (MAE)\n",
    "\n",
    "The Mean Absolute Error, denoted MAE, is the mean or average of absolute value of the errors.\n",
    "$$\\text{MAE}= \\dfrac{1}{n}\\sum_{1}^n \\mid e_i\\mid $$\n",
    "\n",
    "MAE indicates how close the\n",
    "predicted values are to the actual values; hence a lower MAE value signifies that the\n",
    "model performance is good. It can be computed (in %) with <b>mean_absolute_error</b> python function. \n",
    "\n",
    "\n",
    "### 2.1.3. Root Mean Squared Error (RMSE)\n",
    "This is the square root of the mean of the squared errors. \n",
    "\n",
    "$$\\text{MAE}= \\sqrt{\\dfrac{1}{n}\\sum_{1}^n  (e_i)^2} $$\n",
    "RMSE indicates how close the\n",
    "predicted values are to the actual values; hence a lower RMSE value signifies that the\n",
    "model performance is good. It can be computed (in %) with <b>mean_squared_error</b> python function. \n",
    "\n",
    "\n",
    "### 2.2. Single variable Linear regression ($m=1$)\n",
    "\n",
    "Let’s consider a use case where we have collected students's average python mark\n",
    "and their respective average mark in the review phase."
   ]
  },
  {
   "cell_type": "code",
   "execution_count": null,
   "id": "1c1f1579",
   "metadata": {},
   "outputs": [],
   "source": [
    "df = pd.read_csv('PythonEffect.csv')\n",
    "# print(df.info())\n",
    "df.head()"
   ]
  },
  {
   "cell_type": "code",
   "execution_count": null,
   "id": "7fb71d20",
   "metadata": {},
   "outputs": [],
   "source": [
    "df.corr()"
   ]
  },
  {
   "cell_type": "code",
   "execution_count": null,
   "id": "aab6199f",
   "metadata": {},
   "outputs": [],
   "source": [
    "# Simple scatter plot\n",
    "df.plot(kind='scatter', x='PythonMark', y='ReviewPhaseMark', title='Python Effect')\n",
    "plt.show()"
   ]
  },
  {
   "cell_type": "code",
   "execution_count": null,
   "id": "d32ca00f",
   "metadata": {},
   "outputs": [],
   "source": [
    "# Create linear regression object\n",
    "Single_lr = LinearRegression()\n",
    "# #Extract \n",
    "X= df.PythonMark.values.reshape(-1, 1) # independent variable\n",
    "Y= df.ReviewPhaseMark.values.flatten() # dependent variable\n"
   ]
  },
  {
   "cell_type": "code",
   "execution_count": null,
   "id": "f08e5cad",
   "metadata": {},
   "outputs": [],
   "source": [
    "# split-up our current X & y variables into training\n",
    "# and testing data.\n",
    "\n",
    "X_train, X_test, Y_train, Y_test = train_test_split(X, Y, test_size=0.2, random_state=42)\n",
    "\n",
    "# Now we need to initiate our model and train it\n",
    "Single_lr.fit(X_train, Y_train)"
   ]
  },
  {
   "cell_type": "code",
   "execution_count": null,
   "id": "fd0a0e6e",
   "metadata": {},
   "outputs": [],
   "source": [
    "# get the value of alpha and beta\n",
    "alpha = Single_lr.coef_\n",
    "beta = Single_lr.intercept_\n",
    "\n",
    "# print the value of alpha and beta\n",
    "print('alpha = ', alpha[0])\n",
    "print('beta = ', beta)\n"
   ]
  },
  {
   "cell_type": "code",
   "execution_count": null,
   "id": "29defae9",
   "metadata": {
    "scrolled": true
   },
   "outputs": [],
   "source": [
    "# Make predictions using the testing set\n",
    "Y_pred = Single_lr.predict(X_test)\n",
    "\n",
    "# R-squared\n",
    "print('R-squared: %.2f' % r2_score(Y_test, Y_pred))\n",
    "# mean absolute error\n",
    "print(\"mean absolute error: %.2f\"% mean_absolute_error(Y_test, Y_pred))\n",
    "# Mean squared error\n",
    "print(\"Mean squared error: %.2f\"% mean_squared_error(Y_test, Y_pred))\n"
   ]
  },
  {
   "cell_type": "code",
   "execution_count": null,
   "id": "8a6c438e",
   "metadata": {},
   "outputs": [],
   "source": [
    "# Plot outputs\n",
    "plt.scatter(X_test, Y_test,  color='black')\n",
    "plt.plot(X_test, Y_pred, color='blue', linewidth=3)\n",
    "\n",
    "plt.show()\n"
   ]
  },
  {
   "cell_type": "markdown",
   "id": "a00b0018",
   "metadata": {},
   "source": [
    "### 2.3.  Multivariate Linear regression ($m>1$)\n",
    "\n",
    "Let us consider the following data"
   ]
  },
  {
   "cell_type": "code",
   "execution_count": null,
   "id": "bfa0d1a4",
   "metadata": {
    "scrolled": true
   },
   "outputs": [],
   "source": [
    "# Import the data and inspect it\n",
    "maths = pd.read_csv('student-mat.csv')\n",
    "maths.head()"
   ]
  },
  {
   "cell_type": "code",
   "execution_count": null,
   "id": "a198f6fe",
   "metadata": {},
   "outputs": [],
   "source": [
    "print(maths.info())"
   ]
  },
  {
   "cell_type": "code",
   "execution_count": null,
   "id": "679e2566",
   "metadata": {},
   "outputs": [],
   "source": [
    "corr = maths.corr()\n",
    "# maths.corr()\n",
    "sm.graphics.plot_corr(corr, xnames=list(corr.columns))\n",
    "plt.show()"
   ]
  },
  {
   "cell_type": "code",
   "execution_count": null,
   "id": "893d8457",
   "metadata": {},
   "outputs": [],
   "source": [
    "maths.sex.unique()#this is a categorical variable"
   ]
  },
  {
   "cell_type": "code",
   "execution_count": null,
   "id": "c3e5e7f3",
   "metadata": {},
   "outputs": [],
   "source": [
    "maths.famsize.unique()#this is a categorical variable"
   ]
  },
  {
   "cell_type": "markdown",
   "id": "957f2329",
   "metadata": {},
   "source": [
    "<b>Note that sklearn can only accept numerical inputs</b>.\n",
    "\n",
    "### 2.3.1. Pre-processing of labeled data\n",
    "The categorical variables need to be handled appropriately before running the first\n",
    "iteration of the model. Scikit-learn provides useful built-in preprocessing functions to\n",
    "handle categorical variables.\n",
    "\n",
    "- <b>LabelBinarizer</b>: This will replace the binary variable text withvnumeric vales. We'll be using this function for the binary categorical variables.\n",
    "\n",
    "- <b>LabelEncoder</b>: This will replace category level with number representation.\n",
    "\n",
    "- <b>OneHotEncoder</b>: This will convert n levels to n-1 new variable, and the new variables will use 1 to indicate the presence of level and 0 for otherwise. Note that before calling <b>OneHotEncoder</b>, we should use <b>LabelEncoder</b> to convert levels to number. Alternatively we can achieve the same using get_dummies of the Pandas package. This is much more efficient to use as we can directly use it on the column with text description without having to convert to numbers first."
   ]
  },
  {
   "cell_type": "code",
   "execution_count": null,
   "id": "252ea4fc",
   "metadata": {},
   "outputs": [],
   "source": [
    "# # Convert binary variable 'sex' to numeric boolean fields\n",
    "lb = LabelBinarizer()\n",
    "maths.sex = lb.fit_transform(maths.sex)\n",
    "maths.sex.unique()"
   ]
  },
  {
   "cell_type": "code",
   "execution_count": null,
   "id": "61c642e3",
   "metadata": {},
   "outputs": [],
   "source": [
    "# # Convert binary variable 'famsize' to numeric boolean fields\n",
    "maths.famsize = lb.fit_transform(maths.famsize)\n",
    "maths.famsize.unique()"
   ]
  },
  {
   "cell_type": "code",
   "execution_count": null,
   "id": "3a062106",
   "metadata": {
    "scrolled": true
   },
   "outputs": [],
   "source": [
    "corr = maths.corr()\n",
    "sm.graphics.plot_corr(corr, xnames=list(corr.columns))\n",
    "plt.show()\n",
    "\n"
   ]
  },
  {
   "cell_type": "code",
   "execution_count": null,
   "id": "7bd7b88d",
   "metadata": {},
   "outputs": [],
   "source": [
    "maths = maths[['sex', 'famsize', 'studytime', 'famrel', 'absences', 'G1', 'G2', 'G3']]\n",
    "\n",
    "\n",
    "MX = maths[['sex', 'famsize', 'studytime', 'famrel', 'absences', 'G1', 'G2']].values.reshape(-1, 7)\n",
    "MY = maths['G3'].values.flatten()"
   ]
  },
  {
   "cell_type": "code",
   "execution_count": null,
   "id": "b82f3b3d",
   "metadata": {},
   "outputs": [],
   "source": [
    "# split-up our current X & y variables into training\n",
    "# and testing data.\n",
    "\n",
    "MX_train, MX_test, MY_train, MY_test = train_test_split(MX,MY, test_size=0.2, random_state=42)\n",
    "\n",
    "# Now we need to initiate our model and train it\n",
    "\n",
    "Multi_lr = LinearRegression()\n",
    "Multi_lr.fit(MX_train, MY_train)"
   ]
  },
  {
   "cell_type": "code",
   "execution_count": null,
   "id": "3f9010e1",
   "metadata": {},
   "outputs": [],
   "source": [
    "# Lets take a look at how well this model preforms\n",
    "print(\"The R-Squared: \", Multi_lr.score(MX_test, MY_test))\n",
    "alpha = Multi_lr.coef_\n",
    "beta = Multi_lr.intercept_\n",
    "\n",
    "for i in range(alpha.size):\n",
    "    print(maths.columns[i], ': ', alpha[i])\n",
    "print('The intercept of our slope is: ', beta)"
   ]
  },
  {
   "cell_type": "code",
   "execution_count": null,
   "id": "a984513e",
   "metadata": {},
   "outputs": [],
   "source": [
    "MY_pred = Multi_lr.predict(MX_test)\n",
    "print('Mean Absolute Error:', mean_absolute_error(MY_test, MY_pred))  \n",
    "print('Mean Squared Error:', mean_squared_error(MY_test, MY_pred))  \n",
    "print('Root Mean Squared Error:', np.sqrt(mean_squared_error(MY_test, MY_pred)))"
   ]
  },
  {
   "cell_type": "code",
   "execution_count": null,
   "id": "410efd2a",
   "metadata": {},
   "outputs": [],
   "source": []
  },
  {
   "cell_type": "code",
   "execution_count": null,
   "id": "d6394980",
   "metadata": {},
   "outputs": [],
   "source": []
  },
  {
   "cell_type": "code",
   "execution_count": null,
   "id": "a4a088fc",
   "metadata": {},
   "outputs": [],
   "source": [
    "import numpy as np\n",
    "import matplotlib.pyplot as plt\n",
    "import pandas as pd\n",
    "import seaborn as sns\n",
    "from sklearn.linear_model import LogisticRegression\n",
    "from sklearn.model_selection import train_test_split\n",
    "from sklearn.metrics import confusion_matrix, accuracy_score"
   ]
  },
  {
   "cell_type": "code",
   "execution_count": null,
   "id": "b6422c58",
   "metadata": {},
   "outputs": [],
   "source": [
    "dataset = pd.read_csv(\"Iris.csv\")\n",
    "dataset.head()"
   ]
  },
  {
   "cell_type": "code",
   "execution_count": null,
   "id": "fc0983da",
   "metadata": {},
   "outputs": [],
   "source": [
    "X = dataset[[\"SepalLengthCm\",\"SepalWidthCm\", \"PetalLengthCm\",\"PetalWidthCm\"]].values.reshape(-1,4)\n",
    "y = dataset[\"Species\"].values.flatten()\n",
    "X_train, X_test, y_train, y_test = train_test_split(X, y, test_size = 0.25, random_state = 0)"
   ]
  },
  {
   "cell_type": "code",
   "execution_count": null,
   "id": "46c55150",
   "metadata": {},
   "outputs": [],
   "source": [
    "# Fitting Logistic Regression to the Training set\n",
    "classifier = LogisticRegression(random_state = 0, multi_class='auto')\n",
    "classifier.fit(X_train, y_train)"
   ]
  },
  {
   "cell_type": "code",
   "execution_count": null,
   "id": "d85f401b",
   "metadata": {},
   "outputs": [],
   "source": [
    "# Predicting the Test set results\n",
    "y_pred = classifier.predict(X_test)\n",
    "# Predict probabilities\n",
    "probs_y=classifier.predict_proba(X_test)### Print results \n",
    "probs_y = np.round(probs_y, 2)\n",
    "probs_y\n",
    "result = pd.DataFrame(probs_y, columns= np.unique(dataset.Species))\n",
    "result.insert(loc=0, column=\"Test\", value=y_test)\n",
    "result.insert(loc=1, column ='Predicted', value=y_pred)\n",
    "result.sample(10)"
   ]
  },
  {
   "cell_type": "code",
   "execution_count": null,
   "id": "33a8e9ac",
   "metadata": {},
   "outputs": [],
   "source": [
    "con_mat = confusion_matrix(y_test, y_pred)\n",
    "print(con_mat)"
   ]
  },
  {
   "cell_type": "code",
   "execution_count": null,
   "id": "61c0ed62",
   "metadata": {},
   "outputs": [],
   "source": [
    "# confusion matrix sns heatmap \n",
    "#ax = plt.axes()\n",
    "sns.heatmap(con_mat, annot=True, annot_kws={\"size\": 20},cmap=\"summer_r\", xticklabels=np.unique(dataset.Species),\n",
    "           yticklabels=np.unique(dataset.Species))\n",
    "plt.title(\"Confusion Matrix of the classifier\")\n",
    "plt.ylabel('Actual labels')\n",
    "plt.xlabel('Predicted labels')\n",
    "plt.show()"
   ]
  },
  {
   "cell_type": "code",
   "execution_count": null,
   "id": "8c1b90ea",
   "metadata": {},
   "outputs": [],
   "source": [
    "print(\"Accuracy:\",accuracy_score(y_test, y_pred))"
   ]
  },
  {
   "cell_type": "markdown",
   "id": "4a2a4199",
   "metadata": {},
   "source": [
    "# Exos"
   ]
  },
  {
   "cell_type": "markdown",
   "id": "7db5455e",
   "metadata": {},
   "source": [
    "## Stats"
   ]
  },
  {
   "cell_type": "code",
   "execution_count": null,
   "id": "single-application",
   "metadata": {},
   "outputs": [],
   "source": [
    "import numpy as np\n",
    "import matplotlib.pyplot as plt\n",
    "np.random.seed(10)"
   ]
  },
  {
   "cell_type": "code",
   "execution_count": null,
   "id": "cbcd5f0a",
   "metadata": {},
   "outputs": [],
   "source": [
    "# Write Python function called Process that takes α, N, q and return the array of x_i\n",
    "# 1\n",
    "def Process(alpha, N, q):\n",
    "    x=np.zeros(N+1)\n",
    "    x[0]=np.random.normal(0,1)\n",
    "    x[1:]=alpha*x[0:N]+np.random.normal(0,q,N)\n",
    "    return x"
   ]
  },
  {
   "cell_type": "code",
   "execution_count": null,
   "id": "f8162d26",
   "metadata": {},
   "outputs": [],
   "source": [
    "# 2\n",
    "def Data(x,r,h):\n",
    "    N=len(x)-1\n",
    "    y=np.zeros(N)\n",
    "    y=h*x[1:]+np.random.normal(0,r,N)\n",
    "    return y\n",
    "    "
   ]
  },
  {
   "cell_type": "code",
   "execution_count": null,
   "id": "bc4e4173",
   "metadata": {},
   "outputs": [],
   "source": [
    "# 3\n",
    "r = 0.1 \n",
    "h = 1\n",
    "alpha = 0.8\n",
    "N = 30\n",
    "q = 0.4\n",
    "x=Process(alpha, N, q)\n",
    "y=Data(x,r,h)"
   ]
  },
  {
   "cell_type": "code",
   "execution_count": null,
   "id": "840186ab",
   "metadata": {},
   "outputs": [],
   "source": [
    "\n",
    "plt.plot(np.arange(N+1),x)\n",
    "plt.plot(np.arange(1,N+1),y)\n",
    "\n",
    "plt.show()"
   ]
  },
  {
   "cell_type": "code",
   "execution_count": null,
   "id": "ea65850b",
   "metadata": {},
   "outputs": [],
   "source": [
    "# 6\n",
    "mu1_0 = 0\n",
    "sigma1_0 = q+alpha**2\n",
    "K1=h*(q+alpha**2)*(h**2*(q+alpha**2)+r)**(-1)\n",
    "mu1_1=K1*y[0]\n",
    "sigma1_1=(1-K1*h)*sigma1_0 \n",
    "# 7\n",
    "mu_old=np.zeros(N)\n",
    "sigma_old=np.zeros(N)\n",
    "K=np.zeros(N)\n",
    "mu_new=np.zeros(N)\n",
    "sigma_new=np.zeros(N)\n",
    "\n",
    "mu_old[0]=mu1_0 \n",
    "sigma_old[0]=sigma1_0\n",
    "K[0]=K1\n",
    "mu_new[0]=mu1_1\n",
    "sigma_new[0]=sigma1_1\n",
    "\n",
    "for i in range(1,N):\n",
    "    mu_old[i]=alpha*mu_old[i-1]\n",
    "    sigma_old[i]=q+alpha**2*sigma_new[i-1]\n",
    "    K[i]=h*sigma_old[i]*(h**2*sigma_old[i]+r)**(-1)\n",
    "    mu_new[i]=mu_old[i]+ K[i]*(y[i]-h*mu_old[i])\n",
    "    sigma_new[i]=(1-h*K[i])*sigma_old[i]\n",
    "\n",
    "# mu_old[1:]=alpha*mu_old[0:N-1]\n",
    "# sigma_old[1:]=q+alpha**2*sigma_new[0:N-1]\n",
    "# K[1:]=h*sigma_old[1:]*(h**2*sigma_old[1:]+r)**(-1)\n",
    "# mu_new[1:]=mu_old[1:]+ K[1:]*(y[1:]-h*mu_old[1:])\n",
    "# sigma_new[1:]=(1-h*K[1:])*sigma_old[1:]"
   ]
  },
  {
   "cell_type": "code",
   "execution_count": null,
   "id": "occupied-copyright",
   "metadata": {},
   "outputs": [],
   "source": [
    "# 8  a)\n",
    "print(mu_new)\n",
    "sigma_old"
   ]
  },
  {
   "cell_type": "code",
   "execution_count": null,
   "id": "lucky-expression",
   "metadata": {},
   "outputs": [],
   "source": [
    "# 8  b)\n",
    "print(mu_new)\n",
    "sigma_new"
   ]
  },
  {
   "cell_type": "code",
   "execution_count": null,
   "id": "adaptive-humor",
   "metadata": {},
   "outputs": [],
   "source": [
    "# 9)\n",
    "plt.plot(np.arange(1,N+1),x[1:],label=\"x\")\n",
    "plt.plot(np.arange(1,N+1),y,label=\"y\")\n",
    "plt.plot(np.arange(1,N+1),mu_old,label=\"mu_old\")\n",
    "plt.plot(np.arange(1,N+1),mu_new,label=\"mu_new\")\n",
    "plt.legend()\n",
    "plt.show()"
   ]
  },
  {
   "cell_type": "code",
   "execution_count": null,
   "id": "ordinary-mortality",
   "metadata": {},
   "outputs": [],
   "source": []
  },
  {
   "cell_type": "code",
   "execution_count": null,
   "id": "f3df3f56",
   "metadata": {},
   "outputs": [],
   "source": [
    "# 1)\n",
    "import matplotlib.pyplot as plt\n",
    "import pandas as pd\n",
    "import seaborn as sns"
   ]
  },
  {
   "cell_type": "code",
   "execution_count": null,
   "id": "4a809881",
   "metadata": {},
   "outputs": [],
   "source": [
    "# 2)\n",
    "# sns.set_context(\"poster\")\n",
    "# 3)\n",
    "data = sns.load_dataset(\"diamonds\")\n",
    "data.head()"
   ]
  },
  {
   "cell_type": "code",
   "execution_count": null,
   "id": "41550eb2",
   "metadata": {},
   "outputs": [],
   "source": [
    "# 4)\n",
    "data.shape[1]"
   ]
  },
  {
   "cell_type": "code",
   "execution_count": null,
   "id": "86554471",
   "metadata": {},
   "outputs": [],
   "source": [
    "# 5)\n",
    "data.info()"
   ]
  },
  {
   "cell_type": "code",
   "execution_count": null,
   "id": "a2d01db3",
   "metadata": {},
   "outputs": [],
   "source": [
    "# 6)\n",
    "data[\"color\"].unique()"
   ]
  },
  {
   "cell_type": "code",
   "execution_count": null,
   "id": "d225e47b",
   "metadata": {},
   "outputs": [],
   "source": [
    "# 7)\n",
    "data[\"depth\"].min()"
   ]
  },
  {
   "cell_type": "code",
   "execution_count": null,
   "id": "8847c820",
   "metadata": {},
   "outputs": [],
   "source": [
    "# 8)\n",
    "data1=data.groupby([\"clarity\",\"cut\"]).count().iloc[:,[0]]\n",
    "data1"
   ]
  },
  {
   "cell_type": "code",
   "execution_count": null,
   "id": "d552fbce",
   "metadata": {},
   "outputs": [],
   "source": [
    "# 9)\n",
    "data.loc[data[\"price\"]==data.price.max(),[\"color\",\"clarity\",\"cut\"]]"
   ]
  },
  {
   "cell_type": "code",
   "execution_count": null,
   "id": "8ea262a3",
   "metadata": {},
   "outputs": [],
   "source": [
    "# 10)\n",
    "plt.figure(figsize=(15,6))\n",
    "plt.subplot(1,2,1)\n",
    "sns.violinplot(x='cut',y='price',data=data)\n",
    "plt.subplot(1,2,2)\n",
    "sns.scatterplot(x='x',y='price',hue=\"cut\",data=data)\n",
    "plt.legend(loc='upper left')\n",
    "plt.show()"
   ]
  },
  {
   "cell_type": "code",
   "execution_count": null,
   "id": "559cb085",
   "metadata": {},
   "outputs": [],
   "source": [
    "# 11\n",
    "import numpy as np\n",
    "import pandas as pd\n",
    "from sklearn.preprocessing import LabelBinarizer\n",
    "from sklearn.model_selection import train_test_split\n",
    "from sklearn.linear_model import LinearRegression\n",
    "import matplotlib.pyplot as plt\n",
    "import statsmodels.api as sm\n",
    "from sklearn.metrics import r2_score , mean_absolute_error, mean_squared_error\n",
    "\n",
    "\n"
   ]
  },
  {
   "cell_type": "code",
   "execution_count": null,
   "id": "e6e8431f",
   "metadata": {},
   "outputs": [],
   "source": [
    "data1=data.loc[:,[\"carat\",\"depth\",\"x\",\"y\",\"z\",\"price\"]]"
   ]
  },
  {
   "cell_type": "code",
   "execution_count": null,
   "id": "91afddba",
   "metadata": {},
   "outputs": [],
   "source": [
    "corr = data1.corr()\n",
    "sm.graphics.plot_corr(corr, xnames=list(corr.columns))\n",
    "plt.show()"
   ]
  },
  {
   "cell_type": "code",
   "execution_count": null,
   "id": "0bcd5e1f",
   "metadata": {},
   "outputs": [],
   "source": [
    "# for binarize\n",
    "# lb = LabelBinarizer()\n",
    "# maths.sex = lb.fit_transform(maths.sex)\n"
   ]
  },
  {
   "cell_type": "code",
   "execution_count": null,
   "id": "f33d9bb6",
   "metadata": {},
   "outputs": [],
   "source": [
    "MX = data1[[\"carat\",\"depth\",\"x\",\"y\",\"z\"]].values.reshape(-1, 5)\n",
    "MY = data1['price'].values.flatten()\n",
    "\n",
    "MX_train, MX_test, MY_train, MY_test = train_test_split(MX,MY, test_size=0.2, random_state=42)\n",
    "\n",
    "Multi_lr = LinearRegression()\n",
    "Multi_lr.fit(MX_train, MY_train)\n",
    "\n",
    "# Lets take a look at how well this model preforms\n",
    "print(\"The R-Squared: \", Multi_lr.score(MX_test, MY_test))\n",
    "alpha = Multi_lr.coef_\n",
    "beta = Multi_lr.intercept_\n",
    "\n",
    "\n",
    "for i in range(alpha.size):\n",
    "    print(data1.columns[i], ': ', alpha[i])\n",
    "print('The intercept of our slope is: ', beta)"
   ]
  },
  {
   "cell_type": "code",
   "execution_count": null,
   "id": "e433cc76",
   "metadata": {},
   "outputs": [],
   "source": [
    "MY_pred = Multi_lr.predict(MX_test)\n",
    "print('Mean Absolute Error:', mean_absolute_error(MY_test, MY_pred))  \n",
    "print('Mean Squared Error:', mean_squared_error(MY_test, MY_pred))  \n",
    "print('Root Mean Squared Error:', np.sqrt(mean_squared_error(MY_test, MY_pred)))"
   ]
  },
  {
   "cell_type": "code",
   "execution_count": null,
   "id": "8cc722ec",
   "metadata": {},
   "outputs": [],
   "source": []
  },
  {
   "cell_type": "code",
   "execution_count": null,
   "id": "e350be0c",
   "metadata": {},
   "outputs": [],
   "source": [
    "# 1\n",
    "import pandas as pd\n",
    "import seaborn as sns\n",
    "data = sns.load_dataset(\"titanic\")\n",
    "data.head()"
   ]
  },
  {
   "cell_type": "code",
   "execution_count": null,
   "id": "1749c77d",
   "metadata": {},
   "outputs": [],
   "source": [
    "# 2\n",
    "data.isnull().sum()\n"
   ]
  },
  {
   "cell_type": "code",
   "execution_count": null,
   "id": "d6366f7d",
   "metadata": {},
   "outputs": [],
   "source": [
    "# 3\n",
    "data.dropna(axis=0,inplace=True)"
   ]
  },
  {
   "cell_type": "code",
   "execution_count": null,
   "id": "9642bb40",
   "metadata": {},
   "outputs": [],
   "source": [
    "# 4\n",
    "data.shape"
   ]
  },
  {
   "cell_type": "code",
   "execution_count": null,
   "id": "bf2f0583",
   "metadata": {},
   "outputs": [],
   "source": [
    "# 5\n",
    "data.loc[(data[\"survived\"]==1) & (data[\"sex\"]==\"female\")].shape[0]"
   ]
  },
  {
   "cell_type": "code",
   "execution_count": null,
   "id": "3257d114",
   "metadata": {},
   "outputs": [],
   "source": [
    "# 6\n",
    "data.loc[(data[\"survived\"]==0)&(data[\"sex\"]==\"male\"),[\"age\"]].mean()"
   ]
  },
  {
   "cell_type": "code",
   "execution_count": null,
   "id": "3ecd05cc",
   "metadata": {},
   "outputs": [],
   "source": [
    "# 7\n",
    "import matplotlib.pyplot as plt\n",
    "\n",
    "plt.figure(figsize=(15,6))\n",
    "plt.subplot(2,2,1)\n",
    "sns.boxplot(x=\"sex\",y=\"age\",hue=\"who\",data=data)\n",
    "plt.subplot(2,2,2)\n",
    "sns.scatterplot(x=\"age\",y=\"fare\",data=data)\n",
    "# plt.legend(loc=\"upper\")\n",
    "plt.subplot(2,2,3)\n",
    "sns.barplot(x=\"pclass\",y=\"age\",hue=\"alone\",data=data)"
   ]
  },
  {
   "cell_type": "code",
   "execution_count": null,
   "id": "0654fe1c",
   "metadata": {},
   "outputs": [],
   "source": [
    "# pclass, age, parch, and fare\n",
    "# columns as explanatory variables and the survived column as response variable\n",
    "data.head()"
   ]
  },
  {
   "cell_type": "code",
   "execution_count": null,
   "id": "dec2bb21",
   "metadata": {},
   "outputs": [],
   "source": [
    "# 8\n",
    "import numpy as np\n",
    "import matplotlib.pyplot as plt\n",
    "import pandas as pd\n",
    "import seaborn as sns\n",
    "from sklearn.linear_model import LogisticRegression\n",
    "from sklearn.model_selection import train_test_split\n",
    "from sklearn.metrics import confusion_matrix, accuracy_score"
   ]
  },
  {
   "cell_type": "code",
   "execution_count": null,
   "id": "181e0c6c",
   "metadata": {},
   "outputs": [],
   "source": [
    "X = data[[\"pclass\", \"age\", \"parch\",\"fare\"]].values.reshape(-1,4)\n",
    "y = data[\"survived\"].values.flatten()"
   ]
  },
  {
   "cell_type": "code",
   "execution_count": null,
   "id": "bce77404",
   "metadata": {},
   "outputs": [],
   "source": [
    "X_train, X_test, y_train, y_test = train_test_split(X, y, test_size = 0.2, random_state = 0)"
   ]
  },
  {
   "cell_type": "code",
   "execution_count": null,
   "id": "f98251a5",
   "metadata": {},
   "outputs": [],
   "source": [
    "# Fitting Logistic Regression to the Training set\n",
    "classifier = LogisticRegression(random_state = 0, multi_class='auto')\n",
    "classifier.fit(X_train, y_train)"
   ]
  },
  {
   "cell_type": "code",
   "execution_count": null,
   "id": "4625dab2",
   "metadata": {},
   "outputs": [],
   "source": [
    "# Predicting the Test set results\n",
    "y_pred = classifier.predict(X_test)\n",
    "# Predict probabilities\n",
    "probs_y=classifier.predict_proba(X_test)### Print results \n",
    "probs_y = np.round(probs_y, 2)\n",
    "probs_y\n",
    "result = pd.DataFrame(probs_y, columns= np.unique(data.survived))\n",
    "result.insert(loc=0, column=\"Test\", value=y_test)\n",
    "result.insert(loc=1, column ='Predicted', value=y_pred)\n",
    "result.sample(10)"
   ]
  },
  {
   "cell_type": "code",
   "execution_count": null,
   "id": "6c587b99",
   "metadata": {},
   "outputs": [],
   "source": [
    "con_mat = confusion_matrix(y_test, y_pred)\n",
    "print(con_mat)"
   ]
  },
  {
   "cell_type": "code",
   "execution_count": null,
   "id": "cea31d17",
   "metadata": {},
   "outputs": [],
   "source": [
    "# confusion matrix sns heatmap \n",
    "#ax = plt.axes()\n",
    "sns.heatmap(con_mat, annot=True, annot_kws={\"size\": 20},cmap=\"summer_r\", xticklabels=np.unique(data.survived),\n",
    "           yticklabels=np.unique(data.survived))\n",
    "plt.title(\"Confusion Matrix of the classifier\")\n",
    "plt.ylabel('Actual labels')\n",
    "plt.xlabel('Predicted labels')\n",
    "plt.show()"
   ]
  },
  {
   "cell_type": "code",
   "execution_count": null,
   "id": "a192b72f",
   "metadata": {},
   "outputs": [],
   "source": [
    "print(\"Accuracy:\",accuracy_score(y_test, y_pred))"
   ]
  },
  {
   "cell_type": "code",
   "execution_count": null,
   "id": "ca5b9108",
   "metadata": {},
   "outputs": [],
   "source": []
  },
  {
   "cell_type": "code",
   "execution_count": null,
   "id": "83d427e7",
   "metadata": {},
   "outputs": [],
   "source": [
    "import numpy as np\n",
    "from scipy.integrate import quad\n",
    "from scipy.integrate import odeint \n",
    "import matplotlib.pyplot as plt"
   ]
  },
  {
   "cell_type": "code",
   "execution_count": null,
   "id": "be6d49f3",
   "metadata": {},
   "outputs": [],
   "source": [
    "%%javascript\n",
    "MathJax.Hub.Config({\n",
    "    TeX: { equationNumbers: { autoNumber: \"AMS\" } }\n",
    "});"
   ]
  },
  {
   "cell_type": "markdown",
   "id": "30c54726",
   "metadata": {},
   "source": [
    "$\\text{Exercise 1}$\n",
    "\n",
    "Write a Python code to compute and display the integrals bellow using the Python function $quad$\n",
    "$$A = \\int_{0}^{2} \\dfrac{x^3+5x-20}{x^2+3}dx$$\n",
    "\n",
    "$$B = \\int_{3}^{5} \\bigg(x-\\frac{1}{3}\\bigg)\\sqrt{x^4-3}dx$$\n"
   ]
  },
  {
   "cell_type": "code",
   "execution_count": null,
   "id": "0f279326",
   "metadata": {},
   "outputs": [],
   "source": [
    "f=lambda x:(x**3+5*x-20)/(x**2+3)\n",
    "print(\"A =\",quad(f,0,2)[0])\n",
    "\n",
    "g=lambda x:(x-1/3)*(x**4-3)**0.5\n",
    "print(\"B =\",quad(g,3,5)[0])"
   ]
  },
  {
   "cell_type": "markdown",
   "id": "64a5e449",
   "metadata": {},
   "source": [
    "$\\text{Exercise 2}$\n",
    "\n",
    "1. Write code to solve the following system of ordinary differential equations\n",
    "$$\n",
    "\\begin{cases}\n",
    "\\dfrac{dx_1}{dt}& = & -\\dfrac{1}{2}x_1\\\\\\\\\n",
    "\\dfrac{dx_2}{dt}& = & \\dfrac{1}{2}x_1-\\dfrac{1}{4}x_2\\\\\\\\\n",
    "\\dfrac{dx_3}{dt}& = & \\dfrac{1}{4}x_2-\\dfrac{1}{6}x_3\n",
    "\\end{cases}, \\text{ on } [0,4]\n",
    "$$\n",
    "Subject to the initial conditions $x_1(0) = 1, x_2(0) = 1, x_3(0) = 1$ using the Python function <b>odeint</b> with $N=200$."
   ]
  },
  {
   "cell_type": "code",
   "execution_count": null,
   "id": "2a16568e",
   "metadata": {},
   "outputs": [],
   "source": [
    "def model(w,t):\n",
    "    x1,x2,x3=w\n",
    "    dx1dt=-1/2*x1\n",
    "    dx2dt=1/2*x1-1/4*x2\n",
    "    dx3dt=1/4*x2-1/6*x3\n",
    "    return np.array([dx1dt,dx2dt,dx3dt])\n",
    "w0=[1,1,1]\n",
    "a=0\n",
    "b=4\n",
    "N=200\n",
    "\n",
    "t=np.linspace(a,b,N)\n",
    "w=odeint(model,w0,t)\n",
    "x1=w[:,0]\n",
    "x2=w[:,1]\n",
    "x3=w[:,2]\n"
   ]
  },
  {
   "cell_type": "markdown",
   "id": "b13a5718",
   "metadata": {},
   "source": [
    "2. The exact solution of the above system of ODEs is given by\n",
    "\n",
    "$$\n",
    "\\begin{cases}\n",
    "x_1(t)& = & e^{-t/2}\\\\\n",
    "x_2(t)& = & -2e^{-t/2}+3e^{-t/4}\\\\\n",
    "x_3(t)& = & \\dfrac{3}{2}e^{-t/2} - 9e^{-t/4} + \\dfrac{17}{2}e^{-t/6}\n",
    "\\end{cases}\n",
    "$$\n",
    "\n",
    "Use $Subplot$ to plot side by side\n",
    "\n",
    "- each exact and approximate solution in the same window\n",
    "- and their absolute error vs the time \n"
   ]
  },
  {
   "cell_type": "code",
   "execution_count": null,
   "id": "d2f521f0",
   "metadata": {},
   "outputs": [],
   "source": [
    "x1_ex=np.exp(-t/2)\n",
    "x2_ex=-2*np.exp(-t/2)+3*np.exp(-t/4)\n",
    "x3_ex=3/2*np.exp(-t/2)-9*np.exp(-t/4)+17/2*np.exp(-t/6)\n",
    "er_1=np.absolute(x1-x1_ex)\n",
    "er_2=np.absolute(x2-x2_ex)\n",
    "er_3=np.absolute(x3-x3_ex)\n",
    "\n",
    "plt.style.use('seaborn')\n",
    "plt.figure(figsize=(15,6))\n",
    "plt.subplot(2,3,1)\n",
    "plt.plot(t,x1_ex,'.')\n",
    "plt.plot(t,x1)\n",
    "plt.xlabel(\"t\")\n",
    "plt.ylabel(\"x(t)\")\n",
    "plt.legend([\"Exact solution\",\"Approximate solution\"])\n",
    "\n",
    "\n",
    "\n",
    "# plt.figure(figsize=(15,6))\n",
    "plt.subplot(2,3,2)\n",
    "plt.plot(t,x2_ex,'.')\n",
    "plt.plot(t,x2)\n",
    "plt.xlabel(\"t\")\n",
    "plt.ylabel(\"x(t)\")\n",
    "plt.legend([\"Exact solution\",\"Approximate solution\"])\n",
    "\n",
    "# plt.figure(figsize=(15,6))\n",
    "plt.subplot(2,3,3)\n",
    "plt.plot(t,x3_ex,'.')\n",
    "plt.plot(t,x3)\n",
    "plt.xlabel(\"t\")\n",
    "plt.ylabel(\"x(t)\")\n",
    "plt.legend([\"Exact solution\",\"Approximate solution\"])\n",
    "\n",
    "# fig = plt.figure()\n",
    "plt.figure(figsize=(15,6))\n",
    "plt.subplot(2,3,(4,6))\n",
    "plt.plot(t,er_1,'.')\n",
    "plt.plot(t,er_2)\n",
    "plt.plot(t,er_3)\n",
    "plt.xlabel(\"t\")\n",
    "plt.ylabel(\"x(t) error\")\n",
    "plt.legend([\"x1 error\",\"x2 error\",\"x3 error\"])\n",
    "plt.show()\n",
    "# fig.savefig('image.png')\n"
   ]
  },
  {
   "cell_type": "markdown",
   "id": "a65286f1",
   "metadata": {},
   "source": [
    "$\\text{Exercise 3} $ (Write our own function and compare it with $odeint$)\n",
    "\n",
    "Let $\\{ t_k\\}$ be a partition of $[a,b]$ such that $a=t_1<t_2<\\cdots<t_{N}=b$ and $H$ be the constant length of the $k$-th subinterval ($H = t_k - t_{k-1}$). Let us consider initial value problem\n",
    "\n",
    "\\begin{equation}\\label{eul2}\n",
    "  \\begin{cases}\n",
    "    \\dfrac{dz}{dt} = f(z,t),      & \\quad \\text{on } [a, b]\\\\\\\\\n",
    "    z(a) = c,\n",
    "  \\end{cases}\n",
    "\\end{equation}\n",
    "where $z,f,c\\in R^M$ i.e. $z = [x_1, x_2,\\cdots, x_{M}]$, $c = [x_1(a), x_2(a),\\cdots, x_{M}(a)]$ and $f = [f_1, f_2,\\cdots, f_{M}]$. Note that \\eqref{eul2} is a the general form of system of ODEs. \n",
    "\n",
    "Let $t, z_k,Z$ defined as follows $$t=[t_1,t_2,\\cdots,t_{N-1},t_{N}],\\quad z_k = [x_1(t_k), x_2(t_k),\\cdots, x_{M}(t_k)], \\quad\n",
    "Z =\\begin{pmatrix}\n",
    "x_1(t_1)& x_2(t_1)&\\cdots& x_{M}(t_1)\\\\\n",
    "x_1(t_2)& x_2(t_2)&\\cdots& x_{M}(t_2)\\\\\n",
    "\\vdots& \\vdots&\\ddots& \\vdots\\\\\n",
    "x_1(t_{N})& x_2(t_{N})&\\cdots& x_{M}(t_{N})\n",
    "\\end{pmatrix}\n",
    "$$\n",
    "\n",
    "1. Write a python function <b> EulerOdeSys </b> that takes $f,c,t$ and return the solution $Z$ of the initial value problem \\eqref{eul2} using Euler method i.e.\n",
    "$$ z_{k+1} = z_k + Hf(z_k,t_k) $$\n"
   ]
  },
  {
   "cell_type": "code",
   "execution_count": null,
   "id": "7a8e563b",
   "metadata": {},
   "outputs": [],
   "source": [
    "def EulerOdeSys(f,c,t):\n",
    "    N=len(t)\n",
    "    H=t[1]-t[0]\n",
    "    M=len(c)\n",
    "    Z=np.zeros((N,M))\n",
    "    Z[0]=c\n",
    "    for i in range(N-1):\n",
    "        Z[i+1]= Z[i]+H*f(Z[i],t[i])       \n",
    "    return Z"
   ]
  },
  {
   "cell_type": "markdown",
   "id": "8a91a427",
   "metadata": {},
   "source": [
    "2. Write a python function <b> RK4OdeSys </b> that takes $f,c,t$ and return the solution $Z$ of the initial value problem (1) using the fourth order Runge-Kutta method i.e.\n",
    "\n",
    "\\begin{equation}\n",
    "\\begin{cases}\n",
    "k_1 = f(z_k,t_k),\\\\\\\\\n",
    "k_2 = f(z_k+H\\dfrac{k_1}{2}, t_k + \\dfrac{H}{2}),\\\\\\\\\n",
    "k_3 = f(z_k+H\\dfrac{k_2}{2}, t_k + \\dfrac{H}{2}),\\\\\\\\\n",
    "k_4 = f(z_k+Hk_3, t_k + H),\\\\\\\\\n",
    "z_{k+1} = z_k + \\dfrac{H}{6}(k_1+2k_2+2k_3+k_4)\n",
    "\\end{cases}\n",
    "\\end{equation}\n",
    "\n"
   ]
  },
  {
   "cell_type": "code",
   "execution_count": null,
   "id": "c60fe75c",
   "metadata": {},
   "outputs": [],
   "source": [
    "def RK4OdeSys(f,c,t):\n",
    "    N=len(t)\n",
    "    H=t[1]-t[0]\n",
    "    M=len(c)\n",
    "    Z=np.zeros((N,M))\n",
    "    Z[0]=c\n",
    "    for i in range(N-1):\n",
    "        k1=f(Z[i],t[i])\n",
    "        k2=f(Z[i]+H*k1/2,t[i]+H/2)\n",
    "        k3=f(Z[i]+H*k2/2,t[i]+H/2)\n",
    "        k4=f(Z[i]+H*k3,t[i]+H)\n",
    "        Z[i+1]= Z[i]+H/6*(k1+2*k2+2*k3+k4) \n",
    "    return Z"
   ]
  },
  {
   "cell_type": "markdown",
   "id": "bf4e3e8b",
   "metadata": {},
   "source": [
    "3. Solve the system of ODEs in $Exercise2$ using your function <b> EulerOdeSys </b> and <b> RK4OdeSys </b> "
   ]
  },
  {
   "cell_type": "code",
   "execution_count": null,
   "id": "a859245a",
   "metadata": {},
   "outputs": [],
   "source": [
    "a=0\n",
    "b=4\n",
    "N=200\n",
    "t=np.linspace(a,b,N)\n",
    "c=np.array([1,1,1])       \n",
    "Z_Euler=EulerOdeSys(model,c,t)\n",
    "Z_RK=RK4OdeSys(model,c,t)"
   ]
  },
  {
   "cell_type": "markdown",
   "id": "3a1ab6a9",
   "metadata": {},
   "source": [
    "4. By plotting the absolute error in the approximate and exact solutions, tell us which function gives a more accurate solution of a system of ODEs."
   ]
  },
  {
   "cell_type": "code",
   "execution_count": null,
   "id": "e407622f",
   "metadata": {},
   "outputs": [],
   "source": [
    "er_1_E=np.absolute(Z_Euler[:,0]-x1_ex)\n",
    "er_2_E=np.absolute(Z_Euler[:,1]-x2_ex)\n",
    "er_3_E=np.absolute(Z_Euler[:,2]-x3_ex)\n",
    "\n",
    "\n",
    "er_1_RK=np.absolute(Z_RK[:,0]-x1_ex)\n",
    "er_2_RK=np.absolute(Z_RK[:,1]-x2_ex)\n",
    "er_3_RK=np.absolute(Z_RK[:,2]-x3_ex)\n",
    "\n",
    "\n",
    "plt.style.use('seaborn')\n",
    "plt.figure(figsize=(15,6))\n",
    "plt.subplot(2,2,1)\n",
    "plt.plot(t,er_1_E)\n",
    "plt.plot(t,er_1_RK)\n",
    "plt.xlabel(\"t\")\n",
    "plt.ylabel(\"Error\")\n",
    "plt.legend([\"Euler Error\",\"RK Error\"])\n",
    "\n",
    "\n",
    "plt.subplot(2,2,2)\n",
    "plt.plot(t,er_2_E)\n",
    "plt.plot(t,er_2_RK)\n",
    "plt.xlabel(\"t\")\n",
    "plt.ylabel(\"Error\")\n",
    "plt.legend([\"Euler Error\",\"RK Error\"])\n",
    "\n",
    "\n",
    "\n",
    "plt.subplot(2,2,(3,4))\n",
    "plt.plot(t,er_3_E)\n",
    "plt.plot(t,er_3_RK)\n",
    "plt.xlabel(\"t\")\n",
    "plt.ylabel(\"Error\")\n",
    "plt.legend([\"Euler Error\",\"RK Error\"])\n",
    "plt.show()"
   ]
  },
  {
   "cell_type": "markdown",
   "id": "be8e7b19",
   "metadata": {},
   "source": [
    "From the plot above we can only conclude that the more accurate function is either <b>odeint</b> and <b>RK4</b> since they give a solution with the lowest error. To identify the more accurate solver, let us plot the absolute error between the exact and approximate solutions (obtained with <b>odeint</b> and <b>RK4</b>), tell us which function gives a more accurate solution of a system of ODEs."
   ]
  },
  {
   "cell_type": "code",
   "execution_count": null,
   "id": "242c378f",
   "metadata": {},
   "outputs": [],
   "source": [
    "er_1=np.absolute(x1-x1_ex)\n",
    "er_2=np.absolute(x2-x2_ex)\n",
    "er_3=np.absolute(x3-x3_ex)\n",
    "\n",
    "er_1_RK=np.absolute(Z_RK[:,0]-x1_ex)\n",
    "er_2_RK=np.absolute(Z_RK[:,1]-x2_ex)\n",
    "er_3_RK=np.absolute(Z_RK[:,2]-x3_ex)\n",
    "\n",
    "plt.style.use('seaborn')\n",
    "plt.figure(figsize=(15,6))\n",
    "plt.subplot(2,2,1)\n",
    "plt.plot(t,er_1)\n",
    "plt.plot(t,er_1_RK)\n",
    "plt.xlabel(\"t\")\n",
    "plt.ylabel(\"Error\")\n",
    "plt.legend([\"ODEINT Error\",\"RK Error\"])\n",
    "\n",
    "\n",
    "\n",
    "plt.subplot(2,2,2)\n",
    "plt.plot(t,er_2)\n",
    "plt.plot(t,er_2_RK)\n",
    "plt.xlabel(\"t\")\n",
    "plt.ylabel(\"Error\")\n",
    "plt.legend([\"ODEINT Error\",\"RK Error\"])\n",
    "\n",
    "\n",
    "\n",
    "plt.subplot(2,2,(3,4))\n",
    "plt.plot(t,er_3)\n",
    "plt.plot(t,er_3_RK)\n",
    "plt.xlabel(\"t\")\n",
    "plt.ylabel(\"Error\")\n",
    "plt.legend([\"ODEINT Error\",\"RK Error\"])\n",
    "plt.show()"
   ]
  },
  {
   "cell_type": "markdown",
   "id": "70122008",
   "metadata": {},
   "source": [
    "$\\text{Exercise 4} $\n",
    "\n",
    "Consider heat conduction in a rod with constant heat conduction properties, $K>0$. The steady-state\n",
    "heat-conduction problem is then\n",
    "\n",
    "\\begin{equation}\n",
    "  \\begin{cases}\n",
    "    -K\\dfrac{d^2U}{dx^2} = g(x),      & \\quad x\\in (a, b)\\\\\\\\\n",
    "    U(a) = \\alpha,\\;\\; U(b) = \\beta.\n",
    "  \\end{cases}\n",
    "\\end{equation}\n",
    "\n",
    "Given a finite family of points $\\{x_i\\}$ for $i = 0,\\cdots, N$ defined by $x_i = a+ih$ with $h =\\dfrac{b−a}{N}$. Let us denote $U_i$ the approximate value of $U(x_i)$ for all $i= 0,\\cdots, N$.\n",
    "\n",
    "The backward Euler scheme applied to the steady-state\n",
    "heat-conduction problem gives\n",
    "\n",
    "\\begin{equation}\\label{secode}\n",
    "  \\begin{cases}\n",
    "    \\dfrac{K}{H^2}(-U_{i-1} +2U_i - U_{i+1}) = g(x_i),      & \\quad \\forall i= 1,2,\\cdots, N-1\\\\\\\\\n",
    "    U_0 = \\alpha,\\;\\; U_N = \\beta.\n",
    "  \\end{cases}\n",
    "\\end{equation}\n",
    "Note that the system \\eqref{secode} takes the form \n",
    "$$ AU = b $$.\n",
    "1. Write a Python function <b> MatGenerator </b> that takes $a,b,K, \\alpha, \\beta,N, g$ and return the matrix $A$ and vector $b$."
   ]
  },
  {
   "cell_type": "code",
   "execution_count": null,
   "id": "3cd68b73",
   "metadata": {},
   "outputs": [],
   "source": [
    "def MatGenerator(𝑎,𝑏,𝐾,alp,bta,𝑁,𝑔):\n",
    "    h=(b-a)/N\n",
    "    x=np.linspace(a,b,N+1)\n",
    "    A=np.zeros((N+1,N+1))\n",
    "    A[0,0],A[N,N]=1,1\n",
    "    A[1,0],A[N-1,N]=-1,-1\n",
    "    A[1:N,1:N]=2*np.eye(N-1,N-1,k=0)-np.eye(N-1,N-1,k=1)-np.eye(N-1,N-1,k=-1)\n",
    "    b=np.zeros(N+1)\n",
    "    b[0]=alp\n",
    "    b[N]=bta\n",
    "    b[1:N]=h**2/K*g(x[1:N])\n",
    "    return A,b    "
   ]
  },
  {
   "cell_type": "markdown",
   "id": "d929c374",
   "metadata": {},
   "source": [
    "2. Solve the steady-state heat-conduction problem for \n",
    "\n",
    "$$a=0, b= 1, K=1,\\alpha = -4, \\beta = 0, N= 100 \\text{ and } g(x) = -4(1+x)e^x $$"
   ]
  },
  {
   "cell_type": "code",
   "execution_count": null,
   "id": "e05cbb9b",
   "metadata": {},
   "outputs": [],
   "source": [
    "𝑎=0\n",
    "𝑏=1\n",
    "𝐾=1\n",
    "alp=-4\n",
    "bta=0\n",
    "𝑁=100\n",
    "𝑔=lambda x:-4*(1+𝑥)*np.exp(x)\n",
    "M=MatGenerator(𝑎,𝑏,𝐾,alp,bta,𝑁,𝑔)"
   ]
  },
  {
   "cell_type": "markdown",
   "id": "ca717edb",
   "metadata": {},
   "source": [
    "3. The exact solution of the steady-state heat-conduction problem above is $U(x)=4(x-1)e^x$. Use Subplot to plot side by side\n",
    "    - the exact and approximate solutions against x\n",
    "    - the absolute error between the exact and the approximate solution against x"
   ]
  },
  {
   "cell_type": "code",
   "execution_count": null,
   "id": "bd1e1131",
   "metadata": {},
   "outputs": [],
   "source": [
    "𝑈=lambda x:4*(𝑥-1)*np.exp(x)\n",
    "x=np.linspace(a,b,N+1)\n",
    "U_ex=U(x)\n",
    "\n",
    "A=M[0]\n",
    "b=M[1]\n",
    "Approx=np.linalg.solve(A,b)\n",
    "\n",
    "plt.style.use('seaborn')\n",
    "plt.figure(figsize=(15,6))\n",
    "plt.subplot(1,2,1)\n",
    "plt.plot(x,U_ex)\n",
    "plt.plot(x,Approx,'.')\n",
    "plt.xlabel(\"x\")\n",
    "plt.ylabel(\"y(x)\")\n",
    "plt.legend([\"Exact solution\",\"Approximative solution\"])\n",
    "\n",
    "\n",
    "\n",
    "plt.subplot(1,2,2)\n",
    "plt.plot(x,abs(Approx-U_ex))\n",
    "plt.xlabel(\"x\")\n",
    "plt.ylabel(\"Error\")\n",
    "plt.show()\n",
    "\n"
   ]
  },
  {
   "cell_type": "markdown",
   "id": "059cdc0f",
   "metadata": {},
   "source": [
    "4. If the parameter $K(x)$ varies with $x$, then the steady-state\n",
    "heat-conduction problem is then\n",
    "\n",
    "\\begin{equation}\n",
    "  \\begin{cases}\n",
    "    -\\dfrac{d}{dx}\\Bigl( K(x)\\dfrac{dU}{dx} \\Bigl) = g(x),      & \\quad x\\in (a, b)\\\\\\\\\n",
    "    U(a) = \\alpha,\\;\\; U(b) = \\beta.\n",
    "  \\end{cases}\n",
    "\\end{equation}\n",
    "\n",
    "\n",
    "In this case, the backward Euler scheme applied to the steady-state\n",
    "heat-conduction problem gives\n",
    "\n",
    "\\begin{equation}\\label{secode}\n",
    "  \\begin{cases}\n",
    "    \\dfrac{1}{H^2}\\Bigl(-K(x_{i-1/2})U_{i-1} +(K(x_{i-1/2})+K(x_{i+1/2}))U_i - K(x_{i+1/2})U_{i+1}\\Bigr) = g(x_i),      & \\quad \\forall i= 1,2,\\cdots, N-1\\\\\\\\\n",
    "    U_0 = \\alpha,\\;\\; U_N = \\beta,\n",
    "  \\end{cases}\n",
    "\\end{equation}\n",
    "where $x_{i+1/2} = x_i+H/2$.\n",
    "Note that the system \\eqref{secode} takes the form \n",
    "$$ AU = b $$.\n",
    "a. Write a Python function <b> MatGenerator1 </b> that takes $a,b,K, \\alpha, \\beta,N, g$ and return the matrix $A$ and vector $b$."
   ]
  },
  {
   "cell_type": "code",
   "execution_count": null,
   "id": "4137fec9",
   "metadata": {},
   "outputs": [],
   "source": [
    "def MatGenerator(𝑎,𝑏,𝐾,alp,bta,𝑁,𝑔):\n",
    "    h=(b-a)/N\n",
    "    x=np.linspace(a,b,N+1)\n",
    "    A=np.zeros((N+1,N+1))\n",
    "    A[0,0],A[N,N]=1,1\n",
    "    A[1,0],A[N-1,N]=-K(x[0]+h/2),-K(x[N]+h/2)\n",
    "    for i in range(1,N-1):\n",
    "        A[i+1,i]=-K(x[i-1]+h/2)\n",
    "        A[i,i]=K(x[i-1]+h/2)+K(x[i]+h/2)\n",
    "        A[i,i+1]=-K(x[i]+h/2)\n",
    "    b=np.zeros(N+1)\n",
    "    b[0]=alp\n",
    "    b[N]=bta\n",
    "    b[1:N]=h**2*g(x[1:N])\n",
    "    return A,b "
   ]
  },
  {
   "cell_type": "markdown",
   "id": "46b8a61e",
   "metadata": {},
   "source": [
    "b. Solve the steady-state heat-conduction problem for \n",
    "\n",
    "$$a=-1, b= 1, K(x)=x^2,\\alpha = -8, \\beta = 0, N= 100 \\text{ and } g(x) = -4(x^3+3x^2)e^{x+1} $$"
   ]
  },
  {
   "cell_type": "code",
   "execution_count": null,
   "id": "a3314a63",
   "metadata": {},
   "outputs": [],
   "source": [
    "a=-1\n",
    "b=1\n",
    "alp=-8\n",
    "bta=0\n",
    "N=100\n",
    "g=lambda x:-4*(x**3+3*x**2)*np.exp(x+1)\n",
    "K=lambda x:x**2\n",
    "M=MatGenerator(𝑎,𝑏,𝐾,alp,bta,𝑁,𝑔)"
   ]
  },
  {
   "cell_type": "markdown",
   "id": "4cfef9fa",
   "metadata": {},
   "source": [
    "c. The exact solution of the steady-state heat-conduction problem above is $U(x)=4(x-1)e^{x+1}$. Use Subplot to plot side by side\n",
    "    - the exact and approximate solutions against x\n",
    "    - the absolute error between the exact and the approximate solution against x"
   ]
  },
  {
   "cell_type": "code",
   "execution_count": null,
   "id": "bddd85bb",
   "metadata": {},
   "outputs": [],
   "source": [
    "A=M[0]\n",
    "b=M[1]\n",
    "Approx1=np.linalg.solve(A,b)\n",
    "\n",
    "plt.style.use('seaborn')\n",
    "plt.figure(figsize=(15,6))\n",
    "plt.subplot(1,2,1)\n",
    "plt.plot(x,U_ex)\n",
    "plt.plot(x,Approx1,'.')\n",
    "plt.xlabel(\"x\")\n",
    "plt.ylabel(\"y(x)\")\n",
    "plt.legend([\"Exact solution\",\"Approximative solution\"])\n",
    "\n",
    "\n",
    "\n",
    "plt.subplot(1,2,2)\n",
    "plt.plot(x,abs(Approx1-U_ex))\n",
    "plt.xlabel(\"x\")\n",
    "plt.ylabel(\"Error\")\n",
    "plt.show()\n"
   ]
  },
  {
   "cell_type": "code",
   "execution_count": null,
   "id": "2f00663c",
   "metadata": {},
   "outputs": [],
   "source": []
  },
  {
   "cell_type": "code",
   "execution_count": null,
   "id": "0e850475",
   "metadata": {},
   "outputs": [],
   "source": [
    "# 1\n",
    "import pandas as pd\n",
    "import seaborn as sns\n",
    "data = sns.load_dataset(\"titanic\")\n",
    "data.head()"
   ]
  },
  {
   "cell_type": "code",
   "execution_count": null,
   "id": "8e73220d",
   "metadata": {},
   "outputs": [],
   "source": [
    "# 2\n",
    "data.isnull().sum()\n"
   ]
  },
  {
   "cell_type": "code",
   "execution_count": null,
   "id": "4917499d",
   "metadata": {},
   "outputs": [],
   "source": [
    "# 3\n",
    "data.dropna(axis=0,inplace=True)"
   ]
  },
  {
   "cell_type": "code",
   "execution_count": null,
   "id": "b40805f6",
   "metadata": {},
   "outputs": [],
   "source": [
    "# 4\n",
    "data.shape"
   ]
  },
  {
   "cell_type": "code",
   "execution_count": null,
   "id": "d7e15d53",
   "metadata": {},
   "outputs": [],
   "source": [
    "# 5\n",
    "data.loc[(data[\"survived\"]==1) & (data[\"sex\"]==\"female\")].shape[0]"
   ]
  },
  {
   "cell_type": "code",
   "execution_count": null,
   "id": "7c3f2d94",
   "metadata": {},
   "outputs": [],
   "source": [
    "# 6\n",
    "data.loc[(data[\"survived\"]==0)&(data[\"sex\"]==\"male\"),[\"age\"]].mean()"
   ]
  },
  {
   "cell_type": "code",
   "execution_count": null,
   "id": "b523668c",
   "metadata": {},
   "outputs": [],
   "source": [
    "# 7\n",
    "import matplotlib.pyplot as plt\n",
    "\n",
    "plt.figure(figsize=(15,6))\n",
    "plt.subplot(2,2,1)\n",
    "sns.boxplot(x=\"sex\",y=\"age\",hue=\"who\",data=data)\n",
    "plt.subplot(2,2,2)\n",
    "sns.scatterplot(x=\"age\",y=\"fare\",data=data)\n",
    "# plt.legend(loc=\"upper\")\n",
    "plt.subplot(2,2,3)\n",
    "sns.barplot(x=\"pclass\",y=\"age\",hue=\"alone\",data=data)"
   ]
  },
  {
   "cell_type": "code",
   "execution_count": null,
   "id": "f7da74ee",
   "metadata": {},
   "outputs": [],
   "source": [
    "# pclass, age, parch, and fare\n",
    "# columns as explanatory variables and the survived column as response variable\n",
    "data.head()"
   ]
  },
  {
   "cell_type": "code",
   "execution_count": null,
   "id": "e099e959",
   "metadata": {},
   "outputs": [],
   "source": [
    "# 8\n",
    "import numpy as np\n",
    "import matplotlib.pyplot as plt\n",
    "import pandas as pd\n",
    "import seaborn as sns\n",
    "from sklearn.linear_model import LogisticRegression\n",
    "from sklearn.model_selection import train_test_split\n",
    "from sklearn.metrics import confusion_matrix, accuracy_score"
   ]
  },
  {
   "cell_type": "code",
   "execution_count": null,
   "id": "d45a3e55",
   "metadata": {},
   "outputs": [],
   "source": [
    "X = data[[\"pclass\", \"age\", \"parch\",\"fare\"]].values.reshape(-1,4)\n",
    "y = data[\"survived\"].values.flatten()"
   ]
  },
  {
   "cell_type": "code",
   "execution_count": null,
   "id": "bce77404",
   "metadata": {},
   "outputs": [],
   "source": [
    "X_train, X_test, y_train, y_test = train_test_split(X, y, test_size = 0.2, random_state = 0)"
   ]
  },
  {
   "cell_type": "code",
   "execution_count": null,
   "id": "f98251a5",
   "metadata": {},
   "outputs": [],
   "source": [
    "# Fitting Logistic Regression to the Training set\n",
    "classifier = LogisticRegression(random_state = 0, multi_class='auto')\n",
    "classifier.fit(X_train, y_train)"
   ]
  },
  {
   "cell_type": "code",
   "execution_count": null,
   "id": "4625dab2",
   "metadata": {},
   "outputs": [],
   "source": [
    "# Predicting the Test set results\n",
    "y_pred = classifier.predict(X_test)\n",
    "# Predict probabilities\n",
    "probs_y=classifier.predict_proba(X_test)### Print results \n",
    "probs_y = np.round(probs_y, 2)\n",
    "probs_y\n",
    "result = pd.DataFrame(probs_y, columns= np.unique(data.survived))\n",
    "result.insert(loc=0, column=\"Test\", value=y_test)\n",
    "result.insert(loc=1, column ='Predicted', value=y_pred)\n",
    "result.sample(10)"
   ]
  },
  {
   "cell_type": "code",
   "execution_count": null,
   "id": "6c587b99",
   "metadata": {},
   "outputs": [],
   "source": [
    "con_mat = confusion_matrix(y_test, y_pred)\n",
    "print(con_mat)"
   ]
  },
  {
   "cell_type": "code",
   "execution_count": null,
   "id": "cea31d17",
   "metadata": {},
   "outputs": [],
   "source": [
    "# confusion matrix sns heatmap \n",
    "#ax = plt.axes()\n",
    "sns.heatmap(con_mat, annot=True, annot_kws={\"size\": 20},cmap=\"summer_r\", xticklabels=np.unique(data.survived),\n",
    "           yticklabels=np.unique(data.survived))\n",
    "plt.title(\"Confusion Matrix of the classifier\")\n",
    "plt.ylabel('Actual labels')\n",
    "plt.xlabel('Predicted labels')\n",
    "plt.show()"
   ]
  },
  {
   "cell_type": "code",
   "execution_count": null,
   "id": "a192b72f",
   "metadata": {},
   "outputs": [],
   "source": [
    "print(\"Accuracy:\",accuracy_score(y_test, y_pred))"
   ]
  },
  {
   "cell_type": "code",
   "execution_count": null,
   "id": "ca5b9108",
   "metadata": {},
   "outputs": [],
   "source": []
  },
  {
   "cell_type": "code",
   "execution_count": null,
   "id": "f3df3f56",
   "metadata": {},
   "outputs": [],
   "source": [
    "# 1)\n",
    "import matplotlib.pyplot as plt\n",
    "import pandas as pd\n",
    "import seaborn as sns"
   ]
  },
  {
   "cell_type": "code",
   "execution_count": null,
   "id": "4a809881",
   "metadata": {},
   "outputs": [],
   "source": [
    "# 2)\n",
    "# sns.set_context(\"poster\")\n",
    "# 3)\n",
    "data = sns.load_dataset(\"diamonds\")\n",
    "data.head()"
   ]
  },
  {
   "cell_type": "code",
   "execution_count": null,
   "id": "41550eb2",
   "metadata": {},
   "outputs": [],
   "source": [
    "# 4)\n",
    "data.shape[1]"
   ]
  },
  {
   "cell_type": "code",
   "execution_count": null,
   "id": "86554471",
   "metadata": {},
   "outputs": [],
   "source": [
    "# 5)\n",
    "data.info()"
   ]
  },
  {
   "cell_type": "code",
   "execution_count": null,
   "id": "a2d01db3",
   "metadata": {},
   "outputs": [],
   "source": [
    "# 6)\n",
    "data[\"color\"].unique()"
   ]
  },
  {
   "cell_type": "code",
   "execution_count": null,
   "id": "d225e47b",
   "metadata": {},
   "outputs": [],
   "source": [
    "# 7)\n",
    "data[\"depth\"].min()"
   ]
  },
  {
   "cell_type": "code",
   "execution_count": null,
   "id": "8847c820",
   "metadata": {},
   "outputs": [],
   "source": [
    "# 8)\n",
    "data1=data.groupby([\"clarity\",\"cut\"]).count().iloc[:,[0]]\n",
    "data1"
   ]
  },
  {
   "cell_type": "code",
   "execution_count": null,
   "id": "d552fbce",
   "metadata": {},
   "outputs": [],
   "source": [
    "# 9)\n",
    "data.loc[data[\"price\"]==data.price.max(),[\"color\",\"clarity\",\"cut\"]]"
   ]
  },
  {
   "cell_type": "code",
   "execution_count": null,
   "id": "8ea262a3",
   "metadata": {},
   "outputs": [],
   "source": [
    "# 10)\n",
    "plt.figure(figsize=(15,6))\n",
    "plt.subplot(1,2,1)\n",
    "sns.violinplot(x='cut',y='price',data=data)\n",
    "plt.subplot(1,2,2)\n",
    "sns.scatterplot(x='x',y='price',hue=\"cut\",data=data)\n",
    "plt.legend(loc='upper left')\n",
    "plt.show()"
   ]
  },
  {
   "cell_type": "code",
   "execution_count": null,
   "id": "559cb085",
   "metadata": {},
   "outputs": [],
   "source": [
    "# 11\n",
    "import numpy as np\n",
    "import pandas as pd\n",
    "from sklearn.preprocessing import LabelBinarizer\n",
    "from sklearn.model_selection import train_test_split\n",
    "from sklearn.linear_model import LinearRegression\n",
    "import matplotlib.pyplot as plt\n",
    "import statsmodels.api as sm\n",
    "from sklearn.metrics import r2_score , mean_absolute_error, mean_squared_error\n",
    "\n",
    "\n"
   ]
  },
  {
   "cell_type": "code",
   "execution_count": null,
   "id": "e6e8431f",
   "metadata": {},
   "outputs": [],
   "source": [
    "data1=data.loc[:,[\"carat\",\"depth\",\"x\",\"y\",\"z\",\"price\"]]"
   ]
  },
  {
   "cell_type": "code",
   "execution_count": null,
   "id": "91afddba",
   "metadata": {},
   "outputs": [],
   "source": [
    "corr = data1.corr()\n",
    "sm.graphics.plot_corr(corr, xnames=list(corr.columns))\n",
    "plt.show()"
   ]
  },
  {
   "cell_type": "code",
   "execution_count": null,
   "id": "0bcd5e1f",
   "metadata": {},
   "outputs": [],
   "source": [
    "# for binarize\n",
    "# lb = LabelBinarizer()\n",
    "# maths.sex = lb.fit_transform(maths.sex)\n"
   ]
  },
  {
   "cell_type": "code",
   "execution_count": null,
   "id": "f33d9bb6",
   "metadata": {},
   "outputs": [],
   "source": [
    "MX = data1[[\"carat\",\"depth\",\"x\",\"y\",\"z\"]].values.reshape(-1, 5)\n",
    "MY = data1['price'].values.flatten()\n",
    "\n",
    "MX_train, MX_test, MY_train, MY_test = train_test_split(MX,MY, test_size=0.2, random_state=42)\n",
    "\n",
    "Multi_lr = LinearRegression()\n",
    "Multi_lr.fit(MX_train, MY_train)\n",
    "\n",
    "# Lets take a look at how well this model preforms\n",
    "print(\"The R-Squared: \", Multi_lr.score(MX_test, MY_test))\n",
    "alpha = Multi_lr.coef_\n",
    "beta = Multi_lr.intercept_\n",
    "\n",
    "\n",
    "for i in range(alpha.size):\n",
    "    print(data1.columns[i], ': ', alpha[i])\n",
    "print('The intercept of our slope is: ', beta)"
   ]
  },
  {
   "cell_type": "code",
   "execution_count": null,
   "id": "e433cc76",
   "metadata": {},
   "outputs": [],
   "source": [
    "MY_pred = Multi_lr.predict(MX_test)\n",
    "print('Mean Absolute Error:', mean_absolute_error(MY_test, MY_pred))  \n",
    "print('Mean Squared Error:', mean_squared_error(MY_test, MY_pred))  \n",
    "print('Root Mean Squared Error:', np.sqrt(mean_squared_error(MY_test, MY_pred)))"
   ]
  },
  {
   "cell_type": "code",
   "execution_count": null,
   "id": "8cc722ec",
   "metadata": {},
   "outputs": [],
   "source": []
  },
  {
   "cell_type": "code",
   "execution_count": null,
   "id": "b8b0a12b",
   "metadata": {},
   "outputs": [],
   "source": [
    "import numpy as np\n",
    "from scipy.integrate import quad\n",
    "from scipy.integrate import odeint \n",
    "import matplotlib.pyplot as plt"
   ]
  },
  {
   "cell_type": "code",
   "execution_count": null,
   "id": "d6bea37d",
   "metadata": {},
   "outputs": [],
   "source": [
    "%%javascript\n",
    "MathJax.Hub.Config({\n",
    "    TeX: { equationNumbers: { autoNumber: \"AMS\" } }\n",
    "});"
   ]
  },
  {
   "cell_type": "markdown",
   "id": "c9d201ac",
   "metadata": {},
   "source": [
    "$\\text{Exercise 1}$\n",
    "\n",
    "Write a Python code to compute and display the integrals bellow using the Python function $quad$\n",
    "$$A = \\int_{0}^{2} \\dfrac{x^3+5x-20}{x^2+3}dx$$\n",
    "\n",
    "$$B = \\int_{3}^{5} \\bigg(x-\\frac{1}{3}\\bigg)\\sqrt{x^4-3}dx$$\n"
   ]
  },
  {
   "cell_type": "code",
   "execution_count": null,
   "id": "535c342b",
   "metadata": {},
   "outputs": [],
   "source": [
    "f=lambda x:(x**3+5*x-20)/(x**2+3)\n",
    "print(\"A =\",quad(f,0,2)[0])\n",
    "\n",
    "g=lambda x:(x-1/3)*(x**4-3)**0.5\n",
    "print(\"B =\",quad(g,3,5)[0])"
   ]
  },
  {
   "cell_type": "markdown",
   "id": "d578deb4",
   "metadata": {},
   "source": [
    "$\\text{Exercise 2}$\n",
    "\n",
    "1. Write code to solve the following system of ordinary differential equations\n",
    "$$\n",
    "\\begin{cases}\n",
    "\\dfrac{dx_1}{dt}& = & -\\dfrac{1}{2}x_1\\\\\\\\\n",
    "\\dfrac{dx_2}{dt}& = & \\dfrac{1}{2}x_1-\\dfrac{1}{4}x_2\\\\\\\\\n",
    "\\dfrac{dx_3}{dt}& = & \\dfrac{1}{4}x_2-\\dfrac{1}{6}x_3\n",
    "\\end{cases}, \\text{ on } [0,4]\n",
    "$$\n",
    "Subject to the initial conditions $x_1(0) = 1, x_2(0) = 1, x_3(0) = 1$ using the Python function <b>odeint</b> with $N=200$."
   ]
  },
  {
   "cell_type": "code",
   "execution_count": null,
   "id": "1707e4dc",
   "metadata": {},
   "outputs": [],
   "source": [
    "def model(w,t):\n",
    "    x1,x2,x3=w\n",
    "    dx1dt=-1/2*x1\n",
    "    dx2dt=1/2*x1-1/4*x2\n",
    "    dx3dt=1/4*x2-1/6*x3\n",
    "    return np.array([dx1dt,dx2dt,dx3dt])\n",
    "w0=[1,1,1]\n",
    "a=0\n",
    "b=4\n",
    "N=200\n",
    "\n",
    "t=np.linspace(a,b,N)\n",
    "w=odeint(model,w0,t)\n",
    "x1=w[:,0]\n",
    "x2=w[:,1]\n",
    "x3=w[:,2]\n"
   ]
  },
  {
   "cell_type": "markdown",
   "id": "dbf3d14d",
   "metadata": {},
   "source": [
    "2. The exact solution of the above system of ODEs is given by\n",
    "\n",
    "$$\n",
    "\\begin{cases}\n",
    "x_1(t)& = & e^{-t/2}\\\\\n",
    "x_2(t)& = & -2e^{-t/2}+3e^{-t/4}\\\\\n",
    "x_3(t)& = & \\dfrac{3}{2}e^{-t/2} - 9e^{-t/4} + \\dfrac{17}{2}e^{-t/6}\n",
    "\\end{cases}\n",
    "$$\n",
    "\n",
    "Use $Subplot$ to plot side by side\n",
    "\n",
    "- each exact and approximate solution in the same window\n",
    "- and their absolute error vs the time \n"
   ]
  },
  {
   "cell_type": "code",
   "execution_count": null,
   "id": "45da62f8",
   "metadata": {},
   "outputs": [],
   "source": [
    "x1_ex=np.exp(-t/2)\n",
    "x2_ex=-2*np.exp(-t/2)+3*np.exp(-t/4)\n",
    "x3_ex=3/2*np.exp(-t/2)-9*np.exp(-t/4)+17/2*np.exp(-t/6)\n",
    "er_1=np.absolute(x1-x1_ex)\n",
    "er_2=np.absolute(x2-x2_ex)\n",
    "er_3=np.absolute(x3-x3_ex)\n",
    "\n",
    "plt.style.use('seaborn')\n",
    "plt.figure(figsize=(15,6))\n",
    "plt.subplot(2,3,1)\n",
    "plt.plot(t,x1_ex,'.')\n",
    "plt.plot(t,x1)\n",
    "plt.xlabel(\"t\")\n",
    "plt.ylabel(\"x(t)\")\n",
    "plt.legend([\"Exact solution\",\"Approximate solution\"])\n",
    "\n",
    "\n",
    "\n",
    "# plt.figure(figsize=(15,6))\n",
    "plt.subplot(2,3,2)\n",
    "plt.plot(t,x2_ex,'.')\n",
    "plt.plot(t,x2)\n",
    "plt.xlabel(\"t\")\n",
    "plt.ylabel(\"x(t)\")\n",
    "plt.legend([\"Exact solution\",\"Approximate solution\"])\n",
    "\n",
    "# plt.figure(figsize=(15,6))\n",
    "plt.subplot(2,3,3)\n",
    "plt.plot(t,x3_ex,'.')\n",
    "plt.plot(t,x3)\n",
    "plt.xlabel(\"t\")\n",
    "plt.ylabel(\"x(t)\")\n",
    "plt.legend([\"Exact solution\",\"Approximate solution\"])\n",
    "\n",
    "# fig = plt.figure()\n",
    "plt.figure(figsize=(15,6))\n",
    "plt.subplot(2,3,(4,6))\n",
    "plt.plot(t,er_1,'.')\n",
    "plt.plot(t,er_2)\n",
    "plt.plot(t,er_3)\n",
    "plt.xlabel(\"t\")\n",
    "plt.ylabel(\"x(t) error\")\n",
    "plt.legend([\"x1 error\",\"x2 error\",\"x3 error\"])\n",
    "plt.show()\n",
    "# fig.savefig('image.png')\n"
   ]
  },
  {
   "cell_type": "markdown",
   "id": "be7b1123",
   "metadata": {},
   "source": [
    "$\\text{Exercise 3} $ (Write our own function and compare it with $odeint$)\n",
    "\n",
    "Let $\\{ t_k\\}$ be a partition of $[a,b]$ such that $a=t_1<t_2<\\cdots<t_{N}=b$ and $H$ be the constant length of the $k$-th subinterval ($H = t_k - t_{k-1}$). Let us consider initial value problem\n",
    "\n",
    "\\begin{equation}\\label{eul2}\n",
    "  \\begin{cases}\n",
    "    \\dfrac{dz}{dt} = f(z,t),      & \\quad \\text{on } [a, b]\\\\\\\\\n",
    "    z(a) = c,\n",
    "  \\end{cases}\n",
    "\\end{equation}\n",
    "where $z,f,c\\in R^M$ i.e. $z = [x_1, x_2,\\cdots, x_{M}]$, $c = [x_1(a), x_2(a),\\cdots, x_{M}(a)]$ and $f = [f_1, f_2,\\cdots, f_{M}]$. Note that \\eqref{eul2} is a the general form of system of ODEs. \n",
    "\n",
    "Let $t, z_k,Z$ defined as follows $$t=[t_1,t_2,\\cdots,t_{N-1},t_{N}],\\quad z_k = [x_1(t_k), x_2(t_k),\\cdots, x_{M}(t_k)], \\quad\n",
    "Z =\\begin{pmatrix}\n",
    "x_1(t_1)& x_2(t_1)&\\cdots& x_{M}(t_1)\\\\\n",
    "x_1(t_2)& x_2(t_2)&\\cdots& x_{M}(t_2)\\\\\n",
    "\\vdots& \\vdots&\\ddots& \\vdots\\\\\n",
    "x_1(t_{N})& x_2(t_{N})&\\cdots& x_{M}(t_{N})\n",
    "\\end{pmatrix}\n",
    "$$\n",
    "\n",
    "1. Write a python function <b> EulerOdeSys </b> that takes $f,c,t$ and return the solution $Z$ of the initial value problem \\eqref{eul2} using Euler method i.e.\n",
    "$$ z_{k+1} = z_k + Hf(z_k,t_k) $$\n"
   ]
  },
  {
   "cell_type": "code",
   "execution_count": null,
   "id": "69a0e585",
   "metadata": {},
   "outputs": [],
   "source": [
    "def EulerOdeSys(f,c,t):\n",
    "    N=len(t)\n",
    "    H=t[1]-t[0]\n",
    "    M=len(c)\n",
    "    Z=np.zeros((N,M))\n",
    "    Z[0]=c\n",
    "    for i in range(N-1):\n",
    "        Z[i+1]= Z[i]+H*f(Z[i],t[i])       \n",
    "    return Z"
   ]
  },
  {
   "cell_type": "markdown",
   "id": "e372e04f",
   "metadata": {},
   "source": [
    "2. Write a python function <b> RK4OdeSys </b> that takes $f,c,t$ and return the solution $Z$ of the initial value problem (1) using the fourth order Runge-Kutta method i.e.\n",
    "\n",
    "\\begin{equation}\n",
    "\\begin{cases}\n",
    "k_1 = f(z_k,t_k),\\\\\\\\\n",
    "k_2 = f(z_k+H\\dfrac{k_1}{2}, t_k + \\dfrac{H}{2}),\\\\\\\\\n",
    "k_3 = f(z_k+H\\dfrac{k_2}{2}, t_k + \\dfrac{H}{2}),\\\\\\\\\n",
    "k_4 = f(z_k+Hk_3, t_k + H),\\\\\\\\\n",
    "z_{k+1} = z_k + \\dfrac{H}{6}(k_1+2k_2+2k_3+k_4)\n",
    "\\end{cases}\n",
    "\\end{equation}\n",
    "\n"
   ]
  },
  {
   "cell_type": "code",
   "execution_count": null,
   "id": "6a5932e8",
   "metadata": {},
   "outputs": [],
   "source": [
    "def RK4OdeSys(f,c,t):\n",
    "    N=len(t)\n",
    "    H=t[1]-t[0]\n",
    "    M=len(c)\n",
    "    Z=np.zeros((N,M))\n",
    "    Z[0]=c\n",
    "    for i in range(N-1):\n",
    "        k1=f(Z[i],t[i])\n",
    "        k2=f(Z[i]+H*k1/2,t[i]+H/2)\n",
    "        k3=f(Z[i]+H*k2/2,t[i]+H/2)\n",
    "        k4=f(Z[i]+H*k3,t[i]+H)\n",
    "        Z[i+1]= Z[i]+H/6*(k1+2*k2+2*k3+k4) \n",
    "    return Z"
   ]
  },
  {
   "cell_type": "markdown",
   "id": "47624b6a",
   "metadata": {},
   "source": [
    "3. Solve the system of ODEs in $Exercise2$ using your function <b> EulerOdeSys </b> and <b> RK4OdeSys </b> "
   ]
  },
  {
   "cell_type": "code",
   "execution_count": null,
   "id": "6e5341e7",
   "metadata": {},
   "outputs": [],
   "source": [
    "a=0\n",
    "b=4\n",
    "N=200\n",
    "t=np.linspace(a,b,N)\n",
    "c=np.array([1,1,1])       \n",
    "Z_Euler=EulerOdeSys(model,c,t)\n",
    "Z_RK=RK4OdeSys(model,c,t)"
   ]
  },
  {
   "cell_type": "markdown",
   "id": "575451e1",
   "metadata": {},
   "source": [
    "4. By plotting the absolute error in the approximate and exact solutions, tell us which function gives a more accurate solution of a system of ODEs."
   ]
  },
  {
   "cell_type": "code",
   "execution_count": null,
   "id": "8e36f30e",
   "metadata": {},
   "outputs": [],
   "source": [
    "er_1_E=np.absolute(Z_Euler[:,0]-x1_ex)\n",
    "er_2_E=np.absolute(Z_Euler[:,1]-x2_ex)\n",
    "er_3_E=np.absolute(Z_Euler[:,2]-x3_ex)\n",
    "\n",
    "\n",
    "er_1_RK=np.absolute(Z_RK[:,0]-x1_ex)\n",
    "er_2_RK=np.absolute(Z_RK[:,1]-x2_ex)\n",
    "er_3_RK=np.absolute(Z_RK[:,2]-x3_ex)\n",
    "\n",
    "\n",
    "plt.style.use('seaborn')\n",
    "plt.figure(figsize=(15,6))\n",
    "plt.subplot(2,2,1)\n",
    "plt.plot(t,er_1_E)\n",
    "plt.plot(t,er_1_RK)\n",
    "plt.xlabel(\"t\")\n",
    "plt.ylabel(\"Error\")\n",
    "plt.legend([\"Euler Error\",\"RK Error\"])\n",
    "\n",
    "\n",
    "plt.subplot(2,2,2)\n",
    "plt.plot(t,er_2_E)\n",
    "plt.plot(t,er_2_RK)\n",
    "plt.xlabel(\"t\")\n",
    "plt.ylabel(\"Error\")\n",
    "plt.legend([\"Euler Error\",\"RK Error\"])\n",
    "\n",
    "\n",
    "\n",
    "plt.subplot(2,2,(3,4))\n",
    "plt.plot(t,er_3_E)\n",
    "plt.plot(t,er_3_RK)\n",
    "plt.xlabel(\"t\")\n",
    "plt.ylabel(\"Error\")\n",
    "plt.legend([\"Euler Error\",\"RK Error\"])\n",
    "plt.show()"
   ]
  },
  {
   "cell_type": "markdown",
   "id": "c5314319",
   "metadata": {},
   "source": [
    "From the plot above we can only conclude that the more accurate function is either <b>odeint</b> and <b>RK4</b> since they give a solution with the lowest error. To identify the more accurate solver, let us plot the absolute error between the exact and approximate solutions (obtained with <b>odeint</b> and <b>RK4</b>), tell us which function gives a more accurate solution of a system of ODEs."
   ]
  },
  {
   "cell_type": "code",
   "execution_count": null,
   "id": "e1f62d2a",
   "metadata": {},
   "outputs": [],
   "source": [
    "er_1=np.absolute(x1-x1_ex)\n",
    "er_2=np.absolute(x2-x2_ex)\n",
    "er_3=np.absolute(x3-x3_ex)\n",
    "\n",
    "er_1_RK=np.absolute(Z_RK[:,0]-x1_ex)\n",
    "er_2_RK=np.absolute(Z_RK[:,1]-x2_ex)\n",
    "er_3_RK=np.absolute(Z_RK[:,2]-x3_ex)\n",
    "\n",
    "plt.style.use('seaborn')\n",
    "plt.figure(figsize=(15,6))\n",
    "plt.subplot(2,2,1)\n",
    "plt.plot(t,er_1)\n",
    "plt.plot(t,er_1_RK)\n",
    "plt.xlabel(\"t\")\n",
    "plt.ylabel(\"Error\")\n",
    "plt.legend([\"ODEINT Error\",\"RK Error\"])\n",
    "\n",
    "\n",
    "\n",
    "plt.subplot(2,2,2)\n",
    "plt.plot(t,er_2)\n",
    "plt.plot(t,er_2_RK)\n",
    "plt.xlabel(\"t\")\n",
    "plt.ylabel(\"Error\")\n",
    "plt.legend([\"ODEINT Error\",\"RK Error\"])\n",
    "\n",
    "\n",
    "\n",
    "plt.subplot(2,2,(3,4))\n",
    "plt.plot(t,er_3)\n",
    "plt.plot(t,er_3_RK)\n",
    "plt.xlabel(\"t\")\n",
    "plt.ylabel(\"Error\")\n",
    "plt.legend([\"ODEINT Error\",\"RK Error\"])\n",
    "plt.show()"
   ]
  },
  {
   "cell_type": "markdown",
   "id": "e620af5f",
   "metadata": {},
   "source": [
    "$\\text{Exercise 4} $\n",
    "\n",
    "Consider heat conduction in a rod with constant heat conduction properties, $K>0$. The steady-state\n",
    "heat-conduction problem is then\n",
    "\n",
    "\\begin{equation}\n",
    "  \\begin{cases}\n",
    "    -K\\dfrac{d^2U}{dx^2} = g(x),      & \\quad x\\in (a, b)\\\\\\\\\n",
    "    U(a) = \\alpha,\\;\\; U(b) = \\beta.\n",
    "  \\end{cases}\n",
    "\\end{equation}\n",
    "\n",
    "Given a finite family of points $\\{x_i\\}$ for $i = 0,\\cdots, N$ defined by $x_i = a+ih$ with $h =\\dfrac{b−a}{N}$. Let us denote $U_i$ the approximate value of $U(x_i)$ for all $i= 0,\\cdots, N$.\n",
    "\n",
    "The backward Euler scheme applied to the steady-state\n",
    "heat-conduction problem gives\n",
    "\n",
    "\\begin{equation}\\label{secode}\n",
    "  \\begin{cases}\n",
    "    \\dfrac{K}{H^2}(-U_{i-1} +2U_i - U_{i+1}) = g(x_i),      & \\quad \\forall i= 1,2,\\cdots, N-1\\\\\\\\\n",
    "    U_0 = \\alpha,\\;\\; U_N = \\beta.\n",
    "  \\end{cases}\n",
    "\\end{equation}\n",
    "Note that the system \\eqref{secode} takes the form \n",
    "$$ AU = b $$.\n",
    "1. Write a Python function <b> MatGenerator </b> that takes $a,b,K, \\alpha, \\beta,N, g$ and return the matrix $A$ and vector $b$."
   ]
  },
  {
   "cell_type": "code",
   "execution_count": null,
   "id": "cbc9d19b",
   "metadata": {},
   "outputs": [],
   "source": [
    "def MatGenerator(𝑎,𝑏,𝐾,alp,bta,𝑁,𝑔):\n",
    "    h=(b-a)/N\n",
    "    x=np.linspace(a,b,N+1)\n",
    "    A=np.zeros((N+1,N+1))\n",
    "    A[0,0],A[N,N]=1,1\n",
    "    A[1,0],A[N-1,N]=-1,-1\n",
    "    A[1:N,1:N]=2*np.eye(N-1,N-1,k=0)-np.eye(N-1,N-1,k=1)-np.eye(N-1,N-1,k=-1)\n",
    "    b=np.zeros(N+1)\n",
    "    b[0]=alp\n",
    "    b[N]=bta\n",
    "    b[1:N]=h**2/K*g(x[1:N])\n",
    "    return A,b    "
   ]
  },
  {
   "cell_type": "markdown",
   "id": "cb6bf93a",
   "metadata": {},
   "source": [
    "2. Solve the steady-state heat-conduction problem for \n",
    "\n",
    "$$a=0, b= 1, K=1,\\alpha = -4, \\beta = 0, N= 100 \\text{ and } g(x) = -4(1+x)e^x $$"
   ]
  },
  {
   "cell_type": "code",
   "execution_count": null,
   "id": "436bf478",
   "metadata": {},
   "outputs": [],
   "source": [
    "𝑎=0\n",
    "𝑏=1\n",
    "𝐾=1\n",
    "alp=-4\n",
    "bta=0\n",
    "𝑁=100\n",
    "𝑔=lambda x:-4*(1+𝑥)*np.exp(x)\n",
    "M=MatGenerator(𝑎,𝑏,𝐾,alp,bta,𝑁,𝑔)"
   ]
  },
  {
   "cell_type": "markdown",
   "id": "c19a0db9",
   "metadata": {},
   "source": [
    "3. The exact solution of the steady-state heat-conduction problem above is $U(x)=4(x-1)e^x$. Use Subplot to plot side by side\n",
    "    - the exact and approximate solutions against x\n",
    "    - the absolute error between the exact and the approximate solution against x"
   ]
  },
  {
   "cell_type": "code",
   "execution_count": null,
   "id": "0b7756b2",
   "metadata": {},
   "outputs": [],
   "source": [
    "𝑈=lambda x:4*(𝑥-1)*np.exp(x)\n",
    "x=np.linspace(a,b,N+1)\n",
    "U_ex=U(x)\n",
    "\n",
    "A=M[0]\n",
    "b=M[1]\n",
    "Approx=np.linalg.solve(A,b)\n",
    "\n",
    "plt.style.use('seaborn')\n",
    "plt.figure(figsize=(15,6))\n",
    "plt.subplot(1,2,1)\n",
    "plt.plot(x,U_ex)\n",
    "plt.plot(x,Approx,'.')\n",
    "plt.xlabel(\"x\")\n",
    "plt.ylabel(\"y(x)\")\n",
    "plt.legend([\"Exact solution\",\"Approximative solution\"])\n",
    "\n",
    "\n",
    "\n",
    "plt.subplot(1,2,2)\n",
    "plt.plot(x,abs(Approx-U_ex))\n",
    "plt.xlabel(\"x\")\n",
    "plt.ylabel(\"Error\")\n",
    "plt.show()\n",
    "\n"
   ]
  },
  {
   "cell_type": "markdown",
   "id": "89847bfc",
   "metadata": {},
   "source": [
    "4. If the parameter $K(x)$ varies with $x$, then the steady-state\n",
    "heat-conduction problem is then\n",
    "\n",
    "\\begin{equation}\n",
    "  \\begin{cases}\n",
    "    -\\dfrac{d}{dx}\\Bigl( K(x)\\dfrac{dU}{dx} \\Bigl) = g(x),      & \\quad x\\in (a, b)\\\\\\\\\n",
    "    U(a) = \\alpha,\\;\\; U(b) = \\beta.\n",
    "  \\end{cases}\n",
    "\\end{equation}\n",
    "\n",
    "\n",
    "In this case, the backward Euler scheme applied to the steady-state\n",
    "heat-conduction problem gives\n",
    "\n",
    "\\begin{equation}\\label{secode}\n",
    "  \\begin{cases}\n",
    "    \\dfrac{1}{H^2}\\Bigl(-K(x_{i-1/2})U_{i-1} +(K(x_{i-1/2})+K(x_{i+1/2}))U_i - K(x_{i+1/2})U_{i+1}\\Bigr) = g(x_i),      & \\quad \\forall i= 1,2,\\cdots, N-1\\\\\\\\\n",
    "    U_0 = \\alpha,\\;\\; U_N = \\beta,\n",
    "  \\end{cases}\n",
    "\\end{equation}\n",
    "where $x_{i+1/2} = x_i+H/2$.\n",
    "Note that the system \\eqref{secode} takes the form \n",
    "$$ AU = b $$.\n",
    "a. Write a Python function <b> MatGenerator1 </b> that takes $a,b,K, \\alpha, \\beta,N, g$ and return the matrix $A$ and vector $b$."
   ]
  },
  {
   "cell_type": "code",
   "execution_count": null,
   "id": "4f291d95",
   "metadata": {},
   "outputs": [],
   "source": [
    "def MatGenerator(𝑎,𝑏,𝐾,alp,bta,𝑁,𝑔):\n",
    "    h=(b-a)/N\n",
    "    x=np.linspace(a,b,N+1)\n",
    "    A=np.zeros((N+1,N+1))\n",
    "    A[0,0],A[N,N]=1,1\n",
    "    A[1,0],A[N-1,N]=-K(x[0]+h/2),-K(x[N]+h/2)\n",
    "    for i in range(1,N-1):\n",
    "        A[i+1,i]=-K(x[i-1]+h/2)\n",
    "        A[i,i]=K(x[i-1]+h/2)+K(x[i]+h/2)\n",
    "        A[i,i+1]=-K(x[i]+h/2)\n",
    "    b=np.zeros(N+1)\n",
    "    b[0]=alp\n",
    "    b[N]=bta\n",
    "    b[1:N]=h**2*g(x[1:N])\n",
    "    return A,b "
   ]
  },
  {
   "cell_type": "markdown",
   "id": "ae3d4c90",
   "metadata": {},
   "source": [
    "b. Solve the steady-state heat-conduction problem for \n",
    "\n",
    "$$a=-1, b= 1, K(x)=x^2,\\alpha = -8, \\beta = 0, N= 100 \\text{ and } g(x) = -4(x^3+3x^2)e^{x+1} $$"
   ]
  },
  {
   "cell_type": "code",
   "execution_count": null,
   "id": "b2000c4e",
   "metadata": {},
   "outputs": [],
   "source": [
    "a=-1\n",
    "b=1\n",
    "alp=-8\n",
    "bta=0\n",
    "N=100\n",
    "g=lambda x:-4*(x**3+3*x**2)*np.exp(x+1)\n",
    "K=lambda x:x**2\n",
    "M=MatGenerator(𝑎,𝑏,𝐾,alp,bta,𝑁,𝑔)"
   ]
  },
  {
   "cell_type": "markdown",
   "id": "01aaa87a",
   "metadata": {},
   "source": [
    "c. The exact solution of the steady-state heat-conduction problem above is $U(x)=4(x-1)e^{x+1}$. Use Subplot to plot side by side\n",
    "    - the exact and approximate solutions against x\n",
    "    - the absolute error between the exact and the approximate solution against x"
   ]
  },
  {
   "cell_type": "code",
   "execution_count": null,
   "id": "0e4f4194",
   "metadata": {},
   "outputs": [],
   "source": [
    "A=M[0]\n",
    "b=M[1]\n",
    "Approx1=np.linalg.solve(A,b)\n",
    "\n",
    "plt.style.use('seaborn')\n",
    "plt.figure(figsize=(15,6))\n",
    "plt.subplot(1,2,1)\n",
    "plt.plot(x,U_ex)\n",
    "plt.plot(x,Approx1,'.')\n",
    "plt.xlabel(\"x\")\n",
    "plt.ylabel(\"y(x)\")\n",
    "plt.legend([\"Exact solution\",\"Approximative solution\"])\n",
    "\n",
    "\n",
    "\n",
    "plt.subplot(1,2,2)\n",
    "plt.plot(x,abs(Approx1-U_ex))\n",
    "plt.xlabel(\"x\")\n",
    "plt.ylabel(\"Error\")\n",
    "plt.show()\n"
   ]
  },
  {
   "cell_type": "code",
   "execution_count": null,
   "id": "2fa391ab",
   "metadata": {},
   "outputs": [],
   "source": []
  },
  {
   "cell_type": "code",
   "execution_count": null,
   "id": "single-application",
   "metadata": {},
   "outputs": [],
   "source": [
    "import numpy as np\n",
    "import matplotlib.pyplot as plt\n",
    "np.random.seed(10)"
   ]
  },
  {
   "cell_type": "code",
   "execution_count": null,
   "id": "cbcd5f0a",
   "metadata": {},
   "outputs": [],
   "source": [
    "# Write Python function called Process that takes α, N, q and return the array of x_i\n",
    "# 1\n",
    "def Process(alpha, N, q):\n",
    "    x=np.zeros(N+1)\n",
    "    x[0]=np.random.normal(0,1)\n",
    "    x[1:]=alpha*x[0:N]+np.random.normal(0,q,N)\n",
    "    return x"
   ]
  },
  {
   "cell_type": "code",
   "execution_count": null,
   "id": "f8162d26",
   "metadata": {},
   "outputs": [],
   "source": [
    "# 2\n",
    "def Data(x,r,h):\n",
    "    N=len(x)-1\n",
    "    y=np.zeros(N)\n",
    "    y=h*x[1:]+np.random.normal(0,r,N)\n",
    "    return y\n",
    "    "
   ]
  },
  {
   "cell_type": "code",
   "execution_count": null,
   "id": "bc4e4173",
   "metadata": {},
   "outputs": [],
   "source": [
    "# 3\n",
    "r = 0.1 \n",
    "h = 1\n",
    "alpha = 0.8\n",
    "N = 30\n",
    "q = 0.4\n",
    "x=Process(alpha, N, q)\n",
    "y=Data(x,r,h)"
   ]
  },
  {
   "cell_type": "code",
   "execution_count": null,
   "id": "840186ab",
   "metadata": {},
   "outputs": [],
   "source": [
    "\n",
    "plt.plot(np.arange(N+1),x)\n",
    "plt.plot(np.arange(1,N+1),y)\n",
    "\n",
    "plt.show()"
   ]
  },
  {
   "cell_type": "code",
   "execution_count": null,
   "id": "ea65850b",
   "metadata": {},
   "outputs": [],
   "source": [
    "# 6\n",
    "mu1_0 = 0\n",
    "sigma1_0 = q+alpha**2\n",
    "K1=h*(q+alpha**2)*(h**2*(q+alpha**2)+r)**(-1)\n",
    "mu1_1=K1*y[0]\n",
    "sigma1_1=(1-K1*h)*sigma1_0 \n",
    "# 7\n",
    "mu_old=np.zeros(N)\n",
    "sigma_old=np.zeros(N)\n",
    "K=np.zeros(N)\n",
    "mu_new=np.zeros(N)\n",
    "sigma_new=np.zeros(N)\n",
    "\n",
    "mu_old[0]=mu1_0 \n",
    "sigma_old[0]=sigma1_0\n",
    "K[0]=K1\n",
    "mu_new[0]=mu1_1\n",
    "sigma_new[0]=sigma1_1\n",
    "\n",
    "for i in range(1,N):\n",
    "    mu_old[i]=alpha*mu_old[i-1]\n",
    "    sigma_old[i]=q+alpha**2*sigma_new[i-1]\n",
    "    K[i]=h*sigma_old[i]*(h**2*sigma_old[i]+r)**(-1)\n",
    "    mu_new[i]=mu_old[i]+ K[i]*(y[i]-h*mu_old[i])\n",
    "    sigma_new[i]=(1-h*K[i])*sigma_old[i]\n",
    "\n",
    "# mu_old[1:]=alpha*mu_old[0:N-1]\n",
    "# sigma_old[1:]=q+alpha**2*sigma_new[0:N-1]\n",
    "# K[1:]=h*sigma_old[1:]*(h**2*sigma_old[1:]+r)**(-1)\n",
    "# mu_new[1:]=mu_old[1:]+ K[1:]*(y[1:]-h*mu_old[1:])\n",
    "# sigma_new[1:]=(1-h*K[1:])*sigma_old[1:]"
   ]
  },
  {
   "cell_type": "code",
   "execution_count": null,
   "id": "occupied-copyright",
   "metadata": {},
   "outputs": [],
   "source": [
    "# 8  a)\n",
    "print(mu_new)\n",
    "sigma_old"
   ]
  },
  {
   "cell_type": "code",
   "execution_count": null,
   "id": "lucky-expression",
   "metadata": {},
   "outputs": [],
   "source": [
    "# 8  b)\n",
    "print(mu_new)\n",
    "sigma_new"
   ]
  },
  {
   "cell_type": "code",
   "execution_count": null,
   "id": "adaptive-humor",
   "metadata": {},
   "outputs": [],
   "source": [
    "# 9)\n",
    "plt.plot(np.arange(1,N+1),x[1:],label=\"x\")\n",
    "plt.plot(np.arange(1,N+1),y,label=\"y\")\n",
    "plt.plot(np.arange(1,N+1),mu_old,label=\"mu_old\")\n",
    "plt.plot(np.arange(1,N+1),mu_new,label=\"mu_new\")\n",
    "plt.legend()\n",
    "plt.show()"
   ]
  },
  {
   "cell_type": "code",
   "execution_count": null,
   "id": "ordinary-mortality",
   "metadata": {},
   "outputs": [],
   "source": []
  },
  {
   "cell_type": "markdown",
   "id": "f860f155",
   "metadata": {},
   "source": [
    "# Q1"
   ]
  },
  {
   "cell_type": "markdown",
   "id": "7a45e940",
   "metadata": {},
   "source": [
    "**Exercise 1**\n",
    "\n",
    "1- Write a program that asks the user to enter a word and determines whether the word is a\n",
    "palindrome or not. A palindrome is a word that reads the same backwards as forwards."
   ]
  },
  {
   "cell_type": "code",
   "execution_count": null,
   "id": "fb9f753a",
   "metadata": {},
   "outputs": [],
   "source": [
    "word= input(\"Enter a word: \")\n",
    "if word.upper() == word.upper()[::-1]:\n",
    "    print(f\"{word} is a palindrome.\")\n",
    "else:\n",
    "    print(f\"{word} is not a palindrome.\")"
   ]
  },
  {
   "cell_type": "markdown",
   "id": "73734a75",
   "metadata": {},
   "source": [
    "2- A simple way to estimate the number of words in a string is to count the number of spaces\n",
    "in the string. Write a program that asks the user for a string and returns an estimate of how\n",
    "many words are in the string."
   ]
  },
  {
   "cell_type": "code",
   "execution_count": null,
   "id": "61959267",
   "metadata": {},
   "outputs": [],
   "source": [
    "def Words():\n",
    "    s= input(\"Enter a string: \")\n",
    "    return len(s.split(\" \"))-s.split(\" \").count(\"\")"
   ]
  },
  {
   "cell_type": "markdown",
   "id": "c5d7c367",
   "metadata": {},
   "source": [
    "3-Write a program that asks the user for a large integer and inserts commas into it according\n",
    "to the standard American convention for commas in large numbers. For instance, if the user\n",
    "enters 1000000, the output should be 1,000,000."
   ]
  },
  {
   "cell_type": "code",
   "execution_count": null,
   "id": "1ae5e29a",
   "metadata": {},
   "outputs": [],
   "source": [
    "e= input(\"Enter a large integer: \")\n",
    "if len(e)<4:\n",
    "    print(e)\n",
    "else:\n",
    "    b= [ e[len(e)-3*i-3:len(e)-3*i] for i in range(len(e)//3) ]\n",
    "    if len(e)%3 != 0:\n",
    "        a= [e[:len(e)%3]]\n",
    "        b.append(a[0])\n",
    "    b= b[::-1]\n",
    "    print(\",\".join(b))"
   ]
  },
  {
   "cell_type": "markdown",
   "id": "7c0baa04",
   "metadata": {},
   "source": [
    "**Exercise 2**\n",
    "\n",
    "The goal of this exercise is to see if you can mimic the behavior of the **in** operator and the\n",
    "**count** and **index** methods using only variables, for loops, and if statements.\n",
    "\n",
    "1- Without using the **in** operator, write a program that asks the user for a string and a letter\n",
    "and prints out whether or not the letter appears in the string.\n"
   ]
  },
  {
   "cell_type": "code",
   "execution_count": null,
   "id": "78fe166d",
   "metadata": {},
   "outputs": [],
   "source": [
    "word= input(\"Enter a string: \")\n",
    "l= input(\"Enter a letter: \")\n",
    "d= \"not present\"\n",
    "for i in word:\n",
    "    if i == l:\n",
    "        d= \"present\"\n",
    "        break\n",
    "print(f\"{l} is {d} in {word}.\")"
   ]
  },
  {
   "cell_type": "markdown",
   "id": "fbe91e2f",
   "metadata": {},
   "source": [
    "2- Without using the **count** method, write a program that asks the user for a string and a\n",
    "letter and counts how many occurrences there are of the letter in the string.\n"
   ]
  },
  {
   "cell_type": "code",
   "execution_count": null,
   "id": "1f691b68",
   "metadata": {},
   "outputs": [],
   "source": [
    "word= input(\"Enter a string: \")\n",
    "l= input(\"Enter a letter: \")\n",
    "d=0\n",
    "for i in word:\n",
    "    if i == l:\n",
    "        d+=1\n",
    "print(f\"{l} appears {d} times in {word}.\")"
   ]
  },
  {
   "cell_type": "markdown",
   "id": "ae9d3a3b",
   "metadata": {},
   "source": [
    "3- Without using the **index** method, write a program that asks the user for a string and\n",
    "a letter and prints out the index of the first occurrence of the letter in the string. If the\n",
    "letter is not in the string, the program should say so."
   ]
  },
  {
   "cell_type": "code",
   "execution_count": null,
   "id": "7ae90182",
   "metadata": {},
   "outputs": [],
   "source": [
    "word= input(\"Enter a string: \")\n",
    "l= input(\"Enter a letter: \")\n",
    "d= -1\n",
    "for i in range(len(word)):\n",
    "    if word[i] == l:\n",
    "        d= i\n",
    "if d==-1:\n",
    "    print(f\"{l} is not in {word}\")\n",
    "else:\n",
    "    print(f\"The first index of {l} in {word} is at index {d}\")"
   ]
  },
  {
   "cell_type": "markdown",
   "id": "cb9782a9",
   "metadata": {},
   "source": [
    "**Exercise 3**\n",
    "\n",
    "Write a function that takes any two lists L and M of the same size and adds their elements together to form a new list N whose elements are sums of the corresponding elements in L and M. For instance, if L=[3,1,4] and M=[1,5,9], then N should equal [4,6,13]."
   ]
  },
  {
   "cell_type": "code",
   "execution_count": null,
   "id": "9a8ef2b1",
   "metadata": {},
   "outputs": [],
   "source": [
    "def Add(L,M):\n",
    "    return [L[i]+M[i] for i in range(len(L))]"
   ]
  },
  {
   "cell_type": "markdown",
   "id": "0d2b36d1",
   "metadata": {},
   "source": [
    "**Exercise 4**\n",
    "\n",
    "Write a program that removes any repeated items from a list so that each item appears at most\n",
    "once. For instance, the list [1,1,2,3,4,3,0,0] would become [1,2,3,4,0]."
   ]
  },
  {
   "cell_type": "code",
   "execution_count": null,
   "id": "e819a8b7",
   "metadata": {},
   "outputs": [],
   "source": [
    "def Rem(L):\n",
    "    return [i for i in set(L)]"
   ]
  },
  {
   "cell_type": "markdown",
   "id": "8bc2dbec",
   "metadata": {},
   "source": [
    "**Exercise 5**\n",
    "\n",
    "Let L=[2,3,5,7,11,13,17,19,23,29,31,37,41,43,47]. Use a list comprehension to\n",
    "produce a list of the gaps between consecutive entries in L. Then find the maximum gap size\n",
    "and the percentage of gaps that have size 2."
   ]
  },
  {
   "cell_type": "code",
   "execution_count": null,
   "id": "0945efd7",
   "metadata": {},
   "outputs": [],
   "source": [
    "L= [2,3,5,7,11,13,17,19,23,29,31,37,41,43,47]\n",
    "g= [abs(L[i+1]-L[i]) for i in range(len(L)-1)]\n",
    "mg= max(g)\n",
    "p2= 100*g.count(2)/len(g)\n",
    "print(f\"The list of gaps is {g}.\\nThe maximum gap is {mg}.\\nThe percentage of gaps of size 2 is {p2} % \")"
   ]
  },
  {
   "cell_type": "markdown",
   "id": "bb82fb9c",
   "metadata": {},
   "source": [
    "**Exercise 6**\n",
    "\n",
    "1- Using the list comprehensions, write a function, **ListComp** that takes a list $L$ of strings as input and returns \n",
    "- a list that consists of the strings of $L$ with their first characters removed\n",
    "- a list of the lengths of the strings of $L$\n",
    "- a list that consists of only those strings of $L$ that are at least 5 characters long"
   ]
  },
  {
   "cell_type": "code",
   "execution_count": null,
   "id": "03ad38d8",
   "metadata": {},
   "outputs": [],
   "source": [
    "def ListComp(L):\n",
    "    le=[len(i) for i in L]\n",
    "    l3=[]\n",
    "    ll=[i.removeprefix(i[0]) for i in L]\n",
    "    for i in range(len(L)):\n",
    "        if len(L[i])<6:\n",
    "            l3.append(L[i])\n",
    "    return ll, le, l3"
   ]
  },
  {
   "cell_type": "markdown",
   "id": "62f5847f",
   "metadata": {},
   "source": [
    "2- Test your function **ListComp** by using the surname of your group members"
   ]
  },
  {
   "cell_type": "code",
   "execution_count": null,
   "id": "4edaa716",
   "metadata": {},
   "outputs": [],
   "source": [
    "ListComp([\"Njabo\", \"Ndonfack\", \"Nibishaka\", \"Kimani\",\"Niyokwizera\"])"
   ]
  },
  {
   "cell_type": "markdown",
   "id": "993d6762",
   "metadata": {},
   "source": [
    "**Exercise 7**\n",
    "\n",
    "1- Write a program that repeatedly asks the user to enter product names and prices. Store all\n",
    "of these in a dictionary whose keys are the product names and whose values are the prices.\n",
    "When the user is done entering products and prices, allow them to repeatedly enter a product\n",
    "name and print the corresponding price or a message if the product is not in the dictionary."
   ]
  },
  {
   "cell_type": "code",
   "execution_count": null,
   "id": "6d0fa791",
   "metadata": {},
   "outputs": [],
   "source": [
    "products={}\n",
    "p=eval(input(\"Enter the number of products: \"))\n",
    "for i in range(p):\n",
    "    name= input(\"Enter a product name: \")\n",
    "    price= eval(input(\"Enter the price of the product: \"))\n",
    "    products.update({name:price})\n",
    "a=eval(input(\"Enter the number of products you want to access: \"))\n",
    "for i in range(a):\n",
    "    n= input(\"Enter a product name: \")\n",
    "    if n in products:\n",
    "        print(f\"The price of {n} is {products[n]}.\")\n",
    "    else:\n",
    "        print(f\"{n} is not available.\")"
   ]
  },
  {
   "cell_type": "markdown",
   "id": "abaf1f97",
   "metadata": {},
   "source": [
    "2- Using the dictionary created above, allow the user to enter a dollar amount and print out all the products whose price is less than that amount."
   ]
  },
  {
   "cell_type": "code",
   "execution_count": null,
   "id": "e7d92c75",
   "metadata": {},
   "outputs": [],
   "source": [
    "dol = eval(input(\"Enter a dollar amount: \"))\n",
    "less={}\n",
    "for i in products:\n",
    "    if products[i]<dol:\n",
    "        less.update({i:products[i]})\n",
    "less"
   ]
  },
  {
   "cell_type": "markdown",
   "id": "afb6622c",
   "metadata": {},
   "source": [
    "**Exercise 8**\n",
    "\n",
    "1 - Repeatedly ask the user to enter a team name and the how many games the team won and\n",
    "how many they lost. Store this information in a dictionary where the keys are the team names\n",
    "and the values are lists of the form [wins, losses]."
   ]
  },
  {
   "cell_type": "code",
   "execution_count": null,
   "id": "c579d2f0",
   "metadata": {},
   "outputs": [],
   "source": [
    "n = int(input(\"Enter number of teams: \"))\n",
    "records = {}\n",
    "for i in range(n):\n",
    "    name = input(\"Enter the name of the team: \")\n",
    "    wins = int(input(\"Enter the number of wins: \"))\n",
    "    losses = int(input(\"Enter the number of losses: \"))\n",
    "    records.update({name:[wins, losses]})"
   ]
  },
  {
   "cell_type": "markdown",
   "id": "f80df42c",
   "metadata": {},
   "source": [
    "2- Using the dictionary created above, allow the user to enter a team name and print out the team’s winning percentage."
   ]
  },
  {
   "cell_type": "code",
   "execution_count": null,
   "id": "83be6b64",
   "metadata": {},
   "outputs": [],
   "source": [
    "t = input(\"Enter team name :\")\n",
    "print(f\"The winning percentage of {t} is {100*records[t][0]/sum(records[t])} %\")"
   ]
  },
  {
   "cell_type": "markdown",
   "id": "20a4f474",
   "metadata": {},
   "source": [
    "3- Using the dictionary, create a list whose entries are the number of wins of each team."
   ]
  },
  {
   "cell_type": "code",
   "execution_count": null,
   "id": "8d6f8fb5",
   "metadata": {},
   "outputs": [],
   "source": [
    "w_team = [i[0] for i in records.values()]\n",
    "print(w_team)"
   ]
  },
  {
   "cell_type": "markdown",
   "id": "bbb95451",
   "metadata": {},
   "source": [
    "4- Using the dictionary, create a list of all those teams that have winning records."
   ]
  },
  {
   "cell_type": "code",
   "execution_count": null,
   "id": "9346049c",
   "metadata": {},
   "outputs": [],
   "source": [
    "w_rec = []\n",
    "for i in records:\n",
    "    if records[i][0] > records[i][1] :\n",
    "        w_rec.append(i)\n",
    "print(w_rec)"
   ]
  },
  {
   "cell_type": "markdown",
   "id": "0edc54b3",
   "metadata": {},
   "source": [
    "**Exercise 9**\n",
    "\n",
    "Write a function called matches that takes two strings as arguments and returns how many\n",
    "matches there are between the strings. A match is where the two strings have the same character at the same index. For instance, 'python' and 'path' match in the first, third, and\n",
    "fourth characters, so the function should return 3."
   ]
  },
  {
   "cell_type": "code",
   "execution_count": null,
   "id": "e187d3f2",
   "metadata": {},
   "outputs": [],
   "source": [
    "def matches(n,m):\n",
    "    r=0\n",
    "    for i in range(min(len(n),len(m))):\n",
    "        if n[i] == m[i]:\n",
    "            r+=1\n",
    "    return r"
   ]
  },
  {
   "cell_type": "markdown",
   "id": "8fa287ab",
   "metadata": {},
   "source": [
    "**Exercise 10**\n",
    "\n",
    "Recall that if s is a string, then s.find('a') will find the location of the first a in s. The\n",
    "problem is that it does not find the location of every a. Write a function called findall that\n",
    "given a string and a single character, returns a list containing all of the locations of that character in the string. It should return an empty list if there are no occurrences of the character\n",
    "in the string."
   ]
  },
  {
   "cell_type": "code",
   "execution_count": null,
   "id": "90b098c4",
   "metadata": {},
   "outputs": [],
   "source": [
    "def findall(word, char):\n",
    "    pos=[]\n",
    "    for i in range(len(word)):\n",
    "        if word[i] == char:\n",
    "            pos.append(i)\n",
    "    return pos"
   ]
  },
  {
   "cell_type": "markdown",
   "id": "5a0c111b",
   "metadata": {},
   "source": [
    "**Exercise 11**\n",
    "\n",
    "Write a function that takes two already sorted lists (ascending order) of possibly different lengths,\n",
    "and merges them into a single sorted list.\n",
    "\n",
    "1- Do this using the sort method. Function name is **merge1**"
   ]
  },
  {
   "cell_type": "code",
   "execution_count": null,
   "id": "4aab97db",
   "metadata": {},
   "outputs": [],
   "source": [
    "def merge1(l1, l2):\n",
    "    r=l1+l2\n",
    "    r.sort()\n",
    "    return r"
   ]
  },
  {
   "cell_type": "markdown",
   "id": "64a4c059",
   "metadata": {},
   "source": [
    "2- Do this without using the sort method. Function name is **merge2**"
   ]
  },
  {
   "cell_type": "code",
   "execution_count": null,
   "id": "438eade8",
   "metadata": {},
   "outputs": [],
   "source": [
    "def merge2(l1, l2):\n",
    "    r=l1+l2\n",
    "    d=[]\n",
    "    for i in range(len(r)):\n",
    "        d.append(min(r))\n",
    "        r.remove(d[i])\n",
    "    return d"
   ]
  },
  {
   "cell_type": "markdown",
   "id": "e1eaf26f",
   "metadata": {},
   "source": [
    "3- Test the two function using the list\n",
    "\n",
    "L1 = [15, 20, 40, 58, 62, 64];\n",
    "L2 = [58, 60, 62, 64, 70]"
   ]
  },
  {
   "cell_type": "code",
   "execution_count": null,
   "id": "7fe82c5a",
   "metadata": {},
   "outputs": [],
   "source": [
    "print(merge1([15, 20, 40, 58, 62, 64], [58, 60, 62, 64, 70]))\n",
    "print(merge2([15, 20, 40, 58, 62, 64], [58, 60, 62, 64, 70]))"
   ]
  },
  {
   "cell_type": "markdown",
   "id": "d94e318a",
   "metadata": {},
   "source": [
    "**Exercise 12**\n",
    "\n",
    "1- Let us consider a continuous function “f” which is defined on the closed interval [a, b], is given with f(a) and f(b) of different signs. Then by intermediate theorem, there exists a point x belong to (a, b) for which f(x) = 0. The bisection method is an approximation method to find the roots of the given equation by repeatedly dividing the interval. This method will divide the interval until the resulting interval is found, which is extremely small.\n",
    "\n",
    "Let $x_0 \\in [a,b]$ be the solution of the equation $f(x) = 0$. Write a function named **Bissection** that\n",
    "- returns $\\bar{x}$ and $f(\\bar{x})$  such that $ \\mid \\bar{x} - x_0 \\mid \\leq \\epsilon, $ if $f(a)\\times f(b)\\leq 0$\n",
    "- prints \"Bissection method failed\", otherwise.\n",
    "\n",
    "for the given inputs $f,a,b$ and $\\epsilon$ with a default value $10^{-2}$."
   ]
  },
  {
   "cell_type": "code",
   "execution_count": null,
   "id": "5be1ed94",
   "metadata": {},
   "outputs": [],
   "source": [
    "def Bissection(f,a,b,epsilon=0.01):\n",
    "    if f(a)*f(b) > 0:\n",
    "        print(\"Bissection failed\")\n",
    "        return \"\"\n",
    "    else:\n",
    "        xbar=(b+a)/2\n",
    "        if f(xbar) == 0 or b-a <= 2*epsilon:\n",
    "            return xbar, f(xbar)\n",
    "        elif f(xbar) * f(a) <0:\n",
    "            return Bissection(f,a,xbar,epsilon)\n",
    "        else:\n",
    "            return Bissection(f,xbar,b,epsilon)"
   ]
  },
  {
   "cell_type": "markdown",
   "id": "e696f697",
   "metadata": {},
   "source": [
    "2- Test your function **Bissection** for $ f(x) = x^3 -3x - 5$, $a=-10$ and $b=10$"
   ]
  },
  {
   "cell_type": "code",
   "execution_count": null,
   "id": "a4aae779",
   "metadata": {},
   "outputs": [],
   "source": [
    "f= lambda x : x**3-3*x-5\n",
    "print(Bissection(f,-10,10))"
   ]
  },
  {
   "cell_type": "markdown",
   "id": "835d2c49",
   "metadata": {},
   "source": [
    "**Exercise 13**\n",
    "\n",
    "1- Write a function called <b>number_of_factors</b> that takes a positive integer and returns how many factors the number has; and a list of its factors."
   ]
  },
  {
   "cell_type": "code",
   "execution_count": null,
   "id": "dd4efceb",
   "metadata": {},
   "outputs": [],
   "source": [
    "def number_of_factors(n):\n",
    "    x=[1]\n",
    "    if n==1:\n",
    "        return len(x),x\n",
    "    else:\n",
    "        for i in range(2,n//2+1):\n",
    "            if n%i==0:\n",
    "                x.append(i)\n",
    "        x.append(n)\n",
    "        return len(x),x"
   ]
  },
  {
   "cell_type": "markdown",
   "id": "b0c87e9c",
   "metadata": {},
   "source": [
    "2- Write a Python function called <b>IsPrime</b> that takes a positive integer, $n$, as input and returns the boolean True if $n$ is a prime number and False, otherwise. \n",
    "\n",
    "Note : A prime number (or a prime) is a natural number greater than 1 and that has no positive divisors other than 1 and itself.\n",
    "\n"
   ]
  },
  {
   "cell_type": "code",
   "execution_count": null,
   "id": "68e0238c",
   "metadata": {},
   "outputs": [],
   "source": [
    "def IsPrime(n):\n",
    "    return number_of_factors(n)[0] == 2"
   ]
  },
  {
   "cell_type": "markdown",
   "id": "ef0d96ab",
   "metadata": {},
   "source": [
    "3- Write a function called **primes** that is given a positive integer $n$ and returns a list of the first $n$\n",
    "primes. Let the default value of n be 100.\n"
   ]
  },
  {
   "cell_type": "code",
   "execution_count": null,
   "id": "b54acf6a",
   "metadata": {},
   "outputs": [],
   "source": [
    "def Firstprimes(n=2):\n",
    "    if n==2:\n",
    "        return 2\n",
    "    elif n%2==0:\n",
    "        p=n+1\n",
    "    else:\n",
    "        p=n\n",
    "    while not IsPrime(p):\n",
    "        p+=2\n",
    "    return p\n",
    "\n",
    "def primes(n=100):\n",
    "    x=[2]\n",
    "    i=3\n",
    "    while len(x)<n:\n",
    "        if IsPrime(i):\n",
    "            x.append(i)\n",
    "        i=Firstprimes(i+1)\n",
    "    return x"
   ]
  },
  {
   "cell_type": "markdown",
   "id": "53dfb63b",
   "metadata": {},
   "source": [
    "4- Modify the function above so that there is an optional argument called start that allows\n",
    "the list def Firstprimes(n=2):to start at a value other than 2. The function should return the first n primes that\n",
    "are greater than or equal to start. The default value of start should be 2."
   ]
  },
  {
   "cell_type": "code",
   "execution_count": null,
   "id": "1c88084c",
   "metadata": {},
   "outputs": [],
   "source": [
    "def primes2(start=2, n=100):\n",
    "    x=[Firstprimes(start)]\n",
    "    i=Firstprimes(x[0]+1)\n",
    "    while len(x)<n:\n",
    "        if IsPrime(i):\n",
    "            x.append(i)\n",
    "        i=Firstprimes(i+1)\n",
    "    return x"
   ]
  },
  {
   "cell_type": "markdown",
   "id": "3238f95f",
   "metadata": {},
   "source": [
    "5- Write a function **V** that takes a positive integer $n$ and a prime number $p$ and returns the greaters integer $r$ such that $p^r$ divides $n$.\n",
    "\n"
   ]
  },
  {
   "cell_type": "code",
   "execution_count": null,
   "id": "954b314e",
   "metadata": {},
   "outputs": [],
   "source": [
    "def V(n,p):\n",
    "    i=0\n",
    "    while(p**i)%n==0:\n",
    "        i+=1\n",
    "    return i-1"
   ]
  },
  {
   "cell_type": "markdown",
   "id": "c5815a8d",
   "metadata": {},
   "source": [
    "6- Write the funtion **D** that takes two positive integer $n,m$ and return the sum $S_1$ given by \n",
    " $$ S_1 = \\sum_{p\\; prime} \\Bigl| V(n,p) - V(m,p)\\Bigr| $$\n",
    "\n",
    "Note that $D(14,24)=4$.\n",
    "\n"
   ]
  },
  {
   "cell_type": "code",
   "execution_count": null,
   "id": "9ea85cda",
   "metadata": {},
   "outputs": [],
   "source": [
    "def D(n,m):\n",
    "    s=0\n",
    "    for i in range(2,max(n,m)+1):\n",
    "        if IsPrime(i)==True:\n",
    "            s+= abs(V(n,i)-V(m,i))\n",
    "    return s"
   ]
  },
  {
   "cell_type": "markdown",
   "id": "18ee6201",
   "metadata": {},
   "source": [
    "7- Write the funtion $P$ that takes a positive integer $N$ and return the sum $S_2$ given by \n",
    "\n",
    "$$S_2  = \\sum_{n=1}^{N}\\sum_{m=1}^{N}D(n,m).$$\n",
    "\n",
    "Note that $S(10)=210$ and $S(10^2)$ = 37018.\n"
   ]
  },
  {
   "cell_type": "code",
   "execution_count": null,
   "id": "f2a9dd31",
   "metadata": {},
   "outputs": [],
   "source": [
    "def P(N):\n",
    "    s=0\n",
    "    for n in range(1,N+1):\n",
    "        for m in range(1,N+1):\n",
    "            s+=D(n,m)\n",
    "    return s\n",
    "P(100)"
   ]
  },
  {
   "cell_type": "markdown",
   "id": "4422e818",
   "metadata": {},
   "source": [
    "**Exercise 14**\n",
    "\n",
    "Create a Module **AllFunction.py** that contains all the functions on this notebook. Then, import the module to test the functions."
   ]
  },
  {
   "cell_type": "code",
   "execution_count": null,
   "id": "563f50b1",
   "metadata": {},
   "outputs": [],
   "source": [
    "import Group2 as gp\n",
    "print(f\"There are {gp.Words()} words.\")\n",
    "print(f\"[1,2,3,4] and [5,6,7,8] become {gp.Add([1,2,3,4],[5,6,7,8])}\")\n",
    "print(f\"[1,1,2,3,4,3,5] become {gp.Rem([1,1,2,3,4,3,5])}\")\n",
    "print(f\"python and path match {gp.matches('python','path')} times.\")\n",
    "print(gp.ListComp([\"Njabo\", \"Ndonfack\", \"Nibishaka\", \"Kimani\",\"Niyokwizera\"]))\n",
    "print(f\"p appears {gp.findall('popopo', 'p')} times in popopo.\")\n",
    "print(gp.merge1([1,223,32], [12,122]))\n",
    "print(gp.merge2([1,223,32], [12,122]))\n",
    "f= lambda x : x**3-3*x-5\n",
    "print(gp.Bissection(f,-10,10))\n",
    "print(f\"number_of_factors(12) = {gp.number_of_factors(12)}\")\n",
    "print(f\"Is 37 prime? {IsPrime(37)}\")\n",
    "print(f\"The 100 first primes are {gp.primes()}\")\n",
    "print(f\"The 100 first primes greater than 3 are {gp.primes2(3,100)}\")\n",
    "print(f\"V(48,2) = {gp.V(48,2)}\")\n",
    "print(f\"D(14,24) = {gp.D(14,24)}\")\n",
    "print(f\"P(10) = {gp.P(10)}\")"
   ]
  },
  {
   "cell_type": "markdown",
   "id": "9d9e1202",
   "metadata": {},
   "source": [
    "# Q2"
   ]
  },
  {
   "cell_type": "markdown",
   "id": "3dccf32a",
   "metadata": {},
   "source": [
    "**Exercise 1**(<font color = red> 6pts  </font>)\n",
    "\n",
    "1- A store charges RWF 12 per item if you buy less than 10 items. If you buy between 10 and 99 items, the cost is RWF 10 per item. If you buy 100 or more items, the cost is RWF 7 per item. Write the ADL of the function, named <b>Cost</b>, that takes how many items ,$n$, they are buying and returns the total cost. (<font color = red> 3pts  </font>)\n",
    "\n",
    "2- Translate the ADL into a python code.(<font color = red> 2pts  </font>)"
   ]
  },
  {
   "cell_type": "code",
   "execution_count": null,
   "id": "6307b832",
   "metadata": {},
   "outputs": [],
   "source": [
    "def Cost(n):\n",
    "    if n<10:\n",
    "        price=12*n\n",
    "    elif n<100:\n",
    "        price=10*n\n",
    "    else:\n",
    "        price=7*n\n",
    "    return price"
   ]
  },
  {
   "cell_type": "markdown",
   "id": "9f1f8edd",
   "metadata": {},
   "source": [
    "3- Test the function <b>Cost</b> for $n = 50 \\text{ and } 255$. (<font color = red> 1pt  </font>)"
   ]
  },
  {
   "cell_type": "code",
   "execution_count": null,
   "id": "de596fdd",
   "metadata": {},
   "outputs": [],
   "source": [
    "print(\"50 items cost RWF\",Cost(50))\n",
    "print(\"255 items cost RWF\",Cost(255))"
   ]
  },
  {
   "cell_type": "markdown",
   "id": "8e9f5af0",
   "metadata": {},
   "source": [
    "**Exercise 2**(<font color = red> 10pts  </font>)\n",
    "\n",
    "1- Write the ADL of the function, named <b>QuadEqu</b>, that takes as inputs three numbers\n",
    "$a$, $b$, $c$ ∈ $\\mathbb{R}$ and return the solution in R of the equation\n",
    "$ax^2 + bx + c = 0$. (<font color = red> 3pts  </font>)\n",
    "\n",
    "2- Translate the ADL into a python code such that $a=1$ by default. (<font color = red> 4pts  </font>)"
   ]
  },
  {
   "cell_type": "code",
   "execution_count": null,
   "id": "bbec99ff",
   "metadata": {},
   "outputs": [],
   "source": [
    "def QuadEqu(c,b,a = 1,):\n",
    "    if a==0:\n",
    "        if b==0:\n",
    "            if c==0:\n",
    "                sol=\"R\"\n",
    "            else:\n",
    "                sol=\"{}\"\n",
    "        else:\n",
    "            sol=\"{\"+str(-c/b)+\"}\"\n",
    "    else:\n",
    "        delta=b**2-4*a*c\n",
    "        if delta<0:\n",
    "            sol=\"{}\"\n",
    "        elif delta == 0:\n",
    "            sol=\"{\"+str(-b/(2*a))+\"}\"\n",
    "        else:\n",
    "            sol=\"{\"+str((-b+delta**(1/2))/(2*a))+\";\"+str((-b-delta**(1/2))/(2*a))+\"}\"\n",
    "    return sol"
   ]
  },
  {
   "cell_type": "markdown",
   "id": "e3ce1b33",
   "metadata": {},
   "source": [
    "3- Test the function  <b>QuadEqu</b> for \n",
    "- $a=1, b=2, c=1$,\n",
    "- $a=2, b=2, c=40$,\n",
    "- $a=2, b=3, c=-5$. \n",
    "\n",
    "(<font color = red> 3pts  </font>)"
   ]
  },
  {
   "cell_type": "code",
   "execution_count": null,
   "id": "2751e711",
   "metadata": {},
   "outputs": [],
   "source": [
    "print(QuadEqu(1,2))\n",
    "print(QuadEqu(40,2,2))\n",
    "print(QuadEqu(-5,3,2))"
   ]
  },
  {
   "cell_type": "markdown",
   "id": "3402636d",
   "metadata": {},
   "source": [
    "**Exercise 3** (<font color = red> 9pts  </font>)\n",
    "\n",
    "1- A year is a leap year if it is divisible by 4, except that years divisible\n",
    "by 100 are not leap years unless they are also divisible by 400.\n",
    "Write the ADL of the function, named <b>LeapYear</b>, that takes a year, $y$, and return the boolean <b>True</b>\n",
    "if $y$ is a leap year; <b>False</b> otherwise.(<font color = red> 3pts  </font>)\n",
    "\n",
    "2- Translate the ADL into a python code. (<font color = red> 2pts  </font>)"
   ]
  },
  {
   "cell_type": "code",
   "execution_count": null,
   "id": "18e7274f",
   "metadata": {},
   "outputs": [],
   "source": [
    "def LeapYear(y):\n",
    "    d= (y%4==0 and y%100!=0)or(y%400==0)\n",
    "    return d"
   ]
  },
  {
   "cell_type": "markdown",
   "id": "64e7764f",
   "metadata": {},
   "source": [
    "3- Test the python code for the years 1700, 1900, 1996 and 2000. (<font color = red> 1pts  </font>)"
   ]
  },
  {
   "cell_type": "code",
   "execution_count": null,
   "id": "978820ae",
   "metadata": {},
   "outputs": [],
   "source": [
    "print(LeapYear(1700))\n",
    "print(LeapYear(1900))\n",
    "print(LeapYear(1996))\n",
    "print(LeapYear(2000))"
   ]
  },
  {
   "cell_type": "markdown",
   "id": "957119cb",
   "metadata": {},
   "source": [
    "4- Write the python code that asks the user to enter a year,$z$ , and displays how many leap years are between 1996 and that year. Test your code for $z=2023$ (<font color = red> 3pts  </font>)"
   ]
  },
  {
   "cell_type": "code",
   "execution_count": null,
   "id": "7858ff60",
   "metadata": {},
   "outputs": [],
   "source": [
    "z= eval(input(\"Enter a year: \"))\n",
    "if z>1996:\n",
    "    print((z-1996)//4-(z-1996)//100+(z-1996)//400+1)\n",
    "else:\n",
    "    print((1996-z)//4-(1996-z)//100+(1996-z)//400+1)"
   ]
  },
  {
   "cell_type": "markdown",
   "id": "e55d66ae",
   "metadata": {},
   "source": [
    "**Exercise 4** (<font color = red> 4pts  </font>)\n",
    "\n",
    "The digital root of a positive number n is obtained as follows: Add up the digits n to get a new number.\n",
    "Add up the digits of that to get another new number. Keep doing this until you get a number\n",
    "that has only one digit. That number is the digital root.\n",
    "\n",
    "For example, if $n = 45893$, we add up the digits to get $$4 + 5 + 8 + 9 + 3 = 29.$$ We then add up\n",
    "the digits of $29$ to get $$2 + 9 = 11.$$ We then add up the digits of $11$ to get $$1 + 1 = 2.$$ Since 2 has\n",
    "only one digit, 2 is our digital root.\n",
    "\n",
    "1- Write the Python code of the function **DigRoot** that returns the digital root of an integer $n$ given as input (you can use the python function **len**).(<font color = red> 3pts  </font>)\n",
    "\n"
   ]
  },
  {
   "cell_type": "code",
   "execution_count": null,
   "id": "90783e77",
   "metadata": {},
   "outputs": [],
   "source": [
    "def DigRoot(n):\n",
    "    s=0\n",
    "    while n>0:\n",
    "        s=s+n%10\n",
    "        n=n//10\n",
    "    if s<10:\n",
    "        return s\n",
    "    else:\n",
    "        return DigRoot(s)"
   ]
  },
  {
   "cell_type": "markdown",
   "id": "9de95909",
   "metadata": {},
   "source": [
    "2-  Test the function **DigRoot** for $n = 74568$.(<font color = red> 1pts  </font>)"
   ]
  },
  {
   "cell_type": "code",
   "execution_count": null,
   "id": "e500fe9f",
   "metadata": {},
   "outputs": [],
   "source": [
    "print(\"The digital root of 74568 is\",DigRoot(74568))"
   ]
  },
  {
   "cell_type": "markdown",
   "id": "c3ff070f",
   "metadata": {},
   "source": [
    "**Exercise 5**(<font color = red> 6pts  </font>)\n",
    "\n",
    "1- Write a Python code that asks the user to enter a string and displays the number of upper case letters and lower case letters. Check for: **The quick Brow Fox and 'I am proud of Mr McDonald**. (<font color = red> 3pts  </font>)"
   ]
  },
  {
   "cell_type": "code",
   "execution_count": null,
   "id": "78ed8256",
   "metadata": {},
   "outputs": [],
   "source": [
    "s= input(\"Enter a string: \")\n",
    "up=0\n",
    "lo=0\n",
    "for i in range(len(s)):\n",
    "    if (s[i].isupper()):\n",
    "        up=up+1\n",
    "    elif (s[i].islower()):\n",
    "        lo=lo+1\n",
    "print(\"There are\",up,\"upper case letters and\",lo,\"lower case letters.\")"
   ]
  },
  {
   "cell_type": "markdown",
   "id": "c753dd6a",
   "metadata": {},
   "source": [
    "2- Write a Python code that asks the user to input two strings and returns the first location in which the strings differ. If the strings are identical, it should return -1. (<font color = red> 3pts  </font>)"
   ]
  },
  {
   "cell_type": "code",
   "execution_count": null,
   "id": "2e55208b",
   "metadata": {},
   "outputs": [],
   "source": [
    "def Loc():\n",
    "    s1=input(\"Enter a string: \")\n",
    "    s2=input(\"Enter a second string: \")\n",
    "    if s1 == s2:\n",
    "        return -1\n",
    "    else:\n",
    "        i=0\n",
    "        while i<len(s1) and i<len(s2):\n",
    "            if s1[i] != s2[i]:\n",
    "                return i+1\n",
    "            i=i+1\n",
    "        return i+1\n",
    "Loc()"
   ]
  },
  {
   "cell_type": "markdown",
   "id": "0bc2f223",
   "metadata": {},
   "source": [
    "**Exercise 6**(<font color = red> 6pts  </font>)\n",
    "\n",
    "1- Write a Python code of function, named **AllDivisor** , that takes a positive integer $n$ as input and returns the list of all the divisors of $n$. (<font color = red> 3pts  </font>)"
   ]
  },
  {
   "cell_type": "code",
   "execution_count": null,
   "id": "ea4dcd02",
   "metadata": {},
   "outputs": [],
   "source": [
    "def AllDivisor(n):\n",
    "    if n==1:\n",
    "        return [1]\n",
    "    else:\n",
    "        d= [1,n]\n",
    "        i=2\n",
    "        while i<=n/2:\n",
    "            if n%i ==0:\n",
    "                d.append(i)\n",
    "            i=i+1\n",
    "        return d\n",
    "AllDivisor(12)"
   ]
  },
  {
   "cell_type": "markdown",
   "id": "3ce1d819",
   "metadata": {},
   "source": [
    "2- Write a Python code, based on the function **AllDivisor**, that asks the user to enter a positive integer $n$\n",
    "and tells if n is a prime number or not. Test the code for $n=97$. (<font color = red> 3pts  </font>)"
   ]
  },
  {
   "cell_type": "code",
   "execution_count": null,
   "id": "27741ae4",
   "metadata": {},
   "outputs": [],
   "source": [
    "n = eval(input(\"Enter a positive integer: \"))\n",
    "if len(AllDivisor(n))==2:\n",
    "    print(n,\"is prime.\")\n",
    "else:\n",
    "    print(n,\"is not prime.\")"
   ]
  },
  {
   "cell_type": "markdown",
   "id": "8f959239",
   "metadata": {},
   "source": [
    "**Exercise 7**(<font color = red> 9pts  </font>)\n",
    "\n",
    "1- Use the python lambda syntax to define the function $ f(x) = x^3 -3x - 5$ then compute and display $f(-10)$, $f(10)$. (<font color = red> 3pts  </font>)"
   ]
  },
  {
   "cell_type": "code",
   "execution_count": null,
   "id": "b7669ad0",
   "metadata": {},
   "outputs": [],
   "source": [
    "f= lambda x : x**3-3*x-5\n",
    "print(\"f(-10)=\",f(-10))\n",
    "print(\"f(10)=\",f(10))"
   ]
  },
  {
   "cell_type": "markdown",
   "id": "f8959561",
   "metadata": {},
   "source": [
    "2- Let us consider a continuous function “f” which is defined on the closed interval [a, b], is given with f(a) and f(b) of different signs. Then by intermediate theorem, there exists a point x belong to (a, b) for which f(x) = 0. The bisection method is an approximation method to find the roots of the given equation by repeatedly dividing the interval. This method will divide the interval until the resulting interval is found, which is extremely small.\n",
    "\n",
    "Given the following function $ f(x) = x^3 -3x - 5;$ let $x_0 \\in [a,b]$ be the solution of the equation $f(x) = 0$. Write a function named **Bissection** that returns an approximation $\\bar{x}$ of $x_0$ such that $$ \\mid \\bar{x} - x_0 \\mid \\leq \\epsilon, $$\n",
    "for the given inputs $a,b$ and $\\epsilon$ with a default value $10^{-2}$.(<font color = red> 5pts  </font>)"
   ]
  },
  {
   "cell_type": "code",
   "execution_count": null,
   "id": "59b77970",
   "metadata": {},
   "outputs": [],
   "source": [
    "def Bissection(a,b,epsilon=0.01):\n",
    "    xbar=(b+a)/2\n",
    "    if f(xbar) == 0 or b-a <= 2*epsilon:\n",
    "        return xbar\n",
    "    elif f(xbar)<0:\n",
    "        if f(a)<0:\n",
    "            return Bissection(xbar,b)\n",
    "        else:\n",
    "            return Bissection(a,xbar)\n",
    "    else:\n",
    "        if f(a)>0:\n",
    "            return Bissection(xbar,b)\n",
    "        else:\n",
    "            return Bissection(a,xbar)"
   ]
  },
  {
   "cell_type": "markdown",
   "id": "d5804b38",
   "metadata": {},
   "source": [
    "3- Test the function **Bissection** for $a=-10, b=10$. (<font color = red> 1pts  </font>)"
   ]
  },
  {
   "cell_type": "code",
   "execution_count": null,
   "id": "2deaaaf5",
   "metadata": {},
   "outputs": [],
   "source": [
    "print(Bissection(-10,10))"
   ]
  },
  {
   "cell_type": "markdown",
   "id": "d7188652",
   "metadata": {},
   "source": [
    "# Q3"
   ]
  },
  {
   "cell_type": "markdown",
   "id": "e8aa7e37",
   "metadata": {},
   "source": [
    "**Exercise 1**\n",
    "\n",
    "1- Each new term in the Fibonacci sequence is generated by adding the previous two terms. By starting with 1 and 2, the first 10 terms will be:\n",
    "\n",
    "1, 2, 3, 5, 8, 13, 21, 34, 55, 89, ...\n",
    "\n",
    "By considering the terms in the Fibonacci sequence whose values do not exceed four million, find the sum of the even-valued terms.\n",
    "\n",
    "\n"
   ]
  },
  {
   "cell_type": "code",
   "execution_count": null,
   "id": "2554e0d9",
   "metadata": {},
   "outputs": [],
   "source": [
    "def Fibonacci(n):\n",
    "    if n in [1,2]:\n",
    "        return n\n",
    "    else:\n",
    "        return Fibonacci(n-1)+Fibonacci(n-2)\n",
    "\n",
    "def SumEven():\n",
    "    s=2\n",
    "    n=5\n",
    "    while Fibonacci(n) <= 4000000:\n",
    "        s+=Fibonacci(n)\n",
    "        n+=3\n",
    "    return s\n",
    "print(f\"The sum is {SumEven()}\")"
   ]
  },
  {
   "cell_type": "markdown",
   "id": "4cc2ee27",
   "metadata": {},
   "source": [
    "2- An irrational decimal fraction is created by concatenating the positive integers: 0.12345678910<font color='red'>1</font>112131415161718192021...\n",
    "\n",
    "It can be seen that the 12th digit of the fractional part is <font color='red'>1</font>. If $d_n$ represents the nth digit of the fractional part, find the value of the following expression.\n",
    "\n",
    "$$d_1 × d_{10} × d_{100} × d_{1000} × d_{10000} × d_{100000} × d_{1000000}$$"
   ]
  },
  {
   "cell_type": "code",
   "execution_count": null,
   "id": "708a2a92",
   "metadata": {},
   "outputs": [],
   "source": [
    "d= (\"\").join([str(i) for i in range(185186)])\n",
    "v= int(d[1])*int(d[10])*int(d[100])*int(d[1000])*int(d[10000])*int(d[100000])*int(d[1000000])\n",
    "print(f\"The value is {v}.\")"
   ]
  },
  {
   "cell_type": "markdown",
   "id": "72895d48",
   "metadata": {},
   "source": [
    "3- You are given the following information, but you may prefer to do some research for yourself.\n",
    "\n",
    "- 1 Jan 1900 was a Monday.\n",
    "- Thirty days has September, April, June and November.\n",
    "- All the rest have thirty-one, Saving February alone, Which has twenty-eight, rain or shine. And on leap years, twenty-nine.\n",
    "- A leap year occurs on any year evenly divisible by 4, but not on a century unless it is divisible by 400.\n",
    "\n",
    "How many Sundays fell on the first of the month during the twentieth century (1 Jan 1901 to 31 Dec 2000)?"
   ]
  },
  {
   "cell_type": "code",
   "execution_count": null,
   "id": "4f3757c9",
   "metadata": {},
   "outputs": [],
   "source": [
    "def Leap_Year(y):\n",
    "    # Returns if a year is a leap year or not\n",
    "    return (y % 4 == 0 and y % 100 != 0 ) or (y % 400 == 0)\n",
    "\n",
    "def Jan1(y):\n",
    "    # Returns the day of January 1st for the year y as an integer in {0,1...6}\n",
    "    if y == 1900:\n",
    "        return 1\n",
    "    elif Leap_Year(y-1):\n",
    "        return (Jan1(y-1)+2) % 7\n",
    "    else:\n",
    "        return (Jan1(y-1)+1) % 7\n",
    "    \n",
    "def Month1(m,y):\n",
    "    # Returns the first day of month m in {1,2...12} for the year y \n",
    "    if m == 1:\n",
    "        return Jan1(y)\n",
    "    elif m in [2,4,6,8,9,11]:\n",
    "        return (Month1(m-1,y) +3) % 7\n",
    "    elif m!=3:\n",
    "        return (Month1(m-1,y) +2) % 7\n",
    "    elif Leap_Year(y):\n",
    "        return (Month1(2,y)+1) % 7\n",
    "    else:\n",
    "        return (Month1(2,y))\n",
    "    \n",
    "def Sunday1():\n",
    "    # Returns the answer to the question\n",
    "    s=0\n",
    "    for i in range(1901, 2001):\n",
    "        s+= len([m for m in range(1,13) if Month1(m,i)==0])\n",
    "    return s\n",
    "\n",
    "print(f\"There were {Sunday1()} months that started on a sunday during the twentieth century.\")"
   ]
  },
  {
   "cell_type": "markdown",
   "id": "94bb8788",
   "metadata": {},
   "source": [
    "\n",
    "**Exercise 2**\n",
    "\n",
    "1- Write a function that takes one argument: A string ``s`` and returns another string ``t``. The string ``t`` should be constructed from ``s`` such that:\n",
    "* All **upper** case letters from ``s`` are changed into **lower** case.\n",
    "* All **lower** case letters from ``s`` are changed into **upper** case.\n",
    "* All characters from ``s`` that are not letters are **deleted**."
   ]
  },
  {
   "cell_type": "code",
   "execution_count": null,
   "id": "c6b3c70a",
   "metadata": {},
   "outputs": [],
   "source": [
    "def Swap(s):\n",
    "    return \"\".join([i.swapcase() for i in s if i.isalpha()])"
   ]
  },
  {
   "cell_type": "markdown",
   "id": "d6042b10",
   "metadata": {},
   "source": [
    "2- Write a function, named **UpLow**, that takes one argument: string ``s`` and **returns** a list with two elements. The first element should be the number of **lowercase letters** in ``s``. The second element should be the number of **uppercase letters** in ``s``."
   ]
  },
  {
   "cell_type": "code",
   "execution_count": null,
   "id": "e1198779",
   "metadata": {},
   "outputs": [],
   "source": [
    "def UpLow(s):\n",
    "    l= [0, 0]\n",
    "    for i in s:\n",
    "        if i.isupper():\n",
    "            l[1]+= 1\n",
    "        elif i.islower():\n",
    "            l[0]+= 1\n",
    "    return l"
   ]
  },
  {
   "cell_type": "markdown",
   "id": "8ac9af8f",
   "metadata": {},
   "source": [
    "3- Write a function that takes one argument: string ``s`` and returns either ``True`` or ``False``. It should return ``True`` if and only if **the string is a name**. We assume that a string is a name if:\n",
    "* It starts with an uppercase letter.\n",
    "* All the other characters are lowercase letters."
   ]
  },
  {
   "cell_type": "code",
   "execution_count": null,
   "id": "dea4ff6c",
   "metadata": {},
   "outputs": [],
   "source": [
    "def IsName(s):\n",
    "    return s[0].isupper() ==1 and UpLow(s)[0] == len(s)-1"
   ]
  },
  {
   "cell_type": "markdown",
   "id": "88f4b27b",
   "metadata": {},
   "source": [
    "4- Write a function that takes one argument: list of strings ``L``. The function should return an integer: **The first index where the list element contains a name**. If there are no names on the list please return ``-1``"
   ]
  },
  {
   "cell_type": "code",
   "execution_count": null,
   "id": "ada52487",
   "metadata": {},
   "outputs": [],
   "source": [
    "def ListName(L):\n",
    "    for i in range(len(L)):\n",
    "        s= L[i].split(\" \")\n",
    "        for j in s:\n",
    "            if IsName(j):\n",
    "                return i\n",
    "    return -1"
   ]
  },
  {
   "cell_type": "markdown",
   "id": "ad04825a",
   "metadata": {},
   "source": [
    "**Exercise 3**\n",
    "\n",
    "1- Write a function that takes one argument: List of integers ``L`` and returns the **maximum element in ``L`` which is strictly negative**. If such an element does not exist, **return ``0``**."
   ]
  },
  {
   "cell_type": "code",
   "execution_count": null,
   "id": "80750252",
   "metadata": {},
   "outputs": [],
   "source": [
    "import numpy as np\n",
    "def MaxNeg(L):\n",
    "    neg= [i for i in L if i<0]\n",
    "    if len(neg) == 0:\n",
    "        return 0\n",
    "    else:\n",
    "        return max(neg)"
   ]
  },
  {
   "cell_type": "markdown",
   "id": "925da042",
   "metadata": {},
   "source": [
    "2- Write a function that takes one argument: A 2D array ``M`` and:\n",
    "* For each **row** computes the maximum negative element.\n",
    "* Returns the **sum of those elements**.\n",
    "\n",
    "Please use the function from Problem 3 in your solution."
   ]
  },
  {
   "cell_type": "code",
   "execution_count": null,
   "id": "a23ff755",
   "metadata": {},
   "outputs": [],
   "source": [
    "def RowMaxNeg(M):\n",
    "    s=0\n",
    "    for i in M:\n",
    "        s+= MaxNeg(i)\n",
    "    return s"
   ]
  },
  {
   "cell_type": "markdown",
   "id": "5a48e045",
   "metadata": {},
   "source": [
    "3- Write a function that takes one argument: A matrix of integers ``M`` and:\n",
    "* For each **column** computes the maximum negative element.\n",
    "* Returns the **sum of those elements**.\n"
   ]
  },
  {
   "cell_type": "code",
   "execution_count": null,
   "id": "8f250d2f",
   "metadata": {},
   "outputs": [],
   "source": [
    "def ColMaxNeg(M):\n",
    "    return RowMaxNeg(M.T)"
   ]
  },
  {
   "cell_type": "markdown",
   "id": "ba97eba6",
   "metadata": {},
   "source": [
    "**Exercise 4**\n",
    "\n",
    "1- Write a Python code to compute and display the integrals bellow using the Python function $quad$\n",
    "$$A = \\int_{0}^{2} \\dfrac{x^3+5x-20}{x^2+3}dx$$\n",
    "\n",
    "$$B = \\int_{3}^{5} \\bigg(x-\\frac{1}{3}\\bigg)\\sqrt{x^4-3}dx$$"
   ]
  },
  {
   "cell_type": "code",
   "execution_count": null,
   "id": "4b8a35a8",
   "metadata": {},
   "outputs": [],
   "source": [
    "from scipy.integrate import quad\n",
    "f= lambda x: (x**3+5*x-20)/(x**2+3)\n",
    "g= lambda x: (x-1/3)*np.sqrt(x**4-3)\n",
    "A= quad(f, 0, 2)[0]\n",
    "B= quad(g, 3, 5)[0]\n",
    "print(f\"A= {A}. \\nB={B}\")"
   ]
  },
  {
   "cell_type": "markdown",
   "id": "48c57c9b",
   "metadata": {},
   "source": [
    "2- Let $\\{ x_k\\}$ be a partition of $[a,b]$ such that $a=x_0<x_1<\\cdots<x_{N-1}<x_N=b$ and $H$ be the length of the $k$-th subinterval ($H = x_k - x_{k-1}$),\n",
    "then we have \n",
    "$$\\int_a^bf(x)dx \\approx \\sum_{k=1}^N \\frac{f(x_{k-1})+f(x_k)}{2}H = Z$$\n",
    "\n",
    "\n",
    "Write a function named <b>Trap</b> that takes $a,b,H, f$ as inputs and return Z. Here, ``H = 0.001`` is the default value."
   ]
  },
  {
   "cell_type": "code",
   "execution_count": null,
   "id": "d8a4066a",
   "metadata": {},
   "outputs": [],
   "source": [
    "def Trap(f,a,b,H=0.001):\n",
    "    Z= 0\n",
    "    N= int(1+(b-a)/H)\n",
    "    d= np.linspace(a,b,N)\n",
    "    for i in range(1,N):\n",
    "        Z+= H*(f(d[i-1])+f(d[i]))/2\n",
    "    return Z"
   ]
  },
  {
   "cell_type": "markdown",
   "id": "62986ff9",
   "metadata": {},
   "source": [
    "3- Compute the integrales A and B using your function **Trap**"
   ]
  },
  {
   "cell_type": "code",
   "execution_count": null,
   "id": "cf3d78d5",
   "metadata": {},
   "outputs": [],
   "source": [
    "f= lambda x: (x**3+5*x-20)/(x**2+3)\n",
    "g= lambda x: (x-1/3)*np.sqrt(x**4-3)\n",
    "A= Trap(f, 0, 2)\n",
    "B= Trap(g, 3, 5)\n",
    "print(f\"A= {A}. \\nB={B}\")"
   ]
  },
  {
   "cell_type": "markdown",
   "id": "9885ffd5",
   "metadata": {},
   "source": [
    "**Exercise 5**\n",
    "Write a python code to solve the following system of equations\n",
    "1. \\begin{equation}\n",
    "\\begin{cases}\n",
    "    x^2 + y + x = 4\\\\\n",
    "    2e^x + 3y = 14\n",
    "\\end{cases}\n",
    "\\end{equation}"
   ]
  },
  {
   "cell_type": "code",
   "execution_count": null,
   "id": "9b4071ba",
   "metadata": {},
   "outputs": [],
   "source": [
    "from scipy.optimize import fsolve\n",
    "def System(z):\n",
    "    x, y= z\n",
    "    F= np.empty((2))\n",
    "    F[0]= x**2+ y+ x- 4\n",
    "    F[1]= 2* np.exp(x)+ 3* y\n",
    "    return F\n",
    "\n",
    "zGuess= np.empty((2))\n",
    "z= fsolve(System,zGuess)\n",
    "print(f\"x={z[0]}, y={z[1]}\")"
   ]
  },
  {
   "cell_type": "markdown",
   "id": "2aa53b62",
   "metadata": {},
   "source": [
    "2. \n",
    "\n",
    "\\begin{equation}\n",
    "  \\begin{cases}\n",
    "    x - 2y -z +6t= 4\\\\\n",
    "    2x + 2y -z - 7t = -4\\\\\n",
    "    -x - y +2z + 5t = 5\\\\\n",
    "    -3x +4y +2z + 5t = 8\\\\\n",
    "  \\end{cases}.\n",
    "\\end{equation}"
   ]
  },
  {
   "cell_type": "code",
   "execution_count": null,
   "id": "f9b4b935",
   "metadata": {},
   "outputs": [],
   "source": [
    "A= np.array([[1, -2, -1, 6], [2, 2, -1, -7], [-1, -1, 2, 5], [-3, 4, 2, 5]])\n",
    "b= np.array([[4], [-4], [5], [8]])\n",
    "z = np.linalg.solve(A,b)\n",
    "print(z)"
   ]
  },
  {
   "cell_type": "markdown",
   "id": "a7d3cf8e",
   "metadata": {},
   "source": [
    "**Exercise 6**\n",
    "\n",
    "Let $\\{ x_k\\}$ be a partition of $[a,b]$ such that $a=x_0<x_1<\\cdots<x_{N-1}<x_{N}=b$ and $H$ be the constant length of the $k$-th subinterval ($H = x_k - x_{k-1}$). Let us consider initial value problem\n",
    "\n",
    "\\begin{equation}\\label{eul2}\n",
    "  \\begin{cases}\n",
    "    y' = f(x,y),      & \\quad \\text{on } [a, b]\\\\&\\qquad\\qquad\\qquad (1)\\\\\n",
    "    y(a) = c,\n",
    "  \\end{cases}\n",
    "\\end{equation}\n",
    "Let $\\{ y_k\\}$ be the approximate solution i.e.  $y_k\\approx g(x_k)=g_k$ where $g$ is the exact solution.\n",
    "1. Write a python function <b> EulerMethod </b> that takes $a,b,c,N,$ and $f$ and return array of all $x_k$ and $y_k$ of (1) using Euler method i.e.\n",
    "$$ y_{k+1} = y_k + Hf(x_k,y_k) $$\n"
   ]
  },
  {
   "cell_type": "code",
   "execution_count": null,
   "id": "e49c131e",
   "metadata": {},
   "outputs": [],
   "source": [
    "def EulerMethod(f, a, b, c, N):\n",
    "    H= (b-a)/(N)\n",
    "    x= np.linspace(a, b, N+1)\n",
    "    y= np.empty((N+1))\n",
    "    y[0]=c\n",
    "    for i in range(1,N+1):\n",
    "        y[i]= y[i-1]+H*f(x[i-1],y[i-1])\n",
    "    return np.array([x,y])"
   ]
  },
  {
   "cell_type": "markdown",
   "id": "3c9d4978",
   "metadata": {},
   "source": [
    "2. Write a python function <b> RK2Method </b> that takes $a,b,c,N,$ and $f$ and return array of all $x_k$ and $y_k$ of (1) using second order Runge-Kutta  method i.e.\n",
    "\\begin{equation}\n",
    "\\begin{cases}\n",
    "\\alpha = f(x_k,y_k)\\\\\\\\\n",
    "y_{k+1} = y_k + Hf(x_k+\\dfrac{H}{2}, y_k + \\dfrac{H}{2}\\alpha)\n",
    "\\end{cases}\n",
    "\\end{equation}"
   ]
  },
  {
   "cell_type": "code",
   "execution_count": null,
   "id": "7b3e3125",
   "metadata": {},
   "outputs": [],
   "source": [
    "def RK2Method(f, a, b, c, N):\n",
    "    H= (b-a)/(N)\n",
    "    x= np.linspace(a, b, N+1)\n",
    "    y= np.empty((N+1))\n",
    "    y[0]=c\n",
    "    for i in range(1,N+1):\n",
    "        y[i]= y[i-1] + H * f(x[i-1]+H/2, y[i-1]+f(x[i-1],y[i-1])*H/2)\n",
    "    return np.array([x,y])"
   ]
  },
  {
   "cell_type": "markdown",
   "id": "385409aa",
   "metadata": {},
   "source": [
    "3. Let us consider the initial value problem \n",
    "\n",
    "\\begin{equation}\n",
    "  \\begin{cases}\n",
    "    y' = 2y + e^{2x},      & \\quad \\text{on } [0, 1]\\\\\\\\\n",
    "    y(0) = 3,\n",
    "  \\end{cases}\n",
    "\\end{equation}\n",
    "with exact solution $g(x) = (x+3)e^{2x}$. \n",
    "\n",
    "For $N=200$, use subplot to plot side by side\n",
    "- the exact solution and the approximate solutions obtained with **odeint**, <b> EulerMethod </b> and <b> RK2Method </b>\n",
    "- the absolute error between the exact solution and the approximate solutions obtained with **odeint**, <b> EulerMethod </b> and <b> RK2Method </b>"
   ]
  },
  {
   "cell_type": "code",
   "execution_count": null,
   "id": "e2b31de3",
   "metadata": {},
   "outputs": [],
   "source": [
    "from scipy.integrate import odeint\n",
    "import matplotlib.pyplot as plt\n",
    "\n",
    "def Realsol(a, b, c, N):\n",
    "    x= np.linspace(a, b, N+1)\n",
    "    y= np.empty((N+1))\n",
    "    y[0]=c\n",
    "    for i in range(1,N+1):\n",
    "        y[i]= 3*np.exp(2*x[i])+2*x[i]*np.exp(2*x[i])\n",
    "    return np.array([x,y])\n",
    "\n",
    "def model(y,x):\n",
    "    dydx = 2*y + np.exp(2*x)\n",
    "    return dydx\n",
    "\n",
    "f= lambda x,y: model(y,x)\n",
    "\n",
    "c = 3\n",
    "a = 0\n",
    "b = 1\n",
    "N = 200\n",
    "x = np.linspace(a, b, N+1)\n",
    "\n",
    "O= odeint(model, c, x).flatten()\n",
    "E= EulerMethod(f, a, b, c, N)\n",
    "R= RK2Method(f, a, b, c, N)\n",
    "S= Realsol(a, b, c, N)\n",
    "\n",
    "\n",
    "plt.plot(S[0],S[1])\n",
    "plt.xlabel('x')\n",
    "plt.ylabel('y(x)')\n",
    "plt.show()\n",
    "plt.plot(x,O)\n",
    "plt.xlabel('x')\n",
    "plt.ylabel('y(x)')\n",
    "plt.show()\n",
    "plt.plot(E[0],E[1])\n",
    "plt.xlabel('x')\n",
    "plt.ylabel('y(x)')\n",
    "plt.show()\n",
    "plt.plot(R[0],R[1])\n",
    "plt.xlabel('x')\n",
    "plt.ylabel('y(x)')\n",
    "plt.show()\n",
    "\n",
    "plt.plot(x,abs(O-S[1]))\n",
    "plt.xlabel('x')\n",
    "plt.ylabel('y(x)')\n",
    "plt.show()\n",
    "plt.plot(E[0],abs(E[1]-S[1]))\n",
    "plt.xlabel('x')\n",
    "plt.ylabel('y(x)')\n",
    "plt.show()\n",
    "plt.plot(R[0],abs(R[1]-S[1]))\n",
    "plt.xlabel('x')\n",
    "plt.ylabel('y(x)')\n",
    "plt.show()"
   ]
  },
  {
   "cell_type": "markdown",
   "id": "1fa6d983",
   "metadata": {},
   "source": [
    "4. Which of the numerical methods used is more efficient? Why?"
   ]
  },
  {
   "cell_type": "code",
   "execution_count": null,
   "id": "6cc277c1",
   "metadata": {},
   "outputs": [],
   "source": []
  },
  {
   "cell_type": "markdown",
   "id": "2cac9b5e",
   "metadata": {},
   "source": [
    "**Exercise 7**\n",
    "\n",
    "Consider heat conduction in a rod with constant heat conduction properties, $\\lambda^2$. The steady-state\n",
    "heat-conduction problem is then\n",
    "\n",
    "\\begin{equation}\n",
    "  \\begin{cases}\n",
    "    -\\lambda^2\\dfrac{d^2U}{dx^2} = g(x),      & \\quad x\\in (a, b)\\\\\\\\\n",
    "    U(a) = \\alpha,\\;\\; U(b) = \\beta.\n",
    "  \\end{cases}\n",
    "\\end{equation}\n",
    "\n",
    "Given a finite family of points $\\{x_i\\}$ for $i = 0,\\cdots, N$ defined by $x_i = a+ih$ with $h =\\dfrac{b−a}{N}$. Let us denote $U_i$ the approximate value of $U(x_i)$ for all $i= 0,\\cdots, N$.\n",
    "\n",
    "The backward Euler scheme applied to the steady-state\n",
    "heat-conduction problem gives\n",
    "\n",
    "\\begin{equation}\\label{secode}\n",
    "  \\begin{cases}\n",
    "    \\dfrac{\\lambda^2}{H^2}(-U_{i-1} +2U_i - U_{i+1}) = g(x_i),      & \\quad \\forall i= 1,2,\\cdots, N-1\\\\\\\\\n",
    "    U_0 = \\alpha,\\;\\; U_N = \\beta.\n",
    "  \\end{cases}\n",
    "\\end{equation}\n",
    "Note that the system takes the form \n",
    "$$ AU = b $$.\n",
    "1. Write a Python function <b> MatGenerator </b> that takes $a,b,K, \\lambda, \\beta,N, g$ and return the matrix $A$ and vector $b$."
   ]
  },
  {
   "cell_type": "code",
   "execution_count": null,
   "id": "411f258b",
   "metadata": {},
   "outputs": [],
   "source": [
    "def MatGenerator(a,b,alp,lam,beta,N,g):\n",
    "    H=(b-a)/N\n",
    "    global x\n",
    "    x=np.linspace(a,b,N+1)\n",
    "    B=np.zeros(N+1)\n",
    "    B[0]=alp\n",
    "    B[N]=beta\n",
    "    B[1:N]=(H**2/lam**2)*g(x[1:N])\n",
    "    A=np.eye(N+1,N+1)\n",
    "    A[1,0]=-1\n",
    "    A[N-1,N]=-1\n",
    "    A[1:N,1:N]=-np.eye(N-1,N-1,k=-1)+2*np.eye(N-1,N-1,k=0)-np.eye(N-1,N-1,k=1)\n",
    "    return A,B"
   ]
  },
  {
   "cell_type": "markdown",
   "id": "670ba69b",
   "metadata": {},
   "source": [
    "2. Solve the steady-state heat-conduction problem for \n",
    "\n",
    "$$a=0, b= 1, \\lambda=1,\\alpha = -4, \\beta = 0, N= 100 \\text{ and } g(x) = -4(1+x)e^x, $$\n",
    "\n",
    "and plot the numerical solution"
   ]
  },
  {
   "cell_type": "code",
   "execution_count": null,
   "id": "ee82b678",
   "metadata": {},
   "outputs": [],
   "source": [
    "g=lambda x: -4*(1+x)*np.exp(x)\n",
    "a=0\n",
    "b=1\n",
    "alp=-4\n",
    "lam=1\n",
    "beta=0\n",
    "N=100\n",
    "A,B=MatGenerator(a,b,alp,lam,beta,N,g)\n",
    "U=np.linalg.solve(A,B)\n",
    "print(U)\n",
    "plt.plot(x,U)\n",
    "plt.grid()\n",
    "plt.xlabel(\"$x$\")\n",
    "plt.ylabel(\"$U_{app}(x)$\")\n",
    "plt.title(\"Apprioximation\")\n",
    "plt.show()"
   ]
  },
  {
   "cell_type": "markdown",
   "id": "54e5099c",
   "metadata": {},
   "source": [
    "**Exercise 14**\n",
    "\n",
    "Create a Module that contains all the functions on this notebook. Then, import the module to test its functions (one function per cell) \n",
    "\n",
    "Note: if your group number is **5** then your module should be named **AllFunctionGroup5.py**"
   ]
  },
  {
   "cell_type": "code",
   "execution_count": null,
   "id": "b75edbb9",
   "metadata": {},
   "outputs": [],
   "source": [
    "import Group10 as gp\n",
    "print(f\"The 5th fibonacci number is {gp.Fibonacci(5)}\")"
   ]
  },
  {
   "cell_type": "code",
   "execution_count": null,
   "id": "528d4a11",
   "metadata": {},
   "outputs": [],
   "source": [
    "print(f\"The sum of even fibonacci numbers before 4 millions is {gp.SumEven()}\")"
   ]
  },
  {
   "cell_type": "code",
   "execution_count": null,
   "id": "eec69655",
   "metadata": {},
   "outputs": [],
   "source": [
    "print(f\"Is 2022 a leap year? {gp.Leap_Year(2022)}\")"
   ]
  },
  {
   "cell_type": "code",
   "execution_count": null,
   "id": "ec2bf600",
   "metadata": {},
   "outputs": [],
   "source": [
    "print(f\"January 1st 2022 was the {gp.Jan1(2022)}th day of the week\")"
   ]
  },
  {
   "cell_type": "code",
   "execution_count": null,
   "id": "0f9b0eae",
   "metadata": {},
   "outputs": [],
   "source": [
    "print(f\"October 1st 2022 was the {gp.Month1(10,2022)}th day of the week\")"
   ]
  },
  {
   "cell_type": "code",
   "execution_count": null,
   "id": "3b7e3020",
   "metadata": {},
   "outputs": [],
   "source": [
    "print(f\"There were {gp.Sunday1()} months that started on a sunday during the twentieth century.\")"
   ]
  },
  {
   "cell_type": "code",
   "execution_count": null,
   "id": "90feb013",
   "metadata": {},
   "outputs": [],
   "source": [
    "print(f\"After swapping and removing non letters, 'The_Kid.64' becomes '{gp.Swap('The_Kid.64')}'.\")"
   ]
  },
  {
   "cell_type": "code",
   "execution_count": null,
   "id": "5106828e",
   "metadata": {},
   "outputs": [],
   "source": [
    "print(f\"The string 'The Kid is sick.' has {gp.UpLow('The Kid is sick.')[0]} lower case letters and {gp.UpLow('The Kid is sick.')[1]} upper case letters.\")"
   ]
  },
  {
   "cell_type": "code",
   "execution_count": null,
   "id": "08753d1d",
   "metadata": {},
   "outputs": [],
   "source": [
    "print(f\"Is 'Thekid' a name? {gp.IsName('Thekid')}\")"
   ]
  },
  {
   "cell_type": "code",
   "execution_count": null,
   "id": "178be71b",
   "metadata": {},
   "outputs": [],
   "source": [
    "print(f\"The first name in ['ThekiD','thekid','is Thekid good'] is at index {gp.ListName(['ThekiD','thekid','is Thekid good'])}\")"
   ]
  },
  {
   "cell_type": "code",
   "execution_count": null,
   "id": "2de437ec",
   "metadata": {},
   "outputs": [],
   "source": [
    "print(f\"The maximum negative number in [-1,2,-4] is {gp.MaxNeg([-1,2,-4])}\")"
   ]
  },
  {
   "cell_type": "code",
   "execution_count": null,
   "id": "50278723",
   "metadata": {},
   "outputs": [],
   "source": [
    "M= np.array([[-1,2],[1,2],[-2,-4]])\n",
    "print(f\"The sum of maximums per rows is {gp.RowMaxNeg(M)}\")"
   ]
  },
  {
   "cell_type": "code",
   "execution_count": null,
   "id": "27425ce9",
   "metadata": {},
   "outputs": [],
   "source": [
    "M= np.array([[-1,2],[1,2],[-2,-4]])\n",
    "print(f\"The sum of maximums per columns is {gp.ColMaxNeg(M)}\")"
   ]
  },
  {
   "cell_type": "code",
   "execution_count": null,
   "id": "7ab200d7",
   "metadata": {},
   "outputs": [],
   "source": [
    "f= lambda x: (x**3+5*x-20)/(x**2+3)\n",
    "A= gp.Trap(f, 0, 2)\n",
    "print(f\"A= {A}.\")"
   ]
  },
  {
   "cell_type": "code",
   "execution_count": null,
   "id": "1f0a0014",
   "metadata": {},
   "outputs": [],
   "source": [
    "zGuess= np.empty((2))\n",
    "z= fsolve(gp.System,zGuess)\n",
    "print(f\"x={z[0]}, y={z[1]}\")"
   ]
  },
  {
   "cell_type": "code",
   "execution_count": null,
   "id": "58651234",
   "metadata": {},
   "outputs": [],
   "source": [
    "f= lambda x,y: gp.model(y,x)\n",
    "\n",
    "E= gp.EulerMethod(f, 0, 1, 3,200)\n",
    "E"
   ]
  },
  {
   "cell_type": "code",
   "execution_count": null,
   "id": "17815098",
   "metadata": {},
   "outputs": [],
   "source": [
    "R= gp.RK2Method(f, 0, 1, 3, 200)\n",
    "R"
   ]
  },
  {
   "cell_type": "code",
   "execution_count": null,
   "id": "c8ff411d",
   "metadata": {},
   "outputs": [],
   "source": [
    "S= gp.Realsol(0, 1, 3, 200)\n",
    "S"
   ]
  },
  {
   "cell_type": "markdown",
   "id": "b55fc2a4",
   "metadata": {},
   "source": [
    "**Exercise 1**(<font color = red> 6pts  </font>)\n",
    "\n",
    "1- A store charges RWF 12 per item if you buy less than 10 items. If you buy between 10 and 99 items, the cost is RWF 10 per item. If you buy 100 or more items, the cost is RWF 7 per item. Write the ADL of the function, named <b>Cost</b>, that takes how many items ,$n$, they are buying and returns the total cost. (<font color = red> 3pts  </font>)\n",
    "\n",
    "2- Translate the ADL into a python code.(<font color = red> 2pts  </font>)"
   ]
  },
  {
   "cell_type": "code",
   "execution_count": null,
   "id": "d9ef6264",
   "metadata": {},
   "outputs": [],
   "source": [
    "def Cost(n):\n",
    "    if n<10:\n",
    "        price=12*n\n",
    "    elif n<100:\n",
    "        price=10*n\n",
    "    else:\n",
    "        price=7*n\n",
    "    return price"
   ]
  },
  {
   "cell_type": "markdown",
   "id": "d14f0e94",
   "metadata": {},
   "source": [
    "3- Test the function <b>Cost</b> for $n = 50 \\text{ and } 255$. (<font color = red> 1pt  </font>)"
   ]
  },
  {
   "cell_type": "code",
   "execution_count": null,
   "id": "8470de65",
   "metadata": {},
   "outputs": [],
   "source": [
    "print(Cost(50))\n",
    "print(Cost(255))"
   ]
  },
  {
   "cell_type": "markdown",
   "id": "d23d1375",
   "metadata": {},
   "source": [
    "**Exercise 2**(<font color = red> 10pts  </font>)\n",
    "\n",
    "1- Write the ADL of the function, named <b>QuadEqu</b>, that takes as inputs three numbers\n",
    "$a$, $b$, $c$ ∈ $\\mathbb{R}$ and return the solution in R of the equation\n",
    "$ax^2 + bx + c = 0$. (<font color = red> 3pts  </font>)\n",
    "\n",
    "2- Translate the ADL into a python code such that $a=1$ by default. (<font color = red> 4pts  </font>)"
   ]
  },
  {
   "cell_type": "code",
   "execution_count": null,
   "id": "89d7e3e2",
   "metadata": {},
   "outputs": [],
   "source": [
    "def QuadEqu(c,b,a=1):\n",
    "    if a==0:\n",
    "        if b==0:\n",
    "            if c==0:\n",
    "                sol=\"R\"\n",
    "            else:\n",
    "                sol=\"{}\"\n",
    "        else:\n",
    "            sol=\"{\"+str(-c/b)+\"}\"\n",
    "    else:\n",
    "        delta=b**2-4*a*c\n",
    "        if delta<0:\n",
    "            sol=\"{}\"\n",
    "        elif delta == 0:\n",
    "            sol=\"{\"+str(-b/(2*a))+\"}\"\n",
    "        else:\n",
    "            sol=\"{\"+str((-b+delta**(1/2))/(2*a))+\";\"+str((-b-delta**(1/2))/(2*a))+\"}\"\n",
    "    return sol"
   ]
  },
  {
   "cell_type": "markdown",
   "id": "8df795c6",
   "metadata": {},
   "source": [
    "3- Test the function  <b>QuadEqu</b> for \n",
    "- $a=1, b=2, c=1$,\n",
    "- $a=2, b=2, c=40$,\n",
    "- $a=2, b=3, c=-5$. \n",
    "\n",
    "(<font color = red> 3pts  </font>)"
   ]
  },
  {
   "cell_type": "code",
   "execution_count": null,
   "id": "a0ec9a9e",
   "metadata": {},
   "outputs": [],
   "source": [
    "print(QuadEqu(1,2))\n",
    "print(QuadEqu(40,2,2))\n",
    "print(QuadEqu(-5,3,2))"
   ]
  },
  {
   "cell_type": "markdown",
   "id": "4deb61df",
   "metadata": {},
   "source": [
    "**Exercise 3** (<font color = red> 9pts  </font>)\n",
    "\n",
    "1- A year is a leap year if it is divisible by 4, except that years divisible\n",
    "by 100 are not leap years unless they are also divisible by 400.\n",
    "Write the ADL of the function, named <b>LeapYear</b>, that takes a year, $y$, and return the boolean <b>True</b>\n",
    "if $y$ is a leap year; <b>False</b> otherwise.(<font color = red> 3pts  </font>)\n",
    "\n",
    "2- Translate the ADL into a python code. (<font color = red> 2pts  </font>)"
   ]
  },
  {
   "cell_type": "code",
   "execution_count": null,
   "id": "3017355a",
   "metadata": {},
   "outputs": [],
   "source": [
    "def LeapYear(y):\n",
    "    d= (y%4==0 and y%100!=0)or(y%400==0)\n",
    "    return d"
   ]
  },
  {
   "cell_type": "markdown",
   "id": "c3714467",
   "metadata": {},
   "source": [
    "3- Test the python code for the years 1700, 1900, 1996 and 2000. (<font color = red> 1pts  </font>)"
   ]
  },
  {
   "cell_type": "code",
   "execution_count": null,
   "id": "98a6b605",
   "metadata": {},
   "outputs": [],
   "source": [
    "print(LeapYear(1700))\n",
    "print(LeapYear(1900))\n",
    "print(LeapYear(1996))\n",
    "print(LeapYear(2000))"
   ]
  },
  {
   "cell_type": "markdown",
   "id": "0f60a53d",
   "metadata": {},
   "source": [
    "4- Write the python code that asks the user to enter a year,$z$ , and displays how many leap years are between 1996 and that year. Test your code for $z=2023$ (<font color = red> 3pts  </font>)"
   ]
  },
  {
   "cell_type": "code",
   "execution_count": null,
   "id": "9c908fb1",
   "metadata": {},
   "outputs": [],
   "source": [
    "z= eval(input(\"Enter a year: \"))\n",
    "if z>1996:\n",
    "    print((z-1996)//4-(z-1996)//100+(z-1996)//400+1)\n",
    "else:\n",
    "    print((1996-z)//4-(1996-z)//100+(1996-z)//400+1)"
   ]
  },
  {
   "cell_type": "markdown",
   "id": "803f3f2f",
   "metadata": {},
   "source": [
    "**Exercise 4** (<font color = red> 4pts  </font>)\n",
    "\n",
    "The digital root of a positive number n is obtained as follows: Add up the digits n to get a new number.\n",
    "Add up the digits of that to get another new number. Keep doing this until you get a number\n",
    "that has only one digit. That number is the digital root.\n",
    "\n",
    "For example, if $n = 45893$, we add up the digits to get $$4 + 5 + 8 + 9 + 3 = 29.$$ We then add up\n",
    "the digits of $29$ to get $$2 + 9 = 11.$$ We then add up the digits of $11$ to get $$1 + 1 = 2.$$ Since 2 has\n",
    "only one digit, 2 is our digital root.\n",
    "\n",
    "1- Write the Python code of the function **DigRoot** that returns the digital root of an integer $n$ given as input (you can use the python function **len**).(<font color = red> 3pts  </font>)\n",
    "\n"
   ]
  },
  {
   "cell_type": "code",
   "execution_count": null,
   "id": "ac9e2672",
   "metadata": {},
   "outputs": [],
   "source": [
    "def DigRoot(n):\n",
    "    s=0\n",
    "    while n>0:\n",
    "        s=s+n%10\n",
    "        n=n//10\n",
    "    if s<10:\n",
    "        return s\n",
    "    else:\n",
    "        return DigRoot(s)"
   ]
  },
  {
   "cell_type": "markdown",
   "id": "97ba78f0",
   "metadata": {},
   "source": [
    "2-  Test the function **DigRoot** for $n = 74568$.(<font color = red> 1pts  </font>)"
   ]
  },
  {
   "cell_type": "code",
   "execution_count": null,
   "id": "9b2da203",
   "metadata": {},
   "outputs": [],
   "source": [
    "print(DigRoot(74568))"
   ]
  },
  {
   "cell_type": "markdown",
   "id": "b6a85895",
   "metadata": {},
   "source": [
    "**Exercise 5**(<font color = red> 6pts  </font>)\n",
    "\n",
    "1- Write a Python code that asks the user to enter a string and displays the number of upper case letters and lower case letters. Check for: **The quick Brow Fox and 'I am proud of Mr McDonald**. (<font color = red> 3pts  </font>)"
   ]
  },
  {
   "cell_type": "code",
   "execution_count": null,
   "id": "c77b32f3",
   "metadata": {},
   "outputs": [],
   "source": [
    "s= input(\"Enter a string: \")\n",
    "up=0\n",
    "lo=0\n",
    "for i in range(len(s)):\n",
    "    if (s[i].isupper()):\n",
    "        up=up+1\n",
    "    elif (s[i].islower()):\n",
    "        lo=lo+1\n",
    "print(up,\"upper case and\",lo,\"lower case\")"
   ]
  },
  {
   "cell_type": "markdown",
   "id": "50304971",
   "metadata": {},
   "source": [
    "2- Write a Python code that asks the user to input two strings and returns the first location in which the strings differ. If the strings are identical, it should return -1. (<font color = red> 3pts  </font>)"
   ]
  },
  {
   "cell_type": "code",
   "execution_count": null,
   "id": "32495bb0",
   "metadata": {},
   "outputs": [],
   "source": [
    "def Loc(s1,s2):\n",
    "    i=0\n",
    "    "
   ]
  },
  {
   "cell_type": "markdown",
   "id": "a6bd3393",
   "metadata": {},
   "source": [
    "**Exercise 6**(<font color = red> 6pts  </font>)\n",
    "\n",
    "1- Write a Python code of function, named **AllDivisor** , that takes a positive integer $n$ as input and returns the list of all the divisors of $n$. (<font color = red> 3pts  </font>)"
   ]
  },
  {
   "cell_type": "code",
   "execution_count": null,
   "id": "ddd0bc98",
   "metadata": {},
   "outputs": [],
   "source": [
    "def AllDivisor(n):\n",
    "    if n==1:\n",
    "        return [1]\n",
    "    else:\n",
    "        d= [1,n]\n",
    "        i=2\n",
    "        while i<=n/2:\n",
    "            if n%i ==0:\n",
    "                d.append(i)\n",
    "            i=i+1\n",
    "        return d\n",
    "AllDivisor(12)"
   ]
  },
  {
   "cell_type": "markdown",
   "id": "7491a08d",
   "metadata": {},
   "source": [
    "2- Write a Python code, based on the function **AllDivisor**, that asks the user to enter a positive integer $n$\n",
    "and tells if n is a prime number or not. Test the code for $n=97$. (<font color = red> 3pts  </font>)"
   ]
  },
  {
   "cell_type": "code",
   "execution_count": null,
   "id": "68160e5c",
   "metadata": {},
   "outputs": [],
   "source": [
    "n = eval(input(\"Enter a positive integer: \"))\n",
    "if len(AllDivisor(n))==2:\n",
    "    print(n,\"is prime.\")\n",
    "else:\n",
    "    print(n,\"is not prime.\")"
   ]
  },
  {
   "cell_type": "markdown",
   "id": "f8a7c551",
   "metadata": {},
   "source": [
    "**Exercise 7**(<font color = red> 9pts  </font>)\n",
    "\n",
    "1- Use the python lambda syntax to define the function $ f(x) = x^3 -3x - 5$ then compute and display $f(-10)$, $f(10)$. (<font color = red> 3pts  </font>)"
   ]
  },
  {
   "cell_type": "code",
   "execution_count": null,
   "id": "3e3e737d",
   "metadata": {},
   "outputs": [],
   "source": [
    "f= lambda x : x**3+3*x-5\n",
    "print(f(-10))\n",
    "print(f(10))"
   ]
  },
  {
   "cell_type": "markdown",
   "id": "d5b639c3",
   "metadata": {},
   "source": [
    "2- Let us consider a continuous function “f” which is defined on the closed interval [a, b], is given with f(a) and f(b) of different signs. Then by intermediate theorem, there exists a point x belong to (a, b) for which f(x) = 0. The bisection method is an approximation method to find the roots of the given equation by repeatedly dividing the interval. This method will divide the interval until the resulting interval is found, which is extremely small.\n",
    "\n",
    "Given the following function $ f(x) = x^3 -3x - 5;$ let $x_0 \\in [a,b]$ be the solution of the equation $f(x) = 0$. Write a function named **Bissection** that returns an approximation $\\bar{x}$ of $x_0$ such that $$ \\mid \\bar{x} - x_0 \\mid \\leq \\epsilon, $$\n",
    "for the given inputs $a,b$ and $\\epsilon$ with a default value $10^{-2}$.(<font color = red> 5pts  </font>)"
   ]
  },
  {
   "cell_type": "code",
   "execution_count": null,
   "id": "7752da34",
   "metadata": {},
   "outputs": [],
   "source": [
    "def Bissection(a,b,epsilon=0.01):\n",
    "    xbar=(b-a)/2\n",
    "    if f(xbar)=0:\n",
    "        return xbar\n",
    "    elif f(xbar)<0:\n",
    "        if f(a)<0:\n",
    "            return Bissection(xbar,b,epsilon)\n",
    "        else:\n",
    "            return Bissection(a,xbar,epsilon)\n",
    "    else:\n",
    "        if f(a)<0:\n",
    "            return Bissection(a,xbar,epsilon)\n",
    "        else:\n",
    "            return Bissection(xbar,b,epsilon)"
   ]
  },
  {
   "cell_type": "markdown",
   "id": "c49e794c",
   "metadata": {},
   "source": [
    "3- Test the function **Bissection** for $a=-10, b=10$. (<font color = red> 1pts  </font>)"
   ]
  },
  {
   "cell_type": "code",
   "execution_count": null,
   "id": "d10f135e",
   "metadata": {},
   "outputs": [],
   "source": [
    "print(Bissection(-10,10))"
   ]
  },
  {
   "cell_type": "code",
   "execution_count": null,
   "id": "6e724aed",
   "metadata": {},
   "outputs": [],
   "source": [
    "pwd"
   ]
  },
  {
   "cell_type": "code",
   "execution_count": null,
   "id": "619e0ece",
   "metadata": {},
   "outputs": [],
   "source": [
    "pwd"
   ]
  },
  {
   "cell_type": "markdown",
   "id": "f7afdfde",
   "metadata": {},
   "source": [
    "**Exercise 1**\n",
    "\n",
    "1 - write a function, called **sum_prod**, that takes $n$ and $m$ as input and return return A and B given by $$A = \\sum_{i=m}^{n} i, \\quad B = \\prod_{i=m}^{n} i $$ The default value of m should be 1. Check your function for $n=10$."
   ]
  },
  {
   "cell_type": "code",
   "execution_count": null,
   "id": "ec1b6da1",
   "metadata": {},
   "outputs": [],
   "source": [
    "def sum_prod(n, m=1):\n",
    "    A=0\n",
    "    B=1\n",
    "    for i in range(m,n+1):\n",
    "        A+=i\n",
    "        B*=i\n",
    "    return A,B\n",
    "print(f\"sum_prod(10) = {sum_prod(10)}\")"
   ]
  },
  {
   "cell_type": "markdown",
   "id": "db6e7a58",
   "metadata": {},
   "source": [
    "2- Write a Python function called **Facto** that calculates the factorial of a non-negative integer. The function accepts the number as an argument. Compute the factorial of 57."
   ]
  },
  {
   "cell_type": "code",
   "execution_count": null,
   "id": "dc14e234",
   "metadata": {},
   "outputs": [],
   "source": [
    "def Facto(n):\n",
    "    return sum_prod(n)[1]\n",
    "print(f\"Facto(57) = {Facto(57)}\")"
   ]
  },
  {
   "cell_type": "markdown",
   "id": "15523951",
   "metadata": {},
   "source": [
    "**Exercise 2**\n",
    "\n",
    "1- Using the list comprehensions, write a function, **ListComp** that takes a list $L$ of strings as input and returns \n",
    "- a list that consists of the strings of $L$ with their last characters removed\n",
    "- a list of the lengths of the strings of $L$\n",
    "- a list that consists of only those strings of $L$ that are at most 3 characters long"
   ]
  },
  {
   "cell_type": "code",
   "execution_count": null,
   "id": "4061b6f0",
   "metadata": {},
   "outputs": [],
   "source": [
    "def ListComp(L):\n",
    "    le=[len(i) for i in L]\n",
    "    l3=[]\n",
    "    ll=[i.removesuffix(i[len(i)-1]) for i in L]\n",
    "    for i in range(len(L)):\n",
    "        if len(L[i])<4:\n",
    "            l3.append(L[i])\n",
    "    return ll, le, l3"
   ]
  },
  {
   "cell_type": "markdown",
   "id": "a95f870f",
   "metadata": {},
   "source": [
    "2- Check your function using the names of your closest friends at AIMS."
   ]
  },
  {
   "cell_type": "code",
   "execution_count": null,
   "id": "4edb4b17",
   "metadata": {},
   "outputs": [],
   "source": [
    "print(ListComp([\"Aimee\", \"Noe\", \"Olivier\"]))"
   ]
  },
  {
   "cell_type": "markdown",
   "id": "f09ebf03",
   "metadata": {},
   "source": [
    "**Exercise 3**\n",
    "\n",
    "A palindrome is a word that reads the same backwards as forwards. Write a program that asks the user to enter a word and determines whether the word is a palindrome or not\n",
    "\n",
    "1- using a for loop"
   ]
  },
  {
   "cell_type": "code",
   "execution_count": null,
   "id": "26a211b3",
   "metadata": {},
   "outputs": [],
   "source": [
    "word= input(\"Enter a word: \")\n",
    "p=\"palindrome\"\n",
    "for i in range(len(word)//2+1):\n",
    "    if word[i].upper() != word[len(word)-1-i].upper():\n",
    "        p=\"not palindrome\"\n",
    "        break\n",
    "print(f\"{word} is {p}.\")"
   ]
  },
  {
   "cell_type": "markdown",
   "id": "64657c10",
   "metadata": {},
   "source": [
    "2- using the string slicing"
   ]
  },
  {
   "cell_type": "code",
   "execution_count": null,
   "id": "c62ae649",
   "metadata": {},
   "outputs": [],
   "source": []
  },
  {
   "cell_type": "markdown",
   "id": "34e7b26f",
   "metadata": {},
   "source": [
    "**Exercise 4**\n",
    "\n",
    "1- Write a Python function named **characterCase** that accepts a string $S$ as input and returns the number of upper case letters and lower case letters as dictionary $D$. \n",
    "\n",
    "For example, if S = 'My name is Hove' then D = {'up': 2, 'lc': 10}"
   ]
  },
  {
   "cell_type": "code",
   "execution_count": null,
   "id": "c5fa3f0b",
   "metadata": {},
   "outputs": [],
   "source": [
    "def characterCase(S):\n",
    "    D={\"up\":0,\"lc\":0}\n",
    "    for i in S:\n",
    "        if i.isupper():\n",
    "            D[\"up\"]+=1\n",
    "        elif i.islower():\n",
    "            D[\"lc\"]+=1\n",
    "    return D"
   ]
  },
  {
   "cell_type": "markdown",
   "id": "c4fd4df7",
   "metadata": {},
   "source": [
    "2- Check for 'The quick Brow Fox and I'm proud of Mr McDonald'."
   ]
  },
  {
   "cell_type": "code",
   "execution_count": null,
   "id": "29a640bb",
   "metadata": {},
   "outputs": [],
   "source": [
    "print(characterCase(\"The quick Brow Fox and I'm proud of Mr McDonald\"))"
   ]
  },
  {
   "cell_type": "markdown",
   "id": "6d63cd62",
   "metadata": {},
   "source": [
    "**Exercise 5**\n",
    "\n",
    "Write a function called **matches** that takes two strings as arguments and returns how many matches there are between the strings. A match is where the two strings have the same character at the same index. For instance, 'python' and 'path' match in the first, third, and fourth characters, so the function should return 3."
   ]
  },
  {
   "cell_type": "code",
   "execution_count": null,
   "id": "d8d41875",
   "metadata": {},
   "outputs": [],
   "source": [
    "def matches(n,m):\n",
    "    r=0\n",
    "    for i in range(min(len(n),len(m))):\n",
    "        if n[i] == m[i]:\n",
    "            r+=1\n",
    "    return r"
   ]
  },
  {
   "cell_type": "markdown",
   "id": "6e2c48b2",
   "metadata": {},
   "source": [
    "**Exercise 6**\n",
    "\n",
    "Write a function **V** that takes a positive integer $n$ and a prime number $p$ and returns the greatest integer $r$ such that $p^r$ divides $n$. Check the function n=40 and p = 2."
   ]
  },
  {
   "cell_type": "code",
   "execution_count": null,
   "id": "2fd47b91",
   "metadata": {},
   "outputs": [],
   "source": [
    "def V(n,p):\n",
    "    r=0\n",
    "    i=0\n",
    "    while(p**i <= n/2):\n",
    "        if n%(p**i) == 0:\n",
    "            r=i\n",
    "        i+=1\n",
    "    return r\n",
    "print(f\"V(40,2) = {V(40,2)}\")"
   ]
  },
  {
   "cell_type": "markdown",
   "id": "4c79d9cb",
   "metadata": {},
   "source": [
    "**Exercise 7**\n",
    "\n",
    "1 - Write a Python function called <b>IsPrime</b> that takes a positive integer, $n$, as input and returns the boolean True if $n$ is a prime number and False, otherwise. \n",
    "\n",
    "Note : A prime number (or a prime) is a natural number greater than 1 and that has no positive divisors other than 1 and itself."
   ]
  },
  {
   "cell_type": "code",
   "execution_count": null,
   "id": "4fc21f25",
   "metadata": {},
   "outputs": [],
   "source": [
    "def IsPrime(n):\n",
    "    if n==1:\n",
    "        return False\n",
    "    else:\n",
    "        i=2\n",
    "        while i<=n**(1/2):\n",
    "            if n%i==0:\n",
    "                return False\n",
    "            i+=1\n",
    "        return True"
   ]
  },
  {
   "cell_type": "markdown",
   "id": "7c8e5e5c",
   "metadata": {},
   "source": [
    "2- Test the function <b>IsPrime</b> for $n= 12, 47$ and $97$"
   ]
  },
  {
   "cell_type": "code",
   "execution_count": null,
   "id": "acf77922",
   "metadata": {},
   "outputs": [],
   "source": [
    "print(f\"Is 12 prime? {IsPrime(12)}\")\n",
    "print(f\"Is 47 prime? {IsPrime(47)}\")\n",
    "print(f\"Is 97 prime? {IsPrime(97)}\")"
   ]
  },
  {
   "cell_type": "markdown",
   "id": "c67c1df5",
   "metadata": {},
   "source": [
    "3 - Write a function called **Firstprimes** that is given a positive integer $n$ and returns the smallest prime $p$ such that $n\\leq p$. Let the default value of $n$ be 2."
   ]
  },
  {
   "cell_type": "code",
   "execution_count": null,
   "id": "57422b1a",
   "metadata": {},
   "outputs": [],
   "source": [
    "def Firstprimes(n=2):\n",
    "    if n%2==0:\n",
    "        p=n+1\n",
    "    else:\n",
    "        p=n\n",
    "    while not IsPrime(p):\n",
    "        p+=2\n",
    "    return p"
   ]
  },
  {
   "cell_type": "markdown",
   "id": "2ab507a7",
   "metadata": {},
   "source": [
    "4- Check the function **Firstprimes** for $n=80$"
   ]
  },
  {
   "cell_type": "code",
   "execution_count": null,
   "id": "d7f40fb8",
   "metadata": {},
   "outputs": [],
   "source": [
    "print(f\"Firstprimes(80) = {Firstprimes(80)}\")"
   ]
  },
  {
   "cell_type": "markdown",
   "id": "f3d8d8be",
   "metadata": {},
   "source": [
    "**Exercise 8**\n",
    "\n",
    "Create a Module **PPQ1_Function.py** that contains all the functions on this notebook. Then, import the module to test the functions."
   ]
  },
  {
   "cell_type": "code",
   "execution_count": null,
   "id": "eb9b7921",
   "metadata": {},
   "outputs": [],
   "source": [
    "import PPQ1_Function as mf\n",
    "print(f\"sum_prod(10) = {mf.sum_prod(10)}\")\n",
    "print(f\"Facto(57) = {mf.Facto(57)}\")\n",
    "print(f\"ListComp(['Aimee', 'Noe', 'Olivier']) = {mf.ListComp(['Aimee', 'Noe', 'Olivier'])}\")\n",
    "print(mf.characterCase(\"The quick Brow Fox and I'm proud of Mr McDonald\"))\n",
    "print(f\"matches('python','path') = {mf.matches('python','path')}\")\n",
    "print(f\"V(40,2) = {mf.V(40,2)}\")\n",
    "print(f\"Is 97 prime? {mf.IsPrime(97)}\")\n",
    "print(f\"Firstprimes(80) = {mf.Firstprimes(80)}\")"
   ]
  },
  {
   "cell_type": "code",
   "execution_count": null,
   "id": "0eee876f",
   "metadata": {},
   "outputs": [],
   "source": [
    "pwd"
   ]
  },
  {
   "cell_type": "code",
   "execution_count": null,
   "id": "91112c34",
   "metadata": {
    "scrolled": true
   },
   "outputs": [],
   "source": [
    "import numpy as np\n",
    "from numpy.linalg import solve\n",
    "from scipy.optimize import fsolve\n",
    "from scipy.integrate import odeint, quad\n",
    "import matplotlib.pyplot as plt"
   ]
  },
  {
   "cell_type": "markdown",
   "id": "853fb2ef",
   "metadata": {},
   "source": [
    "**Exercise 1** \n",
    "\n",
    "1- Write a function, **ReverCase**, that takes one argument: A string ``s`` and returns another string ``t``. The string ``t`` should be constructed from ``s`` such that:\n",
    "* All **upper** case letters from ``s`` are changed into **lower** case.\n",
    "* All **lower** case letters from ``s`` are changed into **upper** case.\n",
    "* All characters from ``s`` that are not letters are **deleted**.\n",
    "\n",
    "Test your function **ReverCase**."
   ]
  },
  {
   "cell_type": "code",
   "execution_count": null,
   "id": "267e382d",
   "metadata": {},
   "outputs": [],
   "source": [
    "#4pt\n",
    "def ReverCase(S):\n",
    "    return \"\".join([i.swapcase() for i in S if i.isalpha()])\n",
    "ReverCase(\"joel_tchapnda_PPQ2\")"
   ]
  },
  {
   "cell_type": "markdown",
   "id": "028e8d31",
   "metadata": {},
   "source": [
    "2- Write a function,**MaxNegMat** , that takes one argument: A 2D array ``M`` and:\n",
    "* For each **row** computes the maximum negative element.\n",
    "* Returns the **sum of those elements**.\n",
    "\n",
    "Test your function **MaxNegMat**"
   ]
  },
  {
   "cell_type": "code",
   "execution_count": null,
   "id": "e02cfe51",
   "metadata": {},
   "outputs": [],
   "source": [
    "#4pt\n",
    "#MaxNeg in a list L\n",
    "def MaxNeg(L):\n",
    "    k= [i for i in L if i<0]\n",
    "    if len(k) == 0:\n",
    "        return 0\n",
    "    else:\n",
    "        return max(k)\n",
    "        \n",
    "\n",
    "def MaxNegMat(M):\n",
    "    s=0\n",
    "    for i in M:\n",
    "        s+= MaxNeg(i)\n",
    "    return s\n",
    "\n",
    "A= np.array([[2,5],[-7,1],[-5,-6]])\n",
    "MaxNegMat(A)"
   ]
  },
  {
   "cell_type": "markdown",
   "id": "20b709ca",
   "metadata": {},
   "source": [
    "**Exercise 2**\n",
    "\n",
    "1-The cost of admission to a popular music concert was \n",
    "- 40 USD for 1 children and 1 male\n",
    "- 170 USD  for 4 children, 2 females and 3 males \n",
    "- 190 USD  for 5 children, 4 females and 2 males \n",
    "\n",
    "Transform the problem into a system of equation (as markdown in the cell below)"
   ]
  },
  {
   "cell_type": "markdown",
   "id": "96069db0",
   "metadata": {},
   "source": [
    "\n",
    "Let $x, y, t$ be respectively the price of admission for one child, one female and one male. Our problem becomes the system of equations\n",
    "\n",
    "\\begin{equation}\n",
    "\\begin{cases}\n",
    "    x + t = 40\\\\\n",
    "    4x + 2y + 3t = 170 \\\\\n",
    "    5x + 4y + 2t = 190\n",
    "\\end{cases}\n",
    "\\end{equation}"
   ]
  },
  {
   "cell_type": "markdown",
   "id": "1a63c957",
   "metadata": {},
   "source": [
    "2- Write a Python code to compute and display how much was the admission for each child, female and male?"
   ]
  },
  {
   "cell_type": "code",
   "execution_count": null,
   "id": "9a8f29d1",
   "metadata": {},
   "outputs": [],
   "source": [
    "#3pt\n",
    "A= np.array([[1,0,1],[4,2,3],[5,4,2]])\n",
    "b= np.array([[40],[170],[190]])\n",
    "z= solve(A,b)\n",
    "print(f\"The price for a child is {round(z[0,0],2)} USD. The price for a female is {round(z[1,0],2)} USD. The price for a male is {round(z[2,0],2)} USD.\")"
   ]
  },
  {
   "cell_type": "markdown",
   "id": "ad45149a",
   "metadata": {},
   "source": [
    "3- Using the Python in-built function fsolve with unitial guess $x=1, y=1$, write a Python code to solve the following system\n",
    "\n",
    "\\begin{equation}\n",
    "\\begin{cases}\n",
    "    x^2 + x = 2 - y\\\\\n",
    "    2e^x + 3y = 8\n",
    "\\end{cases}\n",
    "\\end{equation}\n",
    "\n"
   ]
  },
  {
   "cell_type": "code",
   "execution_count": null,
   "id": "a02b50f5",
   "metadata": {},
   "outputs": [],
   "source": [
    "#5pt\n",
    "\n",
    "def sys(z):\n",
    "    x,y = z\n",
    "    F= np.empty((2))\n",
    "    F[0]= x**2 + x + y - 2\n",
    "    F[1]= 2*np.exp(x) + 3*y -8\n",
    "    return F\n",
    "\n",
    "Guess= np.array([1,1])\n",
    "d= fsolve(sys,Guess)\n",
    "d"
   ]
  },
  {
   "cell_type": "markdown",
   "id": "103c0403",
   "metadata": {},
   "source": [
    "**Exercise 3**\n",
    "\n",
    "1- Write a Python code to compute and display the integrals bellow using the Python function $quad$\n",
    "$$A = \\int_{0}^{2} \\dfrac{x^3+5x-20}{x^2+3}dx$$\n",
    "\n",
    "$$B = \\int_{3}^{5} \\bigg(x-\\frac{1}{3}\\bigg)\\sqrt{x^4-3}dx$$"
   ]
  },
  {
   "cell_type": "code",
   "execution_count": null,
   "id": "a68b1f64",
   "metadata": {},
   "outputs": [],
   "source": [
    "#4pt\n",
    "f= lambda x: (x**3+5*x-20)/(x**2+3)\n",
    "g= lambda x: (x-1/3)*np.sqrt(x**4-3)\n",
    "\n",
    "A= quad(f,0,2)[0]\n",
    "B= quad(g,3,5)[0]\n",
    "print(f\"A= {A}.\\nB= {B}\")"
   ]
  },
  {
   "cell_type": "markdown",
   "id": "b71e2de0",
   "metadata": {},
   "source": [
    "2- Let $\\{ x_k\\}$ be a partition of $[a,b]$ such that $a=x_0<x_1<\\cdots<x_{N-1}<x_N=b$ and $H$ be the length of the $k$-th subinterval ($H = x_k - x_{k-1}$),\n",
    "then we have \n",
    "$$\\int_a^bf(x)dx \\approx \\sum_{k=1}^N \\frac{f(x_{k-1})+f(x_k)}{2}H = Z$$\n",
    "\n",
    "\n",
    "Write a function named <b>Trap</b> that takes $a,b,H, f$ as inputs and return Z. Here, ``H = 0.001`` is the default value."
   ]
  },
  {
   "cell_type": "code",
   "execution_count": null,
   "id": "8ca95d0e",
   "metadata": {},
   "outputs": [],
   "source": [
    "#3pt\n",
    "def Trap(f,a,b,H=0.001):\n",
    "    N= int(1+(b-a)/H)\n",
    "    Z= 0\n",
    "    x= np.linspace(a,b,N)\n",
    "    for i in range(1,N):\n",
    "        Z+= (f(x[i-1]) + f(x[i]))*H/2\n",
    "    return Z"
   ]
  },
  {
   "cell_type": "markdown",
   "id": "1faa66bc",
   "metadata": {},
   "source": [
    "3- Compute the integrales A and B using your function **Trap**"
   ]
  },
  {
   "cell_type": "code",
   "execution_count": null,
   "id": "21198863",
   "metadata": {},
   "outputs": [],
   "source": [
    "#2pt\n",
    "f= lambda x: (x**3+5*x-20)/(x**2+3)\n",
    "g= lambda x: (x-1/3)*np.sqrt(x**4-3)\n",
    "\n",
    "A= Trap(f,0,2)\n",
    "B= Trap(g,3,5)\n",
    "print(f\"A= {A}.\\nB= {B}\")"
   ]
  },
  {
   "cell_type": "markdown",
   "id": "4a5983cc",
   "metadata": {},
   "source": [
    "**Exercise 4**\n",
    "\n",
    "Let $\\{ x_k\\}$ be a partition of $[a,b]$ such that $a=x_0<x_1<\\cdots<x_{N-1}<x_{N}=b$ and $H$ be the constant length of the $k$-th subinterval ($H = x_k - x_{k-1}$). Let consider the second-order differential equation\n",
    "\n",
    "\\begin{equation}\n",
    "  \\begin{cases}\n",
    "   \\dfrac{d^2 y}{dx^2} + 2\\dfrac{d y}{dx}=30e^{3x} \\qquad\\forall x\\in [a,b]\\\\\\\\\n",
    "\\dfrac{d y}{dx}(a)=8 , y(a) = 2 \n",
    "  \\end{cases}\n",
    "\\end{equation}\n",
    "\n",
    "Let $\\{ y_k\\}$ be the approximate solution i.e.  $y_k\\approx g(x_k)=g_k$ where $g$ is the exact solution.\n",
    "\n",
    "1- Using the Python in-built function **odeint**, write a python function <b> SODE </b> that takes $a,b,H$ (with $H= 0.001$ as default value) and return array of all $x_k$ and $y_k$"
   ]
  },
  {
   "cell_type": "code",
   "execution_count": null,
   "id": "16563084",
   "metadata": {},
   "outputs": [],
   "source": [
    "#5pt\n",
    "def syst(z,x):\n",
    "    y,y1= z\n",
    "    dydx= y1\n",
    "    dy1dx= 30*np.exp(3*x)-2*y1\n",
    "    return np.array([dydx,dy1dx])\n",
    "def SODE(a,b,H=0.001):\n",
    "    N= int(1+(b-a)/H)\n",
    "    x= np.linspace(a,b,N)\n",
    "    z= [2,8]\n",
    "    return np.array([x,(odeint(syst,z,x)[:,0])])"
   ]
  },
  {
   "cell_type": "markdown",
   "id": "f0657fe2",
   "metadata": {},
   "source": [
    "2- Solve the second-order differential equation for $a = 0, b = 2$ and plot the solution."
   ]
  },
  {
   "cell_type": "code",
   "execution_count": null,
   "id": "c10d9b61",
   "metadata": {},
   "outputs": [],
   "source": [
    "#4pt\n",
    "c= SODE(0,2)\n",
    "print(f\"The solution is {c}\")\n",
    "plt.plot(c[0],c[1])\n",
    "plt.xlabel(\"x\")\n",
    "plt.ylabel(\"y(x)\")\n",
    "plt.show()"
   ]
  },
  {
   "cell_type": "markdown",
   "id": "eeffa518",
   "metadata": {},
   "source": [
    "3- The exact solution of the second-order differential equation is $g(x)= 2e^{3x}-e^{-2x}+1$. Plot the absolute value, $\\mid y_k - g_k\\mid$ against x_k."
   ]
  },
  {
   "cell_type": "code",
   "execution_count": null,
   "id": "451ba727",
   "metadata": {},
   "outputs": [],
   "source": [
    "#3pt\n",
    "g= lambda x: 2*np.exp(3*x)-np.exp(-2*x)+1\n",
    "s= abs(c[1]-g(c[0]))\n",
    "plt.plot(c[0],s)\n",
    "plt.xlabel(\"x\")\n",
    "plt.ylabel(\"|y(x)-g(x)|\")\n",
    "plt.show()"
   ]
  },
  {
   "cell_type": "markdown",
   "id": "2fabfad9",
   "metadata": {},
   "source": [
    "4- Write a Write a function called **L2_error** that takes $a,b,H$ and return the L2 error, $L2Er$ between the exact and the approximate solution given by\n",
    "\n",
    "$$L2Er = \\sum_{k=0}^N H(y_k - g_k)^2$$"
   ]
  },
  {
   "cell_type": "code",
   "execution_count": null,
   "id": "a328a8a6",
   "metadata": {},
   "outputs": [],
   "source": [
    "#3pt\n",
    "def L2_error(a,b,H):\n",
    "    L=0\n",
    "    N= int(1+(b-a)/H)\n",
    "    y= SODE(a,b,H)\n",
    "    e= (y[1]-g(y[0]))**2\n",
    "    for i in range(N):\n",
    "        L+= H*e[i]\n",
    "    return L"
   ]
  },
  {
   "cell_type": "markdown",
   "id": "8f58ed2d",
   "metadata": {},
   "source": [
    "4- Let us denote $L2Er_j$ the output of **L2_error** for a given argument $a,b,H_j$. Compute the array of $L2Er_j$ for $a = 0, b=2$ and $H_j$ in an array $L =[ 10^{-1}, 10^{-2}, 10^{-3}, 10^{-4}]$."
   ]
  },
  {
   "cell_type": "code",
   "execution_count": null,
   "id": "36161f5a",
   "metadata": {},
   "outputs": [],
   "source": [
    "#3pt\n",
    "L= np.array([10**(-i) for i in range(1,5)])\n",
    "L2Er= np.vectorize(L2_error)\n",
    "L2Er(0,2,L)"
   ]
  },
  {
   "cell_type": "markdown",
   "id": "4db0cbcf",
   "metadata": {},
   "source": [
    "5- Plot the array of $L2Er_j$ against the array of $H_j$."
   ]
  },
  {
   "cell_type": "code",
   "execution_count": null,
   "id": "b4a36280",
   "metadata": {
    "scrolled": true
   },
   "outputs": [],
   "source": [
    "#3pt\n",
    "plt.plot(L,L2Er(0,2,L))\n",
    "plt.xlabel(\"H\")\n",
    "plt.ylabel(\"L2Er(H)\")\n",
    "plt.show()"
   ]
  },
  {
   "cell_type": "code",
   "execution_count": null,
   "id": "3da4c639",
   "metadata": {},
   "outputs": [],
   "source": []
  },
  {
   "cell_type": "code",
   "execution_count": null,
   "id": "d2d613f4",
   "metadata": {},
   "outputs": [],
   "source": [
    "import numpy as np\n",
    "from scipy.optimize import fsolve\n",
    "from scipy.integrate import quad\n",
    "from scipy.integrate import odeint\n",
    "import matplotlib.pyplot as plt\n",
    "import pandas as pd"
   ]
  },
  {
   "cell_type": "markdown",
   "id": "c1110857",
   "metadata": {},
   "source": [
    "# Facile"
   ]
  },
  {
   "cell_type": "markdown",
   "id": "85470e4a",
   "metadata": {},
   "source": [
    "## Prix Imprimerie"
   ]
  },
  {
   "cell_type": "code",
   "execution_count": null,
   "id": "6b576d77",
   "metadata": {},
   "outputs": [],
   "source": [
    "def Prix(n):\n",
    "    if n<10:\n",
    "        price=12*n\n",
    "    elif n<100:\n",
    "        price=10*n\n",
    "    else:\n",
    "        price=7*n\n",
    "    return price"
   ]
  },
  {
   "cell_type": "markdown",
   "id": "991094da",
   "metadata": {},
   "source": [
    "## 2e"
   ]
  },
  {
   "cell_type": "code",
   "execution_count": null,
   "id": "d1377b0e",
   "metadata": {},
   "outputs": [],
   "source": [
    "def Eq(c,b,a = 1,):\n",
    "    if a==0:\n",
    "        if b==0:\n",
    "            if c==0:\n",
    "                sol=\"R\"\n",
    "            else:\n",
    "                sol=\"{}\"\n",
    "        else:\n",
    "            sol=\"{\"+str(-c/b)+\"}\"\n",
    "    else:\n",
    "        delta=b**2-4*a*c\n",
    "        if delta<0:\n",
    "            sol=\"{}\"\n",
    "        elif delta == 0:\n",
    "            sol=\"{\"+str(-b/(2*a))+\"}\"\n",
    "        else:\n",
    "            sol=\"{\"+str((-b+delta**(1/2))/(2*a))+\";\"+str((-b-delta**(1/2))/(2*a))+\"}\"\n",
    "    return sol"
   ]
  },
  {
   "cell_type": "markdown",
   "id": "4f77e8f7",
   "metadata": {},
   "source": [
    "## Anne bisectile"
   ]
  },
  {
   "cell_type": "code",
   "execution_count": null,
   "id": "e59012af",
   "metadata": {},
   "outputs": [],
   "source": [
    "def bis(y):\n",
    "    d= (y%4==0 and y%100!=0)or(y%400==0)\n",
    "    return d"
   ]
  },
  {
   "cell_type": "markdown",
   "id": "bbe41ba3",
   "metadata": {},
   "source": [
    "## Racine Chifffre "
   ]
  },
  {
   "cell_type": "code",
   "execution_count": null,
   "id": "20d3670b",
   "metadata": {},
   "outputs": [],
   "source": [
    "def rac(n):\n",
    "    s=0\n",
    "    while n>0:\n",
    "        s=s+n%10\n",
    "        n=n//10\n",
    "    if s<10:\n",
    "        return s\n",
    "    else:\n",
    "        return DigRoot(s)"
   ]
  },
  {
   "cell_type": "markdown",
   "id": "480cd5fa",
   "metadata": {},
   "source": [
    "## Position de difference"
   ]
  },
  {
   "cell_type": "code",
   "execution_count": null,
   "id": "7c09b2a8",
   "metadata": {},
   "outputs": [],
   "source": [
    "def pos(s1,s2):\n",
    "    if s1 == s2:\n",
    "        return -1\n",
    "    else:\n",
    "        i=0\n",
    "        while i<len(s1) and i<len(s2):\n",
    "            if s1[i] != s2[i]:\n",
    "                return i+1\n",
    "            i=i+1\n",
    "        return i+1"
   ]
  },
  {
   "cell_type": "markdown",
   "id": "67fafe57",
   "metadata": {},
   "source": [
    "## Diviseurs"
   ]
  },
  {
   "cell_type": "code",
   "execution_count": null,
   "id": "349c1a52",
   "metadata": {},
   "outputs": [],
   "source": [
    "def AllDivisor(n):\n",
    "    if n==1:\n",
    "        return [1]\n",
    "    else:\n",
    "        d= [1,n]\n",
    "        i=2\n",
    "        while i<=n/2:\n",
    "            if n%i ==0:\n",
    "                d.append(i)\n",
    "            i=i+1\n",
    "        return d"
   ]
  },
  {
   "cell_type": "markdown",
   "id": "e0fac50f",
   "metadata": {},
   "source": [
    "## Pld"
   ]
  },
  {
   "cell_type": "code",
   "execution_count": null,
   "id": "d9102b32",
   "metadata": {},
   "outputs": [],
   "source": [
    "def pl(mot):\n",
    "    return mot.upper() == mot.upper()[::-1]"
   ]
  },
  {
   "cell_type": "markdown",
   "id": "309d90c4",
   "metadata": {},
   "source": [
    "## Phrase"
   ]
  },
  {
   "cell_type": "code",
   "execution_count": null,
   "id": "aef5e75c",
   "metadata": {},
   "outputs": [],
   "source": [
    "def phrase(s):\n",
    "    return len(s.split())"
   ]
  },
  {
   "cell_type": "markdown",
   "id": "6ad81879",
   "metadata": {},
   "source": [
    "## Nombre avec virgule"
   ]
  },
  {
   "cell_type": "code",
   "execution_count": null,
   "id": "63f87b53",
   "metadata": {},
   "outputs": [],
   "source": [
    "def virg(e):\n",
    "    e= str(e)\n",
    "    if len(e)<4:\n",
    "        return(e)\n",
    "    else:\n",
    "        b= [ e[len(e)-3*i-3:len(e)-3*i] for i in range(len(e)//3) ]\n",
    "        if len(e)%3 != 0:\n",
    "            a= [e[:len(e)%3]]\n",
    "            b.append(a[0])\n",
    "        b= b[::-1]\n",
    "        return (\",\".join(b))"
   ]
  },
  {
   "cell_type": "markdown",
   "id": "2ad6bd1f",
   "metadata": {},
   "source": [
    "## list"
   ]
  },
  {
   "cell_type": "code",
   "execution_count": null,
   "id": "2143a586",
   "metadata": {},
   "outputs": [],
   "source": [
    "def ListComp(L):\n",
    "    le=[len(i) for i in L]\n",
    "    l3=[]\n",
    "    ll=[i.removeprefix(i[0]) for i in L]\n",
    "    for i in range(len(L)):\n",
    "        if len(L[i])>=5:\n",
    "            l3.append(L[i])\n",
    "    return ll, le, l3"
   ]
  },
  {
   "cell_type": "markdown",
   "id": "b14c9715",
   "metadata": {},
   "source": [
    "## Mots diferents"
   ]
  },
  {
   "cell_type": "code",
   "execution_count": null,
   "id": "2293374e",
   "metadata": {},
   "outputs": [],
   "source": [
    "def matches(n,m):\n",
    "    r=0\n",
    "    for i in range(min(len(n),len(m))):\n",
    "        if n[i] == m[i]:\n",
    "            r+=1\n",
    "    return r"
   ]
  },
  {
   "cell_type": "markdown",
   "id": "6bcbe45e",
   "metadata": {},
   "source": [
    "## Lettre dans mot"
   ]
  },
  {
   "cell_type": "code",
   "execution_count": null,
   "id": "3f2fb0df",
   "metadata": {},
   "outputs": [],
   "source": [
    "def findall(word, char):\n",
    "    pos=[]\n",
    "    for i in range(len(word)):\n",
    "        if word[i] == char:\n",
    "            pos.append(i)\n",
    "    return pos"
   ]
  },
  {
   "cell_type": "markdown",
   "id": "04cb7da3",
   "metadata": {},
   "source": [
    "## Biss"
   ]
  },
  {
   "cell_type": "code",
   "execution_count": null,
   "id": "4d7fcdc5",
   "metadata": {},
   "outputs": [],
   "source": [
    "def Bissection(f,a,b,epsilon=0.01):\n",
    "    if f(a)*f(b) > 0:\n",
    "        print(\"Bissection failed\")\n",
    "        return \"\"\n",
    "    else:\n",
    "        xbar=(b+a)/2\n",
    "        if f(xbar) == 0 or b-a <= 2*epsilon:\n",
    "            return xbar, f(xbar)\n",
    "        elif f(xbar) * f(a) <0:\n",
    "            return Bissection(f,a,xbar,epsilon)\n",
    "        else:\n",
    "            return Bissection(f,xbar,b,epsilon)"
   ]
  },
  {
   "cell_type": "markdown",
   "id": "e712ecf4",
   "metadata": {},
   "source": [
    "## Diviseurs "
   ]
  },
  {
   "cell_type": "code",
   "execution_count": null,
   "id": "6de8be98",
   "metadata": {},
   "outputs": [],
   "source": [
    "def number_of_factors(n):\n",
    "    x=[1]\n",
    "    if n==1:\n",
    "        return len(x),x\n",
    "    else:\n",
    "        for i in range(2,n//2+1):\n",
    "            if n%i==0:\n",
    "                x.append(i)\n",
    "        x.append(n)\n",
    "        return len(x),x"
   ]
  },
  {
   "cell_type": "markdown",
   "id": "6dca883b",
   "metadata": {},
   "source": [
    "## Nombres premiers"
   ]
  },
  {
   "cell_type": "code",
   "execution_count": null,
   "id": "86492f8d",
   "metadata": {},
   "outputs": [],
   "source": [
    "def IsPrime(n):\n",
    "    return number_of_factors(n)[0] == 2"
   ]
  },
  {
   "cell_type": "markdown",
   "id": "5e200d10",
   "metadata": {},
   "source": [
    "## Premier suivant"
   ]
  },
  {
   "cell_type": "code",
   "execution_count": null,
   "id": "13e58e13",
   "metadata": {},
   "outputs": [],
   "source": [
    "def Firstprimes(n=2):\n",
    "    if n==2:\n",
    "        return 2\n",
    "    elif n%2==0:\n",
    "        p=n+1\n",
    "    else:\n",
    "        p=n\n",
    "    while not IsPrime(p):\n",
    "        p+=2\n",
    "    return p"
   ]
  },
  {
   "cell_type": "markdown",
   "id": "962db5e8",
   "metadata": {},
   "source": [
    "## Liste des premiers"
   ]
  },
  {
   "cell_type": "code",
   "execution_count": null,
   "id": "934883d5",
   "metadata": {},
   "outputs": [],
   "source": [
    "def primes(n=100):\n",
    "    x=[2]\n",
    "    i=3\n",
    "    while len(x)<n:\n",
    "        if IsPrime(i):\n",
    "            x.append(i)\n",
    "        i=Firstprimes(i+1)\n",
    "    return x"
   ]
  },
  {
   "cell_type": "markdown",
   "id": "61f4a9be",
   "metadata": {},
   "source": [
    "## Bissection"
   ]
  },
  {
   "cell_type": "code",
   "execution_count": null,
   "id": "687cb34e",
   "metadata": {},
   "outputs": [],
   "source": [
    "def Bissection(a,b,epsilon=0.01):\n",
    "    xbar=(b+a)/2\n",
    "    if f(xbar) == 0 or b-a <= 2*epsilon:\n",
    "        return xbar\n",
    "    elif f(xbar)<0:\n",
    "        if f(a)<0:\n",
    "            return Bissection(xbar,b)\n",
    "        else:\n",
    "            return Bissection(a,xbar)\n",
    "    else:\n",
    "        if f(a)>0:\n",
    "            return Bissection(xbar,b)\n",
    "        else:\n",
    "            return Bissection(a,xbar)"
   ]
  },
  {
   "cell_type": "markdown",
   "id": "1b1f9494",
   "metadata": {},
   "source": [
    "## Fibonacci"
   ]
  },
  {
   "cell_type": "code",
   "execution_count": null,
   "id": "52aab859",
   "metadata": {},
   "outputs": [],
   "source": [
    "def Fibonacci(n):\n",
    "    if n in [1,2]:\n",
    "        return n\n",
    "    else:\n",
    "        return Fibonacci(n-1)+Fibonacci(n-2)\n",
    "\n",
    "def SumEven():\n",
    "    s=2\n",
    "    n=5\n",
    "    while Fibonacci(n) <= 4000000:\n",
    "        s+=Fibonacci(n)\n",
    "        n+=3\n",
    "    return s"
   ]
  },
  {
   "cell_type": "markdown",
   "id": "538cc647",
   "metadata": {},
   "source": [
    "## Dimanches"
   ]
  },
  {
   "cell_type": "code",
   "execution_count": null,
   "id": "9ca231a6",
   "metadata": {},
   "outputs": [],
   "source": [
    "def Leap_Year(y):\n",
    "    # Returns if a year is a leap year or not\n",
    "    return (y % 4 == 0 and y % 100 != 0 ) or (y % 400 == 0)\n",
    "\n",
    "def Jan1(y):\n",
    "    # Returns the day of January 1st for the year y as an integer in {0,1...6}\n",
    "    if y == 1900:\n",
    "        return 1\n",
    "    elif Leap_Year(y-1):\n",
    "        return (Jan1(y-1)+2) % 7\n",
    "    else:\n",
    "        return (Jan1(y-1)+1) % 7\n",
    "    \n",
    "def Month1(m,y):\n",
    "    # Returns the first day of month m in {1,2...12} for the year y \n",
    "    if m == 1:\n",
    "        return Jan1(y)\n",
    "    elif m in [2,4,6,8,9,11]:\n",
    "        return (Month1(m-1,y) +3) % 7\n",
    "    elif m!=3:\n",
    "        return (Month1(m-1,y) +2) % 7\n",
    "    elif Leap_Year(y):\n",
    "        return (Month1(2,y)+1) % 7\n",
    "    else:\n",
    "        return (Month1(2,y))\n",
    "    \n",
    "def Sunday1():\n",
    "    # Returns the answer to the question\n",
    "    s=0\n",
    "    for i in range(1901, 2001):\n",
    "        s+= len([m for m in range(1,13) if Month1(m,i)==0])\n",
    "    return s"
   ]
  },
  {
   "cell_type": "markdown",
   "id": "e6a5bde7",
   "metadata": {},
   "source": [
    "## Swap"
   ]
  },
  {
   "cell_type": "code",
   "execution_count": null,
   "id": "283ea8e7",
   "metadata": {},
   "outputs": [],
   "source": [
    "def Swap(s):\n",
    "    return \"\".join([i.swapcase() for i in s if i.isalpha()])"
   ]
  },
  {
   "cell_type": "markdown",
   "id": "14eaa164",
   "metadata": {},
   "source": [
    "## Majuscule, Miniscule"
   ]
  },
  {
   "cell_type": "code",
   "execution_count": null,
   "id": "2469a845",
   "metadata": {},
   "outputs": [],
   "source": [
    "def UpLow(s):\n",
    "    l= [0, 0]\n",
    "    for i in s:\n",
    "        if i.isupper():\n",
    "            l[1]+= 1\n",
    "        elif i.islower():\n",
    "            l[0]+= 1\n",
    "    return l"
   ]
  },
  {
   "cell_type": "markdown",
   "id": "2187531b",
   "metadata": {},
   "source": [
    "# Numpy, Scipy"
   ]
  },
  {
   "cell_type": "code",
   "execution_count": null,
   "id": "5ed5c603",
   "metadata": {},
   "outputs": [],
   "source": [
    "a = np.array([1, 2, 47, 5,7.3, 7, 0, 4, 15])\n",
    "a[a != 4] # vecteur des elements de a qui remplissent la condition\n",
    "a[(a > 2) & (a < 11)] # le et pour les vecteurs\n",
    "a[(a%2==0) | (a%5==0)] # le ou"
   ]
  },
  {
   "cell_type": "code",
   "execution_count": null,
   "id": "3a0c8357",
   "metadata": {},
   "outputs": [],
   "source": [
    "print('Dimensions of A:', A.ndim)\n",
    "print('Shape of A:', A.shape)\n",
    "print('Size of A:', A.size)\n",
    "print(\"================================\")\n",
    "print('Dimensions of B:', B.ndim)\n",
    "print('Shape of B:', B.shape)\n",
    "print('Size of B:', B.size)"
   ]
  },
  {
   "cell_type": "code",
   "execution_count": null,
   "id": "42f18bbe",
   "metadata": {},
   "outputs": [],
   "source": [
    "print(np.dot(m,a)) # matrix vector multiplication\n",
    "print(np.multiply(m,n)) # component-wise multiplication,equal\n",
    "np.diagonal(m) # return the elements on the diagonal\n",
    "print(np.trace(m)) # return trace or the sum of the diagonal elements\n",
    "print(m.T) #return the transpose of a function\n",
    "e_values, e_vectors = np.linalg.eig(a) # returns the eigenvalues and right\n",
    "# eigenvector of a square array"
   ]
  },
  {
   "cell_type": "markdown",
   "id": "6ec2fb6c",
   "metadata": {},
   "source": [
    "## Polynomes"
   ]
  },
  {
   "cell_type": "code",
   "execution_count": null,
   "id": "37694c7f",
   "metadata": {},
   "outputs": [],
   "source": [
    "P = np.poly1d([2,-1, 0, -5])\n",
    "print(np.poly1d(P))\n",
    "np.polyval(P,0) # evaluating a polynomial"
   ]
  },
  {
   "cell_type": "markdown",
   "id": "f278206b",
   "metadata": {},
   "source": [
    "## Systeme d'eq lineaires"
   ]
  },
  {
   "cell_type": "code",
   "execution_count": null,
   "id": "e54c4f6f",
   "metadata": {},
   "outputs": [],
   "source": [
    "A = np.array([ [3,-9], [2,4] ])\n",
    "b = np.array([-42,2])\n",
    "z = np.linalg.solve(A,b)\n",
    "print(z)\n",
    "M = np.array([ [1,-2,-1], [2,2,-1], [-1,-1,2] ])\n",
    "c = np.array([6,1,1])\n",
    "y = np.linalg.solve(M,c)\n",
    "print(y)"
   ]
  },
  {
   "cell_type": "markdown",
   "id": "821b31ad",
   "metadata": {},
   "source": [
    "## Systeme d'eq non lineaires"
   ]
  },
  {
   "cell_type": "code",
   "execution_count": null,
   "id": "d35f0d84",
   "metadata": {},
   "outputs": [],
   "source": [
    "def myFunction(z):\n",
    "x = z[0]\n",
    "y = z[1]\n",
    "w = z[2]\n",
    "F = np.empty((3))\n",
    "F[0] = x**2+y**2-20\n",
    "F[1] = y - x**2\n",
    "F[2] = w + 5 - x*y\n",
    "return F\n",
    "zGuess = np.array([0,1,1])\n",
    "z = fsolve(myFunction,zGuess)\n",
    "print(z)"
   ]
  },
  {
   "cell_type": "markdown",
   "id": "41c21733",
   "metadata": {},
   "source": [
    "## Solution parametrique"
   ]
  },
  {
   "cell_type": "code",
   "execution_count": null,
   "id": "29618b7e",
   "metadata": {},
   "outputs": [],
   "source": [
    "sym.init_printing()\n",
    "x,y,z = sym.symbols('x,y,z')\n",
    "c1 = sym.Symbol('c1')\n",
    "f = sym.Eq(2*x**2+y+z,1)\n",
    "g = sym.Eq(x+2*y+z,c1)\n",
    "h = sym.Eq(-2*x+y,-z)\n",
    "sym.solve([f,g,h],(x,y,z))"
   ]
  },
  {
   "cell_type": "markdown",
   "id": "bd87d57d",
   "metadata": {},
   "source": [
    "## Integrales"
   ]
  },
  {
   "cell_type": "code",
   "execution_count": null,
   "id": "6cdc10a3",
   "metadata": {},
   "outputs": [],
   "source": [
    "a = 1\n",
    "b = 2\n",
    "f = lambda x: 2*x\n",
    "A = quad(f, a, b)[0]\n",
    "print(A)"
   ]
  },
  {
   "cell_type": "markdown",
   "id": "9e76257b",
   "metadata": {},
   "source": [
    "## EDO"
   ]
  },
  {
   "cell_type": "code",
   "execution_count": null,
   "id": "7980d072",
   "metadata": {},
   "outputs": [],
   "source": [
    "# function that returns dy/dt\n",
    "def model(y,t):\n",
    "k = 0.3\n",
    "dydt = -k * y\n",
    "return dydt\n",
    "# initial condition\n",
    "ya = 5\n",
    "# time points\n",
    "a = 0\n",
    "b = 20\n",
    "N = 70\n",
    "t = np.linspace(a,b,N)\n",
    "# solve ODE\n",
    "y = odeint(model,ya,t)"
   ]
  },
  {
   "cell_type": "markdown",
   "id": "a48eb395",
   "metadata": {},
   "source": [
    "## Systeme d'EDO"
   ]
  },
  {
   "cell_type": "code",
   "execution_count": null,
   "id": "25e7ba64",
   "metadata": {},
   "outputs": [],
   "source": [
    "def model(z,t):\n",
    "x,y = z\n",
    "dxdt = 5*x-3*y\n",
    "dydt = -6*x +2*y\n",
    "return np.array([dxdt,dydt])\n",
    "# initial condition\n",
    "z0 = [1,2]\n",
    "# time points\n",
    "a = 0\n",
    "b = 1\n",
    "N = 100\n",
    "t = np.linspace(a,b,N+1)\n",
    "# solve ODE\n",
    "z = odeint(model,z0,t)\n",
    "x = z[:,0]\n",
    "y = z[:,1]"
   ]
  },
  {
   "cell_type": "markdown",
   "id": "c5329c2d",
   "metadata": {},
   "source": [
    "# Matplotlib"
   ]
  },
  {
   "cell_type": "code",
   "execution_count": null,
   "id": "783c3367",
   "metadata": {},
   "outputs": [],
   "source": [
    "plt.style.available?\n",
    "plt.style.use('fast')"
   ]
  },
  {
   "cell_type": "markdown",
   "id": "b4832f27",
   "metadata": {},
   "source": [
    "## Sauvegarde"
   ]
  },
  {
   "cell_type": "code",
   "execution_count": null,
   "id": "15ab6c39",
   "metadata": {},
   "outputs": [],
   "source": [
    "fig = plt.figure()\n",
    "plt.plot(x, np.sin(x), '-')\n",
    "plt.plot(x, np.cos(x), '--')\n",
    "fig.savefig('my_figure.png')   # calling savefig function to save the plot"
   ]
  },
  {
   "cell_type": "markdown",
   "id": "8acb5360",
   "metadata": {},
   "source": [
    "## Couleur et style"
   ]
  },
  {
   "cell_type": "code",
   "execution_count": null,
   "id": "f1c305f6",
   "metadata": {},
   "outputs": [],
   "source": [
    "plt.plot(x, x + 0, '-g')  # solid green\n",
    "plt.plot(x, x + 1, '--c') # dashed cyan\n",
    "plt.plot(x, x + 2, '-.k') # dashdot black\n",
    "plt.plot(x, x + 3, ':r'); # dotted red\n",
    "# Couleurs: g, c, k, r, b, w, y, m\n",
    "# Styles: -, --, -., :"
   ]
  },
  {
   "cell_type": "markdown",
   "id": "f3ea0316",
   "metadata": {},
   "source": [
    "| character | color |\n",
    "| ----------- | ----------- |\n",
    "| ``'b'`` | blue |\n",
    "| ``'g'`` | green |\n",
    "| ``'r'`` | red |\n",
    "| ``'c'`` | cyan |\n",
    "| ``'m'`` | magenta |\n",
    "| ``'y'`` | yellow |\n",
    "| ``'k'`` | black |\n",
    "| ``'w'`` | white |\n"
   ]
  },
  {
   "cell_type": "markdown",
   "id": "d26c1274",
   "metadata": {},
   "source": [
    "|character|description|\n",
    "| ----------- | ----------- |\n",
    "|```-``` | solid |\n",
    "|```--``` | dashed |\n",
    "|```-.``` | dash-dot |\n",
    "|```:``` | dotted |"
   ]
  },
  {
   "cell_type": "markdown",
   "id": "ff3f0cb0",
   "metadata": {},
   "source": [
    "## Marqueurs"
   ]
  },
  {
   "cell_type": "code",
   "execution_count": null,
   "id": "c7a52bdd",
   "metadata": {},
   "outputs": [],
   "source": [
    "y = np.linspace(0, 10, 30)\n",
    "plt.plot(y, np.sin(y), '>--', linewidth=2, markersize=5);"
   ]
  },
  {
   "cell_type": "markdown",
   "id": "f1d13cd3",
   "metadata": {},
   "source": [
    "**Markers**\n",
    "\n",
    "|character|description|\n",
    "| ----------- | ----------- |\n",
    "|```.``` | point marker|\n",
    "|```,``` | pixel marker|\n",
    "|```o``` | circle marker|\n",
    "|```v``` | triangle_down marker|\n",
    "|```^``` | triangle_up marker|\n",
    "|```<``` | triangle_left marker|\n",
    "|```>``` | triangle_right marker|\n",
    "|```1``` | tri_down marker|\n",
    "|```2``` | tri_up marker|\n",
    "|```3``` | tri_left marker|\n",
    "|```4``` | tri_right marker|\n",
    "|```s``` | square marker|\n",
    "|```p``` | pentagon marker|\n",
    "|```*``` | star marker|\n",
    "|```h``` | hexagon1 marker|\n",
    "|```H``` | hexagon2 marker|\n",
    "|```+``` | plus marker|\n",
    "|```x``` | x marker|\n",
    "|```D``` | diamond marker|\n",
    "|```d``` | thin_diamond marker|\n",
    "|```_``` | hline marker|"
   ]
  },
  {
   "cell_type": "markdown",
   "id": "85e82b46",
   "metadata": {},
   "source": [
    "## Limites d'axes"
   ]
  },
  {
   "cell_type": "code",
   "execution_count": null,
   "id": "6df1c7f4",
   "metadata": {},
   "outputs": [],
   "source": [
    "plt.plot(x, np.sin(x))\n",
    "plt.xlim(-1, 11)         # changing the limits of the x-axis\n",
    "plt.ylim(-1.5, 1.5);     # changing the limits of the y-axis\n",
    "\n",
    "plt.plot(x, np.sin(x))\n",
    "plt.axis([-1, 11, -1.5, 1.5]);  # alternative approach to changing the limit of the axes\n",
    "\n",
    "\n",
    "plt.plot(x, np.sin(x))\n",
    "plt.axis('equal');  # equal option creates a 1:1 aspect ratio"
   ]
  },
  {
   "cell_type": "markdown",
   "id": "eee848ea",
   "metadata": {},
   "source": [
    "## Label de graphes"
   ]
  },
  {
   "cell_type": "code",
   "execution_count": null,
   "id": "5ebba81a",
   "metadata": {},
   "outputs": [],
   "source": [
    "plt.plot(x, np.sin(x))\n",
    "plt.title(\"A Sine Curve\")  # adding title of the plot\n",
    "plt.xlabel('x')            # adding label for the x-axis of the plot \n",
    "plt.ylabel('sin(x)');      # adding label for the y-axis of the plot\n",
    "\n",
    "plt.plot(x, np.sin(x), '-g', label='sin(x)')   # adding the label argument for plot 1\n",
    "plt.plot(x, np.cos(x), ':b', label='cos(x)')   # adding the label argument for plot 2\n",
    "plt.legend(); # calling for the legend\n",
    "\n",
    "\n",
    "plt.plot(x, np.sin(x), '-g')   # adding the label argument for plot 1\n",
    "plt.plot(x, np.cos(x), ':b')   # adding the label argument for plot 2\n",
    "plt.legend(['sin(x)','cos(x)']); # calling for the legend"
   ]
  },
  {
   "cell_type": "markdown",
   "id": "8bd8d387",
   "metadata": {},
   "source": [
    "## Scater plot"
   ]
  },
  {
   "cell_type": "code",
   "execution_count": null,
   "id": "6c4d1a0b",
   "metadata": {},
   "outputs": [],
   "source": [
    "# showing a scatter plot with `plot` function\n",
    "plt.plot(x, np.sin(x), 'ok');\n",
    "\n",
    "# plotting scatter plot\n",
    "plt.scatter(x, np.sin(x), marker='o', color='k');"
   ]
  },
  {
   "cell_type": "markdown",
   "id": "5eb55715",
   "metadata": {},
   "source": [
    "## Note sur l'efficacite"
   ]
  },
  {
   "cell_type": "markdown",
   "id": "e9e1cafd",
   "metadata": {},
   "source": [
    "Aside from the different features available in `plot` and `scatter`, why might you choose to use one over the other? While it doesn't matter as much for small amounts of data, as datasets get larger than a few thousand points, `plot` can be noticeably more efficient than `scatter`. The reason is that `scatter` has the capability to render a different size and/or color for each point, so the renderer must do the extra work of constructing each point individually. In `plot`, on the other hand, the points are always essentially clones of each other, so the work of determining the appearance of the points is done only once for the entire set of data. For large datasets, the difference between these two can lead to vastly different performance, and for this reason, `plot` should be preferred over `scatter` for large datasets."
   ]
  },
  {
   "cell_type": "markdown",
   "id": "4bdbcca6",
   "metadata": {},
   "source": [
    "## Histogram"
   ]
  },
  {
   "cell_type": "code",
   "execution_count": null,
   "id": "e574dd30",
   "metadata": {},
   "outputs": [],
   "source": [
    "data = np.random.randn(1000) # generating random normal numbers\n",
    "plt.hist(data); # plotting histogram\n",
    "\n",
    "# tuning histogram plot\n",
    "plt.hist(data, bins=30, alpha=0.5, histtype='stepfilled', edgecolor=None);\n",
    "\n",
    "\n",
    "x1 = np.random.normal(0, 0.8, 1000)\n",
    "x2 = np.random.normal(-2, 1, 1000)\n",
    "x3 = np.random.normal(3, 2, 1000)\n",
    "\n",
    "plt.hist(x1, histtype='stepfilled', alpha=0.3, bins=40)\n",
    "plt.hist(x2, histtype='stepfilled', alpha=0.3, bins=40)\n",
    "plt.hist(x3, histtype='stepfilled', alpha=0.3, bins=40);\n",
    "\n",
    "x1 = np.random.normal(0, 0.8, 1000)\n",
    "x2 = np.random.normal(-2, 1, 1000)\n",
    "x3 = np.random.normal(3, 2, 1000)\n",
    "\n",
    "kwargs = dict(histtype='stepfilled', alpha=0.3, bins=40)\n",
    "\n",
    "plt.hist(x1, **kwargs)\n",
    "plt.hist(x2, **kwargs)\n",
    "plt.hist(x3, **kwargs);"
   ]
  },
  {
   "cell_type": "markdown",
   "id": "1b3e29b5",
   "metadata": {},
   "source": [
    "## Subplot"
   ]
  },
  {
   "cell_type": "markdown",
   "id": "e6b7643e",
   "metadata": {},
   "source": [
    "### Loupes"
   ]
  },
  {
   "cell_type": "code",
   "execution_count": null,
   "id": "5674e4c8",
   "metadata": {},
   "outputs": [],
   "source": [
    "plt.axes()  # standard axes\n",
    "plt.plot(x, np.sin(x))\n",
    "plt.axes([0.65, 0.65, 0.2, 0.2]); # new coordinated figure\n",
    "plt.plot(x, np.cos(x));"
   ]
  },
  {
   "cell_type": "markdown",
   "id": "500e90a4",
   "metadata": {},
   "source": [
    "### Divisions"
   ]
  },
  {
   "cell_type": "code",
   "execution_count": null,
   "id": "324d3ed2",
   "metadata": {},
   "outputs": [],
   "source": [
    "plt.figure().subplots_adjust(hspace=0.4, wspace=0.4)\n",
    "for i in range(1, 7):\n",
    "    plt.subplot(2, 3, i)\n",
    "    plt.text(0.5, 0.5, str((2, 3, i)),\n",
    "             fontsize=18, ha='center')"
   ]
  },
  {
   "cell_type": "markdown",
   "id": "ca27fbcc",
   "metadata": {},
   "source": [
    "### Subplots"
   ]
  },
  {
   "cell_type": "code",
   "execution_count": null,
   "id": "45c1e1a9",
   "metadata": {},
   "outputs": [],
   "source": [
    "plt.figure(figsize=(15,6))\n",
    "plt.subplot(2, 3, 1)\n",
    "plt.plot(x, np.sin(x) + 0, 'g')\n",
    "plt.subplot(2, 3, 2)\n",
    "plt.plot(x, np.sin(x) + 3, '--b')\n",
    "plt.subplot(2, 3, 3)\n",
    "plt.plot(x, np.sin(x) + 0, ':r')\n",
    "plt.subplot(2, 3, 4)\n",
    "plt.plot(x, np.sin(x) + 0, ':.k')\n",
    "plt.subplot(2, 3, 5)\n",
    "plt.plot(x, np.sin(x) + 0, '.c')\n",
    "plt.subplot(2, 3, 6)\n",
    "plt.plot(x, np.sin(x) + 0, '>y');"
   ]
  },
  {
   "cell_type": "markdown",
   "id": "86f5cfb5",
   "metadata": {},
   "source": [
    "## Textes sur graphe"
   ]
  },
  {
   "cell_type": "code",
   "execution_count": null,
   "id": "b5e7b1dd",
   "metadata": {},
   "outputs": [],
   "source": [
    "x = np.linspace(0, 20, 1000)\n",
    "plt.plot(x, np.cos(x))\n",
    "plt.axis('equal')\n",
    "plt.annotate('local maximum', \n",
    "             xy=(6.28, 1), \n",
    "             xytext=(10, 4), \n",
    "             arrowprops=dict(facecolor='black', shrink=0.05))\n",
    "plt.annotate('local minimum', \n",
    "             xy=(5 * np.pi, -1), \n",
    "             xytext=(2, -6),\n",
    "             arrowprops=dict(arrowstyle=\"->\", connectionstyle=\"angle3,angleA=0,angleB=-90\"));"
   ]
  },
  {
   "cell_type": "markdown",
   "id": "5cfa1556",
   "metadata": {},
   "source": [
    "# Data Visualization"
   ]
  },
  {
   "cell_type": "markdown",
   "id": "18e1448e",
   "metadata": {},
   "source": [
    "\n",
    "The focus of this module is to provide skills for visualization of different type datasets and to ensure that participants are comfortable with python packages for data visualization. In this module, we will learn about $\\href{https://matplotlib.org/}{\\text{matplotlib}}$ and $\\href{https://seaborn.pydata.org/}{\\text{seaborn}}$ which are python packages mostly used for visualising static statistical plots. Other python packages such as $\\href{https://plotly.com/}{\\text{plotly}}$, $\\href{https://bokeh.org/}{\\text{Bokeh}}$ and $\\href{https://streamlit.io/}{\\text{streamlit}}$ are used to visualize dynamic data.\n",
    "\n",
    "Static data refers to a fixed data or, data that remains the same after it's collected. Dynamic data, on the other hand, continually changes after it's recorded in order to maintain its integrity.\n",
    "\n",
    "We will first dive into `matplotlib`. `matplotlib` is a visualization library that is built on top of $\\href{https://numpy.org/}{\\text{NumPy}}$ and is designed to work along with $\\href{https://www.scipy.org/}{\\text{SciPy}}$. It is mostly used as a standalone package but in recent times, it is also used as wrappers on other packages including `pandas`.\n",
    "\n",
    "For the first part of the session, we will use simple generated data. This data may act as a `Hello World!` for `matplotlib`. Afterwards, we will dive deeper by using `matplotlib` on DataFrames\n",
    "\n",
    "## Installing `matplotlib`\n",
    "One can install `matplotlib` using their python package. There are two python package manager and they are `pip` and `conda`. To install `matplotlib`, open your terminal or command prompt and type the code below. \n",
    "\n",
    "For those using `pip` as their python package manager, type; <br>\n",
    "`pip install matplotlib` \n",
    "\n",
    "For those using `conda` as their python package manager, type; <br>\n",
    "`conda install matplotlib`"
   ]
  },
  {
   "cell_type": "code",
   "execution_count": null,
   "id": "24ac7e61",
   "metadata": {},
   "outputs": [],
   "source": [
    "import numpy as np\n",
    "import matplotlib.pyplot as plt\n",
    "# from matplotlib import pyplot as plt"
   ]
  },
  {
   "cell_type": "markdown",
   "id": "bdf5c42d",
   "metadata": {},
   "source": [
    " "
   ]
  },
  {
   "cell_type": "markdown",
   "id": "e134311e",
   "metadata": {},
   "source": [
    "Let us start by creating a simple example."
   ]
  },
  {
   "cell_type": "code",
   "execution_count": null,
   "id": "3182fbce",
   "metadata": {},
   "outputs": [],
   "source": [
    "# Plotting a line using matplotlib\n",
    "x = np.linspace(0, 10, 1001)   # generating 100 evenly space numbers between 0 and 10 \n",
    "y = np.sin(x)\n",
    "plt.plot(x, y) # calling for the plot function on x and sin(x)"
   ]
  },
  {
   "cell_type": "markdown",
   "id": "12c28985",
   "metadata": {},
   "source": [
    " "
   ]
  },
  {
   "cell_type": "markdown",
   "id": "a25fc7ab",
   "metadata": {},
   "source": [
    " ## `show()` or No `show()` (How to display your plots)\n",
    "A visualization you can't see won't be of much use, but just how you view your Matplotlib plots depends on the context. "
   ]
  },
  {
   "cell_type": "code",
   "execution_count": null,
   "id": "d39ea2a6",
   "metadata": {},
   "outputs": [],
   "source": [
    "# Plotting a line using matplotlib\n",
    "x = np.linspace(0, 10, 100)   # generating 100 evenly space numbers between 0 and 10 \n",
    "plt.plot(x, np.sin(x))     # calling for the plot function on x and sin(x)\n",
    "plt.show()  # calling for the show function"
   ]
  },
  {
   "cell_type": "markdown",
   "id": "2b6a9325",
   "metadata": {},
   "source": [
    " "
   ]
  },
  {
   "cell_type": "markdown",
   "id": "33f09f32",
   "metadata": {},
   "source": [
    "Alternatively, you can use `;` to suppress such unwanted information. In python, `;` is used to suppress output."
   ]
  },
  {
   "cell_type": "code",
   "execution_count": null,
   "id": "b308c8a2",
   "metadata": {},
   "outputs": [],
   "source": [
    "# Plotting a line using matplotlib\n",
    "x = np.linspace(0, 10, 100)   # generating 100 evenly space numbers between 0 and 10 \n",
    "\n",
    "plt.plot(x, np.sin(x));     # calling for the plot function on x and sin(x)"
   ]
  },
  {
   "cell_type": "markdown",
   "id": "dd663765",
   "metadata": {},
   "source": [
    "## Setting Styles\n",
    "There are many styles in `matplotlib` that one can use. "
   ]
  },
  {
   "cell_type": "code",
   "execution_count": null,
   "id": "b438faec",
   "metadata": {},
   "outputs": [],
   "source": [
    "plt.style.available?"
   ]
  },
  {
   "cell_type": "code",
   "execution_count": null,
   "id": "95cb31f6",
   "metadata": {},
   "outputs": [],
   "source": [
    "plt.style.use('seaborn')"
   ]
  },
  {
   "cell_type": "code",
   "execution_count": null,
   "id": "b3b06163",
   "metadata": {},
   "outputs": [],
   "source": [
    "# Plotting a line using matplotlib\n",
    "x = np.linspace(0, 10, 100)   # generating 100 evenly space numbers between 0 and 10 \n",
    "plt.plot(x, np.sin(x));     # calling for the plot function on x and sin(x)"
   ]
  },
  {
   "cell_type": "markdown",
   "id": "050a14f9",
   "metadata": {},
   "source": [
    " "
   ]
  },
  {
   "cell_type": "markdown",
   "id": "a4c2b9ff",
   "metadata": {},
   "source": [
    "One can create a single figure with multiple lines by calling the `plot` function multiple times"
   ]
  },
  {
   "cell_type": "code",
   "execution_count": null,
   "id": "c980a054",
   "metadata": {},
   "outputs": [],
   "source": [
    "# Plotting multiple lines using matplotlib\n",
    "plt.plot(x, np.sin(x))   # plotting the first line\n",
    "plt.plot(x, np.cos(x))  # plotting the second line\n",
    "plt.show()"
   ]
  },
  {
   "cell_type": "markdown",
   "id": "41127fa9",
   "metadata": {},
   "source": [
    " "
   ]
  },
  {
   "cell_type": "markdown",
   "id": "8fc0313e",
   "metadata": {},
   "source": [
    " "
   ]
  },
  {
   "cell_type": "markdown",
   "id": "075064b2",
   "metadata": {},
   "source": [
    "## Saving Figures to File\n",
    "\n",
    "One nice feature of Matplotlib is the ability to save figures in a wide variety of formats. Saving a figure can be done using the savefig() command. For example, to save the previous figure as a PNG file, you can run this:"
   ]
  },
  {
   "cell_type": "code",
   "execution_count": null,
   "id": "149e9213",
   "metadata": {},
   "outputs": [],
   "source": [
    "#plt.style.use('classic')\n",
    "fig = plt.figure()\n",
    "plt.plot(x, np.sin(x), '-')\n",
    "plt.plot(x, np.cos(x), '--')\n",
    "fig.savefig('my_figure2.png')   # calling savefig function to save the plot"
   ]
  },
  {
   "cell_type": "markdown",
   "id": "d7d57142",
   "metadata": {},
   "source": [
    " "
   ]
  },
  {
   "cell_type": "markdown",
   "id": "b2beff71",
   "metadata": {},
   "source": [
    "## Plotting lines in `matplotlib`\n",
    "\n",
    "As you can see in the previous plots, `matplotlib` chose the colors and the type of lines automatically. However, one can also set their own colors and line types. Let us look at some examples in the cells below."
   ]
  },
  {
   "cell_type": "code",
   "execution_count": null,
   "id": "aa3c1566",
   "metadata": {},
   "outputs": [],
   "source": [
    "# changing the linestyles\n",
    "plt.plot(x, x + 0, linestyle='solid')    \n",
    "plt.plot(x, x + 1, linestyle='dashed')\n",
    "plt.plot(x, x + 2, linestyle='dashdot')\n",
    "plt.plot(x, x + 3, linestyle='dotted');"
   ]
  },
  {
   "cell_type": "markdown",
   "id": "6096b8be",
   "metadata": {},
   "source": [
    "Alternatively, I can use short cuts to obtain the above plot exactly. \n",
    "\n",
    "|character|description|\n",
    "| ----------- | ----------- |\n",
    "|```-``` | solid |\n",
    "|```--``` | dashed |\n",
    "|```-.``` | dash-dot |\n",
    "|```:``` | dotted |"
   ]
  },
  {
   "cell_type": "code",
   "execution_count": null,
   "id": "5686bff6",
   "metadata": {},
   "outputs": [],
   "source": [
    "# For short, you can use the following codes:\n",
    "plt.plot(x, x + 0, linestyle='-')  # solid\n",
    "plt.plot(x, x + 1, linestyle='--') # dashed\n",
    "plt.plot(x, x + 2, linestyle='-.') # dashdot\n",
    "plt.plot(x, x + 3, linestyle=':');  # dotted"
   ]
  },
  {
   "cell_type": "code",
   "execution_count": null,
   "id": "cec4a1ae",
   "metadata": {},
   "outputs": [],
   "source": [
    "# changing colours of lines\n",
    "plt.plot(x, x + 0, color='black')  \n",
    "plt.plot(x, x + 1, color='green') \n",
    "plt.plot(x, x + 2, color='red') \n",
    "plt.plot(x, x + 3, color='blue')\n",
    "plt.show()"
   ]
  },
  {
   "cell_type": "code",
   "execution_count": null,
   "id": "11deb314",
   "metadata": {},
   "outputs": [],
   "source": [
    "plt.plot(x, x + 0, color='k')  # black line\n",
    "plt.plot(x, x + 1, color='g')  # green line\n",
    "plt.plot(x, x + 2, color='r')  # red line \n",
    "plt.plot(x, x + 3, color='b'); # blue line"
   ]
  },
  {
   "cell_type": "markdown",
   "id": "1d4b3bec",
   "metadata": {},
   "source": [
    "This is the abbreviations for the colours available in `matplotlib`.\n",
    "\n",
    "| character | color |\n",
    "| ----------- | ----------- |\n",
    "| ``'b'`` | blue |\n",
    "| ``'g'`` | green |\n",
    "| ``'r'`` | red |\n",
    "| ``'c'`` | cyan |\n",
    "| ``'m'`` | magenta |\n",
    "| ``'y'`` | yellow |\n",
    "| ``'k'`` | black |\n",
    "| ``'w'`` | white |\n",
    "\n",
    "An advantage of using `matplotlib`, is the ability to combine color choice and linestyle. Let us see the example in the cell below."
   ]
  },
  {
   "cell_type": "markdown",
   "id": "9f079207",
   "metadata": {},
   "source": [
    "Next, let us look at some combinations."
   ]
  },
  {
   "cell_type": "code",
   "execution_count": null,
   "id": "be227364",
   "metadata": {},
   "outputs": [],
   "source": [
    "plt.plot(x, x + 0, '-g')  # solid green\n",
    "plt.plot(x, x + 1, '--c') # dashed cyan\n",
    "plt.plot(x, x + 2, '-.k') # dashdot black\n",
    "plt.plot(x-1, x + 3, ':r'); # dotted red"
   ]
  },
  {
   "cell_type": "code",
   "execution_count": null,
   "id": "48aa07d2",
   "metadata": {},
   "outputs": [],
   "source": [
    "plt.plot(x, x+0, '-g', x, x+1, '--c', x, x+2, '-.k', x, x+3, ':r');"
   ]
  },
  {
   "cell_type": "markdown",
   "id": "34fcadf9",
   "metadata": {},
   "source": [
    " "
   ]
  },
  {
   "cell_type": "markdown",
   "id": "c0d307a4",
   "metadata": {},
   "source": [
    "Also, one can choose the type of marker they want. For example, in the cell below, we have `go--`. This will generate a green circle marker with dashed lines running in it."
   ]
  },
  {
   "cell_type": "code",
   "execution_count": null,
   "id": "acbf6915",
   "metadata": {},
   "outputs": [],
   "source": [
    "y = np.linspace(0, 10, 30)\n",
    "plt.plot(y, np.sin(y), '>--', linewidth=5, markersize=10);"
   ]
  },
  {
   "cell_type": "markdown",
   "id": "c7577a76",
   "metadata": {},
   "source": [
    "**Markers**\n",
    "\n",
    "|character|description|\n",
    "| ----------- | ----------- |\n",
    "|```.``` | point marker|\n",
    "|```,``` | pixel marker|\n",
    "|```o``` | circle marker|\n",
    "|```v``` | triangle_down marker|\n",
    "|```^``` | triangle_up marker|\n",
    "|```<``` | triangle_left marker|\n",
    "|```>``` | triangle_right marker|\n",
    "|```1``` | tri_down marker|\n",
    "|```2``` | tri_up marker|\n",
    "|```3``` | tri_left marker|\n",
    "|```4``` | tri_right marker|\n",
    "|```s``` | square marker|\n",
    "|```p``` | pentagon marker|\n",
    "|```*``` | star marker|\n",
    "|```h``` | hexagon1 marker|\n",
    "|```H``` | hexagon2 marker|\n",
    "|```+``` | plus marker|\n",
    "|```x``` | x marker|\n",
    "|```D``` | diamond marker|\n",
    "|```d``` | thin_diamond marker|\n",
    "|```_``` | hline marker|"
   ]
  },
  {
   "cell_type": "markdown",
   "id": "a68a28fc",
   "metadata": {},
   "source": [
    " "
   ]
  },
  {
   "cell_type": "markdown",
   "id": "0a1c69c7",
   "metadata": {},
   "source": [
    " "
   ]
  },
  {
   "cell_type": "markdown",
   "id": "891e9d8e",
   "metadata": {},
   "source": [
    "The general approach to the `plot` function is very simple;\n",
    "\n",
    "```plot(x, y, [fmt], **kwargs)``` <br>\n",
    "```plot(x, y, [fmt], x2, y2, [fmt], ..., **kwargs)```"
   ]
  },
  {
   "cell_type": "markdown",
   "id": "16648bb6",
   "metadata": {},
   "source": [
    "## Adjusting the axes limits\n",
    "The axes are adjusted by using `xlim` and `ylim` functions."
   ]
  },
  {
   "cell_type": "code",
   "execution_count": null,
   "id": "a6e071f8",
   "metadata": {},
   "outputs": [],
   "source": [
    "plt.plot(x, np.sin(x))\n",
    "plt.xlim(-1, 11)         # changing the limits of the x-axis\n",
    "plt.ylim(-1.5, 1.5);     # changing the limits of the y-axis"
   ]
  },
  {
   "cell_type": "markdown",
   "id": "7c8746aa",
   "metadata": {},
   "source": [
    " "
   ]
  },
  {
   "cell_type": "markdown",
   "id": "b0001cfd",
   "metadata": {},
   "source": [
    "Alternatively, one can use the `axis` function. `axis()` method allows you to set the `x` and `y` limits with a single call, by passing a list which specifies `[xmin, xmax, ymin, ymax]`:"
   ]
  },
  {
   "cell_type": "code",
   "execution_count": null,
   "id": "df41e4c5",
   "metadata": {},
   "outputs": [],
   "source": [
    "plt.plot(x, np.sin(x))\n",
    "plt.axis([-1, 11, -1.5, 1.5]);  # alternative approach to changing the limit of the axes"
   ]
  },
  {
   "cell_type": "code",
   "execution_count": null,
   "id": "bb45bc86",
   "metadata": {},
   "outputs": [],
   "source": [
    "plt.plot(x, np.sin(x))\n",
    "plt.axis('equal');  # equal option creates a 1:1 aspect ratio"
   ]
  },
  {
   "cell_type": "markdown",
   "id": "e0d3e7ec",
   "metadata": {},
   "source": [
    " "
   ]
  },
  {
   "cell_type": "markdown",
   "id": "0b842d3d",
   "metadata": {},
   "source": [
    "## Labeling plots"
   ]
  },
  {
   "cell_type": "code",
   "execution_count": null,
   "id": "dc6fbf78",
   "metadata": {},
   "outputs": [],
   "source": [
    "plt.plot(x, np.sin(x))\n",
    "plt.title(\"A Sine Curve\")  # adding title of the plot\n",
    "plt.xlabel('x')            # adding label for the x-axis of the plot \n",
    "plt.ylabel('sin(x)');      # adding label for the y-axis of the plot \n",
    "plt.title?"
   ]
  },
  {
   "cell_type": "markdown",
   "id": "d45391f9",
   "metadata": {},
   "source": [
    " "
   ]
  },
  {
   "cell_type": "markdown",
   "id": "acba710f",
   "metadata": {},
   "source": [
    "When multiple lines are being shown within a single axes, it can be useful to create a plot legend that labels each line type. Again, Matplotlib has a built-in way of quickly creating such a legend. It is done via the `legend()` method. Though there are several valid ways of using this, it easier to specify the label of each line using the `label` keyword of the plot function:"
   ]
  },
  {
   "cell_type": "code",
   "execution_count": null,
   "id": "24594916",
   "metadata": {},
   "outputs": [],
   "source": [
    "plt.plot(x, np.sin(x), '-g', label='sin(x)')   # adding the label argument for plot 1\n",
    "plt.plot(x, np.cos(x), ':b', label='cos(x)')   # adding the label argument for plot 2\n",
    "plt.legend(); # calling for the legend"
   ]
  },
  {
   "cell_type": "code",
   "execution_count": null,
   "id": "7b173bdd",
   "metadata": {},
   "outputs": [],
   "source": [
    "plt.plot(x, np.sin(x), '-g')   # adding the label argument for plot 1\n",
    "plt.plot(x, np.cos(x), ':b')   # adding the label argument for plot 2\n",
    "plt.legend(['sin(x)','cos(x)']); # calling for the legend"
   ]
  },
  {
   "cell_type": "markdown",
   "id": "51ce0f78",
   "metadata": {},
   "source": [
    " "
   ]
  },
  {
   "cell_type": "markdown",
   "id": "a1605c2c",
   "metadata": {},
   "source": [
    "## Scatter Plot\n",
    "\n",
    "Another commonly used plot type is the simple scatter plot, a close cousin of the line plot. Instead of points being joined by line segments, here the points are represented individually with a dot, circle, or other shape. "
   ]
  },
  {
   "cell_type": "code",
   "execution_count": null,
   "id": "584f4d28",
   "metadata": {},
   "outputs": [],
   "source": [
    "# showing a scatter plot with `plot` function\n",
    "plt.plot(x, np.sin(x), 'o');"
   ]
  },
  {
   "cell_type": "markdown",
   "id": "a990785c",
   "metadata": {},
   "source": [
    " "
   ]
  },
  {
   "cell_type": "markdown",
   "id": "7b034d46",
   "metadata": {},
   "source": [
    "Mainly, and a more powerful method of creating scatter plots is the `scatter` function, which can be used very similarly to the `plot` function:"
   ]
  },
  {
   "cell_type": "code",
   "execution_count": null,
   "id": "7309d6fb",
   "metadata": {},
   "outputs": [],
   "source": [
    "# plotting scatter plot\n",
    "plt.scatter(x, np.sin(x));\n",
    "plt.scatter?"
   ]
  },
  {
   "cell_type": "markdown",
   "id": "d7c78e74",
   "metadata": {},
   "source": [
    "### `plot` Versus `scatter`: A Note on Efficiency\n",
    "Aside from the different features available in `plot` and `scatter`, why might you choose to use one over the other? While it doesn't matter as much for small amounts of data, as datasets get larger than a few thousand points, `plot` can be noticeably more efficient than `scatter`. The reason is that `scatter` has the capability to render a different size and/or color for each point, so the renderer must do the extra work of constructing each point individually. In `plot`, on the other hand, the points are always essentially clones of each other, so the work of determining the appearance of the points is done only once for the entire set of data. For large datasets, the difference between these two can lead to vastly different performance, and for this reason, `plot` should be preferred over `scatter` for large datasets."
   ]
  },
  {
   "cell_type": "markdown",
   "id": "878f755f",
   "metadata": {},
   "source": [
    " "
   ]
  },
  {
   "cell_type": "markdown",
   "id": "0605766c",
   "metadata": {},
   "source": [
    "## Plotting Histogram"
   ]
  },
  {
   "cell_type": "code",
   "execution_count": null,
   "id": "bc5d0edd",
   "metadata": {},
   "outputs": [],
   "source": [
    "data = np.random.randn(1000) # generating random normal numbers\n",
    "plt.hist(data); # plotting histogram"
   ]
  },
  {
   "cell_type": "code",
   "execution_count": null,
   "id": "c32c7a38",
   "metadata": {},
   "outputs": [],
   "source": [
    "# tuning histogram plot\n",
    "plt.hist(data, bins=30, alpha=0.5, histtype='stepfilled', edgecolor=None);"
   ]
  },
  {
   "cell_type": "code",
   "execution_count": null,
   "id": "1add5016",
   "metadata": {},
   "outputs": [],
   "source": [
    "x1 = np.random.normal(0, 0.8, 1000)\n",
    "x2 = np.random.normal(-2, 1, 1000)\n",
    "x3 = np.random.normal(3, 2, 1000)\n",
    "\n",
    "plt.hist(x1, histtype='stepfilled', alpha=1, bins=40)\n",
    "plt.hist(x2, histtype='stepfilled', alpha=0.3, bins=40)\n",
    "plt.hist(x3, histtype='stepfilled', alpha=0.3, bins=40);"
   ]
  },
  {
   "cell_type": "markdown",
   "id": "03be3bff",
   "metadata": {},
   "source": [
    " "
   ]
  },
  {
   "cell_type": "markdown",
   "id": "e850dbfe",
   "metadata": {},
   "source": [
    "An alternative to the cell above"
   ]
  },
  {
   "cell_type": "code",
   "execution_count": null,
   "id": "85fc2277",
   "metadata": {},
   "outputs": [],
   "source": [
    "x1 = np.random.normal(0, 0.8, 1000)\n",
    "x2 = np.random.normal(-2, 1, 1000)\n",
    "x3 = np.random.normal(3, 2, 1000)\n",
    "\n",
    "kwargs = dict( bins=40)\n",
    "\n",
    "plt.hist(x1, **kwargs)\n",
    "plt.hist(x2, **kwargs)\n",
    "plt.hist(x3, **kwargs);\n",
    "np.random.randn?\n",
    "plt.hist?"
   ]
  },
  {
   "cell_type": "markdown",
   "id": "83a21989",
   "metadata": {},
   "source": [
    " "
   ]
  },
  {
   "cell_type": "markdown",
   "id": "63522ae5",
   "metadata": {},
   "source": [
    "## Customizing plot legends\n",
    "Plot legends give meaning to a visualization, assigning meaning to the various plot elements. We previously saw how to create a simple legend; here we'll take a look at customizing the placement and aesthetics of the legend in Matplotlib.\n",
    "\n",
    "The simplest legend can be created with the `legend()` command, which automatically creates a legend for any labeled plot elements:"
   ]
  },
  {
   "cell_type": "code",
   "execution_count": null,
   "id": "7b7b6d22",
   "metadata": {},
   "outputs": [],
   "source": [
    "plt.plot(x, np.sin(x), '-b', label='Sine')\n",
    "plt.plot(x, np.cos(x), '--r', label='Cosine')\n",
    "plt.legend();"
   ]
  },
  {
   "cell_type": "markdown",
   "id": "b08dce30",
   "metadata": {},
   "source": [
    " "
   ]
  },
  {
   "cell_type": "markdown",
   "id": "259dffb5",
   "metadata": {},
   "source": [
    "But there are many ways we might want to customize such a legend. For example, we can specify the location and turn off the frame:"
   ]
  },
  {
   "cell_type": "code",
   "execution_count": null,
   "id": "e273697a",
   "metadata": {},
   "outputs": [],
   "source": [
    "plt.plot(x, np.sin(x), '-b', label='Sine')\n",
    "plt.plot(x, np.cos(x), '--r', label='Cosine')\n",
    "plt.legend(loc='upper right'); # adding positional argument to legend"
   ]
  },
  {
   "cell_type": "markdown",
   "id": "d8ec65ca",
   "metadata": {},
   "source": [
    " "
   ]
  },
  {
   "cell_type": "markdown",
   "id": "a2aa66da",
   "metadata": {},
   "source": [
    "We can use the `ncol` command to specify the number of columns in the legend and `title` to specify the title of the legend:"
   ]
  },
  {
   "cell_type": "code",
   "execution_count": null,
   "id": "55e3521b",
   "metadata": {},
   "outputs": [],
   "source": [
    "plt.plot(x, np.sin(x), '-b', label='Sine')\n",
    "plt.plot(x, np.cos(x), '--r', label='Cosine')\n",
    "plt.legend(loc='lower center', ncol=2, title='keys');"
   ]
  },
  {
   "cell_type": "markdown",
   "id": "5c7d0cd5",
   "metadata": {},
   "source": [
    " "
   ]
  },
  {
   "cell_type": "markdown",
   "id": "88f0441e",
   "metadata": {},
   "source": [
    "## Creating Subplots\n",
    "Sometimes it is helpful to compare different views of data side by side. To this end, Matplotlib has the concept of subplots: groups of smaller axes that can exist together within a single figure. These subplots might be insets, grids of plots, or other more complicated layouts. \n",
    "\n",
    "The most basic method of creating an axes is to use the `axes` function. `axes` also takes an optional argument that is a list of four numbers in the figure coordinate system. These numbers represent `[left, bottom, width, height]` in the figure coordinate system, which ranges from 0 at the bottom left of the figure to 1 at the top right of the figure.\n",
    "\n",
    "For example, we might create an inset axes at the top-right corner of another axes by setting the x and y position to 0.65 (that is, starting at 65% of the width and 65% of the height of the figure) and the x and y extents to 0.2 (that is, the size of the axes is 20% of the width and 20% of the height of the figure):"
   ]
  },
  {
   "cell_type": "code",
   "execution_count": null,
   "id": "40111769",
   "metadata": {},
   "outputs": [],
   "source": [
    "plt.axes()  # standard axes\n",
    "plt.plot(x, np.sin(x))\n",
    "plt.axes([0.65, 0.65, 0.2, 0.2]); # new coordinated figure\n",
    "plt.plot(x, np.cos(x));"
   ]
  },
  {
   "cell_type": "markdown",
   "id": "2ffb7c40",
   "metadata": {},
   "source": [
    " "
   ]
  },
  {
   "cell_type": "markdown",
   "id": "7cb7c8e1",
   "metadata": {},
   "source": [
    " "
   ]
  },
  {
   "cell_type": "markdown",
   "id": "78557cbf",
   "metadata": {},
   "source": [
    "### Simple Grids of Subplots\n",
    "Aligned columns or rows of subplots are a common-enough need that Matplotlib has several convenience routines that make them easy to create. The lowest level of these is `subplot()`, which creates a single subplot within a grid. As you can see, this command takes three integer arguments—the number of rows, the number of columns, and the index of the plot to be created in this scheme, which runs from the upper left to the bottom right:"
   ]
  },
  {
   "cell_type": "code",
   "execution_count": null,
   "id": "83fe2e6a",
   "metadata": {},
   "outputs": [],
   "source": [
    "plt.figure().subplots_adjust(hspace=0.4, wspace=0.4)\n",
    "for i in range(1, 7):\n",
    "    plt.subplot(2, 3, i)\n",
    "    plt.text(0.5, 0.5, str((2, 3, i)),\n",
    "             fontsize=18, ha='center')"
   ]
  },
  {
   "cell_type": "markdown",
   "id": "fe5a7797",
   "metadata": {},
   "source": [
    " "
   ]
  },
  {
   "cell_type": "markdown",
   "id": "754743b9",
   "metadata": {},
   "source": [
    "An example of subplot"
   ]
  },
  {
   "cell_type": "code",
   "execution_count": null,
   "id": "003d210b",
   "metadata": {},
   "outputs": [],
   "source": [
    "plt.figure(figsize=(15,6))\n",
    "plt.subplot(2, 3, 1)\n",
    "plt.plot(x, np.sin(x) + 0, 'g')\n",
    "plt.subplot(2, 3, 2)\n",
    "plt.plot(x, np.sin(x) + 3, '--b')\n",
    "plt.subplot(2, 3, 3)\n",
    "plt.plot(x, np.sin(x) + 0, ':r')\n",
    "plt.subplot(2, 3, 4)\n",
    "plt.plot(x, np.sin(x) + 0, ':.k')\n",
    "plt.subplot(2, 3, 5)\n",
    "plt.plot(x, np.sin(x) + 0, '.c')\n",
    "plt.subplot(2, 3, 6)\n",
    "plt.plot(x, np.sin(x) + 0, '>y');"
   ]
  },
  {
   "cell_type": "code",
   "execution_count": null,
   "id": "acc6ac4e",
   "metadata": {},
   "outputs": [],
   "source": [
    "plt.figure(figsize=(15,6))\n",
    "plt.subplot(2, 3, (1,2))\n",
    "plt.plot(x, np.sin(x) + 0, 'g')\n",
    "plt.subplot(2, 3, (3,6))\n",
    "plt.plot(x, np.sin(x) + 0, ':r')\n",
    "plt.subplot(2, 3, 4)\n",
    "plt.plot(x, np.sin(x) + 0, ':.k')\n",
    "plt.subplot(2, 3, 5)\n",
    "plt.plot(x, np.sin(x) + 0, '.c')"
   ]
  },
  {
   "cell_type": "code",
   "execution_count": null,
   "id": "1caa33c4",
   "metadata": {
    "scrolled": true
   },
   "outputs": [],
   "source": [
    "plt.figure(figsize=(15,6))\n",
    "plt.subplot(2, 3, (1,3))\n",
    "plt.plot(x, np.sin(x) + 0, 'g')\n",
    "plt.subplot(2, 3, (4,5))\n",
    "plt.plot(x, np.sin(x) + 0, ':.k')\n",
    "plt.subplot(2, 3, 6)\n",
    "plt.plot(x, np.sin(x) + 0, '.c');"
   ]
  },
  {
   "cell_type": "code",
   "execution_count": null,
   "id": "1ca95532",
   "metadata": {},
   "outputs": [],
   "source": [
    "plt.figure(figsize=(15,6))\n",
    "plt.subplot(3, 3, (1,7))\n",
    "plt.plot(x, np.sin(x) + 0, 'g')\n",
    "plt.subplot(3, 3, (2,3))\n",
    "plt.plot(x, np.sin(x) + 0, ':.k')\n",
    "plt.subplot(3, 3, 5)\n",
    "plt.plot(x, np.sin(x) + 0, '.c')\n",
    "plt.subplot(3, 3, 6)\n",
    "plt.plot(x, np.sin(x) + 0, '.c')\n",
    "plt.subplot(3, 3, (8,9))\n",
    "plt.plot(x, np.sin(x) + 0, ':.k')\n",
    "plt.show()"
   ]
  },
  {
   "cell_type": "markdown",
   "id": "030ce211",
   "metadata": {},
   "source": [
    " "
   ]
  },
  {
   "cell_type": "markdown",
   "id": "3ed5d0b3",
   "metadata": {},
   "source": [
    "## Text and Annotation\n",
    "Creating a good visualization involves guiding the reader so that the figure tells a story. In some cases, this story can be told in an entirely visual manner, without the need for added text, but in others, small textual cues and labels are necessary. Perhaps the most basic types of annotations you will use are axes labels and titles, but the options go beyond this. Let's take a look at some data and how we might visualize and annotate it to help convey interesting information. We'll start by setting up the notebook for plotting and importing the functions we will use:"
   ]
  },
  {
   "cell_type": "code",
   "execution_count": null,
   "id": "392290ba",
   "metadata": {},
   "outputs": [],
   "source": [
    "plt.axis([0, 10, 0, 10])\n",
    "plt.text(1, 5, \"Data (1, 5)\")\n",
    "plt.text(0.5, 0.1, \"Point (0.5, 0.1)\")\n",
    "plt.text(6, 7.5, \"Gradient (0.2, 0.2)\")"
   ]
  },
  {
   "cell_type": "code",
   "execution_count": null,
   "id": "ce2f0c3b",
   "metadata": {},
   "outputs": [],
   "source": [
    "x = np.linspace(0, 20, 1000)\n",
    "plt.plot(x, np.cos(x))\n",
    "plt.axis('equal')\n",
    "plt.annotate('local maximum', \n",
    "             xy=(6.28, 1), \n",
    "             xytext=(10, 4), \n",
    "             arrowprops=dict(facecolor='black', shrink=0.05))\n",
    "plt.annotate('local minimum', \n",
    "             xy=(5 * np.pi, -1), \n",
    "             xytext=(2, -6),\n",
    "             arrowprops=dict(arrowstyle=\"->\", connectionstyle=\"angle3,angleA=0,angleB=-90\"));"
   ]
  },
  {
   "cell_type": "markdown",
   "id": "2b6d6da1",
   "metadata": {},
   "source": [
    " "
   ]
  },
  {
   "cell_type": "markdown",
   "id": "8c2e9215",
   "metadata": {},
   "source": [
    "# Pandas"
   ]
  },
  {
   "cell_type": "code",
   "execution_count": null,
   "id": "cb7bad1f",
   "metadata": {
    "executionInfo": {
     "elapsed": 19,
     "status": "ok",
     "timestamp": 1664959415969,
     "user": {
      "displayName": "Joel Yvan Njabo Tchapnda",
      "userId": "07615700891775272457"
     },
     "user_tz": -120
    },
    "id": "OB-m6jJBmkaT"
   },
   "outputs": [],
   "source": [
    "import numpy as np\n",
    "import pandas as pd"
   ]
  },
  {
   "cell_type": "markdown",
   "id": "995f31bf",
   "metadata": {
    "id": "VwR0qEv_mkaa"
   },
   "source": [
    "# 1. Data Structure\n",
    "## 1.1 <b> Pandas Series </b>\n",
    "- A 1-dimensional labeled array\n",
    "- Supports many data types\n",
    "- Axis labels $\\rightarrow$ index (get and set values by index label)\n",
    "- Valid argument to most NumPy\n",
    "methods"
   ]
  },
  {
   "cell_type": "code",
   "execution_count": null,
   "id": "12f97b24",
   "metadata": {
    "colab": {
     "base_uri": "https://localhost:8080/"
    },
    "executionInfo": {
     "elapsed": 12,
     "status": "ok",
     "timestamp": 1664959431859,
     "user": {
      "displayName": "Joel Yvan Njabo Tchapnda",
      "userId": "07615700891775272457"
     },
     "user_tz": -120
    },
    "id": "yXD_ryZ2mkad",
    "outputId": "a33d26f8-9053-4208-d96f-36df1ebe7e45"
   },
   "outputs": [],
   "source": [
    "data0 = pd.Series(data = [1,2,3.,4,5,6,7,8])\n",
    "data0"
   ]
  },
  {
   "cell_type": "code",
   "execution_count": null,
   "id": "41c5a74c",
   "metadata": {
    "colab": {
     "base_uri": "https://localhost:8080/"
    },
    "executionInfo": {
     "elapsed": 14,
     "status": "ok",
     "timestamp": 1664959486553,
     "user": {
      "displayName": "Joel Yvan Njabo Tchapnda",
      "userId": "07615700891775272457"
     },
     "user_tz": -120
    },
    "id": "pHrqZNmZmkaf",
    "outputId": "f1bbcc3f-1ae2-4719-a768-1f0735ae11ea"
   },
   "outputs": [],
   "source": [
    "#data1 = pd.Series(data = [1,2,3.,4,5,6,7,8], index = ['a', 'b', 'c', 'd', 'e', 'f', 'g', 'h'])\n",
    "data1 = pd.Series(data = [1,2,3.,4,5,6,7,8,9], index = ['a', 'b', 'c', 'd', 'e', 'f', 'g', 'h','a'])\n",
    "data1"
   ]
  },
  {
   "cell_type": "code",
   "execution_count": null,
   "id": "b7381ca9",
   "metadata": {
    "colab": {
     "base_uri": "https://localhost:8080/"
    },
    "executionInfo": {
     "elapsed": 368,
     "status": "ok",
     "timestamp": 1664959644179,
     "user": {
      "displayName": "Joel Yvan Njabo Tchapnda",
      "userId": "07615700891775272457"
     },
     "user_tz": -120
    },
    "id": "NieUaS2Kmkag",
    "outputId": "3b94e4f3-8305-4980-8a58-e74ff7577d6b"
   },
   "outputs": [],
   "source": [
    "data1.index\n",
    "data1[4]\n",
    "data1[[2,4,5]]\n",
    "data1['a']\n",
    "'a' in data1\n",
    "data1*3\n",
    "data1**3\n",
    "data1/2\n",
    "data1"
   ]
  },
  {
   "cell_type": "markdown",
   "id": "5f54d5d1",
   "metadata": {
    "id": "TtMl97Spmkah"
   },
   "source": [
    "##  1.2. <b>DataFrame </b>\n",
    "- A 2-dimensional labeled data\n",
    "structure\n",
    "- A dictionary of Series objects\n",
    "    - Columns can be of potentially\n",
    "different types\n",
    "- Optionally parameters for fine-tuning:\n",
    "    - index (row labels)\n",
    "    - columns (column labels)\n",
    "\n",
    "Pandas provides many constructors to create DataFrames!"
   ]
  },
  {
   "cell_type": "code",
   "execution_count": null,
   "id": "ba06fec5",
   "metadata": {
    "colab": {
     "base_uri": "https://localhost:8080/",
     "height": 332
    },
    "executionInfo": {
     "elapsed": 368,
     "status": "ok",
     "timestamp": 1664959722605,
     "user": {
      "displayName": "Joel Yvan Njabo Tchapnda",
      "userId": "07615700891775272457"
     },
     "user_tz": -120
    },
    "id": "zitIBc63mkai",
    "outputId": "db942c96-f85c-4c6a-b5b8-59222d3407eb"
   },
   "outputs": [],
   "source": [
    "data2 = {'GradeS1': pd.Series(data = [70,50,67,84,98], \n",
    "                              index = ['Maths', 'Art', 'Sport', 'Biology', 'Physics']),\n",
    "         'GradeS2': pd.Series(data = [90,70,88,78,76,77,87], \n",
    "                              index = ['Maths', 'Biology', 'Physics', 'chemistry', 'Economics', 'Finance', 'Geology'])}\n",
    "data2 = pd.DataFrame(data2)\n",
    "data2"
   ]
  },
  {
   "cell_type": "code",
   "execution_count": null,
   "id": "6380e4ac",
   "metadata": {
    "colab": {
     "base_uri": "https://localhost:8080/"
    },
    "executionInfo": {
     "elapsed": 1173,
     "status": "ok",
     "timestamp": 1664960490712,
     "user": {
      "displayName": "Joel Yvan Njabo Tchapnda",
      "userId": "07615700891775272457"
     },
     "user_tz": -120
    },
    "id": "Fh5kU4KVmkak",
    "outputId": "b6c0e480-6e14-4ba1-82a8-8aa712293144"
   },
   "outputs": [],
   "source": [
    "data2.index\n",
    "data2.columns"
   ]
  },
  {
   "cell_type": "code",
   "execution_count": null,
   "id": "7337083f",
   "metadata": {
    "colab": {
     "base_uri": "https://localhost:8080/",
     "height": 143
    },
    "executionInfo": {
     "elapsed": 405,
     "status": "ok",
     "timestamp": 1664960495416,
     "user": {
      "displayName": "Joel Yvan Njabo Tchapnda",
      "userId": "07615700891775272457"
     },
     "user_tz": -120
    },
    "id": "-C2QUKYCmkal",
    "outputId": "e4aa330f-7f4c-44ff-c356-41e7141c986e"
   },
   "outputs": [],
   "source": [
    "d= pd.DataFrame(data2,index=['Maths', 'Physics','Economics'])#Create another data frame with some index of data2\n",
    "d"
   ]
  },
  {
   "cell_type": "code",
   "execution_count": null,
   "id": "2f2fb72a",
   "metadata": {
    "id": "mpdhk-c8mkam",
    "outputId": "b212e309-7646-4d9c-9a9b-77bd8d21807c"
   },
   "outputs": [],
   "source": [
    "d= pd.DataFrame(data2,index=['Maths', 'Physics','Economics', 'elvira'], \n",
    "                columns= ('Grade12', 'GradeS2','GradeS1'))\n",
    "d"
   ]
  },
  {
   "cell_type": "markdown",
   "id": "72ab007d",
   "metadata": {
    "id": "C9ZawL8_mkam"
   },
   "source": [
    "# 2. Reading and Writing Data\n",
    "\n",
    "## 2.1 <b> pandas: Data Ingestion (Reading) </b>\n",
    "- Functions such as <font color = red> ‘read_excel’, ‘read_csv’, 'read_json', 'read_html', 'read_sql_query', 'read_sql_table' </b>, etc.\n",
    "\n",
    "<b> Syntax: pandas.function(file_directory) </b>"
   ]
  },
  {
   "cell_type": "code",
   "execution_count": null,
   "id": "887b1236",
   "metadata": {
    "id": "mbn_bRXcmkao",
    "outputId": "95c920b7-0405-43f4-99c6-53f6b44eef04"
   },
   "outputs": [],
   "source": [
    "ddat = pd.read_excel('Climate_Dynamics.xlsx')\n",
    "ddat\n",
    "ddat.head()\n",
    "ddat.head(3)\n",
    "ddat.tail()"
   ]
  },
  {
   "cell_type": "code",
   "execution_count": null,
   "id": "289a1178",
   "metadata": {
    "id": "DHiEe0fQmkap",
    "outputId": "3bba4d47-492d-4694-ac90-97a6f384ddf4"
   },
   "outputs": [],
   "source": [
    "ddatt = pd.ExcelFile('DefenseSchedule2020forTutors.xlsx')\n",
    "sheet1_df = pd.read_excel(ddatt, 'For Examiners ')\n",
    "sheet2_df = pd.read_excel(ddatt, 'For Tutors ')\n",
    "sheet1_df.head(2)\n",
    "# sheet2_df.head(3)"
   ]
  },
  {
   "cell_type": "code",
   "execution_count": null,
   "id": "c9891f03",
   "metadata": {
    "id": "ZMbFMqNdmkap",
    "outputId": "05724d8a-a944-4030-8867-b129a875580e"
   },
   "outputs": [],
   "source": [
    "df = pd.read_json(\"https://data.smcgov.org/resource/mb6a-xn89.json\")#JavaScript Object Notation\n",
    "df.head()"
   ]
  },
  {
   "cell_type": "code",
   "execution_count": null,
   "id": "0b2aeee1",
   "metadata": {
    "id": "lQbf-N9Gmkaq",
    "outputId": "b9c7a2c3-cc3f-4a39-b731-ca3be8658d6e"
   },
   "outputs": [],
   "source": [
    "data = pd.read_csv('https://archive.ics.uci.edu/ml/machine-learning-databases/breast-cancer-wisconsin/breast-cancer-wisconsin.data')\n",
    "data.head()"
   ]
  },
  {
   "cell_type": "code",
   "execution_count": null,
   "id": "b3cfa3ae",
   "metadata": {
    "id": "G2ChFZWESYQv",
    "outputId": "199560a4-13b5-4744-929c-0a53d296eb03"
   },
   "outputs": [],
   "source": [
    "data = pd.read_csv('https://archive.ics.uci.edu/ml/machine-learning-databases/auto-mpg/auto-mpg.data')\n",
    "data.head()"
   ]
  },
  {
   "cell_type": "markdown",
   "id": "e88bb3d9",
   "metadata": {
    "id": "Xz99AxdSmkar"
   },
   "source": [
    "## 2.2. Data writing\n",
    "\n",
    "Save the dataframe in the current directory"
   ]
  },
  {
   "cell_type": "code",
   "execution_count": null,
   "id": "569781b0",
   "metadata": {
    "id": "pTDynk6Qmkar",
    "outputId": "4b0ed87b-1c41-4648-8323-68cd6d0ec0ae"
   },
   "outputs": [],
   "source": [
    "#create a dataframe\n",
    "data2 = {'GradeS1': pd.Series(data = [70,50,67,84,98], \n",
    "                              index = ['Maths', 'Art', 'Sport', 'Biology', 'Physics']),\n",
    "         'GradeS2': pd.Series(data = [90,70,88,78,76,77,87], \n",
    "                              index = ['Maths', 'Biology', 'Physics', 'chemistry', 'Economics', 'Finance', 'Geology'])}\n",
    "data2 = pd.DataFrame(data2)\n",
    "#==========================================\n",
    "# index = False parameter will not write the index values, default is True\n",
    "#data2.to_csv('data_new.csv', index=True)\n",
    "#data2.to_csv('data_new.txt', sep='\\t', index=True)\n",
    "# data2.to_excel('data_new.xlsx',sheet_name='Sheet1', index = False)\n",
    "data2.head()"
   ]
  },
  {
   "cell_type": "markdown",
   "id": "7dcfd5b1",
   "metadata": {
    "id": "42fEUH03mkat"
   },
   "source": [
    "<b>Create a folder in the current directory and save the dataframe inside</b>"
   ]
  },
  {
   "cell_type": "code",
   "execution_count": null,
   "id": "88b0e78d",
   "metadata": {
    "id": "aj2eoWxCmkat"
   },
   "outputs": [],
   "source": [
    "#==============================================\n",
    "# create a folder if it not exists\n",
    "Name_of_folder = 'dbasc'\n",
    "import os\n",
    "if not os.path.exists(Name_of_folder):\n",
    "    os.makedirs(Name_of_folder)\n",
    "#==============================================\n",
    "# index = False parameter will not write the index values, default is True\n",
    "data2.to_csv(Name_of_folder+'/data_new.csv', index=False)\n",
    "# data2.to_csv(Name_of_folder+'/mtcars_new.txt', sep='\\t', index=False)\n",
    "# data2.to_excel(Name_of_folder+'/mtcars_new.xlsx',sheet_name='Sheet1', index = False)"
   ]
  },
  {
   "cell_type": "code",
   "execution_count": null,
   "id": "e6251b00",
   "metadata": {
    "id": "7MM7U97-mkau",
    "outputId": "3322a26f-b09f-4c30-c668-52e8533cfb07"
   },
   "outputs": [],
   "source": [
    "data1"
   ]
  },
  {
   "cell_type": "markdown",
   "id": "70c512f1",
   "metadata": {
    "id": "pttXZ7gxmkav"
   },
   "source": [
    "# 3. Basic Statistics Summary\n",
    "<b> pandas in Descriptive Statistics </b>\n",
    "Functions such as 'describe()', 'corr()', 'min()', 'max()', 'mode()', 'median()', 'std()', etc.\n",
    "\n",
    "<b> Syntax : data_frame.function() </b>"
   ]
  },
  {
   "cell_type": "code",
   "execution_count": null,
   "id": "741cc9ba",
   "metadata": {
    "id": "h7_ZedY8mkav",
    "outputId": "8e53c3d2-c8d6-4fba-fb8b-664366b70861"
   },
   "outputs": [],
   "source": [
    "#data1\n",
    "data1.describe()"
   ]
  },
  {
   "cell_type": "code",
   "execution_count": null,
   "id": "df7db8ff",
   "metadata": {
    "id": "y04j45wjmkaw",
    "outputId": "789bf698-8774-45ff-d948-18f575d699e7"
   },
   "outputs": [],
   "source": [
    "data2"
   ]
  },
  {
   "cell_type": "code",
   "execution_count": null,
   "id": "b4dd47e1",
   "metadata": {
    "id": "OixDyocimkax",
    "outputId": "3e003216-3e60-479e-908e-319d93070de7"
   },
   "outputs": [],
   "source": [
    "data2.describe()"
   ]
  },
  {
   "cell_type": "code",
   "execution_count": null,
   "id": "417c8873",
   "metadata": {
    "id": "oM6XLcf4mkay",
    "outputId": "92a46389-0c08-4532-82ce-79a7e23f57e3"
   },
   "outputs": [],
   "source": [
    "data2.loc['Maths',:].describe()"
   ]
  },
  {
   "cell_type": "code",
   "execution_count": null,
   "id": "ccb79556",
   "metadata": {
    "id": "wVSy9Z5umkay",
    "outputId": "199bc443-8120-4567-cab4-b8680bfeb26d"
   },
   "outputs": [],
   "source": [
    "data2.corr()"
   ]
  },
  {
   "cell_type": "code",
   "execution_count": null,
   "id": "1b038d94",
   "metadata": {
    "id": "EcLdlxX6mkaz",
    "outputId": "ab2996be-ba0a-4067-8fac-96c407ed65cf"
   },
   "outputs": [],
   "source": [
    "data2.max()"
   ]
  },
  {
   "cell_type": "code",
   "execution_count": null,
   "id": "25ec5c68",
   "metadata": {
    "id": "EGzudCwNmka0",
    "outputId": "79a591eb-fde7-47a2-f376-091bb4eb21fa"
   },
   "outputs": [],
   "source": [
    "data2.cov()"
   ]
  },
  {
   "cell_type": "code",
   "execution_count": null,
   "id": "6e144232",
   "metadata": {
    "id": "HXrIy_r-mka7",
    "outputId": "8798d111-db8c-4a69-8c03-d331a6f3df88"
   },
   "outputs": [],
   "source": [
    "data2.std()"
   ]
  },
  {
   "cell_type": "code",
   "execution_count": null,
   "id": "2569e5e5",
   "metadata": {
    "id": "N8r7hYdPmka7",
    "outputId": "5aa9b8d7-df23-4aa7-cc36-a7a9535c51e8"
   },
   "outputs": [],
   "source": [
    "data2.mean()"
   ]
  },
  {
   "cell_type": "code",
   "execution_count": null,
   "id": "742b9f6d",
   "metadata": {
    "id": "3vPnQIIUmka8",
    "outputId": "a796715f-bf8b-43f9-98a4-818ba5c9c036"
   },
   "outputs": [],
   "source": [
    "df.head()"
   ]
  },
  {
   "cell_type": "markdown",
   "id": "e6b9b929",
   "metadata": {
    "id": "ZCmtB1RWmka8"
   },
   "source": [
    "# 4. Viewing Data"
   ]
  },
  {
   "cell_type": "code",
   "execution_count": null,
   "id": "7e85e2b8",
   "metadata": {
    "id": "zLnJO6pemka9",
    "outputId": "cf2f08e0-395f-47ac-af02-b31a72e3df04"
   },
   "outputs": [],
   "source": [
    "dic = {'Col1':[1, -2, 3, 1, 5, 6, 1, -3, 1, 1],\n",
    "      'Col2': [4, -3 , 7, 8, 9, 5, 6, 4, -2, 2],\n",
    "      'Col3': ['Euler', 'A', 'A', 'Euler', 'A', 'A', 'RK4', 'A', 'Euler', 'RK4']}\n",
    "\n",
    "df = pd.DataFrame(dic, index = ['a', 'b', 'c', 'd', 'e', 'f', 'g', 'h', 'i', 'j'])\n",
    "df"
   ]
  },
  {
   "cell_type": "markdown",
   "id": "16caddb2",
   "metadata": {
    "id": "wRX3Kwgmmka9"
   },
   "source": [
    "## 4.1 The characteristics of a dataframe"
   ]
  },
  {
   "cell_type": "code",
   "execution_count": null,
   "id": "e420f21d",
   "metadata": {
    "id": "9wpgMhF1mka-",
    "outputId": "32c6430a-7e38-4255-ce5e-d8c3dc97b134"
   },
   "outputs": [],
   "source": [
    "df.columns       #Get column names \n",
    "df.index         # Get dataframe index \n",
    "df.values        # Get values\n",
    "df.dtypes        # Get column datatypes\n",
    "df.shape\n",
    "\n"
   ]
  },
  {
   "cell_type": "markdown",
   "id": "578b043f",
   "metadata": {
    "id": "A8sMzlarmka-"
   },
   "source": [
    "## 4.2 Access, slice and update the values of a dataframe\n",
    "To access, slice or update the value of a dataframe one can use the methods <b>loc or iloc</b>.\n",
    "\n",
    "<b>loc</b> gets rows (or columns) with particular labels from the index. <b>iloc</b> gets rows (or columns) at particular positions in the index (so it only takes integers). \n",
    "### 4.2.1 Selecting pandas data using “iloc”\n",
    "\n",
    "The <b>iloc</b> indexer for Pandas Dataframe is used for <b>integer-location based indexing / selection by position</b>.\n",
    "\n",
    "The iloc indexer syntax is \n",
    "$$\\text{data.iloc[<row selection>, <column selection>]},$$ \n",
    "\n",
    "which is sure to be a source of confusion for R users. <b>iloc</b> in pandas is used to select rows and columns by number, in the order that they appear in the data frame. You can imagine that each row has a row number from 0 to the total rows (<b>data.shape[0]</b>)  and <b>iloc[...]</b> allows selections based on these numbers. The same applies for columns (ranging from 0 to <b>data.shape[1]</b>)\n",
    "\n",
    "There are two “arguments” to iloc – a row selector, and a column selector.  For example:"
   ]
  },
  {
   "cell_type": "code",
   "execution_count": null,
   "id": "a5ea189c",
   "metadata": {
    "id": "UsK_qKKDmka_",
    "outputId": "d75b3129-c6fa-4a68-aeeb-00ddfeee44ae"
   },
   "outputs": [],
   "source": [
    "data = pd.read_csv('https://s3-eu-west-1.amazonaws.com/shanebucket/downloads/uk-500.csv')\n",
    "# set a numeric id for use as an index for examples.\n",
    "np.random.seed(21)\n",
    "data['id'] = [np.random.randint(0,1000) for x in range(data.shape[0])]\n",
    " \n",
    "data.head(5)"
   ]
  },
  {
   "cell_type": "code",
   "execution_count": null,
   "id": "b9334096",
   "metadata": {
    "id": "DJP9_fRimka_",
    "outputId": "903f95c0-ad7c-4c3b-fe91-6a605d368578"
   },
   "outputs": [],
   "source": [
    "# # Single selections using iloc and DataFrame\n",
    "# # Rows:\n",
    "data.iloc[0] # first row of data frame (Aleshia Tomkiewicz) - Note a Series data type output.\n",
    "data.iloc[1] # second row of data frame (Evan Zigomalas)\n",
    "data.iloc[-1] # last row of data frame (Mi Richan)\n",
    "# # Columns:\n",
    "data.iloc[:,0] # first column of data frame (first_name)\n",
    "data.iloc[:,1] # second column of data frame (last_name)\n",
    "data.iloc[:,-1] # last column of data frame (id)"
   ]
  },
  {
   "cell_type": "markdown",
   "id": "c19fa845",
   "metadata": {
    "id": "1BQkKU7amkbA"
   },
   "source": [
    "<b>Note that .iloc returns a Pandas Series when one row is selected, and a Pandas DataFrame when multiple rows are selected, or if any column in full is selected. To counter this, pass a single-valued list if you require DataFrame output.</b>\n"
   ]
  },
  {
   "cell_type": "code",
   "execution_count": null,
   "id": "daf48081",
   "metadata": {
    "id": "nAYnYyaGmkbA",
    "outputId": "909f8c78-781a-4eaa-bd32-d3d7fe137b3e"
   },
   "outputs": [],
   "source": [
    "data.iloc[:,[-1]] # last column of data frame (id)"
   ]
  },
  {
   "cell_type": "markdown",
   "id": "c92c4263",
   "metadata": {
    "id": "k2Pt_NEqmkbB"
   },
   "source": [
    "Multiple columns and rows can be selected together using the <b>.iloc</b> indexer."
   ]
  },
  {
   "cell_type": "code",
   "execution_count": null,
   "id": "3799623f",
   "metadata": {
    "id": "Fv_-a-41mkbB",
    "outputId": "753ade01-439f-44ba-c3de-a98418d7d7ea"
   },
   "outputs": [],
   "source": [
    "# # Multiple row and column selections using iloc and DataFrame\n",
    "data.iloc[0:5] # first five rows of dataframe\n",
    "data.iloc[:, 0:2] # first two columns of data frame with all rows\n",
    "data.iloc[[0,3,6,24], [0,5,6]] # 1st, 4th, 7th, 25th row + 1st 6th 7th columns.\n",
    "data.iloc[0:5, 5:8] # first 5 rows and 5th, 6th, 7th columns of data frame (county -> phone1).\n"
   ]
  },
  {
   "cell_type": "markdown",
   "id": "d87b384e",
   "metadata": {
    "id": "s17T5FSVmkbC"
   },
   "source": [
    "### 4.2.2. Selecting pandas data using “loc”\n",
    "\n",
    "The Pandas loc indexer can be used with DataFrames for two different use cases:\n",
    "\n",
    "    - Selecting rows by label/index\n",
    "    - Selecting rows with a boolean / conditional lookup\n",
    "The loc indexer is used with the same syntax as iloc: \n",
    "$$\\text{data.loc[<row selection>, <column selection>]}$$\n",
    "\n",
    "#### a. Label-based / Index-based indexing using .loc\n",
    "\n",
    "Selections using the loc method are based on the index of the data frame (if any). Where the index is set on a DataFrame, using <b>df.set_index()</b>, the .loc method directly selects based on index values of any rows. For example, setting the index of our test data frame to the persons “last_name”:"
   ]
  },
  {
   "cell_type": "code",
   "execution_count": null,
   "id": "32dd0013",
   "metadata": {
    "colab": {
     "base_uri": "https://localhost:8080/",
     "height": 249
    },
    "executionInfo": {
     "elapsed": 122,
     "status": "error",
     "timestamp": 1632903185049,
     "user": {
      "displayName": "Hove Kouevi Assionvi",
      "photoUrl": "https://lh3.googleusercontent.com/a/default-user=s64",
      "userId": "02008510573291488408"
     },
     "user_tz": -120
    },
    "id": "I2LaP9r5mkbD",
    "outputId": "ad63d58e-7213-46c8-8e8a-97c89258ee5c"
   },
   "outputs": [],
   "source": [
    "data = pd.read_csv('https://s3-eu-west-1.amazonaws.com/shanebucket/downloads/uk-500.csv')\n",
    "# set a numeric id for use as an index for examples.\n",
    "np.random.seed(21)\n",
    "data['id'] = [np.random.randint(0,1000) for x in range(data.shape[0])]\n",
    " \n",
    "data.set_index(\"last_name\", inplace=True)\n",
    "data.head()"
   ]
  },
  {
   "cell_type": "markdown",
   "id": "26ff710b",
   "metadata": {
    "id": "zKZQUpbRmkbD"
   },
   "source": [
    "Now with the index set, we can directly select rows for different “last_name” values using <b>.loc[<label>]</b>  – either singly, or in multiples. For example:"
   ]
  },
  {
   "cell_type": "code",
   "execution_count": null,
   "id": "827124bd",
   "metadata": {
    "executionInfo": {
     "elapsed": 14,
     "status": "aborted",
     "timestamp": 1632903185038,
     "user": {
      "displayName": "Hove Kouevi Assionvi",
      "photoUrl": "https://lh3.googleusercontent.com/a/default-user=s64",
      "userId": "02008510573291488408"
     },
     "user_tz": -120
    },
    "id": "Er1qBN_7mkbE",
    "outputId": "ebd9c366-ec80-45c6-b2b5-26de82aa77d2"
   },
   "outputs": [],
   "source": [
    "data.loc['Veness']\n",
    "data.loc[['Andrade','Veness']]"
   ]
  },
  {
   "cell_type": "markdown",
   "id": "ace68441",
   "metadata": {
    "id": "jl_fElQSmkbF"
   },
   "source": [
    "<b> Selecting single or multiple rows using .loc index selections with pandas. Note that the first example returns a series, and the second returns a DataFrame. You can achieve a single-column DataFrame by passing a single-element list to the .loc operation.</b>"
   ]
  },
  {
   "cell_type": "code",
   "execution_count": null,
   "id": "96e90b19",
   "metadata": {
    "executionInfo": {
     "elapsed": 15,
     "status": "aborted",
     "timestamp": 1632903185040,
     "user": {
      "displayName": "Hove Kouevi Assionvi",
      "photoUrl": "https://lh3.googleusercontent.com/a/default-user=s64",
      "userId": "02008510573291488408"
     },
     "user_tz": -120
    },
    "id": "Me9kAqvkmkbF",
    "outputId": "dfac9fe5-0c64-4956-a2a3-c14eae3f8fa4"
   },
   "outputs": [],
   "source": [
    "data.loc[['Veness']]"
   ]
  },
  {
   "cell_type": "markdown",
   "id": "322c3be7",
   "metadata": {
    "id": "88fW1c80mkbG"
   },
   "source": [
    "Select columns with <b>.loc</b> using the names of the columns."
   ]
  },
  {
   "cell_type": "code",
   "execution_count": null,
   "id": "02074046",
   "metadata": {
    "executionInfo": {
     "elapsed": 17,
     "status": "aborted",
     "timestamp": 1632903185042,
     "user": {
      "displayName": "Hove Kouevi Assionvi",
      "photoUrl": "https://lh3.googleusercontent.com/a/default-user=s64",
      "userId": "02008510573291488408"
     },
     "user_tz": -120
    },
    "id": "foPFccTnmkbG",
    "outputId": "eac7f332-177b-447e-994a-813248cb19cd"
   },
   "outputs": [],
   "source": [
    "data.loc[['Andrade','Veness'], ['first_name','address','city']]"
   ]
  },
  {
   "cell_type": "markdown",
   "id": "95263440",
   "metadata": {
    "id": "1B7WqdhGmkbH"
   },
   "source": [
    "When using the .loc indexer, columns are referred to by names using lists of strings, or “:” slices.\n",
    "\n",
    "You can select ranges of index labels – the selection <b>data.loc['Bruch':'Julio']</b> will return all rows in the data frame between the index entries for <b>'Bruch'</b> and <b>'Julio'</b>. The following examples should now make sense:"
   ]
  },
  {
   "cell_type": "code",
   "execution_count": null,
   "id": "2ed1eb62",
   "metadata": {
    "executionInfo": {
     "elapsed": 17,
     "status": "aborted",
     "timestamp": 1632903185043,
     "user": {
      "displayName": "Hove Kouevi Assionvi",
      "photoUrl": "https://lh3.googleusercontent.com/a/default-user=s64",
      "userId": "02008510573291488408"
     },
     "user_tz": -120
    },
    "id": "wLFF-xEDmkbH",
    "outputId": "79958f10-800a-46a0-9206-5560d33ffb95"
   },
   "outputs": [],
   "source": [
    "# Select rows with index values 'Andrade' and 'Veness', with all columns between 'city' and 'email'\n",
    "data.loc[['Andrade', 'Veness'], 'city':'email']\n",
    "# # Select all rows between 'Andrade' and 'Veness', with just 'first_name', 'address' and 'city' columns\n",
    "data.loc['Andrade':'Veness', ['first_name', 'address', 'city']]\n",
    "# # Select all rows between 'Andrade' and 'Veness', with all columns between 'city' and 'email' \n",
    "data.loc['Andrade':'Veness', 'city':'email']"
   ]
  },
  {
   "cell_type": "markdown",
   "id": "97847743",
   "metadata": {
    "id": "hOKe7x9PmkbH"
   },
   "source": [
    "Note that in the last example, <b>data.loc[207]</b> (the row with index value 207) is not equal to <b>data.iloc[207]</b> (the 207th row in the data)"
   ]
  },
  {
   "cell_type": "code",
   "execution_count": null,
   "id": "1af39144",
   "metadata": {
    "executionInfo": {
     "elapsed": 18,
     "status": "aborted",
     "timestamp": 1632903185045,
     "user": {
      "displayName": "Hove Kouevi Assionvi",
      "photoUrl": "https://lh3.googleusercontent.com/a/default-user=s64",
      "userId": "02008510573291488408"
     },
     "user_tz": -120
    },
    "id": "9J_lJrtRmkbI",
    "outputId": "810887ae-754e-4912-8279-10ceb6755949"
   },
   "outputs": [],
   "source": [
    "data = pd.read_csv('https://s3-eu-west-1.amazonaws.com/shanebucket/downloads/uk-500.csv')\n",
    "# set a numeric id for use as an index for examples.\n",
    "np.random.seed(21)\n",
    "data['id'] = [np.random.randint(0,1000) for x in range(data.shape[0])]\n",
    " \n",
    "# Change the index to be based on the 'id' column\n",
    "data.set_index('id', inplace=True)\n",
    "data.head()"
   ]
  },
  {
   "cell_type": "code",
   "execution_count": null,
   "id": "940a0c63",
   "metadata": {
    "executionInfo": {
     "elapsed": 20,
     "status": "aborted",
     "timestamp": 1632903185047,
     "user": {
      "displayName": "Hove Kouevi Assionvi",
      "photoUrl": "https://lh3.googleusercontent.com/a/default-user=s64",
      "userId": "02008510573291488408"
     },
     "user_tz": -120
    },
    "id": "uK8FZRvzmkbI",
    "outputId": "89127770-8f67-436f-958c-665c3a512364"
   },
   "outputs": [],
   "source": [
    "i = data.index[1]\n",
    "print('i = ',i)\n",
    "#select the row with 'id' = i\n",
    "data.loc[[i]]"
   ]
  },
  {
   "cell_type": "code",
   "execution_count": null,
   "id": "527ecf3f",
   "metadata": {
    "executionInfo": {
     "elapsed": 20,
     "status": "aborted",
     "timestamp": 1632903185048,
     "user": {
      "displayName": "Hove Kouevi Assionvi",
      "photoUrl": "https://lh3.googleusercontent.com/a/default-user=s64",
      "userId": "02008510573291488408"
     },
     "user_tz": -120
    },
    "id": "mYoHZxT2mkbJ",
    "outputId": "3de37e91-04c7-436c-b378-296dcb38b1a3"
   },
   "outputs": [],
   "source": [
    "data.iloc[[i]]"
   ]
  },
  {
   "cell_type": "markdown",
   "id": "3c3e6072",
   "metadata": {
    "id": "KAUlW2fgmkbJ"
   },
   "source": [
    "### b. Boolean / Logical indexing using .loc\n",
    "\n",
    "Conditional selections with boolean arrays using $\\text{data.loc[<selection>]}$ is the most common method that I use with Pandas DataFrames. With boolean indexing or logical selection, you pass an array or Series of True/False values to the <b>.loc</b> indexer to select the rows where your Series has True values.\n",
    "\n",
    "In most use cases, you will make selections based on the values of different columns in your data set.\n",
    "\n",
    "For example, the statement $$\\text{data[‘first_name’] == ‘Antonio’]}$$ produces a Pandas Series with a True/False value for every row in the ‘data’ DataFrame, where there are “True” values for the rows where the first_name is “Antonio”. These type of boolean arrays can be passed directly to the <b>.loc</b> indexer as so:"
   ]
  },
  {
   "cell_type": "code",
   "execution_count": null,
   "id": "619999a8",
   "metadata": {
    "id": "TLaMhRhSmkbK",
    "outputId": "aee5e9c0-df29-4cac-951a-126334c00fe4"
   },
   "outputs": [],
   "source": [
    "data = pd.read_csv('https://s3-eu-west-1.amazonaws.com/shanebucket/downloads/uk-500.csv')\n",
    "# set a numeric id for use as an index for examples.\n",
    "np.random.seed(21)\n",
    "data['id'] = [np.random.randint(0,1000) for x in range(data.shape[0])]\n",
    " \n",
    "data.set_index(\"last_name\", inplace=True)\n",
    "\n",
    "data.loc[data['first_name'] == 'Antonio']\n"
   ]
  },
  {
   "cell_type": "markdown",
   "id": "e5df4fde",
   "metadata": {
    "id": "joaSA6UhmkbK"
   },
   "source": [
    "As before, a second argument can be passed to .loc to select particular columns out of the data frame. Again, columns are referred to by name for the loc indexer and can be a single string, a list of columns, or a slice “:” operation."
   ]
  },
  {
   "cell_type": "code",
   "execution_count": null,
   "id": "2d45597b",
   "metadata": {
    "id": "DnCTxyv3mkbL",
    "outputId": "5d4dc036-174f-4008-cfc6-b06a93d5c9a2"
   },
   "outputs": [],
   "source": [
    "data.loc[data['first_name'] == 'Antonio', ['email', 'address','city']]"
   ]
  },
  {
   "cell_type": "markdown",
   "id": "7965ced5",
   "metadata": {
    "id": "fg0vESjLmkbL"
   },
   "source": [
    "Note that when selecting columns, if one column only is selected, the .loc operator returns a Series. For a single column DataFrame, use a one-element list to keep the DataFrame format, for example:"
   ]
  },
  {
   "cell_type": "code",
   "execution_count": null,
   "id": "5dfffd4a",
   "metadata": {
    "id": "QUW--BivmkbL",
    "outputId": "75523343-ff90-401d-aa20-d5b65a13c180"
   },
   "outputs": [],
   "source": [
    "data.loc[data['first_name'] == 'Antonio', 'email']\n",
    "data.loc[data['first_name'] == 'Antonio', ['email']]"
   ]
  },
  {
   "cell_type": "markdown",
   "id": "439db3cb",
   "metadata": {
    "id": "Mjq4H4NgmkbM"
   },
   "source": [
    "# 5. Basic Operations"
   ]
  },
  {
   "cell_type": "markdown",
   "id": "a1ce29a1",
   "metadata": {
    "id": "5b5gPiqKmkbM"
   },
   "source": [
    "## 5.1 Sorting values in the DataFrame"
   ]
  },
  {
   "cell_type": "code",
   "execution_count": null,
   "id": "df266851",
   "metadata": {
    "id": "12r_3pPCmkbN",
    "outputId": "19866514-6252-4d39-ee08-7cb063f5a9da",
    "scrolled": true
   },
   "outputs": [],
   "source": [
    "dic = {'Col1':[1, -2, 3, 1, 5, 6, 1, -3, 1, 1],\n",
    "      'Col2': [4, -3 , 7, 8, 9, 5, 6, 4, -2, 2],\n",
    "      'Col3': ['Euler', 'A', 'A', 'Euler', 'A', 'A', 'RK4', 'A', 'Euler', 'RK4']}\n",
    "\n",
    "df = pd.DataFrame(dic, index = ['a', 'b', 'c', 'd', 'e', 'f', 'g', 'h', 'i', 'j'])\n",
    "\n",
    "# #=============================================================\n",
    "# #Create a new columns called 'X' and 'Y' in the dataframe df\n",
    "df['X'] = ['A', 'A', 'A', 'A', 'A', 'B', 'B', 'B', 'B', 'B']\n",
    "df['Y'] = ['A', 'B', 'A', 'B', 'A', 'B', 'A', 'B', 'A', 'B']\n",
    "# #============================================================\n",
    "# df\n",
    "df.loc['z'] = [1,2,3,4,5]\n",
    "# #df\n",
    "\n",
    "df\n"
   ]
  },
  {
   "cell_type": "code",
   "execution_count": null,
   "id": "eeb2a627",
   "metadata": {
    "id": "z6n9b9gnmkbN",
    "outputId": "d1b1facc-3f0b-4c4f-d733-c2d3630563c1"
   },
   "outputs": [],
   "source": [
    "df.sort_values(by =['Col1'],ascending=[True], inplace=True)# Sort DataFrame \n",
    "df.sort_values(by =['Col1', 'Col2'],ascending=[False,False], inplace=True)# Sort DataFrame\n",
    "df"
   ]
  },
  {
   "cell_type": "markdown",
   "id": "3c790d16",
   "metadata": {
    "id": "IkpyQ79pmkbO"
   },
   "source": [
    "## 5.2. Replace NaN Values in Pandas DataFrame\n",
    "\n",
    "Depending on the scenario, you may use either of the 4 methods below in order to replace NaN values with zeros in Pandas DataFrame:\n",
    "\n",
    "let us consider the following dataframe"
   ]
  },
  {
   "cell_type": "code",
   "execution_count": null,
   "id": "b3dcd803",
   "metadata": {
    "id": "30sFH2dvmkbO",
    "outputId": "3f25df5a-3d1a-47a0-b2cb-eb07b97e1caa"
   },
   "outputs": [],
   "source": [
    "data2 = {'GradeS1': pd.Series(data = [70,50,67,84,98], \n",
    "                              index = ['Maths', 'Art', 'Sport', 'Biology', 'Physics']),\n",
    "         'GradeS2': pd.Series(data = [90,70,88,78,76,77,87], \n",
    "                              index = ['Maths', 'Biology', 'Physics', 'chemistry', 'Economics', 'Finance', 'Geology']),\n",
    "        'GradeS3': pd.Series(data = [69,75,73,87], \n",
    "                              index = ['Maths', 'chemistry', 'Economics', 'Geology']),\n",
    "        'GradeS4': pd.Series(data = [90,70,88,78,76,77,87,98,90], \n",
    "                              index = ['Maths', 'Biology', 'Physics', 'chemistry', 'Economics', 'Finance', 'Geology','Art', 'Sport'])}\n",
    "data2 = pd.DataFrame(data2)\n",
    "data2"
   ]
  },
  {
   "cell_type": "markdown",
   "id": "ac3e8935",
   "metadata": {
    "id": "pGRNimpSmkbP"
   },
   "source": [
    "1. For a single column or entire datafame using NumPy: "
   ]
  },
  {
   "cell_type": "code",
   "execution_count": null,
   "id": "3b738ade",
   "metadata": {
    "id": "EJJkUspVmkbP",
    "outputId": "cd6e7fd5-1db5-4b39-a298-5a94de465d3f"
   },
   "outputs": [],
   "source": [
    "#Make a deep copy of the data2\n",
    "data3 = data2.copy()\n",
    "#Replace NaN by 3 in the column 'GradeS2' of the dataframe using numpy\n",
    "data3['GradeS2'].replace(np.nan,30, inplace=True)\n",
    "data3"
   ]
  },
  {
   "cell_type": "code",
   "execution_count": null,
   "id": "9a60804e",
   "metadata": {
    "id": "yvpOzQ_vmkbQ",
    "outputId": "c7a1559f-6580-4284-b550-c5a2745be58a"
   },
   "outputs": [],
   "source": [
    "#Make a deep copy of the data2\n",
    "data3 = data2.copy()\n",
    "#Replace NaN by 3 in the entire dataframe using numpy\n",
    "data3.replace(np.nan,30, inplace=True)\n",
    "data3"
   ]
  },
  {
   "cell_type": "markdown",
   "id": "152d93ae",
   "metadata": {
    "id": "FE9vOLSImkbR"
   },
   "source": [
    "2. For a single column or entire datafame using Pandas: "
   ]
  },
  {
   "cell_type": "code",
   "execution_count": null,
   "id": "0fdda56e",
   "metadata": {
    "id": "R33qyZdxmkbS",
    "outputId": "e6235291-036f-4edd-dd67-90d18140d1d5"
   },
   "outputs": [],
   "source": [
    "#Make a deep copy of the data2\n",
    "data3 = data2.copy()\n",
    "#Replace NaN by 3 in the column 'GradeS2' using Pandas\n",
    "data3['GradeS2'].fillna(30, inplace=True)\n",
    "data3"
   ]
  },
  {
   "cell_type": "code",
   "execution_count": null,
   "id": "46e9fc47",
   "metadata": {
    "id": "B34N8cZcmkbT",
    "outputId": "ffd380f6-bf26-4668-ebfb-f449d9bb08ba"
   },
   "outputs": [],
   "source": [
    "#Make a deep copy of the data2\n",
    "data3 = data2.copy()\n",
    "#Replace NaN by 3 in the entire dataframe using Pandas\n",
    "data3.fillna(3, inplace=True)\n",
    "data3"
   ]
  },
  {
   "cell_type": "markdown",
   "id": "6e5d4704",
   "metadata": {
    "id": "16agXqO2mkbT"
   },
   "source": [
    "Replace missing values with last valid observation (useful in time series\n",
    "data). For example, temperature does not change drastically compared to previous observation. So better approach is to fill NA is to forward or backward fill. There are mainly two methods available"
   ]
  },
  {
   "cell_type": "code",
   "execution_count": null,
   "id": "2db14262",
   "metadata": {
    "id": "nHNb-2x9mkbU",
    "outputId": "42dc1b9e-5a65-4a17-a7c2-8c8a88f85b84"
   },
   "outputs": [],
   "source": [
    "#Make a deep copy of the data2\n",
    "data3 = data2.copy()\n",
    "#Replace NaN by next value in the column 'GradeS1' of the dataframe using Pandas\n",
    "data3['GradeS1'].fillna(method= 'bfill', inplace=True)\n",
    "##Note that the last NaN was not replaced because there is no next value for him\n",
    "\n",
    "\n",
    "##Replace NaN by next value in the column 'GradeS1' of the dataframe using Pandas\n",
    "data3.fillna(method= 'bfill', inplace=True)\n",
    "data3"
   ]
  },
  {
   "cell_type": "code",
   "execution_count": null,
   "id": "1e5cc2e4",
   "metadata": {
    "id": "9H_dJcfCmkbV",
    "outputId": "3c760582-359f-4d2f-bb1c-10fec96ca549"
   },
   "outputs": [],
   "source": [
    "#Make a deep copy of the data2\n",
    "data3 = data2.copy()\n",
    "#Replace NaN by previous value in the column 'GradeS2' of the dataframe using Pandas\n",
    "data3['GradeS2'].fillna(method= 'ffill', inplace=True)\n",
    "##Note that the first NaN was not replaced because there is no next value for him\n",
    "\n",
    "\n",
    "##Replace NaN by previous value in the entire dataframe using Pandas\n",
    "data3.fillna(method= 'ffill', inplace=True)\n",
    "data3"
   ]
  },
  {
   "cell_type": "markdown",
   "id": "443b13f1",
   "metadata": {
    "id": "TgSsEsB_mkbW"
   },
   "source": [
    "## 5.3. Delete NaN Values with Zeros in Pandas DataFrame"
   ]
  },
  {
   "cell_type": "code",
   "execution_count": null,
   "id": "133b4b22",
   "metadata": {
    "id": "557RWgwTmkbW",
    "outputId": "d00a157e-cf45-4cbf-aeb1-8b32a02a1f62",
    "scrolled": true
   },
   "outputs": [],
   "source": [
    "#Make a deep copy of the data2\n",
    "data3 = data2.copy()\n",
    "#Delete all rows that contain NaN\n",
    "data3.dropna(axis=0, inplace=True)\n",
    "data3"
   ]
  },
  {
   "cell_type": "code",
   "execution_count": null,
   "id": "31d6081d",
   "metadata": {
    "id": "jPHd5J7KmkbX",
    "outputId": "e917ad09-114d-471f-fed4-250fc066487f"
   },
   "outputs": [],
   "source": [
    "#Make a deep copy of the data2\n",
    "data3 = data2.copy()\n",
    "#Delete all columns that contain NaN\n",
    "data3.dropna(axis=1, inplace=True)\n",
    "data3"
   ]
  },
  {
   "cell_type": "markdown",
   "id": "bf0eb1e0",
   "metadata": {
    "id": "_I_ElenamkbY"
   },
   "source": [
    "## 5.4. Grouping\n",
    "Grouping involves one or more of the following steps:\n",
    "- Splitting the data into groups based on some criteria,\n",
    "- Applying a function to each group independently,\n",
    "- Combining the results into a data structure\n",
    "\n",
    "Let us consider the following data"
   ]
  },
  {
   "cell_type": "code",
   "execution_count": null,
   "id": "66a21345",
   "metadata": {
    "id": "EkrQ-xE0mkbZ",
    "outputId": "a02cf3db-0efc-4dac-d8f0-66db8ab2d434"
   },
   "outputs": [],
   "source": [
    "df = pd.DataFrame({'Name' : ['jack', 'jane', 'jack', 'jane', 'jack', 'jane','jack', 'jane'],\n",
    "                   'State' : ['SFO', 'SFO', 'NYK', 'CA', 'NYK', 'NYK','SFO', 'CA'],\n",
    "                   'Grade':['A','A','B','A','C','B','C','A'],\n",
    "                   'Age' : np.random.randint(24, 50, size=8)})\n",
    "df"
   ]
  },
  {
   "cell_type": "markdown",
   "id": "0e7108b6",
   "metadata": {
    "id": "rA6mZ75NmkbZ"
   },
   "source": [
    "Find max age by Name / State"
   ]
  },
  {
   "cell_type": "code",
   "execution_count": null,
   "id": "ee002f68",
   "metadata": {
    "id": "ey3gT7zymkba",
    "outputId": "d20bbe25-8fee-402e-832f-cf5b1248e184"
   },
   "outputs": [],
   "source": [
    "df.groupby(['Name','State']).max()"
   ]
  },
  {
   "cell_type": "markdown",
   "id": "4d5a2fea",
   "metadata": {
    "id": "1xppcHfrmkba"
   },
   "source": [
    "# 6. Plot of a dataframe"
   ]
  },
  {
   "cell_type": "code",
   "execution_count": null,
   "id": "626d1071",
   "metadata": {
    "id": "zxcRQBPVmkbb",
    "outputId": "46ccc291-5912-4a72-e5ba-a1a15dc936ce"
   },
   "outputs": [],
   "source": [
    "data2"
   ]
  },
  {
   "cell_type": "code",
   "execution_count": null,
   "id": "49703141",
   "metadata": {
    "id": "J5iTv09Imkbb"
   },
   "outputs": [],
   "source": []
  },
  {
   "cell_type": "code",
   "execution_count": null,
   "id": "70f348ad",
   "metadata": {
    "id": "7ExT8Muvmkbc",
    "outputId": "33b32e70-300c-4df1-ddca-e9377638a35d"
   },
   "outputs": [],
   "source": [
    "import matplotlib.pyplot as plt\n",
    "#data2.plot?\n",
    "data2.plot(figsize=(10,10), kind= 'bar' )\n",
    "plt.show()"
   ]
  },
  {
   "cell_type": "code",
   "execution_count": null,
   "id": "c0d8c668",
   "metadata": {
    "id": "fkCIDkQUmkbc"
   },
   "outputs": [],
   "source": [
    "data2.plot?"
   ]
  },
  {
   "cell_type": "markdown",
   "id": "c62ba5f4",
   "metadata": {},
   "source": [
    "In this session, we will demonstrate various techniques for visualising data using both `matplotlib` and `pandas`. This will also include the correct interpretation and understanding of the different plotting techniques. The data to be used are `flight_data.csv` and `weather.csv`. They can both be found in the folder."
   ]
  },
  {
   "cell_type": "code",
   "execution_count": null,
   "id": "e7a216aa",
   "metadata": {},
   "outputs": [],
   "source": [
    "import numpy as np\n",
    "import pandas as pd\n",
    "import matplotlib.pyplot as plt"
   ]
  },
  {
   "cell_type": "code",
   "execution_count": null,
   "id": "a14984dd",
   "metadata": {},
   "outputs": [],
   "source": [
    "df = pd.read_csv('flight_data.csv')"
   ]
  },
  {
   "cell_type": "code",
   "execution_count": null,
   "id": "3623635e",
   "metadata": {},
   "outputs": [],
   "source": [
    "df.head()"
   ]
  },
  {
   "cell_type": "code",
   "execution_count": null,
   "id": "054e3a4e",
   "metadata": {},
   "outputs": [],
   "source": [
    "df.shape"
   ]
  },
  {
   "cell_type": "markdown",
   "id": "28c9269d",
   "metadata": {},
   "source": [
    "To reduce the amount of data we will be working with and make things a little easier, lets only look at _Alaska Airlines_ flights leaving from New York City in 2013. This can be done by subsetting the data in such a way that we only observe flights from Alaska Airlines (carrier code AS), as follows;"
   ]
  },
  {
   "cell_type": "code",
   "execution_count": null,
   "id": "2f4b9ffa",
   "metadata": {},
   "outputs": [],
   "source": [
    "Alaska = df[df['carrier'] == 'AS']"
   ]
  },
  {
   "cell_type": "markdown",
   "id": "c581626a",
   "metadata": {},
   "source": [
    "This essentially picks out all of the rows within the flights data set for which the carrier code is AS and discards the rest, thus creating a new data set entitled Alaska. To observe the Alaska data we can use the following commands:"
   ]
  },
  {
   "cell_type": "code",
   "execution_count": null,
   "id": "bd284b59",
   "metadata": {},
   "outputs": [],
   "source": [
    "Alaska.head()"
   ]
  },
  {
   "cell_type": "code",
   "execution_count": null,
   "id": "09687787",
   "metadata": {},
   "outputs": [],
   "source": [
    "Alaska.shape"
   ]
  },
  {
   "cell_type": "markdown",
   "id": "a2b2e2cc",
   "metadata": {},
   "source": [
    "# Visualising the data "
   ]
  },
  {
   "cell_type": "markdown",
   "id": "4bef2d08",
   "metadata": {},
   "source": [
    "\n",
    "## Scatterplots\n",
    "This allows us to examine if there is any relationship between two variables, such as positive or negative correlation, and whether the relationship appears linear or not. Lets say we wanted to observe the relationship between departure and arrival delays. We can do that as follows:"
   ]
  },
  {
   "cell_type": "code",
   "execution_count": null,
   "id": "00e86387",
   "metadata": {},
   "outputs": [],
   "source": [
    "plt.style.use('Solarize_Light2')\n",
    "plt.scatter('dep_delay', 'arr_delay', data=Alaska); "
   ]
  },
  {
   "cell_type": "markdown",
   "id": "bc90ebb6",
   "metadata": {},
   "source": [
    "## Adding labels to the axes"
   ]
  },
  {
   "cell_type": "code",
   "execution_count": null,
   "id": "8cc3fa96",
   "metadata": {},
   "outputs": [],
   "source": [
    "plt.scatter('dep_delay', 'arr_delay', data=Alaska)\n",
    "plt.xlabel('Departure delay (minutes)')\n",
    "plt.ylabel('Arrival delay (minutes)')\n",
    "plt.title('Alaska Airlines flights leaving NYC in 2013');"
   ]
  },
  {
   "cell_type": "code",
   "execution_count": null,
   "id": "52ec86f7",
   "metadata": {},
   "outputs": [],
   "source": [
    "plt.figure(figsize=(10,6))\n",
    "plt.scatter('dep_delay', 'arr_delay', data=Alaska, color='k', alpha=0.2)\n",
    "plt.xlabel('Departure delay (minutes)')\n",
    "plt.ylabel('Arrival delay (minutes)')\n",
    "plt.title('Alaska Airlines flights leaving NYC in 2013');"
   ]
  },
  {
   "cell_type": "markdown",
   "id": "e11cb0bb",
   "metadata": {},
   "source": [
    "### Something to think about.\n",
    "1. Why do departure and arrival delays appear to have a positive relationship?\n",
    "2. Why is there a cluster of points at (0,0)? What does this indicate?"
   ]
  },
  {
   "cell_type": "markdown",
   "id": "725fe42b",
   "metadata": {},
   "source": [
    "## Histograms\n",
    "Histograms allow us to look at the statistical distribution of a variable. They show us how many values of a variable fall within specified bins. These bins give ranges of values for which the variable lies. The bins can be altered, that is, by changing their width, or by increasing the number of bins, such that we see the distribution at a higher resolution. Here, lets take a look at the weather data set. This data set contains hourly weather data from three airports (LGA, JFK and EWR) in New York City in 2013. "
   ]
  },
  {
   "cell_type": "code",
   "execution_count": null,
   "id": "0b40dbf5",
   "metadata": {},
   "outputs": [],
   "source": [
    "weather = pd.read_csv('weather.csv')\n",
    "weather.head()"
   ]
  },
  {
   "cell_type": "markdown",
   "id": "6642e379",
   "metadata": {},
   "source": [
    "Now, let us see  the distribution of the hourly temperature:"
   ]
  },
  {
   "cell_type": "code",
   "execution_count": null,
   "id": "7820214a",
   "metadata": {},
   "outputs": [],
   "source": [
    "plt.hist(weather['temp']);"
   ]
  },
  {
   "cell_type": "markdown",
   "id": "59ffefb6",
   "metadata": {},
   "source": [
    "As mentioned earlier, we can view histogram as a higher resolution by increasing the number of bins."
   ]
  },
  {
   "cell_type": "code",
   "execution_count": null,
   "id": "238b5e14",
   "metadata": {},
   "outputs": [],
   "source": [
    "plt.figure(figsize=(20,6))\n",
    "\n",
    "plt.subplot(1,3,1)\n",
    "plt.title('Bins = 30')\n",
    "weather['temp'].hist(bins=30)\n",
    "\n",
    "plt.subplot(1,3,2)\n",
    "plt.title('Bins = 10')\n",
    "weather['temp'].hist(bins=10)\n",
    "\n",
    "plt.subplot(1,3,3)\n",
    "plt.title('Bins = Auto')\n",
    "weather['temp'].hist(bins='auto')\n",
    "\n",
    "plt.show()"
   ]
  },
  {
   "cell_type": "markdown",
   "id": "67feff9e",
   "metadata": {},
   "source": [
    " "
   ]
  },
  {
   "cell_type": "markdown",
   "id": "898a28fd",
   "metadata": {},
   "source": [
    "Finally, let us plot a histogram with more information."
   ]
  },
  {
   "cell_type": "code",
   "execution_count": null,
   "id": "ad05f09e",
   "metadata": {},
   "outputs": [],
   "source": [
    "plt.style.use('Solarize_Light2')\n",
    "plt.hist(weather['temp'], bins='auto', color='#0504aa', alpha=0.7)\n",
    "plt.xlabel('Temperature (Hourly)')\n",
    "plt.title('Hourly temperature from NYC in 2013')\n",
    "plt.show()"
   ]
  },
  {
   "cell_type": "markdown",
   "id": "2c47e2a9",
   "metadata": {},
   "source": [
    "### Something to think about\n",
    "3. What does the histogram tell us about the hourly temperature levels from NYC in 2013?"
   ]
  },
  {
   "cell_type": "markdown",
   "id": "25f1884d",
   "metadata": {},
   "source": [
    "## Boxplot\n",
    "Another way to look at the distribution of a variable is using a boxplot. A boxplot makes use of the standard five-number summary, that is\n",
    "\n",
    "* the minimum value;\n",
    "* the first quartile or 25th percentile;\n",
    "* the median (or 2nd quartile / 50th percentile);\n",
    "* the third quartile or 75th percentile;\n",
    "* and the maximum value.\n",
    "\n",
    "Keeping with the hourly temperature data, the five-number summary can be obtained by using the following command:"
   ]
  },
  {
   "cell_type": "code",
   "execution_count": null,
   "id": "97987e77",
   "metadata": {},
   "outputs": [],
   "source": [
    "weather.boxplot('temp')\n",
    "plt.ylabel('Hourly Temperature')\n",
    "plt.title('Hourly temperatures from NYC in 2013')\n",
    "plt.show()"
   ]
  },
  {
   "cell_type": "markdown",
   "id": "6e40b52c",
   "metadata": {},
   "source": [
    "We could look at how the hourly temperature changes by month:"
   ]
  },
  {
   "cell_type": "code",
   "execution_count": null,
   "id": "a5ccf41f",
   "metadata": {},
   "outputs": [],
   "source": [
    "weather.boxplot('temp', by='month');"
   ]
  },
  {
   "cell_type": "code",
   "execution_count": null,
   "id": "44aca1f7",
   "metadata": {},
   "outputs": [],
   "source": [
    "weather.boxplot('temp', by='month')\n",
    "plt.suptitle('')\n",
    "plt.xlabel('Month')\n",
    "plt.ylabel('Hourly Temperature')\n",
    "plt.title('Hourly temperatures from NYC in 2013')\n",
    "months = ['Jan', 'Feb', 'Mar', 'Apr', 'May', 'Jun', 'Jul', 'Aug', 'Sep', 'Oct', 'Nov', 'Dec']\n",
    "plt.xticks(list(range(1, 13)), months);"
   ]
  },
  {
   "cell_type": "markdown",
   "id": "5c1da9ae",
   "metadata": {},
   "source": [
    "### Something to think about\n",
    "4. Which months have the highest variability in temperature?"
   ]
  },
  {
   "cell_type": "markdown",
   "id": "955b0145",
   "metadata": {},
   "source": [
    "## Barplots\n",
    "Barplots, or barcharts, are used to visualise the distributions of categorical variables. This essentially provides us with the frequencies of categories within a categorical variable. Lets take a look at the distribution of airline carriers within the flights data that flew out of New York City in 2013. We can do this by creating a table containing the number of flights from each airline carrier as follows:"
   ]
  },
  {
   "cell_type": "code",
   "execution_count": null,
   "id": "4560f257",
   "metadata": {},
   "outputs": [],
   "source": [
    "df.groupby('carrier').size().plot(kind='bar', rot=0)\n",
    "plt.xlabel('Carrier')\n",
    "plt.ylabel('Count');"
   ]
  },
  {
   "cell_type": "markdown",
   "id": "fa776ea7",
   "metadata": {},
   "source": [
    " "
   ]
  },
  {
   "cell_type": "markdown",
   "id": "91115084",
   "metadata": {},
   "source": [
    "Barplots can also be used to compare two categorical variables. For instance, lets say we wanted to look atthe number of flights that flew out of New York York in 2013 from each carrier and from each airport (LGA, JFK and EWR). "
   ]
  },
  {
   "cell_type": "code",
   "execution_count": null,
   "id": "aa65028c",
   "metadata": {},
   "outputs": [],
   "source": [
    "df.groupby(['carrier', 'origin']).size().unstack().plot(kind='bar', stacked=True, rot=0)\n",
    "plt.xlabel('Carrier')\n",
    "plt.ylabel('Count');"
   ]
  },
  {
   "cell_type": "markdown",
   "id": "efd484c5",
   "metadata": {},
   "source": [
    "This provides us with a visually nice barplot to present our carrier information by airport of origin. However,there are also alternative barplots to the stacked barplot.  One alternative to a stacked barplot is theside-by-side(ordodged)barplot, which, as suggested by its name, places the bars next to each anotherinstead of on top of one another. This can be produced as follows"
   ]
  },
  {
   "cell_type": "markdown",
   "id": "7165f3c0",
   "metadata": {},
   "source": [
    "#### Faceted barplot"
   ]
  },
  {
   "cell_type": "code",
   "execution_count": null,
   "id": "ca84b497",
   "metadata": {},
   "outputs": [],
   "source": [
    "df.groupby(['carrier', 'origin']).size().unstack().plot(kind='bar', subplots=True, rot=0)\n",
    "plt.xlabel('Carrier')\n",
    "plt.ylabel('Count');"
   ]
  },
  {
   "cell_type": "markdown",
   "id": "3c865755",
   "metadata": {},
   "source": [
    "#### side-by-side barplot"
   ]
  },
  {
   "cell_type": "code",
   "execution_count": null,
   "id": "cb66cc23",
   "metadata": {},
   "outputs": [],
   "source": [
    "df.groupby(['carrier', 'origin']).size().unstack().plot(kind='bar', rot=0)\n",
    "plt.xlabel('Carrier')\n",
    "plt.ylabel('Count')"
   ]
  },
  {
   "cell_type": "markdown",
   "id": "51e7bbf6",
   "metadata": {},
   "source": [
    "Linegraphs are typically used when looking at _time series_ data, that is, when we have information on how a variable changes over time. Hence, there is a natural ordering to the data when observing how something changes over time, and therefore, linegraphs should be avoided if there is no sequential ordering of a variable. Lets again look at the hourly temperature data, but this time only for Newark International Airport in January. This can be done by first subsetting the data as follows:"
   ]
  },
  {
   "cell_type": "code",
   "execution_count": null,
   "id": "9a2880ae",
   "metadata": {},
   "outputs": [],
   "source": [
    "Newark_Jan = weather[(weather['origin'] == 'EWR') & (weather['month'] == 1)]\n",
    "Newark_Jan"
   ]
  },
  {
   "cell_type": "code",
   "execution_count": null,
   "id": "b41add01",
   "metadata": {},
   "outputs": [],
   "source": [
    "plt.plot(Newark_Jan['temp']);"
   ]
  },
  {
   "cell_type": "markdown",
   "id": "35764cf4",
   "metadata": {},
   "source": [
    "# Seaborn Tutorial"
   ]
  },
  {
   "cell_type": "markdown",
   "id": "8aae350a",
   "metadata": {},
   "source": [
    "Seaborn is a data visualization library built on top of Matplotlib. It is often used because it makes attractive visualizations and works easily with Pandas. While in Matplotlib you often have to write multiple lines of code to create a plot Seaborn makes assumptions on what you want which often translates into getting the same plot with 1 line of code.\n",
    "\n",
    "### Installing with pip <br>\n",
    "`pip install seaborn`\n",
    "\n",
    "### Installing with conda <br>\n",
    "`conda install seaborn`"
   ]
  },
  {
   "cell_type": "markdown",
   "id": "3382b33a",
   "metadata": {},
   "source": [
    "### import"
   ]
  },
  {
   "cell_type": "code",
   "execution_count": null,
   "id": "a1709acf",
   "metadata": {},
   "outputs": [],
   "source": [
    "pwd"
   ]
  },
  {
   "cell_type": "code",
   "execution_count": null,
   "id": "a92f8409",
   "metadata": {},
   "outputs": [],
   "source": [
    "import numpy as np\n",
    "import pandas as pd\n",
    "import matplotlib.pyplot as plt\n",
    "import seaborn as sns\n",
    "\n",
    "import warnings\n",
    "warnings.filterwarnings(\"ignore\")"
   ]
  },
  {
   "cell_type": "markdown",
   "id": "299ed07d",
   "metadata": {},
   "source": [
    "### Import Data"
   ]
  },
  {
   "cell_type": "code",
   "execution_count": null,
   "id": "3c2a0892",
   "metadata": {},
   "outputs": [],
   "source": [
    "# You can import custom data\n",
    "cs_df = pd.read_csv('ComputerSales.csv')\n",
    "\n",
    "# Seaborn provides built in datasets\n",
    "print(sns.get_dataset_names())\n",
    "\n",
    "# Load a built in dataset based on US State car crash percentages\n",
    "crash_df = sns.load_dataset('car_crashes')"
   ]
  },
  {
   "cell_type": "code",
   "execution_count": null,
   "id": "1cbf1af9",
   "metadata": {},
   "outputs": [],
   "source": [
    "cs_df"
   ]
  },
  {
   "cell_type": "code",
   "execution_count": null,
   "id": "a094e501",
   "metadata": {},
   "outputs": [],
   "source": [
    "crash_df.head()"
   ]
  },
  {
   "cell_type": "markdown",
   "id": "295aa742",
   "metadata": {},
   "source": [
    "### Distribution Plots"
   ]
  },
  {
   "cell_type": "markdown",
   "id": "34822860",
   "metadata": {},
   "source": [
    "### Distribution Plot"
   ]
  },
  {
   "cell_type": "code",
   "execution_count": null,
   "id": "48d70dcc",
   "metadata": {},
   "outputs": [],
   "source": [
    "# Provides a way to look at a univariate distribution. A \n",
    "# univariate distribution provides a distribution for one variable\n",
    "# Kernal Density Estimation with a Histogram is provided\n",
    "# kde=False removes the KDE\n",
    "# Bins define how many buckets to divide the data up into between intervals\n",
    "# For example put all profits between $10 and $20 in this bucket\n",
    "sns.distplot(crash_df['not_distracted'], kde=True, bins=25)"
   ]
  },
  {
   "cell_type": "markdown",
   "id": "13afd23b",
   "metadata": {},
   "source": [
    "### Joint Plot"
   ]
  },
  {
   "cell_type": "code",
   "execution_count": null,
   "id": "171548bf",
   "metadata": {},
   "outputs": [],
   "source": [
    "# Jointplot compares 2 distributions and plots a scatter plot by default\n",
    "# As we can see as people tend to speed they also tend to drink & drive\n",
    "# With kind you can create a regression line with kind='reg'\n",
    "# You can create a 2D KDE with kind='kde'\n",
    "# Kernal Density Estimation estimates the distribution of data\n",
    "# You can create a hexagon distribution with kind='hex'\n",
    "sns.jointplot(x='speeding', y='alcohol', data=crash_df, kind='reg')"
   ]
  },
  {
   "cell_type": "markdown",
   "id": "b125e4e7",
   "metadata": {},
   "source": [
    "### KDE Plot"
   ]
  },
  {
   "cell_type": "code",
   "execution_count": null,
   "id": "07e5176e",
   "metadata": {},
   "outputs": [],
   "source": [
    "# Get just the KDE plot\n",
    "sns.kdeplot(crash_df['alcohol'])"
   ]
  },
  {
   "cell_type": "markdown",
   "id": "7c495c97",
   "metadata": {},
   "source": [
    "### Pair Plots"
   ]
  },
  {
   "cell_type": "code",
   "execution_count": null,
   "id": "354e5f26",
   "metadata": {},
   "outputs": [],
   "source": [
    "# Pair Plot plots relationships across the entire data frames numerical values\n",
    "sns.pairplot(crash_df)\n",
    "\n",
    "# Load data on tips\n",
    "tips_df = sns.load_dataset('tips')\n",
    "\n",
    "# With hue you can pass in a categorical column and the charts will be colorized\n",
    "# You can use color maps from Matplotlib to define what colors to use\n",
    "# sns.pairplot(tips_df, hue='sex', palette='Blues')"
   ]
  },
  {
   "cell_type": "markdown",
   "id": "78e397da",
   "metadata": {},
   "source": [
    "### Styling"
   ]
  },
  {
   "cell_type": "code",
   "execution_count": null,
   "id": "845a8e8a",
   "metadata": {},
   "outputs": [],
   "source": [
    "# You can set styling for your axes and grids\n",
    "# white, darkgrid, whitegrid, dark, ticks\n",
    "sns.set_style('white')\n",
    "\n",
    "# You can use figure sizing from Matplotlib\n",
    "plt.figure(figsize=(8,4))\n",
    "\n",
    "# Change size of lables, lines and other elements to best fit\n",
    "# how you will present your data (paper, talk, poster)\n",
    "sns.set_context('paper', font_scale=1.4)\n",
    "\n",
    "sns.jointplot(x='speeding', y='alcohol', data=crash_df, kind='reg')\n",
    "\n",
    "# Get rid of spines\n",
    "# You can turn of specific spines with right=True, left=True\n",
    "# bottom=True, top=True\n",
    "sns.despine(left=False, bottom=False)"
   ]
  },
  {
   "cell_type": "markdown",
   "id": "a0c40cf5",
   "metadata": {},
   "source": [
    "### Categorical Plots"
   ]
  },
  {
   "cell_type": "markdown",
   "id": "1b225999",
   "metadata": {},
   "source": [
    "### Bar Plots"
   ]
  },
  {
   "cell_type": "code",
   "execution_count": null,
   "id": "d6747d21",
   "metadata": {},
   "outputs": [],
   "source": [
    "# Focus on distributions using categorical data in reference to one of the numerical\n",
    "# columns\n",
    "\n",
    "# Aggregate categorical data based on a function (mean is the default)\n",
    "# Estimate total bill amount based on sex\n",
    "# With estimator you can define functions to use other than the mean like those\n",
    "# provided by NumPy : median, std, var, cov or make your own functions\n",
    "sns.barplot(x='sex', y='total_bill', data=tips_df, estimator=np.median)"
   ]
  },
  {
   "cell_type": "markdown",
   "id": "cbf13051",
   "metadata": {},
   "source": [
    "### Count Plot"
   ]
  },
  {
   "cell_type": "code",
   "execution_count": null,
   "id": "a6adf080",
   "metadata": {},
   "outputs": [],
   "source": [
    "# A count plot is like a bar plot, but the estimator is counting \n",
    "# the number of occurances\n",
    "sns.countplot(x='sex', data=tips_df)"
   ]
  },
  {
   "cell_type": "markdown",
   "id": "a8bfe6f4",
   "metadata": {},
   "source": [
    "### Box Plot"
   ]
  },
  {
   "cell_type": "code",
   "execution_count": null,
   "id": "dac610db",
   "metadata": {},
   "outputs": [],
   "source": [
    "plt.figure(figsize=(14,9))\n",
    "sns.set_style('darkgrid')\n",
    "\n",
    "# A box plot allows you to compare different variables\n",
    "# The box shows the quartiles of the data. The bar in the middle is the median and\n",
    "# the box extends 1 standard deviation from the median\n",
    "# The whiskers extend to all the other data aside from the points that are considered\n",
    "# to be outliers\n",
    "# Hue can add another category being sex\n",
    "# We see men spend way more on Friday versus less than women on Saturday\n",
    "sns.boxplot(x='day',y='total_bill',data=tips_df, hue='sex')\n",
    "\n",
    "# Moves legend to the best position\n",
    "plt.legend(loc=0)"
   ]
  },
  {
   "cell_type": "markdown",
   "id": "a442709f",
   "metadata": {},
   "source": [
    "### Violin Plot"
   ]
  },
  {
   "cell_type": "code",
   "execution_count": null,
   "id": "7b751812",
   "metadata": {},
   "outputs": [],
   "source": [
    "# Violin Plot is a combination of the boxplot and KDE\n",
    "# While a box plot corresponds to data points, the violin plot uses the KDE estimation\n",
    "# of the data points\n",
    "# Split allows you to compare how the categories compare to each other\n",
    "sns.violinplot(x='day',y='total_bill',data=tips_df, hue='sex',split=True)"
   ]
  },
  {
   "cell_type": "markdown",
   "id": "ef6d81c4",
   "metadata": {},
   "source": [
    "### Strip Plot"
   ]
  },
  {
   "cell_type": "code",
   "execution_count": null,
   "id": "d31a4598",
   "metadata": {},
   "outputs": [],
   "source": [
    "plt.figure(figsize=(8,5))\n",
    "\n",
    "# The strip plot draws a scatter plot representing all data points where one\n",
    "# variable is categorical. It is often used to show all observations with \n",
    "# a box plot that represents the average distribution\n",
    "# Jitter spreads data points out so that they aren't stacked on top of each other\n",
    "# Hue breaks data into men and women\n",
    "# Dodge separates the men and women data\n",
    "sns.stripplot(x='day',y='total_bill',data=tips_df, jitter=True, \n",
    "              hue='sex', dodge=True)"
   ]
  },
  {
   "cell_type": "markdown",
   "id": "efbf71a6",
   "metadata": {},
   "source": [
    "### Swarm Plot"
   ]
  },
  {
   "cell_type": "code",
   "execution_count": null,
   "id": "30855cfa",
   "metadata": {},
   "outputs": [],
   "source": [
    "# A swarm plot is like a strip plot, but points are adjusted so they don't overlap\n",
    "# It looks like a combination of the violin and strip plots\n",
    "# sns.swarmplot(x='day',y='total_bill',data=tips_df)\n",
    "\n",
    "# You can stack a violin plot with a swarm\n",
    "sns.violinplot(x='day',y='total_bill',data=tips_df)\n",
    "sns.swarmplot(x='day',y='total_bill',data=tips_df, color='white')\n"
   ]
  },
  {
   "cell_type": "markdown",
   "id": "24057893",
   "metadata": {},
   "source": [
    "### Palettes"
   ]
  },
  {
   "cell_type": "code",
   "execution_count": null,
   "id": "865fac1c",
   "metadata": {},
   "outputs": [],
   "source": [
    "plt.figure(figsize=(8,6))\n",
    "\n",
    "sns.set_style('dark')\n",
    "\n",
    "sns.set_context('talk')\n",
    "\n",
    "# You can use Matplotlibs color maps for color styling\n",
    "# https://matplotlib.org/3.3.1/tutorials/colors/colormaps.html\n",
    "sns.stripplot(x='day',y='total_bill',data=tips_df, hue='sex', \n",
    "             palette='seismic')\n",
    "\n",
    "# Add the optional legend with a location number (best: 0, \n",
    "# upper right: 1, upper left: 2, lower left: 3, lower right: 4,\n",
    "# https://matplotlib.org/3.3.1/api/_as_gen/matplotlib.pyplot.legend.html)\n",
    "# or supply a tuple of x & y from lower left\n",
    "plt.legend(loc=0)"
   ]
  },
  {
   "cell_type": "markdown",
   "id": "0e86fc7f",
   "metadata": {},
   "source": [
    "### Matrix Plots"
   ]
  },
  {
   "cell_type": "markdown",
   "id": "5d0c48ef",
   "metadata": {},
   "source": [
    "### Heatmaps"
   ]
  },
  {
   "cell_type": "code",
   "execution_count": null,
   "id": "42968d50",
   "metadata": {},
   "outputs": [],
   "source": [
    "plt.figure(figsize=(8,6))\n",
    "sns.set_context('paper', font_scale=1.4)\n",
    "# To create a heatmap with data you must have data set up as a matrix where variables\n",
    "# are on the columns and rows\n",
    "\n",
    "# Correlation tells you how influential a variable is on the result\n",
    "# So we see that n previous accident is heavily correlated with accidents, while the\n",
    "# insurance premium is not\n",
    "crash_mx = crash_df.corr()\n",
    "\n",
    "# Create the heatmap, add annotations and a color map\n",
    "sns.heatmap(crash_mx, annot=True, cmap='Blues');"
   ]
  },
  {
   "cell_type": "code",
   "execution_count": null,
   "id": "e0aacd50",
   "metadata": {},
   "outputs": [],
   "source": [
    "plt.figure(figsize=(8,6))\n",
    "sns.set_context('paper', font_scale=1.4)\n",
    "\n",
    "# We can create a matrix with an index of month, columns representing years\n",
    "# and the number of passengers for each\n",
    "# We see that flights have increased over time and that most people travel in\n",
    "# July and August\n",
    "flights = sns.load_dataset(\"flights\")\n",
    "flights = flights.pivot_table(index='month', columns='year', values='passengers')\n",
    "# You can separate data with lines\n",
    "sns.heatmap(flights, cmap='Blues', linecolor='white', linewidth=1);"
   ]
  },
  {
   "cell_type": "markdown",
   "id": "278badc9",
   "metadata": {},
   "source": [
    "### Cluster Map"
   ]
  },
  {
   "cell_type": "code",
   "execution_count": null,
   "id": "b3bd4b9e",
   "metadata": {},
   "outputs": [],
   "source": [
    "plt.figure(figsize=(8,6))\n",
    "sns.set_context('paper', font_scale=1.4)\n",
    "\n",
    "# A Cluster map is a hierarchically clustered heatmap\n",
    "# The distance between points is calculated, the closest are joined, and this\n",
    "# continues for the next closest (It compares columns / rows of the heatmap)\n",
    "# This is data on iris flowers with data on petal lengths\n",
    "iris = sns.load_dataset(\"iris\")\n",
    "# Return values for species\n",
    "# species = iris.pop(\"species\")\n",
    "# sns.clustermap(iris)\n",
    "\n",
    "# With our flights data we can see that years have been reoriented to place\n",
    "# like data closer together\n",
    "# You can see clusters of data for July & August for the years 59 & 60\n",
    "# standard_scale normalizes the data to focus on the clustering\n",
    "sns.clustermap(flights,cmap=\"Blues\", standard_scale=1)\n"
   ]
  },
  {
   "cell_type": "markdown",
   "id": "151e3792",
   "metadata": {},
   "source": [
    "### PairGrid"
   ]
  },
  {
   "cell_type": "code",
   "execution_count": null,
   "id": "247f9856",
   "metadata": {},
   "outputs": [],
   "source": [
    "plt.figure(figsize=(8,6))\n",
    "sns.set_context('paper', font_scale=1.4)\n",
    "\n",
    "# You can create a grid of different plots with complete control over what is displayed\n",
    "# Create the empty grid system using the provided data\n",
    "# Colorize based on species\n",
    "# iris_g = sns.PairGrid(iris, hue=\"species\")\n",
    "\n",
    "# Put a scatter plot across the upper, lower and diagonal\n",
    "# iris_g.map(plt.scatter)\n",
    "\n",
    "# Put a histogram on the diagonal \n",
    "# iris_g.map_diag(plt.hist)\n",
    "# And a scatter plot every place else \n",
    "# iris_g.map_offdiag(plt.scatter)\n",
    "\n",
    "# Have different plots in upper, lower and diagonal\n",
    "# iris_g.map_upper(plt.scatter)\n",
    "# iris_g.map_lower(sns.kdeplot)\n",
    "\n",
    "# You can define define variables for x & y for a custom grid\n",
    "iris_g = sns.PairGrid(iris, hue=\"species\",\n",
    "                      x_vars=[\"sepal_length\", \"sepal_width\"],\n",
    "                      y_vars=[\"petal_length\", \"petal_width\"])\n",
    "\n",
    "iris_g.map(plt.scatter)\n",
    "\n",
    "# Add a legend last\n",
    "iris_g.add_legend();"
   ]
  },
  {
   "cell_type": "markdown",
   "id": "40c96703",
   "metadata": {},
   "source": [
    "### Facet Grid"
   ]
  },
  {
   "cell_type": "code",
   "execution_count": null,
   "id": "63b5954c",
   "metadata": {},
   "outputs": [],
   "source": [
    "# Can also print multiple plots in a grid in which you define columns & rows\n",
    "# Get histogram for smokers and non with total bill for lunch & dinner\n",
    "# tips_fg = sns.FacetGrid(tips_df, col='time', row='smoker')\n",
    "\n",
    "# You can pass in attributes for the histogram\n",
    "# tips_fg.map(plt.hist, \"total_bill\", bins=8)\n",
    "\n",
    "# Create a scatter plot with data on total bill & tip (You need to parameters)\n",
    "# tips_fg.map(plt.scatter, \"total_bill\", \"tip\")\n",
    "\n",
    "# We can assign variables to different colors and increase size of grid\n",
    "# Aspect is 1.3 x the size of height\n",
    "# You can change the order of the columns\n",
    "# Define the palette used\n",
    "# tips_fg = sns.FacetGrid(tips_df, col='time', hue='smoker', height=4, aspect=1.3,\n",
    "#                       col_order=['Dinner', 'Lunch'], palette='Set1')\n",
    "# tips_fg.map(plt.scatter, \"total_bill\", \"tip\", edgecolor='w')\n",
    "\n",
    "# # Define size, linewidth and assign a color of white to markers\n",
    "# kws = dict(s=50, linewidth=.5, edgecolor=\"w\")\n",
    "# # Define that we want to assign different markers to smokers and non\n",
    "# tips_fg = sns.FacetGrid(tips_df, col='sex', hue='smoker', height=4, aspect=1.3,\n",
    "#                         hue_order=['Yes','No'], \n",
    "#                         hue_kws=dict(marker=['^', 'v']))\n",
    "# tips_fg.map(plt.scatter, \"total_bill\", \"tip\", **kws)\n",
    "# tips_fg.add_legend()\n",
    "\n",
    "# This dataframe provides scores for different students based on the level\n",
    "# of attention they could provide during testing\n",
    "att_df = sns.load_dataset(\"attention\")\n",
    "# Put each person in their own plot with 5 per line and plot their scores\n",
    "att_fg = sns.FacetGrid(att_df, col='subject', col_wrap=5, height=1.5)\n",
    "att_fg.map(plt.plot, 'solutions', 'score', marker='.');"
   ]
  },
  {
   "cell_type": "markdown",
   "id": "4eae4b78",
   "metadata": {},
   "source": [
    "### Regression Plots"
   ]
  },
  {
   "cell_type": "code",
   "execution_count": null,
   "id": "ce2bfc6d",
   "metadata": {},
   "outputs": [],
   "source": [
    "# lmplot combines regression plots with facet grid\n",
    "tips_df = sns.load_dataset('tips')\n",
    "tips_df.head()"
   ]
  },
  {
   "cell_type": "code",
   "execution_count": null,
   "id": "27300ecf",
   "metadata": {},
   "outputs": [],
   "source": [
    "plt.figure(figsize=(8,6));\n",
    "sns.set_context('paper', font_scale=1.4);\n",
    "\n",
    "plt.figure(figsize=(8,6));\n",
    "\n",
    "# We can plot a regression plot studying whether total bill effects the tip\n",
    "# hue is used to show separation based off of categorical data\n",
    "# We see that males tend to tip slightly more\n",
    "# Define different markers for men and women\n",
    "# You can effect the scatter plot by passing in a dictionary for styling of markers\n",
    "sns.lmplot(x='total_bill', y='tip', hue='sex', data=tips_df, markers=['o', '^'], \n",
    "          scatter_kws={'s': 100, 'linewidth': 0.5, 'edgecolor': 'w'});"
   ]
  },
  {
   "cell_type": "code",
   "execution_count": null,
   "id": "6f9840a5",
   "metadata": {},
   "outputs": [],
   "source": [
    "# You can separate the data into separate columns for day data\n",
    "# sns.lmplot(x='total_bill', y='tip', col='sex', row='time', data=tips_df)\n",
    "tips_df.head()\n",
    "\n",
    "# Makes the fonts more readable\n",
    "sns.set_context('poster', font_scale=1.4)\n",
    "\n",
    "sns.lmplot(x='total_bill', y='tip', data=tips_df, col='day', hue='sex',\n",
    "          height=8, aspect=0.6);"
   ]
  },
  {
   "cell_type": "code",
   "execution_count": null,
   "id": "b53bdc7d",
   "metadata": {},
   "outputs": [],
   "source": []
  },
  {
   "cell_type": "code",
   "execution_count": null,
   "id": "cc022f06",
   "metadata": {},
   "outputs": [],
   "source": [
    "# Handle all my imports\n",
    "import numpy as np\n",
    "import pandas as pd\n",
    "from sklearn.preprocessing import LabelBinarizer\n",
    "from sklearn.model_selection import train_test_split\n",
    "from sklearn.linear_model import LinearRegression\n",
    "import matplotlib.pyplot as plt\n",
    "import statsmodels.api as sm\n",
    "from sklearn.metrics import r2_score , mean_absolute_error, mean_squared_error"
   ]
  },
  {
   "cell_type": "markdown",
   "id": "c4e957cf",
   "metadata": {},
   "source": [
    "# Regression"
   ]
  },
  {
   "cell_type": "markdown",
   "id": "0b754f87",
   "metadata": {},
   "source": [
    "\n",
    "Supervised learning use cases examples\n",
    "\n",
    "- How much will be the daily, monthly, and yearly sales for agiven store for the next three years?\n",
    "- How many car parking spaces should be allocated for a retail store?\n",
    "- How much will be my monthly electricity cost for the next three years?\n",
    "- What will be the temperature for the next five days?\n",
    "\n",
    "The presence of the words ‘how much’ and ‘how\n",
    "many’ implies that the answer for these questions will be a quantitative or continuous\n",
    "number. The regression is one of the fundamental techniques that will help us to find answers to these types of questions by studying the relationship between the different\n",
    "variables that are relevant to the questions that we are trying to answer.\n",
    "\n",
    "<b>Example: </b>\n",
    "Let’s consider a use case where we have collected students’ average test grade scores\n",
    "and their respective average number of study hours for the test for group of similar IQ\n",
    "students."
   ]
  },
  {
   "cell_type": "code",
   "execution_count": null,
   "id": "2a8ca952",
   "metadata": {},
   "outputs": [],
   "source": [
    "data = {'Hours_Studied': [2,3,4,5,6,7,8,9,10],\n",
    "       'Test_Grade':[57,66,73,76,79,81,90,96,100]}\n",
    "df = pd.DataFrame(data)\n",
    "df.head()"
   ]
  },
  {
   "cell_type": "code",
   "execution_count": null,
   "id": "941f5c95",
   "metadata": {},
   "outputs": [],
   "source": [
    "df.corr()"
   ]
  },
  {
   "cell_type": "code",
   "execution_count": null,
   "id": "5894bfb5",
   "metadata": {},
   "outputs": [],
   "source": [
    "# Simple scatter plot\n",
    "df.plot(kind='scatter', x='Hours_Studied', y='Test_Grade', title='Grade vs Hours Studied')\n",
    "plt.show()"
   ]
  },
  {
   "cell_type": "markdown",
   "id": "9ab2ac66",
   "metadata": {},
   "source": [
    "A simple scatter plot with hours studied on the x-axis and the test grades on the\n",
    "y-axis shows that <b>the grade gradually increases with the increase in hours of study</b>. \n",
    "\n",
    "This implies that there is a linear relationship between the two variables. Further performing\n",
    "the correlation analysis shows that there is 98% positive relationship between the two\n",
    "variables, which means there is 98% chance that any change in study hours will lead to a\n",
    "change in grade."
   ]
  },
  {
   "cell_type": "markdown",
   "id": "45c4775d",
   "metadata": {},
   "source": [
    "## 2. Linear Regression Model\n",
    "\n",
    "For a given positive interger $n$, Linear Regression assumes the following model: \n",
    " \n",
    " $$Y = X\\alpha+ \\beta  + \\epsilon,$$\n",
    "where\n",
    "- $X = [X_1, \\cdots, X_n], X_i \\in R^m$ is the list of independant variables (explanatory),\n",
    "- $Y\\in R^m$ is the dependant variable (Target) \n",
    "- $\\alpha^T = [\\alpha_1, \\cdots, \\alpha_n]$ is list of coefficients called slope, \n",
    "- $\\beta\\in R^m$ in called the intercept, \n",
    "- $\\epsilon \\in R^m$ is the error that cannot be explained by model.\n",
    "\n",
    " \n",
    "Let's use the linear regression function from the <b>scikit-learn</b> library to find the values of $\\alpha$ and $\\beta$.\n",
    "\n",
    "Let us denote $\\hat{Y}$ the mean value of  $Y$ i.e.$$\\hat{Y} = \\dfrac{1}{n}\\sum_{1}^n y_i $$\n",
    "\n",
    "## 2.1. How good is your model?\n",
    "There are three metrics widely used for evaluating linear model performance.\n",
    "### 2.1.1. R-Squared for goodness of fit\n",
    "\n",
    "The R-squared metric is the most popular practice of evaluating how well your model fits\n",
    "the data. \n",
    "$$ \\text{R-squared} = 1 - \\dfrac{\\sum_{1}^n(e_i)^2}{\\sum_{1}^n(Y_i -\\bar{Y})^2} $$\n",
    "It is a value between 0 and 1; the value\n",
    "toward 1 indicates a better model fit. It can be computed with <b>r2_score</b> python function.\n",
    "\n",
    "### 2.1.2. Mean Absolute Error (MAE)\n",
    "\n",
    "The Mean Absolute Error, denoted MAE, is the mean or average of absolute value of the errors.\n",
    "$$\\text{MAE}= \\dfrac{1}{n}\\sum_{1}^n \\mid e_i\\mid $$\n",
    "\n",
    "MAE indicates how close the\n",
    "predicted values are to the actual values; hence a lower MAE value signifies that the\n",
    "model performance is good. It can be computed (in %) with <b>mean_absolute_error</b> python function. \n",
    "\n",
    "\n",
    "### 2.1.3. Root Mean Squared Error (RMSE)\n",
    "This is the square root of the mean of the squared errors. \n",
    "\n",
    "$$\\text{MAE}= \\sqrt{\\dfrac{1}{n}\\sum_{1}^n  (e_i)^2} $$\n",
    "RMSE indicates how close the\n",
    "predicted values are to the actual values; hence a lower RMSE value signifies that the\n",
    "model performance is good. It can be computed (in %) with <b>mean_squared_error</b> python function. \n",
    "\n",
    "\n",
    "### 2.2. Single variable Linear regression ($m=1$)\n",
    "\n",
    "Let’s consider a use case where we have collected students's average python mark\n",
    "and their respective average mark in the review phase."
   ]
  },
  {
   "cell_type": "code",
   "execution_count": null,
   "id": "1c1f1579",
   "metadata": {},
   "outputs": [],
   "source": [
    "df = pd.read_csv('PythonEffect.csv')\n",
    "# print(df.info())\n",
    "df.head()"
   ]
  },
  {
   "cell_type": "code",
   "execution_count": null,
   "id": "7fb71d20",
   "metadata": {},
   "outputs": [],
   "source": [
    "df.corr()"
   ]
  },
  {
   "cell_type": "code",
   "execution_count": null,
   "id": "aab6199f",
   "metadata": {},
   "outputs": [],
   "source": [
    "# Simple scatter plot\n",
    "df.plot(kind='scatter', x='PythonMark', y='ReviewPhaseMark', title='Python Effect')\n",
    "plt.show()"
   ]
  },
  {
   "cell_type": "code",
   "execution_count": null,
   "id": "d32ca00f",
   "metadata": {},
   "outputs": [],
   "source": [
    "# Create linear regression object\n",
    "Single_lr = LinearRegression()\n",
    "# #Extract \n",
    "X= df.PythonMark.values.reshape(-1, 1) # independent variable\n",
    "Y= df.ReviewPhaseMark.values.flatten() # dependent variable\n"
   ]
  },
  {
   "cell_type": "code",
   "execution_count": null,
   "id": "f08e5cad",
   "metadata": {},
   "outputs": [],
   "source": [
    "# split-up our current X & y variables into training\n",
    "# and testing data.\n",
    "\n",
    "X_train, X_test, Y_train, Y_test = train_test_split(X, Y, test_size=0.2, random_state=42)\n",
    "\n",
    "# Now we need to initiate our model and train it\n",
    "Single_lr.fit(X_train, Y_train)"
   ]
  },
  {
   "cell_type": "code",
   "execution_count": null,
   "id": "fd0a0e6e",
   "metadata": {},
   "outputs": [],
   "source": [
    "# get the value of alpha and beta\n",
    "alpha = Single_lr.coef_\n",
    "beta = Single_lr.intercept_\n",
    "\n",
    "# print the value of alpha and beta\n",
    "print('alpha = ', alpha[0])\n",
    "print('beta = ', beta)\n"
   ]
  },
  {
   "cell_type": "code",
   "execution_count": null,
   "id": "29defae9",
   "metadata": {
    "scrolled": true
   },
   "outputs": [],
   "source": [
    "# Make predictions using the testing set\n",
    "Y_pred = Single_lr.predict(X_test)\n",
    "\n",
    "# R-squared\n",
    "print('R-squared: %.2f' % r2_score(Y_test, Y_pred))\n",
    "# mean absolute error\n",
    "print(\"mean absolute error: %.2f\"% mean_absolute_error(Y_test, Y_pred))\n",
    "# Mean squared error\n",
    "print(\"Mean squared error: %.2f\"% mean_squared_error(Y_test, Y_pred))\n"
   ]
  },
  {
   "cell_type": "code",
   "execution_count": null,
   "id": "8a6c438e",
   "metadata": {},
   "outputs": [],
   "source": [
    "# Plot outputs\n",
    "plt.scatter(X_test, Y_test,  color='black')\n",
    "plt.plot(X_test, Y_pred, color='blue', linewidth=3)\n",
    "\n",
    "plt.show()\n"
   ]
  },
  {
   "cell_type": "markdown",
   "id": "a00b0018",
   "metadata": {},
   "source": [
    "### 2.3.  Multivariate Linear regression ($m>1$)\n",
    "\n",
    "Let us consider the following data"
   ]
  },
  {
   "cell_type": "code",
   "execution_count": null,
   "id": "bfa0d1a4",
   "metadata": {
    "scrolled": true
   },
   "outputs": [],
   "source": [
    "# Import the data and inspect it\n",
    "maths = pd.read_csv('student-mat.csv')\n",
    "maths.head()"
   ]
  },
  {
   "cell_type": "code",
   "execution_count": null,
   "id": "a198f6fe",
   "metadata": {},
   "outputs": [],
   "source": [
    "print(maths.info())"
   ]
  },
  {
   "cell_type": "code",
   "execution_count": null,
   "id": "679e2566",
   "metadata": {},
   "outputs": [],
   "source": [
    "corr = maths.corr()\n",
    "# maths.corr()\n",
    "sm.graphics.plot_corr(corr, xnames=list(corr.columns))\n",
    "plt.show()"
   ]
  },
  {
   "cell_type": "code",
   "execution_count": null,
   "id": "893d8457",
   "metadata": {},
   "outputs": [],
   "source": [
    "maths.sex.unique()#this is a categorical variable"
   ]
  },
  {
   "cell_type": "code",
   "execution_count": null,
   "id": "c3e5e7f3",
   "metadata": {},
   "outputs": [],
   "source": [
    "maths.famsize.unique()#this is a categorical variable"
   ]
  },
  {
   "cell_type": "markdown",
   "id": "957f2329",
   "metadata": {},
   "source": [
    "<b>Note that sklearn can only accept numerical inputs</b>.\n",
    "\n",
    "### 2.3.1. Pre-processing of labeled data\n",
    "The categorical variables need to be handled appropriately before running the first\n",
    "iteration of the model. Scikit-learn provides useful built-in preprocessing functions to\n",
    "handle categorical variables.\n",
    "\n",
    "- <b>LabelBinarizer</b>: This will replace the binary variable text withvnumeric vales. We'll be using this function for the binary categorical variables.\n",
    "\n",
    "- <b>LabelEncoder</b>: This will replace category level with number representation.\n",
    "\n",
    "- <b>OneHotEncoder</b>: This will convert n levels to n-1 new variable, and the new variables will use 1 to indicate the presence of level and 0 for otherwise. Note that before calling <b>OneHotEncoder</b>, we should use <b>LabelEncoder</b> to convert levels to number. Alternatively we can achieve the same using get_dummies of the Pandas package. This is much more efficient to use as we can directly use it on the column with text description without having to convert to numbers first."
   ]
  },
  {
   "cell_type": "code",
   "execution_count": null,
   "id": "252ea4fc",
   "metadata": {},
   "outputs": [],
   "source": [
    "# # Convert binary variable 'sex' to numeric boolean fields\n",
    "lb = LabelBinarizer()\n",
    "maths.sex = lb.fit_transform(maths.sex)\n",
    "maths.sex.unique()"
   ]
  },
  {
   "cell_type": "code",
   "execution_count": null,
   "id": "61c642e3",
   "metadata": {},
   "outputs": [],
   "source": [
    "# # Convert binary variable 'famsize' to numeric boolean fields\n",
    "maths.famsize = lb.fit_transform(maths.famsize)\n",
    "maths.famsize.unique()"
   ]
  },
  {
   "cell_type": "code",
   "execution_count": null,
   "id": "3a062106",
   "metadata": {
    "scrolled": true
   },
   "outputs": [],
   "source": [
    "corr = maths.corr()\n",
    "sm.graphics.plot_corr(corr, xnames=list(corr.columns))\n",
    "plt.show()\n",
    "\n"
   ]
  },
  {
   "cell_type": "code",
   "execution_count": null,
   "id": "7bd7b88d",
   "metadata": {},
   "outputs": [],
   "source": [
    "maths = maths[['sex', 'famsize', 'studytime', 'famrel', 'absences', 'G1', 'G2', 'G3']]\n",
    "\n",
    "\n",
    "MX = maths[['sex', 'famsize', 'studytime', 'famrel', 'absences', 'G1', 'G2']].values.reshape(-1, 7)\n",
    "MY = maths['G3'].values.flatten()"
   ]
  },
  {
   "cell_type": "code",
   "execution_count": null,
   "id": "b82f3b3d",
   "metadata": {},
   "outputs": [],
   "source": [
    "# split-up our current X & y variables into training\n",
    "# and testing data.\n",
    "\n",
    "MX_train, MX_test, MY_train, MY_test = train_test_split(MX,MY, test_size=0.2, random_state=42)\n",
    "\n",
    "# Now we need to initiate our model and train it\n",
    "\n",
    "Multi_lr = LinearRegression()\n",
    "Multi_lr.fit(MX_train, MY_train)"
   ]
  },
  {
   "cell_type": "code",
   "execution_count": null,
   "id": "3f9010e1",
   "metadata": {},
   "outputs": [],
   "source": [
    "# Lets take a look at how well this model preforms\n",
    "print(\"The R-Squared: \", Multi_lr.score(MX_test, MY_test))\n",
    "alpha = Multi_lr.coef_\n",
    "beta = Multi_lr.intercept_\n",
    "\n",
    "for i in range(alpha.size):\n",
    "    print(maths.columns[i], ': ', alpha[i])\n",
    "print('The intercept of our slope is: ', beta)"
   ]
  },
  {
   "cell_type": "code",
   "execution_count": null,
   "id": "a984513e",
   "metadata": {},
   "outputs": [],
   "source": [
    "MY_pred = Multi_lr.predict(MX_test)\n",
    "print('Mean Absolute Error:', mean_absolute_error(MY_test, MY_pred))  \n",
    "print('Mean Squared Error:', mean_squared_error(MY_test, MY_pred))  \n",
    "print('Root Mean Squared Error:', np.sqrt(mean_squared_error(MY_test, MY_pred)))"
   ]
  },
  {
   "cell_type": "code",
   "execution_count": null,
   "id": "410efd2a",
   "metadata": {},
   "outputs": [],
   "source": []
  },
  {
   "cell_type": "code",
   "execution_count": null,
   "id": "d6394980",
   "metadata": {},
   "outputs": [],
   "source": []
  },
  {
   "cell_type": "code",
   "execution_count": null,
   "id": "a4a088fc",
   "metadata": {},
   "outputs": [],
   "source": [
    "import numpy as np\n",
    "import matplotlib.pyplot as plt\n",
    "import pandas as pd\n",
    "import seaborn as sns\n",
    "from sklearn.linear_model import LogisticRegression\n",
    "from sklearn.model_selection import train_test_split\n",
    "from sklearn.metrics import confusion_matrix, accuracy_score"
   ]
  },
  {
   "cell_type": "code",
   "execution_count": null,
   "id": "b6422c58",
   "metadata": {},
   "outputs": [],
   "source": [
    "dataset = pd.read_csv(\"Iris.csv\")\n",
    "dataset.head()"
   ]
  },
  {
   "cell_type": "code",
   "execution_count": null,
   "id": "fc0983da",
   "metadata": {},
   "outputs": [],
   "source": [
    "X = dataset[[\"SepalLengthCm\",\"SepalWidthCm\", \"PetalLengthCm\",\"PetalWidthCm\"]].values.reshape(-1,4)\n",
    "y = dataset[\"Species\"].values.flatten()\n",
    "X_train, X_test, y_train, y_test = train_test_split(X, y, test_size = 0.25, random_state = 0)"
   ]
  },
  {
   "cell_type": "code",
   "execution_count": null,
   "id": "46c55150",
   "metadata": {},
   "outputs": [],
   "source": [
    "# Fitting Logistic Regression to the Training set\n",
    "classifier = LogisticRegression(random_state = 0, multi_class='auto')\n",
    "classifier.fit(X_train, y_train)"
   ]
  },
  {
   "cell_type": "code",
   "execution_count": null,
   "id": "d85f401b",
   "metadata": {},
   "outputs": [],
   "source": [
    "# Predicting the Test set results\n",
    "y_pred = classifier.predict(X_test)\n",
    "# Predict probabilities\n",
    "probs_y=classifier.predict_proba(X_test)### Print results \n",
    "probs_y = np.round(probs_y, 2)\n",
    "probs_y\n",
    "result = pd.DataFrame(probs_y, columns= np.unique(dataset.Species))\n",
    "result.insert(loc=0, column=\"Test\", value=y_test)\n",
    "result.insert(loc=1, column ='Predicted', value=y_pred)\n",
    "result.sample(10)"
   ]
  },
  {
   "cell_type": "code",
   "execution_count": null,
   "id": "33a8e9ac",
   "metadata": {},
   "outputs": [],
   "source": [
    "con_mat = confusion_matrix(y_test, y_pred)\n",
    "print(con_mat)"
   ]
  },
  {
   "cell_type": "code",
   "execution_count": null,
   "id": "61c0ed62",
   "metadata": {},
   "outputs": [],
   "source": [
    "# confusion matrix sns heatmap \n",
    "#ax = plt.axes()\n",
    "sns.heatmap(con_mat, annot=True, annot_kws={\"size\": 20},cmap=\"summer_r\", xticklabels=np.unique(dataset.Species),\n",
    "           yticklabels=np.unique(dataset.Species))\n",
    "plt.title(\"Confusion Matrix of the classifier\")\n",
    "plt.ylabel('Actual labels')\n",
    "plt.xlabel('Predicted labels')\n",
    "plt.show()"
   ]
  },
  {
   "cell_type": "code",
   "execution_count": null,
   "id": "8c1b90ea",
   "metadata": {},
   "outputs": [],
   "source": [
    "print(\"Accuracy:\",accuracy_score(y_test, y_pred))"
   ]
  },
  {
   "cell_type": "markdown",
   "id": "4a2a4199",
   "metadata": {},
   "source": [
    "# Exos"
   ]
  },
  {
   "cell_type": "markdown",
   "id": "7db5455e",
   "metadata": {},
   "source": [
    "## Stats"
   ]
  },
  {
   "cell_type": "code",
   "execution_count": null,
   "id": "single-application",
   "metadata": {},
   "outputs": [],
   "source": [
    "import numpy as np\n",
    "import matplotlib.pyplot as plt\n",
    "np.random.seed(10)"
   ]
  },
  {
   "cell_type": "code",
   "execution_count": null,
   "id": "cbcd5f0a",
   "metadata": {},
   "outputs": [],
   "source": [
    "# Write Python function called Process that takes α, N, q and return the array of x_i\n",
    "# 1\n",
    "def Process(alpha, N, q):\n",
    "    x=np.zeros(N+1)\n",
    "    x[0]=np.random.normal(0,1)\n",
    "    x[1:]=alpha*x[0:N]+np.random.normal(0,q,N)\n",
    "    return x"
   ]
  },
  {
   "cell_type": "code",
   "execution_count": null,
   "id": "f8162d26",
   "metadata": {},
   "outputs": [],
   "source": [
    "# 2\n",
    "def Data(x,r,h):\n",
    "    N=len(x)-1\n",
    "    y=np.zeros(N)\n",
    "    y=h*x[1:]+np.random.normal(0,r,N)\n",
    "    return y\n",
    "    "
   ]
  },
  {
   "cell_type": "code",
   "execution_count": null,
   "id": "bc4e4173",
   "metadata": {},
   "outputs": [],
   "source": [
    "# 3\n",
    "r = 0.1 \n",
    "h = 1\n",
    "alpha = 0.8\n",
    "N = 30\n",
    "q = 0.4\n",
    "x=Process(alpha, N, q)\n",
    "y=Data(x,r,h)"
   ]
  },
  {
   "cell_type": "code",
   "execution_count": null,
   "id": "840186ab",
   "metadata": {},
   "outputs": [],
   "source": [
    "\n",
    "plt.plot(np.arange(N+1),x)\n",
    "plt.plot(np.arange(1,N+1),y)\n",
    "\n",
    "plt.show()"
   ]
  },
  {
   "cell_type": "code",
   "execution_count": null,
   "id": "ea65850b",
   "metadata": {},
   "outputs": [],
   "source": [
    "# 6\n",
    "mu1_0 = 0\n",
    "sigma1_0 = q+alpha**2\n",
    "K1=h*(q+alpha**2)*(h**2*(q+alpha**2)+r)**(-1)\n",
    "mu1_1=K1*y[0]\n",
    "sigma1_1=(1-K1*h)*sigma1_0 \n",
    "# 7\n",
    "mu_old=np.zeros(N)\n",
    "sigma_old=np.zeros(N)\n",
    "K=np.zeros(N)\n",
    "mu_new=np.zeros(N)\n",
    "sigma_new=np.zeros(N)\n",
    "\n",
    "mu_old[0]=mu1_0 \n",
    "sigma_old[0]=sigma1_0\n",
    "K[0]=K1\n",
    "mu_new[0]=mu1_1\n",
    "sigma_new[0]=sigma1_1\n",
    "\n",
    "for i in range(1,N):\n",
    "    mu_old[i]=alpha*mu_old[i-1]\n",
    "    sigma_old[i]=q+alpha**2*sigma_new[i-1]\n",
    "    K[i]=h*sigma_old[i]*(h**2*sigma_old[i]+r)**(-1)\n",
    "    mu_new[i]=mu_old[i]+ K[i]*(y[i]-h*mu_old[i])\n",
    "    sigma_new[i]=(1-h*K[i])*sigma_old[i]\n",
    "\n",
    "# mu_old[1:]=alpha*mu_old[0:N-1]\n",
    "# sigma_old[1:]=q+alpha**2*sigma_new[0:N-1]\n",
    "# K[1:]=h*sigma_old[1:]*(h**2*sigma_old[1:]+r)**(-1)\n",
    "# mu_new[1:]=mu_old[1:]+ K[1:]*(y[1:]-h*mu_old[1:])\n",
    "# sigma_new[1:]=(1-h*K[1:])*sigma_old[1:]"
   ]
  },
  {
   "cell_type": "code",
   "execution_count": null,
   "id": "occupied-copyright",
   "metadata": {},
   "outputs": [],
   "source": [
    "# 8  a)\n",
    "print(mu_new)\n",
    "sigma_old"
   ]
  },
  {
   "cell_type": "code",
   "execution_count": null,
   "id": "lucky-expression",
   "metadata": {},
   "outputs": [],
   "source": [
    "# 8  b)\n",
    "print(mu_new)\n",
    "sigma_new"
   ]
  },
  {
   "cell_type": "code",
   "execution_count": null,
   "id": "adaptive-humor",
   "metadata": {},
   "outputs": [],
   "source": [
    "# 9)\n",
    "plt.plot(np.arange(1,N+1),x[1:],label=\"x\")\n",
    "plt.plot(np.arange(1,N+1),y,label=\"y\")\n",
    "plt.plot(np.arange(1,N+1),mu_old,label=\"mu_old\")\n",
    "plt.plot(np.arange(1,N+1),mu_new,label=\"mu_new\")\n",
    "plt.legend()\n",
    "plt.show()"
   ]
  },
  {
   "cell_type": "code",
   "execution_count": null,
   "id": "ordinary-mortality",
   "metadata": {},
   "outputs": [],
   "source": []
  },
  {
   "cell_type": "code",
   "execution_count": null,
   "id": "f3df3f56",
   "metadata": {},
   "outputs": [],
   "source": [
    "# 1)\n",
    "import matplotlib.pyplot as plt\n",
    "import pandas as pd\n",
    "import seaborn as sns"
   ]
  },
  {
   "cell_type": "code",
   "execution_count": null,
   "id": "4a809881",
   "metadata": {},
   "outputs": [],
   "source": [
    "# 2)\n",
    "# sns.set_context(\"poster\")\n",
    "# 3)\n",
    "data = sns.load_dataset(\"diamonds\")\n",
    "data.head()"
   ]
  },
  {
   "cell_type": "code",
   "execution_count": null,
   "id": "41550eb2",
   "metadata": {},
   "outputs": [],
   "source": [
    "# 4)\n",
    "data.shape[1]"
   ]
  },
  {
   "cell_type": "code",
   "execution_count": null,
   "id": "86554471",
   "metadata": {},
   "outputs": [],
   "source": [
    "# 5)\n",
    "data.info()"
   ]
  },
  {
   "cell_type": "code",
   "execution_count": null,
   "id": "a2d01db3",
   "metadata": {},
   "outputs": [],
   "source": [
    "# 6)\n",
    "data[\"color\"].unique()"
   ]
  },
  {
   "cell_type": "code",
   "execution_count": null,
   "id": "d225e47b",
   "metadata": {},
   "outputs": [],
   "source": [
    "# 7)\n",
    "data[\"depth\"].min()"
   ]
  },
  {
   "cell_type": "code",
   "execution_count": null,
   "id": "8847c820",
   "metadata": {},
   "outputs": [],
   "source": [
    "# 8)\n",
    "data1=data.groupby([\"clarity\",\"cut\"]).count().iloc[:,[0]]\n",
    "data1"
   ]
  },
  {
   "cell_type": "code",
   "execution_count": null,
   "id": "d552fbce",
   "metadata": {},
   "outputs": [],
   "source": [
    "# 9)\n",
    "data.loc[data[\"price\"]==data.price.max(),[\"color\",\"clarity\",\"cut\"]]"
   ]
  },
  {
   "cell_type": "code",
   "execution_count": null,
   "id": "8ea262a3",
   "metadata": {},
   "outputs": [],
   "source": [
    "# 10)\n",
    "plt.figure(figsize=(15,6))\n",
    "plt.subplot(1,2,1)\n",
    "sns.violinplot(x='cut',y='price',data=data)\n",
    "plt.subplot(1,2,2)\n",
    "sns.scatterplot(x='x',y='price',hue=\"cut\",data=data)\n",
    "plt.legend(loc='upper left')\n",
    "plt.show()"
   ]
  },
  {
   "cell_type": "code",
   "execution_count": null,
   "id": "559cb085",
   "metadata": {},
   "outputs": [],
   "source": [
    "# 11\n",
    "import numpy as np\n",
    "import pandas as pd\n",
    "from sklearn.preprocessing import LabelBinarizer\n",
    "from sklearn.model_selection import train_test_split\n",
    "from sklearn.linear_model import LinearRegression\n",
    "import matplotlib.pyplot as plt\n",
    "import statsmodels.api as sm\n",
    "from sklearn.metrics import r2_score , mean_absolute_error, mean_squared_error\n",
    "\n",
    "\n"
   ]
  },
  {
   "cell_type": "code",
   "execution_count": null,
   "id": "e6e8431f",
   "metadata": {},
   "outputs": [],
   "source": [
    "data1=data.loc[:,[\"carat\",\"depth\",\"x\",\"y\",\"z\",\"price\"]]"
   ]
  },
  {
   "cell_type": "code",
   "execution_count": null,
   "id": "91afddba",
   "metadata": {},
   "outputs": [],
   "source": [
    "corr = data1.corr()\n",
    "sm.graphics.plot_corr(corr, xnames=list(corr.columns))\n",
    "plt.show()"
   ]
  },
  {
   "cell_type": "code",
   "execution_count": null,
   "id": "0bcd5e1f",
   "metadata": {},
   "outputs": [],
   "source": [
    "# for binarize\n",
    "# lb = LabelBinarizer()\n",
    "# maths.sex = lb.fit_transform(maths.sex)\n"
   ]
  },
  {
   "cell_type": "code",
   "execution_count": null,
   "id": "f33d9bb6",
   "metadata": {},
   "outputs": [],
   "source": [
    "MX = data1[[\"carat\",\"depth\",\"x\",\"y\",\"z\"]].values.reshape(-1, 5)\n",
    "MY = data1['price'].values.flatten()\n",
    "\n",
    "MX_train, MX_test, MY_train, MY_test = train_test_split(MX,MY, test_size=0.2, random_state=42)\n",
    "\n",
    "Multi_lr = LinearRegression()\n",
    "Multi_lr.fit(MX_train, MY_train)\n",
    "\n",
    "# Lets take a look at how well this model preforms\n",
    "print(\"The R-Squared: \", Multi_lr.score(MX_test, MY_test))\n",
    "alpha = Multi_lr.coef_\n",
    "beta = Multi_lr.intercept_\n",
    "\n",
    "\n",
    "for i in range(alpha.size):\n",
    "    print(data1.columns[i], ': ', alpha[i])\n",
    "print('The intercept of our slope is: ', beta)"
   ]
  },
  {
   "cell_type": "code",
   "execution_count": null,
   "id": "e433cc76",
   "metadata": {},
   "outputs": [],
   "source": [
    "MY_pred = Multi_lr.predict(MX_test)\n",
    "print('Mean Absolute Error:', mean_absolute_error(MY_test, MY_pred))  \n",
    "print('Mean Squared Error:', mean_squared_error(MY_test, MY_pred))  \n",
    "print('Root Mean Squared Error:', np.sqrt(mean_squared_error(MY_test, MY_pred)))"
   ]
  },
  {
   "cell_type": "code",
   "execution_count": null,
   "id": "8cc722ec",
   "metadata": {},
   "outputs": [],
   "source": []
  },
  {
   "cell_type": "code",
   "execution_count": null,
   "id": "e350be0c",
   "metadata": {},
   "outputs": [],
   "source": [
    "# 1\n",
    "import pandas as pd\n",
    "import seaborn as sns\n",
    "data = sns.load_dataset(\"titanic\")\n",
    "data.head()"
   ]
  },
  {
   "cell_type": "code",
   "execution_count": null,
   "id": "1749c77d",
   "metadata": {},
   "outputs": [],
   "source": [
    "# 2\n",
    "data.isnull().sum()\n"
   ]
  },
  {
   "cell_type": "code",
   "execution_count": null,
   "id": "d6366f7d",
   "metadata": {},
   "outputs": [],
   "source": [
    "# 3\n",
    "data.dropna(axis=0,inplace=True)"
   ]
  },
  {
   "cell_type": "code",
   "execution_count": null,
   "id": "9642bb40",
   "metadata": {},
   "outputs": [],
   "source": [
    "# 4\n",
    "data.shape"
   ]
  },
  {
   "cell_type": "code",
   "execution_count": null,
   "id": "bf2f0583",
   "metadata": {},
   "outputs": [],
   "source": [
    "# 5\n",
    "data.loc[(data[\"survived\"]==1) & (data[\"sex\"]==\"female\")].shape[0]"
   ]
  },
  {
   "cell_type": "code",
   "execution_count": null,
   "id": "3257d114",
   "metadata": {},
   "outputs": [],
   "source": [
    "# 6\n",
    "data.loc[(data[\"survived\"]==0)&(data[\"sex\"]==\"male\"),[\"age\"]].mean()"
   ]
  },
  {
   "cell_type": "code",
   "execution_count": null,
   "id": "3ecd05cc",
   "metadata": {},
   "outputs": [],
   "source": [
    "# 7\n",
    "import matplotlib.pyplot as plt\n",
    "\n",
    "plt.figure(figsize=(15,6))\n",
    "plt.subplot(2,2,1)\n",
    "sns.boxplot(x=\"sex\",y=\"age\",hue=\"who\",data=data)\n",
    "plt.subplot(2,2,2)\n",
    "sns.scatterplot(x=\"age\",y=\"fare\",data=data)\n",
    "# plt.legend(loc=\"upper\")\n",
    "plt.subplot(2,2,3)\n",
    "sns.barplot(x=\"pclass\",y=\"age\",hue=\"alone\",data=data)"
   ]
  },
  {
   "cell_type": "code",
   "execution_count": null,
   "id": "0654fe1c",
   "metadata": {},
   "outputs": [],
   "source": [
    "# pclass, age, parch, and fare\n",
    "# columns as explanatory variables and the survived column as response variable\n",
    "data.head()"
   ]
  },
  {
   "cell_type": "code",
   "execution_count": null,
   "id": "dec2bb21",
   "metadata": {},
   "outputs": [],
   "source": [
    "# 8\n",
    "import numpy as np\n",
    "import matplotlib.pyplot as plt\n",
    "import pandas as pd\n",
    "import seaborn as sns\n",
    "from sklearn.linear_model import LogisticRegression\n",
    "from sklearn.model_selection import train_test_split\n",
    "from sklearn.metrics import confusion_matrix, accuracy_score"
   ]
  },
  {
   "cell_type": "code",
   "execution_count": null,
   "id": "181e0c6c",
   "metadata": {},
   "outputs": [],
   "source": [
    "X = data[[\"pclass\", \"age\", \"parch\",\"fare\"]].values.reshape(-1,4)\n",
    "y = data[\"survived\"].values.flatten()"
   ]
  },
  {
   "cell_type": "code",
   "execution_count": null,
   "id": "bce77404",
   "metadata": {},
   "outputs": [],
   "source": [
    "X_train, X_test, y_train, y_test = train_test_split(X, y, test_size = 0.2, random_state = 0)"
   ]
  },
  {
   "cell_type": "code",
   "execution_count": null,
   "id": "f98251a5",
   "metadata": {},
   "outputs": [],
   "source": [
    "# Fitting Logistic Regression to the Training set\n",
    "classifier = LogisticRegression(random_state = 0, multi_class='auto')\n",
    "classifier.fit(X_train, y_train)"
   ]
  },
  {
   "cell_type": "code",
   "execution_count": null,
   "id": "4625dab2",
   "metadata": {},
   "outputs": [],
   "source": [
    "# Predicting the Test set results\n",
    "y_pred = classifier.predict(X_test)\n",
    "# Predict probabilities\n",
    "probs_y=classifier.predict_proba(X_test)### Print results \n",
    "probs_y = np.round(probs_y, 2)\n",
    "probs_y\n",
    "result = pd.DataFrame(probs_y, columns= np.unique(data.survived))\n",
    "result.insert(loc=0, column=\"Test\", value=y_test)\n",
    "result.insert(loc=1, column ='Predicted', value=y_pred)\n",
    "result.sample(10)"
   ]
  },
  {
   "cell_type": "code",
   "execution_count": null,
   "id": "6c587b99",
   "metadata": {},
   "outputs": [],
   "source": [
    "con_mat = confusion_matrix(y_test, y_pred)\n",
    "print(con_mat)"
   ]
  },
  {
   "cell_type": "code",
   "execution_count": null,
   "id": "cea31d17",
   "metadata": {},
   "outputs": [],
   "source": [
    "# confusion matrix sns heatmap \n",
    "#ax = plt.axes()\n",
    "sns.heatmap(con_mat, annot=True, annot_kws={\"size\": 20},cmap=\"summer_r\", xticklabels=np.unique(data.survived),\n",
    "           yticklabels=np.unique(data.survived))\n",
    "plt.title(\"Confusion Matrix of the classifier\")\n",
    "plt.ylabel('Actual labels')\n",
    "plt.xlabel('Predicted labels')\n",
    "plt.show()"
   ]
  },
  {
   "cell_type": "code",
   "execution_count": null,
   "id": "a192b72f",
   "metadata": {},
   "outputs": [],
   "source": [
    "print(\"Accuracy:\",accuracy_score(y_test, y_pred))"
   ]
  },
  {
   "cell_type": "code",
   "execution_count": null,
   "id": "ca5b9108",
   "metadata": {},
   "outputs": [],
   "source": []
  },
  {
   "cell_type": "code",
   "execution_count": null,
   "id": "83d427e7",
   "metadata": {},
   "outputs": [],
   "source": [
    "import numpy as np\n",
    "from scipy.integrate import quad\n",
    "from scipy.integrate import odeint \n",
    "import matplotlib.pyplot as plt"
   ]
  },
  {
   "cell_type": "code",
   "execution_count": null,
   "id": "be6d49f3",
   "metadata": {},
   "outputs": [],
   "source": [
    "%%javascript\n",
    "MathJax.Hub.Config({\n",
    "    TeX: { equationNumbers: { autoNumber: \"AMS\" } }\n",
    "});"
   ]
  },
  {
   "cell_type": "markdown",
   "id": "30c54726",
   "metadata": {},
   "source": [
    "$\\text{Exercise 1}$\n",
    "\n",
    "Write a Python code to compute and display the integrals bellow using the Python function $quad$\n",
    "$$A = \\int_{0}^{2} \\dfrac{x^3+5x-20}{x^2+3}dx$$\n",
    "\n",
    "$$B = \\int_{3}^{5} \\bigg(x-\\frac{1}{3}\\bigg)\\sqrt{x^4-3}dx$$\n"
   ]
  },
  {
   "cell_type": "code",
   "execution_count": null,
   "id": "0f279326",
   "metadata": {},
   "outputs": [],
   "source": [
    "f=lambda x:(x**3+5*x-20)/(x**2+3)\n",
    "print(\"A =\",quad(f,0,2)[0])\n",
    "\n",
    "g=lambda x:(x-1/3)*(x**4-3)**0.5\n",
    "print(\"B =\",quad(g,3,5)[0])"
   ]
  },
  {
   "cell_type": "markdown",
   "id": "64a5e449",
   "metadata": {},
   "source": [
    "$\\text{Exercise 2}$\n",
    "\n",
    "1. Write code to solve the following system of ordinary differential equations\n",
    "$$\n",
    "\\begin{cases}\n",
    "\\dfrac{dx_1}{dt}& = & -\\dfrac{1}{2}x_1\\\\\\\\\n",
    "\\dfrac{dx_2}{dt}& = & \\dfrac{1}{2}x_1-\\dfrac{1}{4}x_2\\\\\\\\\n",
    "\\dfrac{dx_3}{dt}& = & \\dfrac{1}{4}x_2-\\dfrac{1}{6}x_3\n",
    "\\end{cases}, \\text{ on } [0,4]\n",
    "$$\n",
    "Subject to the initial conditions $x_1(0) = 1, x_2(0) = 1, x_3(0) = 1$ using the Python function <b>odeint</b> with $N=200$."
   ]
  },
  {
   "cell_type": "code",
   "execution_count": null,
   "id": "2a16568e",
   "metadata": {},
   "outputs": [],
   "source": [
    "def model(w,t):\n",
    "    x1,x2,x3=w\n",
    "    dx1dt=-1/2*x1\n",
    "    dx2dt=1/2*x1-1/4*x2\n",
    "    dx3dt=1/4*x2-1/6*x3\n",
    "    return np.array([dx1dt,dx2dt,dx3dt])\n",
    "w0=[1,1,1]\n",
    "a=0\n",
    "b=4\n",
    "N=200\n",
    "\n",
    "t=np.linspace(a,b,N)\n",
    "w=odeint(model,w0,t)\n",
    "x1=w[:,0]\n",
    "x2=w[:,1]\n",
    "x3=w[:,2]\n"
   ]
  },
  {
   "cell_type": "markdown",
   "id": "b13a5718",
   "metadata": {},
   "source": [
    "2. The exact solution of the above system of ODEs is given by\n",
    "\n",
    "$$\n",
    "\\begin{cases}\n",
    "x_1(t)& = & e^{-t/2}\\\\\n",
    "x_2(t)& = & -2e^{-t/2}+3e^{-t/4}\\\\\n",
    "x_3(t)& = & \\dfrac{3}{2}e^{-t/2} - 9e^{-t/4} + \\dfrac{17}{2}e^{-t/6}\n",
    "\\end{cases}\n",
    "$$\n",
    "\n",
    "Use $Subplot$ to plot side by side\n",
    "\n",
    "- each exact and approximate solution in the same window\n",
    "- and their absolute error vs the time \n"
   ]
  },
  {
   "cell_type": "code",
   "execution_count": null,
   "id": "d2f521f0",
   "metadata": {},
   "outputs": [],
   "source": [
    "x1_ex=np.exp(-t/2)\n",
    "x2_ex=-2*np.exp(-t/2)+3*np.exp(-t/4)\n",
    "x3_ex=3/2*np.exp(-t/2)-9*np.exp(-t/4)+17/2*np.exp(-t/6)\n",
    "er_1=np.absolute(x1-x1_ex)\n",
    "er_2=np.absolute(x2-x2_ex)\n",
    "er_3=np.absolute(x3-x3_ex)\n",
    "\n",
    "plt.style.use('seaborn')\n",
    "plt.figure(figsize=(15,6))\n",
    "plt.subplot(2,3,1)\n",
    "plt.plot(t,x1_ex,'.')\n",
    "plt.plot(t,x1)\n",
    "plt.xlabel(\"t\")\n",
    "plt.ylabel(\"x(t)\")\n",
    "plt.legend([\"Exact solution\",\"Approximate solution\"])\n",
    "\n",
    "\n",
    "\n",
    "# plt.figure(figsize=(15,6))\n",
    "plt.subplot(2,3,2)\n",
    "plt.plot(t,x2_ex,'.')\n",
    "plt.plot(t,x2)\n",
    "plt.xlabel(\"t\")\n",
    "plt.ylabel(\"x(t)\")\n",
    "plt.legend([\"Exact solution\",\"Approximate solution\"])\n",
    "\n",
    "# plt.figure(figsize=(15,6))\n",
    "plt.subplot(2,3,3)\n",
    "plt.plot(t,x3_ex,'.')\n",
    "plt.plot(t,x3)\n",
    "plt.xlabel(\"t\")\n",
    "plt.ylabel(\"x(t)\")\n",
    "plt.legend([\"Exact solution\",\"Approximate solution\"])\n",
    "\n",
    "# fig = plt.figure()\n",
    "plt.figure(figsize=(15,6))\n",
    "plt.subplot(2,3,(4,6))\n",
    "plt.plot(t,er_1,'.')\n",
    "plt.plot(t,er_2)\n",
    "plt.plot(t,er_3)\n",
    "plt.xlabel(\"t\")\n",
    "plt.ylabel(\"x(t) error\")\n",
    "plt.legend([\"x1 error\",\"x2 error\",\"x3 error\"])\n",
    "plt.show()\n",
    "# fig.savefig('image.png')\n"
   ]
  },
  {
   "cell_type": "markdown",
   "id": "a65286f1",
   "metadata": {},
   "source": [
    "$\\text{Exercise 3} $ (Write our own function and compare it with $odeint$)\n",
    "\n",
    "Let $\\{ t_k\\}$ be a partition of $[a,b]$ such that $a=t_1<t_2<\\cdots<t_{N}=b$ and $H$ be the constant length of the $k$-th subinterval ($H = t_k - t_{k-1}$). Let us consider initial value problem\n",
    "\n",
    "\\begin{equation}\\label{eul2}\n",
    "  \\begin{cases}\n",
    "    \\dfrac{dz}{dt} = f(z,t),      & \\quad \\text{on } [a, b]\\\\\\\\\n",
    "    z(a) = c,\n",
    "  \\end{cases}\n",
    "\\end{equation}\n",
    "where $z,f,c\\in R^M$ i.e. $z = [x_1, x_2,\\cdots, x_{M}]$, $c = [x_1(a), x_2(a),\\cdots, x_{M}(a)]$ and $f = [f_1, f_2,\\cdots, f_{M}]$. Note that \\eqref{eul2} is a the general form of system of ODEs. \n",
    "\n",
    "Let $t, z_k,Z$ defined as follows $$t=[t_1,t_2,\\cdots,t_{N-1},t_{N}],\\quad z_k = [x_1(t_k), x_2(t_k),\\cdots, x_{M}(t_k)], \\quad\n",
    "Z =\\begin{pmatrix}\n",
    "x_1(t_1)& x_2(t_1)&\\cdots& x_{M}(t_1)\\\\\n",
    "x_1(t_2)& x_2(t_2)&\\cdots& x_{M}(t_2)\\\\\n",
    "\\vdots& \\vdots&\\ddots& \\vdots\\\\\n",
    "x_1(t_{N})& x_2(t_{N})&\\cdots& x_{M}(t_{N})\n",
    "\\end{pmatrix}\n",
    "$$\n",
    "\n",
    "1. Write a python function <b> EulerOdeSys </b> that takes $f,c,t$ and return the solution $Z$ of the initial value problem \\eqref{eul2} using Euler method i.e.\n",
    "$$ z_{k+1} = z_k + Hf(z_k,t_k) $$\n"
   ]
  },
  {
   "cell_type": "code",
   "execution_count": null,
   "id": "7a8e563b",
   "metadata": {},
   "outputs": [],
   "source": [
    "def EulerOdeSys(f,c,t):\n",
    "    N=len(t)\n",
    "    H=t[1]-t[0]\n",
    "    M=len(c)\n",
    "    Z=np.zeros((N,M))\n",
    "    Z[0]=c\n",
    "    for i in range(N-1):\n",
    "        Z[i+1]= Z[i]+H*f(Z[i],t[i])       \n",
    "    return Z"
   ]
  },
  {
   "cell_type": "markdown",
   "id": "8a91a427",
   "metadata": {},
   "source": [
    "2. Write a python function <b> RK4OdeSys </b> that takes $f,c,t$ and return the solution $Z$ of the initial value problem (1) using the fourth order Runge-Kutta method i.e.\n",
    "\n",
    "\\begin{equation}\n",
    "\\begin{cases}\n",
    "k_1 = f(z_k,t_k),\\\\\\\\\n",
    "k_2 = f(z_k+H\\dfrac{k_1}{2}, t_k + \\dfrac{H}{2}),\\\\\\\\\n",
    "k_3 = f(z_k+H\\dfrac{k_2}{2}, t_k + \\dfrac{H}{2}),\\\\\\\\\n",
    "k_4 = f(z_k+Hk_3, t_k + H),\\\\\\\\\n",
    "z_{k+1} = z_k + \\dfrac{H}{6}(k_1+2k_2+2k_3+k_4)\n",
    "\\end{cases}\n",
    "\\end{equation}\n",
    "\n"
   ]
  },
  {
   "cell_type": "code",
   "execution_count": null,
   "id": "c60fe75c",
   "metadata": {},
   "outputs": [],
   "source": [
    "def RK4OdeSys(f,c,t):\n",
    "    N=len(t)\n",
    "    H=t[1]-t[0]\n",
    "    M=len(c)\n",
    "    Z=np.zeros((N,M))\n",
    "    Z[0]=c\n",
    "    for i in range(N-1):\n",
    "        k1=f(Z[i],t[i])\n",
    "        k2=f(Z[i]+H*k1/2,t[i]+H/2)\n",
    "        k3=f(Z[i]+H*k2/2,t[i]+H/2)\n",
    "        k4=f(Z[i]+H*k3,t[i]+H)\n",
    "        Z[i+1]= Z[i]+H/6*(k1+2*k2+2*k3+k4) \n",
    "    return Z"
   ]
  },
  {
   "cell_type": "markdown",
   "id": "bf4e3e8b",
   "metadata": {},
   "source": [
    "3. Solve the system of ODEs in $Exercise2$ using your function <b> EulerOdeSys </b> and <b> RK4OdeSys </b> "
   ]
  },
  {
   "cell_type": "code",
   "execution_count": null,
   "id": "a859245a",
   "metadata": {},
   "outputs": [],
   "source": [
    "a=0\n",
    "b=4\n",
    "N=200\n",
    "t=np.linspace(a,b,N)\n",
    "c=np.array([1,1,1])       \n",
    "Z_Euler=EulerOdeSys(model,c,t)\n",
    "Z_RK=RK4OdeSys(model,c,t)"
   ]
  },
  {
   "cell_type": "markdown",
   "id": "3a1ab6a9",
   "metadata": {},
   "source": [
    "4. By plotting the absolute error in the approximate and exact solutions, tell us which function gives a more accurate solution of a system of ODEs."
   ]
  },
  {
   "cell_type": "code",
   "execution_count": null,
   "id": "e407622f",
   "metadata": {},
   "outputs": [],
   "source": [
    "er_1_E=np.absolute(Z_Euler[:,0]-x1_ex)\n",
    "er_2_E=np.absolute(Z_Euler[:,1]-x2_ex)\n",
    "er_3_E=np.absolute(Z_Euler[:,2]-x3_ex)\n",
    "\n",
    "\n",
    "er_1_RK=np.absolute(Z_RK[:,0]-x1_ex)\n",
    "er_2_RK=np.absolute(Z_RK[:,1]-x2_ex)\n",
    "er_3_RK=np.absolute(Z_RK[:,2]-x3_ex)\n",
    "\n",
    "\n",
    "plt.style.use('seaborn')\n",
    "plt.figure(figsize=(15,6))\n",
    "plt.subplot(2,2,1)\n",
    "plt.plot(t,er_1_E)\n",
    "plt.plot(t,er_1_RK)\n",
    "plt.xlabel(\"t\")\n",
    "plt.ylabel(\"Error\")\n",
    "plt.legend([\"Euler Error\",\"RK Error\"])\n",
    "\n",
    "\n",
    "plt.subplot(2,2,2)\n",
    "plt.plot(t,er_2_E)\n",
    "plt.plot(t,er_2_RK)\n",
    "plt.xlabel(\"t\")\n",
    "plt.ylabel(\"Error\")\n",
    "plt.legend([\"Euler Error\",\"RK Error\"])\n",
    "\n",
    "\n",
    "\n",
    "plt.subplot(2,2,(3,4))\n",
    "plt.plot(t,er_3_E)\n",
    "plt.plot(t,er_3_RK)\n",
    "plt.xlabel(\"t\")\n",
    "plt.ylabel(\"Error\")\n",
    "plt.legend([\"Euler Error\",\"RK Error\"])\n",
    "plt.show()"
   ]
  },
  {
   "cell_type": "markdown",
   "id": "be8e7b19",
   "metadata": {},
   "source": [
    "From the plot above we can only conclude that the more accurate function is either <b>odeint</b> and <b>RK4</b> since they give a solution with the lowest error. To identify the more accurate solver, let us plot the absolute error between the exact and approximate solutions (obtained with <b>odeint</b> and <b>RK4</b>), tell us which function gives a more accurate solution of a system of ODEs."
   ]
  },
  {
   "cell_type": "code",
   "execution_count": null,
   "id": "242c378f",
   "metadata": {},
   "outputs": [],
   "source": [
    "er_1=np.absolute(x1-x1_ex)\n",
    "er_2=np.absolute(x2-x2_ex)\n",
    "er_3=np.absolute(x3-x3_ex)\n",
    "\n",
    "er_1_RK=np.absolute(Z_RK[:,0]-x1_ex)\n",
    "er_2_RK=np.absolute(Z_RK[:,1]-x2_ex)\n",
    "er_3_RK=np.absolute(Z_RK[:,2]-x3_ex)\n",
    "\n",
    "plt.style.use('seaborn')\n",
    "plt.figure(figsize=(15,6))\n",
    "plt.subplot(2,2,1)\n",
    "plt.plot(t,er_1)\n",
    "plt.plot(t,er_1_RK)\n",
    "plt.xlabel(\"t\")\n",
    "plt.ylabel(\"Error\")\n",
    "plt.legend([\"ODEINT Error\",\"RK Error\"])\n",
    "\n",
    "\n",
    "\n",
    "plt.subplot(2,2,2)\n",
    "plt.plot(t,er_2)\n",
    "plt.plot(t,er_2_RK)\n",
    "plt.xlabel(\"t\")\n",
    "plt.ylabel(\"Error\")\n",
    "plt.legend([\"ODEINT Error\",\"RK Error\"])\n",
    "\n",
    "\n",
    "\n",
    "plt.subplot(2,2,(3,4))\n",
    "plt.plot(t,er_3)\n",
    "plt.plot(t,er_3_RK)\n",
    "plt.xlabel(\"t\")\n",
    "plt.ylabel(\"Error\")\n",
    "plt.legend([\"ODEINT Error\",\"RK Error\"])\n",
    "plt.show()"
   ]
  },
  {
   "cell_type": "markdown",
   "id": "70122008",
   "metadata": {},
   "source": [
    "$\\text{Exercise 4} $\n",
    "\n",
    "Consider heat conduction in a rod with constant heat conduction properties, $K>0$. The steady-state\n",
    "heat-conduction problem is then\n",
    "\n",
    "\\begin{equation}\n",
    "  \\begin{cases}\n",
    "    -K\\dfrac{d^2U}{dx^2} = g(x),      & \\quad x\\in (a, b)\\\\\\\\\n",
    "    U(a) = \\alpha,\\;\\; U(b) = \\beta.\n",
    "  \\end{cases}\n",
    "\\end{equation}\n",
    "\n",
    "Given a finite family of points $\\{x_i\\}$ for $i = 0,\\cdots, N$ defined by $x_i = a+ih$ with $h =\\dfrac{b−a}{N}$. Let us denote $U_i$ the approximate value of $U(x_i)$ for all $i= 0,\\cdots, N$.\n",
    "\n",
    "The backward Euler scheme applied to the steady-state\n",
    "heat-conduction problem gives\n",
    "\n",
    "\\begin{equation}\\label{secode}\n",
    "  \\begin{cases}\n",
    "    \\dfrac{K}{H^2}(-U_{i-1} +2U_i - U_{i+1}) = g(x_i),      & \\quad \\forall i= 1,2,\\cdots, N-1\\\\\\\\\n",
    "    U_0 = \\alpha,\\;\\; U_N = \\beta.\n",
    "  \\end{cases}\n",
    "\\end{equation}\n",
    "Note that the system \\eqref{secode} takes the form \n",
    "$$ AU = b $$.\n",
    "1. Write a Python function <b> MatGenerator </b> that takes $a,b,K, \\alpha, \\beta,N, g$ and return the matrix $A$ and vector $b$."
   ]
  },
  {
   "cell_type": "code",
   "execution_count": null,
   "id": "3cd68b73",
   "metadata": {},
   "outputs": [],
   "source": [
    "def MatGenerator(𝑎,𝑏,𝐾,alp,bta,𝑁,𝑔):\n",
    "    h=(b-a)/N\n",
    "    x=np.linspace(a,b,N+1)\n",
    "    A=np.zeros((N+1,N+1))\n",
    "    A[0,0],A[N,N]=1,1\n",
    "    A[1,0],A[N-1,N]=-1,-1\n",
    "    A[1:N,1:N]=2*np.eye(N-1,N-1,k=0)-np.eye(N-1,N-1,k=1)-np.eye(N-1,N-1,k=-1)\n",
    "    b=np.zeros(N+1)\n",
    "    b[0]=alp\n",
    "    b[N]=bta\n",
    "    b[1:N]=h**2/K*g(x[1:N])\n",
    "    return A,b    "
   ]
  },
  {
   "cell_type": "markdown",
   "id": "d929c374",
   "metadata": {},
   "source": [
    "2. Solve the steady-state heat-conduction problem for \n",
    "\n",
    "$$a=0, b= 1, K=1,\\alpha = -4, \\beta = 0, N= 100 \\text{ and } g(x) = -4(1+x)e^x $$"
   ]
  },
  {
   "cell_type": "code",
   "execution_count": null,
   "id": "e05cbb9b",
   "metadata": {},
   "outputs": [],
   "source": [
    "𝑎=0\n",
    "𝑏=1\n",
    "𝐾=1\n",
    "alp=-4\n",
    "bta=0\n",
    "𝑁=100\n",
    "𝑔=lambda x:-4*(1+𝑥)*np.exp(x)\n",
    "M=MatGenerator(𝑎,𝑏,𝐾,alp,bta,𝑁,𝑔)"
   ]
  },
  {
   "cell_type": "markdown",
   "id": "ca717edb",
   "metadata": {},
   "source": [
    "3. The exact solution of the steady-state heat-conduction problem above is $U(x)=4(x-1)e^x$. Use Subplot to plot side by side\n",
    "    - the exact and approximate solutions against x\n",
    "    - the absolute error between the exact and the approximate solution against x"
   ]
  },
  {
   "cell_type": "code",
   "execution_count": null,
   "id": "bd1e1131",
   "metadata": {},
   "outputs": [],
   "source": [
    "𝑈=lambda x:4*(𝑥-1)*np.exp(x)\n",
    "x=np.linspace(a,b,N+1)\n",
    "U_ex=U(x)\n",
    "\n",
    "A=M[0]\n",
    "b=M[1]\n",
    "Approx=np.linalg.solve(A,b)\n",
    "\n",
    "plt.style.use('seaborn')\n",
    "plt.figure(figsize=(15,6))\n",
    "plt.subplot(1,2,1)\n",
    "plt.plot(x,U_ex)\n",
    "plt.plot(x,Approx,'.')\n",
    "plt.xlabel(\"x\")\n",
    "plt.ylabel(\"y(x)\")\n",
    "plt.legend([\"Exact solution\",\"Approximative solution\"])\n",
    "\n",
    "\n",
    "\n",
    "plt.subplot(1,2,2)\n",
    "plt.plot(x,abs(Approx-U_ex))\n",
    "plt.xlabel(\"x\")\n",
    "plt.ylabel(\"Error\")\n",
    "plt.show()\n",
    "\n"
   ]
  },
  {
   "cell_type": "markdown",
   "id": "059cdc0f",
   "metadata": {},
   "source": [
    "4. If the parameter $K(x)$ varies with $x$, then the steady-state\n",
    "heat-conduction problem is then\n",
    "\n",
    "\\begin{equation}\n",
    "  \\begin{cases}\n",
    "    -\\dfrac{d}{dx}\\Bigl( K(x)\\dfrac{dU}{dx} \\Bigl) = g(x),      & \\quad x\\in (a, b)\\\\\\\\\n",
    "    U(a) = \\alpha,\\;\\; U(b) = \\beta.\n",
    "  \\end{cases}\n",
    "\\end{equation}\n",
    "\n",
    "\n",
    "In this case, the backward Euler scheme applied to the steady-state\n",
    "heat-conduction problem gives\n",
    "\n",
    "\\begin{equation}\\label{secode}\n",
    "  \\begin{cases}\n",
    "    \\dfrac{1}{H^2}\\Bigl(-K(x_{i-1/2})U_{i-1} +(K(x_{i-1/2})+K(x_{i+1/2}))U_i - K(x_{i+1/2})U_{i+1}\\Bigr) = g(x_i),      & \\quad \\forall i= 1,2,\\cdots, N-1\\\\\\\\\n",
    "    U_0 = \\alpha,\\;\\; U_N = \\beta,\n",
    "  \\end{cases}\n",
    "\\end{equation}\n",
    "where $x_{i+1/2} = x_i+H/2$.\n",
    "Note that the system \\eqref{secode} takes the form \n",
    "$$ AU = b $$.\n",
    "a. Write a Python function <b> MatGenerator1 </b> that takes $a,b,K, \\alpha, \\beta,N, g$ and return the matrix $A$ and vector $b$."
   ]
  },
  {
   "cell_type": "code",
   "execution_count": null,
   "id": "4137fec9",
   "metadata": {},
   "outputs": [],
   "source": [
    "def MatGenerator(𝑎,𝑏,𝐾,alp,bta,𝑁,𝑔):\n",
    "    h=(b-a)/N\n",
    "    x=np.linspace(a,b,N+1)\n",
    "    A=np.zeros((N+1,N+1))\n",
    "    A[0,0],A[N,N]=1,1\n",
    "    A[1,0],A[N-1,N]=-K(x[0]+h/2),-K(x[N]+h/2)\n",
    "    for i in range(1,N-1):\n",
    "        A[i+1,i]=-K(x[i-1]+h/2)\n",
    "        A[i,i]=K(x[i-1]+h/2)+K(x[i]+h/2)\n",
    "        A[i,i+1]=-K(x[i]+h/2)\n",
    "    b=np.zeros(N+1)\n",
    "    b[0]=alp\n",
    "    b[N]=bta\n",
    "    b[1:N]=h**2*g(x[1:N])\n",
    "    return A,b "
   ]
  },
  {
   "cell_type": "markdown",
   "id": "46b8a61e",
   "metadata": {},
   "source": [
    "b. Solve the steady-state heat-conduction problem for \n",
    "\n",
    "$$a=-1, b= 1, K(x)=x^2,\\alpha = -8, \\beta = 0, N= 100 \\text{ and } g(x) = -4(x^3+3x^2)e^{x+1} $$"
   ]
  },
  {
   "cell_type": "code",
   "execution_count": null,
   "id": "a3314a63",
   "metadata": {},
   "outputs": [],
   "source": [
    "a=-1\n",
    "b=1\n",
    "alp=-8\n",
    "bta=0\n",
    "N=100\n",
    "g=lambda x:-4*(x**3+3*x**2)*np.exp(x+1)\n",
    "K=lambda x:x**2\n",
    "M=MatGenerator(𝑎,𝑏,𝐾,alp,bta,𝑁,𝑔)"
   ]
  },
  {
   "cell_type": "markdown",
   "id": "4cfef9fa",
   "metadata": {},
   "source": [
    "c. The exact solution of the steady-state heat-conduction problem above is $U(x)=4(x-1)e^{x+1}$. Use Subplot to plot side by side\n",
    "    - the exact and approximate solutions against x\n",
    "    - the absolute error between the exact and the approximate solution against x"
   ]
  },
  {
   "cell_type": "code",
   "execution_count": null,
   "id": "bddd85bb",
   "metadata": {},
   "outputs": [],
   "source": [
    "A=M[0]\n",
    "b=M[1]\n",
    "Approx1=np.linalg.solve(A,b)\n",
    "\n",
    "plt.style.use('seaborn')\n",
    "plt.figure(figsize=(15,6))\n",
    "plt.subplot(1,2,1)\n",
    "plt.plot(x,U_ex)\n",
    "plt.plot(x,Approx1,'.')\n",
    "plt.xlabel(\"x\")\n",
    "plt.ylabel(\"y(x)\")\n",
    "plt.legend([\"Exact solution\",\"Approximative solution\"])\n",
    "\n",
    "\n",
    "\n",
    "plt.subplot(1,2,2)\n",
    "plt.plot(x,abs(Approx1-U_ex))\n",
    "plt.xlabel(\"x\")\n",
    "plt.ylabel(\"Error\")\n",
    "plt.show()\n"
   ]
  },
  {
   "cell_type": "code",
   "execution_count": null,
   "id": "2f00663c",
   "metadata": {},
   "outputs": [],
   "source": []
  }
 ],
 "metadata": {
  "kernelspec": {
   "display_name": "Python 3",
   "language": "python",
   "name": "python3"
  },
  "language_info": {
   "codemirror_mode": {
    "name": "ipython",
    "version": 3
   },
   "file_extension": ".py",
   "mimetype": "text/x-python",
   "name": "python",
   "nbconvert_exporter": "python",
   "pygments_lexer": "ipython3",
   "version": "3.9.2"
  }
 },
 "nbformat": 4,
 "nbformat_minor": 5
}
